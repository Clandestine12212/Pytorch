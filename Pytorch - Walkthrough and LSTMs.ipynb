{
 "cells": [
  {
   "cell_type": "markdown",
   "metadata": {},
   "source": [
    "### PYTORCH WALKTHROUGH "
   ]
  },
  {
   "cell_type": "markdown",
   "metadata": {},
   "source": [
    "#### -------------------------------------------------------------------------------------------------------------------------------------------------------------------------"
   ]
  },
  {
   "cell_type": "markdown",
   "metadata": {},
   "source": [
    "#### This notebook gives a detailed walkthrough of how Pytorch is optimised to work with Neural networks\n",
    "\n",
    "#### CONTENTS - \n",
    "\n",
    "#### > How gradients work\n",
    "\n",
    "#### > Backpropogation\n",
    "\n",
    "#### > Updating weights and biases - Understanding how weights and biases work\n",
    "\n",
    "#### > Transfer Learning\n",
    "\n",
    "#### > How LSTM networks work, and a code along of LSTM networks from scratch"
   ]
  },
  {
   "cell_type": "markdown",
   "metadata": {},
   "source": [
    "#### -------------------------------------------------------------------------------------------------------------------------------------------------------------------------"
   ]
  },
  {
   "cell_type": "markdown",
   "metadata": {},
   "source": [
    " "
   ]
  },
  {
   "cell_type": "code",
   "execution_count": 1,
   "metadata": {},
   "outputs": [],
   "source": [
    "import torch\n",
    "import torch.optim as optim\n",
    "import torch.nn as nn\n",
    "import torch.nn.functional as F\n",
    "from torch.utils.data import Dataset, DataLoader\n",
    "import numpy as np"
   ]
  },
  {
   "cell_type": "markdown",
   "metadata": {},
   "source": [
    "#### HOW BACKPROPAGATION WORKS IN PYTORCH"
   ]
  },
  {
   "cell_type": "code",
   "execution_count": 134,
   "metadata": {},
   "outputs": [],
   "source": [
    "b=torch.tensor([1],dtype=torch.float) # Needs to be floating points"
   ]
  },
  {
   "cell_type": "code",
   "execution_count": 142,
   "metadata": {},
   "outputs": [],
   "source": [
    "b.requires_grad=True # Setting gradients to True"
   ]
  },
  {
   "cell_type": "code",
   "execution_count": 143,
   "metadata": {},
   "outputs": [],
   "source": [
    "c=torch.tensor([3.0],requires_grad=True )"
   ]
  },
  {
   "cell_type": "code",
   "execution_count": 144,
   "metadata": {},
   "outputs": [
    {
     "data": {
      "text/plain": [
       "(tensor([1.], requires_grad=True), tensor([3.], requires_grad=True))"
      ]
     },
     "execution_count": 144,
     "metadata": {},
     "output_type": "execute_result"
    }
   ],
   "source": [
    "b,c"
   ]
  },
  {
   "cell_type": "code",
   "execution_count": 145,
   "metadata": {},
   "outputs": [],
   "source": [
    "fun=b*b*c*c # We define a function to understand how backprop works, here we just square both the tensors"
   ]
  },
  {
   "cell_type": "code",
   "execution_count": 146,
   "metadata": {},
   "outputs": [],
   "source": [
    "fun.backward() # Calling backprop on the function would activate the backprop following the graphs that are defined"
   ]
  },
  {
   "cell_type": "code",
   "execution_count": 147,
   "metadata": {},
   "outputs": [
    {
     "data": {
      "text/plain": [
       "tensor([18.])"
      ]
     },
     "execution_count": 147,
     "metadata": {},
     "output_type": "execute_result"
    }
   ],
   "source": [
    "b.grad.data # Returning gradients with respect to b from the function which is d(fun)/db = 2 * b * (c^2), 2 x 1 x 3 x 3"
   ]
  },
  {
   "cell_type": "code",
   "execution_count": 148,
   "metadata": {},
   "outputs": [
    {
     "data": {
      "text/plain": [
       "tensor([6.])"
      ]
     },
     "execution_count": 148,
     "metadata": {},
     "output_type": "execute_result"
    }
   ],
   "source": [
    "c.grad.data # Returning gradients with respect to c from the function which is d(fun)/dc = 2 *c * (b^2), 2 x 3 x 1 x 1"
   ]
  },
  {
   "cell_type": "code",
   "execution_count": 197,
   "metadata": {},
   "outputs": [],
   "source": [
    "x=[1,2,3,4,5,6,7,8,9,10]"
   ]
  },
  {
   "cell_type": "code",
   "execution_count": 198,
   "metadata": {},
   "outputs": [],
   "source": [
    "x_tensor=torch.tensor(x, dtype=torch.float)"
   ]
  },
  {
   "cell_type": "code",
   "execution_count": 199,
   "metadata": {},
   "outputs": [],
   "source": [
    "x=x_tensor"
   ]
  },
  {
   "cell_type": "code",
   "execution_count": 200,
   "metadata": {},
   "outputs": [
    {
     "data": {
      "text/plain": [
       "tensor([ 1.,  2.,  3.,  4.,  5.,  6.,  7.,  8.,  9., 10.])"
      ]
     },
     "execution_count": 200,
     "metadata": {},
     "output_type": "execute_result"
    }
   ],
   "source": [
    "x"
   ]
  },
  {
   "cell_type": "markdown",
   "metadata": {},
   "source": [
    " "
   ]
  },
  {
   "cell_type": "markdown",
   "metadata": {},
   "source": [
    "#### -------------------------------------------------------------------------------------------------------------------------------------------------------------------------"
   ]
  },
  {
   "cell_type": "markdown",
   "metadata": {},
   "source": [
    "### LINEAR LAYER PYTORCH\n"
   ]
  },
  {
   "cell_type": "markdown",
   "metadata": {},
   "source": [
    "#### -------------------------------------------------------------------------------------------------------------------------------------------------------------------------"
   ]
  },
  {
   "cell_type": "markdown",
   "metadata": {},
   "source": [
    " "
   ]
  },
  {
   "cell_type": "code",
   "execution_count": 486,
   "metadata": {},
   "outputs": [],
   "source": [
    "class LinearLayer(nn.Module):\n",
    "    def __init__(self,inf=10,out=1):\n",
    "        super().__init__()\n",
    "        self.l1=nn.Linear(inf,8)\n",
    "        self.l2=nn.Linear(8,5)\n",
    "        self.l3=nn.Linear(5,out)\n",
    "        \n",
    "    def forward(self, x):\n",
    "        x=self.l1(x)\n",
    "        a1=x\n",
    "        x=self.l2(x)\n",
    "        a2=x\n",
    "        x=self.l3(x)\n",
    "        a3=x\n",
    "        return (a1,a2,x)\n",
    "    def ME():\n",
    "        print(\"blah\")\n",
    "        "
   ]
  },
  {
   "cell_type": "markdown",
   "metadata": {},
   "source": [
    " ### HOW LINEAR LAYERS ARE TRANSFORMED\n",
    " (10, ) >>> (10 * w) + b\n",
    " \n",
    " here w would be (8,10) >> The matrix multiplication here would reduce 10 to 8 vectors"
   ]
  },
  {
   "cell_type": "code",
   "execution_count": 617,
   "metadata": {},
   "outputs": [],
   "source": [
    "x=torch.tensor([[1,2,3,4,5,6,7,8,9,0],[1.2,2.2,3.2,4.5,5.3,6.1,7.4,8.7,9.2,0]],dtype=torch.float)"
   ]
  },
  {
   "cell_type": "code",
   "execution_count": 585,
   "metadata": {},
   "outputs": [],
   "source": [
    "x=torch.tensor([1,2,3,4,5,6,7,8,9,0],dtype=torch.float)"
   ]
  },
  {
   "cell_type": "code",
   "execution_count": 618,
   "metadata": {},
   "outputs": [
    {
     "data": {
      "text/plain": [
       "(2, 10)"
      ]
     },
     "execution_count": 618,
     "metadata": {},
     "output_type": "execute_result"
    }
   ],
   "source": [
    "x.detach().numpy().shape"
   ]
  },
  {
   "cell_type": "code",
   "execution_count": 619,
   "metadata": {},
   "outputs": [],
   "source": [
    "y=torch.tensor([1.0])"
   ]
  },
  {
   "cell_type": "code",
   "execution_count": 620,
   "metadata": {},
   "outputs": [
    {
     "data": {
      "text/plain": [
       "(tensor([[1.0000, 2.0000, 3.0000, 4.0000, 5.0000, 6.0000, 7.0000, 8.0000, 9.0000,\n",
       "          0.0000],\n",
       "         [1.2000, 2.2000, 3.2000, 4.5000, 5.3000, 6.1000, 7.4000, 8.7000, 9.2000,\n",
       "          0.0000]]), tensor([1.]))"
      ]
     },
     "execution_count": 620,
     "metadata": {},
     "output_type": "execute_result"
    }
   ],
   "source": [
    "x,y"
   ]
  },
  {
   "cell_type": "code",
   "execution_count": 621,
   "metadata": {},
   "outputs": [
    {
     "name": "stdout",
     "output_type": "stream",
     "text": [
      "LinearLayer(\n",
      "  (l1): Linear(in_features=10, out_features=8, bias=True)\n",
      "  (l2): Linear(in_features=8, out_features=5, bias=True)\n",
      "  (l3): Linear(in_features=5, out_features=1, bias=True)\n",
      ")\n"
     ]
    }
   ],
   "source": [
    "print(LinearLayer())"
   ]
  },
  {
   "cell_type": "code",
   "execution_count": 622,
   "metadata": {},
   "outputs": [],
   "source": [
    "model=LinearLayer(10,1)\n",
    "optimizer = optim.SGD(model.parameters(), lr=0.001, momentum=0.9)\n",
    "criterion = nn.MSELoss()"
   ]
  },
  {
   "cell_type": "code",
   "execution_count": 623,
   "metadata": {},
   "outputs": [
    {
     "name": "stdout",
     "output_type": "stream",
     "text": [
      "LinearLayer(\n",
      "  (l1): Linear(in_features=10, out_features=8, bias=True)\n",
      "  (l2): Linear(in_features=8, out_features=5, bias=True)\n",
      "  (l3): Linear(in_features=5, out_features=1, bias=True)\n",
      ")\n"
     ]
    }
   ],
   "source": [
    "print(model)"
   ]
  },
  {
   "cell_type": "code",
   "execution_count": 624,
   "metadata": {},
   "outputs": [],
   "source": [
    "# model.state_dict()   USE THIS TO PRINT THE WEIGHTS OF THE MODEL"
   ]
  },
  {
   "cell_type": "code",
   "execution_count": 625,
   "metadata": {},
   "outputs": [
    {
     "name": "stdout",
     "output_type": "stream",
     "text": [
      "l1.weight tensor([[-0.1590,  0.0269, -0.2354, -0.1072, -0.1495,  0.2848, -0.2061, -0.0903,\n",
      "         -0.2066,  0.2362],\n",
      "        [-0.2145, -0.2897,  0.2647,  0.1450,  0.1279,  0.1317, -0.3026,  0.1616,\n",
      "          0.1270,  0.1678],\n",
      "        [-0.0529,  0.2086, -0.1068, -0.2941, -0.2473, -0.1342, -0.3110,  0.1620,\n",
      "         -0.1596, -0.2796],\n",
      "        [ 0.1335,  0.2493, -0.0863, -0.2812,  0.1717, -0.2497,  0.0334, -0.0253,\n",
      "          0.0067, -0.2920],\n",
      "        [ 0.0396, -0.0523, -0.0369,  0.2008,  0.1034, -0.1296,  0.0237, -0.1732,\n",
      "         -0.1093,  0.1850],\n",
      "        [ 0.2422,  0.1081, -0.1293, -0.1550,  0.0212,  0.1534, -0.1169, -0.2945,\n",
      "          0.1343,  0.3005],\n",
      "        [ 0.2403, -0.1440, -0.1756, -0.2973, -0.1323, -0.1886,  0.0088,  0.1853,\n",
      "          0.1196,  0.1690],\n",
      "        [ 0.0065, -0.2249,  0.0497, -0.2498,  0.2149, -0.0602,  0.1558, -0.1733,\n",
      "         -0.1929, -0.0719]])\n",
      "l1.bias tensor([ 0.1708, -0.0874,  0.2996,  0.2406,  0.0040, -0.0854, -0.2254,  0.2347])\n",
      "l2.weight tensor([[-0.1726, -0.1701,  0.2075, -0.1020, -0.2189, -0.2052,  0.1136,  0.0723],\n",
      "        [ 0.0771, -0.0735, -0.1092,  0.3308,  0.1489,  0.2808, -0.1372, -0.0611],\n",
      "        [ 0.0446, -0.3191,  0.2730, -0.1418,  0.1474,  0.0598,  0.3077, -0.2539],\n",
      "        [-0.1228,  0.2079, -0.1695, -0.2050,  0.0460,  0.1977,  0.0409,  0.1049],\n",
      "        [-0.1751, -0.2600, -0.0704,  0.1557,  0.2254, -0.3214,  0.1620, -0.0701]])\n",
      "l2.bias tensor([ 0.1380, -0.2171,  0.3473,  0.2297,  0.0686])\n",
      "l3.weight tensor([[-0.0090, -0.4113,  0.2801,  0.2213, -0.1744]])\n",
      "l3.bias tensor([-0.0416])\n"
     ]
    }
   ],
   "source": [
    "for name, param in model.named_parameters(): ## THIS GIVES YOU MORE CONTROL TO GO THROUGH THE DIFFERENT LAYERS OF THE MODEL\n",
    "    if param.requires_grad:\n",
    "        print(name, param.data)"
   ]
  },
  {
   "cell_type": "code",
   "execution_count": 626,
   "metadata": {},
   "outputs": [
    {
     "name": "stdout",
     "output_type": "stream",
     "text": [
      "l1.weight tensor([[-0.1590,  0.0269, -0.2354, -0.1072, -0.1495,  0.2848, -0.2061, -0.0903,\n",
      "         -0.2066,  0.2362],\n",
      "        [-0.2145, -0.2897,  0.2647,  0.1450,  0.1279,  0.1317, -0.3026,  0.1616,\n",
      "          0.1270,  0.1678],\n",
      "        [-0.0529,  0.2086, -0.1068, -0.2941, -0.2473, -0.1342, -0.3110,  0.1620,\n",
      "         -0.1596, -0.2796],\n",
      "        [ 0.1335,  0.2493, -0.0863, -0.2812,  0.1717, -0.2497,  0.0334, -0.0253,\n",
      "          0.0067, -0.2920],\n",
      "        [ 0.0396, -0.0523, -0.0369,  0.2008,  0.1034, -0.1296,  0.0237, -0.1732,\n",
      "         -0.1093,  0.1850],\n",
      "        [ 0.2422,  0.1081, -0.1293, -0.1550,  0.0212,  0.1534, -0.1169, -0.2945,\n",
      "          0.1343,  0.3005],\n",
      "        [ 0.2403, -0.1440, -0.1756, -0.2973, -0.1323, -0.1886,  0.0088,  0.1853,\n",
      "          0.1196,  0.1690],\n",
      "        [ 0.0065, -0.2249,  0.0497, -0.2498,  0.2149, -0.0602,  0.1558, -0.1733,\n",
      "         -0.1929, -0.0719]])\n",
      "l1.bias tensor([ 0.1708, -0.0874,  0.2996,  0.2406,  0.0040, -0.0854, -0.2254,  0.2347])\n",
      "l2.weight tensor([[-0.1726, -0.1701,  0.2075, -0.1020, -0.2189, -0.2052,  0.1136,  0.0723],\n",
      "        [ 0.0771, -0.0735, -0.1092,  0.3308,  0.1489,  0.2808, -0.1372, -0.0611],\n",
      "        [ 0.0446, -0.3191,  0.2730, -0.1418,  0.1474,  0.0598,  0.3077, -0.2539],\n",
      "        [-0.1228,  0.2079, -0.1695, -0.2050,  0.0460,  0.1977,  0.0409,  0.1049],\n",
      "        [-0.1751, -0.2600, -0.0704,  0.1557,  0.2254, -0.3214,  0.1620, -0.0701]])\n",
      "l2.bias tensor([ 0.1380, -0.2171,  0.3473,  0.2297,  0.0686])\n",
      "l3.weight tensor([[-0.0090, -0.4113,  0.2801,  0.2213, -0.1744]])\n",
      "l3.bias tensor([-0.0416])\n"
     ]
    }
   ],
   "source": [
    "for name, param in model.named_parameters():\n",
    "    if param.requires_grad:\n",
    "        print(name, param.data)"
   ]
  },
  {
   "cell_type": "markdown",
   "metadata": {},
   "source": [
    "### Printing y and y-predicted"
   ]
  },
  {
   "cell_type": "code",
   "execution_count": 627,
   "metadata": {},
   "outputs": [
    {
     "data": {
      "text/plain": [
       "(tensor([-0.2270], grad_fn=<AddBackward0>), tensor([1.]))"
      ]
     },
     "execution_count": 627,
     "metadata": {},
     "output_type": "execute_result"
    }
   ],
   "source": [
    "y1,y"
   ]
  },
  {
   "cell_type": "code",
   "execution_count": 628,
   "metadata": {},
   "outputs": [],
   "source": [
    "losses=[]"
   ]
  },
  {
   "cell_type": "markdown",
   "metadata": {},
   "source": [
    "  "
   ]
  },
  {
   "cell_type": "markdown",
   "metadata": {},
   "source": [
    "### TRAINING - HOW IT WORKS"
   ]
  },
  {
   "cell_type": "markdown",
   "metadata": {},
   "source": [
    "  "
   ]
  },
  {
   "cell_type": "code",
   "execution_count": 629,
   "metadata": {},
   "outputs": [],
   "source": [
    "weights, bias, y1=model.forward(x)"
   ]
  },
  {
   "cell_type": "code",
   "execution_count": 630,
   "metadata": {},
   "outputs": [
    {
     "data": {
      "text/plain": [
       "tensor([[0.0560],\n",
       "        [0.0476]], grad_fn=<AddmmBackward>)"
      ]
     },
     "execution_count": 630,
     "metadata": {},
     "output_type": "execute_result"
    }
   ],
   "source": [
    "y1"
   ]
  },
  {
   "cell_type": "code",
   "execution_count": 631,
   "metadata": {},
   "outputs": [],
   "source": [
    "loss=criterion(y1,y)"
   ]
  },
  {
   "cell_type": "code",
   "execution_count": 632,
   "metadata": {},
   "outputs": [],
   "source": [
    "losses.append(loss)"
   ]
  },
  {
   "cell_type": "code",
   "execution_count": 633,
   "metadata": {},
   "outputs": [],
   "source": [
    "optimizer.zero_grad()"
   ]
  },
  {
   "cell_type": "code",
   "execution_count": 634,
   "metadata": {},
   "outputs": [],
   "source": [
    "loss.backward()"
   ]
  },
  {
   "cell_type": "code",
   "execution_count": 635,
   "metadata": {},
   "outputs": [],
   "source": [
    "optimizer.step()"
   ]
  },
  {
   "cell_type": "code",
   "execution_count": 636,
   "metadata": {},
   "outputs": [
    {
     "name": "stdout",
     "output_type": "stream",
     "text": [
      "l1.weight tensor([[-0.1590,  0.0269, -0.2354, -0.1074, -0.1496,  0.2847, -0.2063, -0.0906,\n",
      "         -0.2068,  0.2362],\n",
      "        [-0.2144, -0.2896,  0.2649,  0.1453,  0.1283,  0.1321, -0.3022,  0.1622,\n",
      "          0.1276,  0.1678],\n",
      "        [-0.0527,  0.2090, -0.1062, -0.2933, -0.2464, -0.1331, -0.3097,  0.1635,\n",
      "         -0.1580, -0.2796],\n",
      "        [ 0.1330,  0.2483, -0.0878, -0.2832,  0.1693, -0.2525,  0.0300, -0.0292,\n",
      "          0.0024, -0.2920],\n",
      "        [ 0.0395, -0.0525, -0.0372,  0.2005,  0.1030, -0.1302,  0.0231, -0.1740,\n",
      "         -0.1101,  0.1850],\n",
      "        [ 0.2422,  0.1081, -0.1293, -0.1549,  0.0212,  0.1534, -0.1169, -0.2944,\n",
      "          0.1343,  0.3005],\n",
      "        [ 0.2406, -0.1435, -0.1749, -0.2963, -0.1311, -0.1872,  0.0104,  0.1872,\n",
      "          0.1217,  0.1690],\n",
      "        [ 0.0064, -0.2250,  0.0497, -0.2499,  0.2148, -0.0603,  0.1557, -0.1735,\n",
      "         -0.1931, -0.0719]])\n",
      "l1.bias tensor([ 0.1708, -0.0873,  0.2997,  0.2402,  0.0039, -0.0854, -0.2251,  0.2347])\n",
      "l2.weight tensor([[-0.1725, -0.1702,  0.2076, -0.1020, -0.2189, -0.2051,  0.1136,  0.0724],\n",
      "        [ 0.0804, -0.0753, -0.1050,  0.3317,  0.1503,  0.2821, -0.1362, -0.0592],\n",
      "        [ 0.0423, -0.3178,  0.2701, -0.1424,  0.1465,  0.0589,  0.3071, -0.2552],\n",
      "        [-0.1246,  0.2089, -0.1717, -0.2054,  0.0452,  0.1970,  0.0404,  0.1038],\n",
      "        [-0.1737, -0.2607, -0.0686,  0.1560,  0.2260, -0.3209,  0.1624, -0.0693]])\n",
      "l2.bias tensor([ 0.1379, -0.2179,  0.3478,  0.2301,  0.0683])\n",
      "l3.weight tensor([[-0.0091, -0.4131,  0.2763,  0.2244, -0.1734]])\n",
      "l3.bias tensor([-0.0397])\n"
     ]
    }
   ],
   "source": [
    "for name, param in model.named_parameters():\n",
    "    if param.requires_grad:\n",
    "        print(name, param.data)"
   ]
  },
  {
   "cell_type": "code",
   "execution_count": 637,
   "metadata": {},
   "outputs": [
    {
     "data": {
      "text/plain": [
       "[tensor(0.8992, grad_fn=<MseLossBackward>)]"
      ]
     },
     "execution_count": 637,
     "metadata": {},
     "output_type": "execute_result"
    }
   ],
   "source": [
    "losses"
   ]
  },
  {
   "cell_type": "markdown",
   "metadata": {},
   "source": [
    "### NOTE - REREUN FROM \"HOW IT WORKS\" to understand how the loss is reduced"
   ]
  },
  {
   "cell_type": "code",
   "execution_count": 649,
   "metadata": {},
   "outputs": [],
   "source": [
    "# Below is the math that happens within the network namely, >>>>>       X(weights) + bias"
   ]
  },
  {
   "cell_type": "markdown",
   "metadata": {},
   "source": [
    "#### Below is an illustration of how the weights and bias are being randomly assigned and then multiplies to get the next layer inputs"
   ]
  },
  {
   "cell_type": "code",
   "execution_count": 638,
   "metadata": {},
   "outputs": [],
   "source": [
    "w=model.l1.weight.detach().numpy()\n",
    "b=model.l1.bias.detach().numpy()   "
   ]
  },
  {
   "cell_type": "code",
   "execution_count": 639,
   "metadata": {},
   "outputs": [],
   "source": [
    "x1=x.detach().numpy()"
   ]
  },
  {
   "cell_type": "code",
   "execution_count": 640,
   "metadata": {},
   "outputs": [
    {
     "data": {
      "text/plain": [
       "(2, 10)"
      ]
     },
     "execution_count": 640,
     "metadata": {},
     "output_type": "execute_result"
    }
   ],
   "source": [
    "x1.shape"
   ]
  },
  {
   "cell_type": "code",
   "execution_count": 641,
   "metadata": {},
   "outputs": [
    {
     "data": {
      "text/plain": [
       "(10, 8)"
      ]
     },
     "execution_count": 641,
     "metadata": {},
     "output_type": "execute_result"
    }
   ],
   "source": [
    "w.T.shape"
   ]
  },
  {
   "cell_type": "code",
   "execution_count": 642,
   "metadata": {},
   "outputs": [
    {
     "data": {
      "text/plain": [
       "(8, 10)"
      ]
     },
     "execution_count": 642,
     "metadata": {},
     "output_type": "execute_result"
    }
   ],
   "source": [
    "w.shape"
   ]
  },
  {
   "cell_type": "code",
   "execution_count": 643,
   "metadata": {},
   "outputs": [
    {
     "data": {
      "text/plain": [
       "(8,)"
      ]
     },
     "execution_count": 643,
     "metadata": {},
     "output_type": "execute_result"
    }
   ],
   "source": [
    "b.shape "
   ]
  },
  {
   "cell_type": "code",
   "execution_count": 644,
   "metadata": {},
   "outputs": [],
   "source": [
    "c=x1@w.T"
   ]
  },
  {
   "cell_type": "code",
   "execution_count": 645,
   "metadata": {},
   "outputs": [
    {
     "data": {
      "text/plain": [
       "(2, 8)"
      ]
     },
     "execution_count": 645,
     "metadata": {},
     "output_type": "execute_result"
    }
   ],
   "source": [
    "c.shape"
   ]
  },
  {
   "cell_type": "code",
   "execution_count": 646,
   "metadata": {},
   "outputs": [],
   "source": [
    "final=c+b"
   ]
  },
  {
   "cell_type": "code",
   "execution_count": 647,
   "metadata": {},
   "outputs": [
    {
     "data": {
      "text/plain": [
       "((2, 8), array([[-4.140246 ,  2.2592165, -5.139894 , -1.1961948, -1.8587415,\n",
       "         -1.5724472, -1.0939271, -2.3830237],\n",
       "        [-4.471124 ,  2.3539002, -5.404824 , -1.2614663, -1.8852552,\n",
       "         -1.8099957, -1.1560991, -2.5811229]], dtype=float32))"
      ]
     },
     "execution_count": 647,
     "metadata": {},
     "output_type": "execute_result"
    }
   ],
   "source": [
    "final.shape, final # This is then passed on to the next Linear layer"
   ]
  },
  {
   "cell_type": "code",
   "execution_count": 648,
   "metadata": {},
   "outputs": [
    {
     "data": {
      "text/plain": [
       "(tensor([[-4.1323,  2.2404, -5.1924, -1.0584, -1.8325, -1.5741, -1.1621, -2.3768],\n",
       "         [-4.4627,  2.3341, -5.4602, -1.1161, -1.8576, -1.8117, -1.2280, -2.5745]],\n",
       "        grad_fn=<AddmmBackward>),\n",
       " tensor([[-0.0792, -0.8937, -1.9372,  1.6080,  0.4814],\n",
       "         [-0.0553, -0.9652, -2.0347,  1.6537,  0.5987]],\n",
       "        grad_fn=<AddmmBackward>))"
      ]
     },
     "execution_count": 648,
     "metadata": {},
     "output_type": "execute_result"
    }
   ],
   "source": [
    "weights, bias"
   ]
  },
  {
   "cell_type": "markdown",
   "metadata": {},
   "source": [
    " "
   ]
  },
  {
   "cell_type": "markdown",
   "metadata": {},
   "source": [
    " "
   ]
  },
  {
   "cell_type": "markdown",
   "metadata": {},
   "source": [
    "#### -------------------------------------------------------------------------------------------------------------------------------------------------------------------------"
   ]
  },
  {
   "cell_type": "markdown",
   "metadata": {},
   "source": [
    "### - CREATING A NN AND INITIALISING IT WITH PYTORCH"
   ]
  },
  {
   "cell_type": "markdown",
   "metadata": {},
   "source": [
    "#### -------------------------------------------------------------------------------------------------------------------------------------------------------------------------"
   ]
  },
  {
   "cell_type": "markdown",
   "metadata": {},
   "source": [
    " "
   ]
  },
  {
   "cell_type": "markdown",
   "metadata": {},
   "source": [
    " "
   ]
  },
  {
   "cell_type": "code",
   "execution_count": 261,
   "metadata": {},
   "outputs": [],
   "source": [
    "class Neurons(nn.Module):\n",
    "    def __init__(self, input=10, output=10):\n",
    "        super().__init__()\n",
    "        self.h1=nn.Linear(input, 100)\n",
    "        self.h2=nn.Linear(100, 60)\n",
    "        self.h3=nn.Linear(60, 30)\n",
    "        self.h4=nn.Linear(30, 100)\n",
    "        self.h5=nn.Linear(100, output)\n",
    "        \n",
    "    def forward(self,x):\n",
    "        #print(1)\n",
    "\n",
    "        d1=self.h1(x)\n",
    "        #print(d1)\n",
    "        d1=F.relu(d1)\n",
    "        d1=self.h2(d1)\n",
    "        d1=F.relu(d1)\n",
    "        d1=self.h3(d1)\n",
    "        d1=F.relu(d1)\n",
    "        \n",
    "        d1=self.h4(d1)\n",
    "        d1=F.relu(d1)\n",
    "        d1=self.h5(d1)\n",
    "        d1=F.relu(d1)\n",
    "        return d1\n",
    "        \n",
    "        "
   ]
  },
  {
   "cell_type": "code",
   "execution_count": 262,
   "metadata": {},
   "outputs": [],
   "source": [
    "model=Neurons() # Initialise the first model"
   ]
  },
  {
   "cell_type": "code",
   "execution_count": 263,
   "metadata": {},
   "outputs": [
    {
     "data": {
      "text/plain": [
       "Parameter containing:\n",
       "tensor([ 0.2231, -0.0348,  0.2003,  0.1184,  0.2108,  0.2239, -0.0561,  0.3109,\n",
       "         0.0242, -0.2172,  0.2232,  0.2520, -0.1565,  0.1643,  0.1050, -0.2616,\n",
       "        -0.0570, -0.0071,  0.2753, -0.2957, -0.1204,  0.1113,  0.0351, -0.3000,\n",
       "         0.2495,  0.2979,  0.0491, -0.2429,  0.2223,  0.1078, -0.2837,  0.0137,\n",
       "        -0.2145,  0.2849,  0.2417,  0.0477, -0.1328,  0.1121,  0.0869,  0.0875,\n",
       "         0.2832, -0.1376, -0.1687, -0.0207,  0.1456,  0.0208,  0.0680,  0.1845,\n",
       "        -0.0351, -0.2714, -0.1518,  0.1749,  0.0343,  0.1822,  0.0343,  0.0611,\n",
       "         0.1719,  0.2213,  0.0133,  0.0790,  0.2631, -0.0427,  0.1955, -0.0247,\n",
       "         0.2563, -0.1840, -0.0799,  0.0433, -0.2404, -0.2094,  0.2535, -0.2482,\n",
       "         0.2470,  0.2593, -0.2188, -0.1769, -0.1553, -0.0106, -0.0489, -0.2772,\n",
       "        -0.0367,  0.1325, -0.0630,  0.1192,  0.1458, -0.2740,  0.2994, -0.1344,\n",
       "         0.2110,  0.2025, -0.0166,  0.1336, -0.3099, -0.0862, -0.1922, -0.2914,\n",
       "        -0.0987, -0.1374, -0.1393, -0.3137], requires_grad=True)"
      ]
     },
     "execution_count": 263,
     "metadata": {},
     "output_type": "execute_result"
    }
   ],
   "source": [
    "model.h1.bias"
   ]
  },
  {
   "cell_type": "code",
   "execution_count": 131,
   "metadata": {},
   "outputs": [],
   "source": [
    "#model.state_dict()[\"h1.weight\"]   "
   ]
  },
  {
   "cell_type": "code",
   "execution_count": 264,
   "metadata": {},
   "outputs": [],
   "source": [
    "criterion=nn.MSELoss()\n",
    "optimizer=torch.optim.Adam(model.parameters(),lr=0.001)"
   ]
  },
  {
   "cell_type": "code",
   "execution_count": 265,
   "metadata": {},
   "outputs": [],
   "source": [
    "epochs=10\n",
    "model.train()\n",
    "for t in range(epochs):\n",
    "    y_pred=model(x)\n",
    "    loss=criterion(y_pred,x)\n",
    "    losses.append(loss)\n",
    "    optimizer.zero_grad()\n",
    "    loss.backward()\n",
    "    optimizer.step()\n",
    "    "
   ]
  },
  {
   "cell_type": "code",
   "execution_count": 273,
   "metadata": {},
   "outputs": [
    {
     "data": {
      "text/plain": [
       "tensor([ 0.2231, -0.0348,  0.2104,  0.1241,  0.2108,  0.2146, -0.0466,  0.3109,\n",
       "         0.0242, -0.2172,  0.2232,  0.2520, -0.1466,  0.1732,  0.1050, -0.2616,\n",
       "        -0.0570,  0.0028,  0.2854, -0.2857, -0.1204,  0.1015,  0.0351, -0.3000,\n",
       "         0.2495,  0.3076,  0.0491, -0.2429,  0.2257,  0.1118, -0.2837,  0.0137,\n",
       "        -0.2145,  0.2791,  0.2317,  0.0477, -0.1328,  0.1121,  0.0869,  0.0875,\n",
       "         0.2932, -0.1400, -0.1687, -0.0207,  0.1356,  0.0302,  0.0696,  0.1845,\n",
       "        -0.0351, -0.2615, -0.1518,  0.1815,  0.0343,  0.1822,  0.0343,  0.0694,\n",
       "         0.1719,  0.2213,  0.0133,  0.0790,  0.2631, -0.0478,  0.1955, -0.0247,\n",
       "         0.2563, -0.1840, -0.0700,  0.0525, -0.2404, -0.1999,  0.2607, -0.2482,\n",
       "         0.2470,  0.2690, -0.2088, -0.1769, -0.1578, -0.0106, -0.0489, -0.2772,\n",
       "        -0.0268,  0.1332, -0.0701,  0.1192,  0.1458, -0.2740,  0.3094, -0.1381,\n",
       "         0.2016,  0.2025, -0.0166,  0.1436, -0.3099, -0.0862, -0.1922, -0.2914,\n",
       "        -0.0987, -0.1374, -0.1393, -0.3137])"
      ]
     },
     "execution_count": 273,
     "metadata": {},
     "output_type": "execute_result"
    }
   ],
   "source": [
    "model.state_dict()[\"h1.bias\"]   ## Trained model layer bias"
   ]
  },
  {
   "cell_type": "code",
   "execution_count": null,
   "metadata": {},
   "outputs": [],
   "source": []
  },
  {
   "cell_type": "code",
   "execution_count": 135,
   "metadata": {},
   "outputs": [],
   "source": [
    "#model.h1.bias"
   ]
  },
  {
   "cell_type": "code",
   "execution_count": 136,
   "metadata": {},
   "outputs": [],
   "source": [
    "# model.train()\n",
    "# output=model(x)"
   ]
  },
  {
   "cell_type": "code",
   "execution_count": 137,
   "metadata": {},
   "outputs": [],
   "source": [
    "#model.state_dict()[\"h1.bias\"]   "
   ]
  },
  {
   "cell_type": "markdown",
   "metadata": {},
   "source": [
    " "
   ]
  },
  {
   "cell_type": "markdown",
   "metadata": {},
   "source": [
    "### ONE WAY OF ADDING A NEW LAYER AND PASSING THE OUTPUT OF EXISTING LAYER THROUGH THAT"
   ]
  },
  {
   "cell_type": "markdown",
   "metadata": {},
   "source": [
    " "
   ]
  },
  {
   "cell_type": "code",
   "execution_count": 267,
   "metadata": {},
   "outputs": [],
   "source": [
    "#model=Neurons()\n",
    "model.h6=nn.Linear(10, 2)\n",
    "# Adding a new layer"
   ]
  },
  {
   "cell_type": "code",
   "execution_count": 269,
   "metadata": {},
   "outputs": [],
   "source": [
    "result1=model(x)"
   ]
  },
  {
   "cell_type": "code",
   "execution_count": 271,
   "metadata": {},
   "outputs": [],
   "source": [
    "result2 = model.h6(result1)"
   ]
  },
  {
   "cell_type": "code",
   "execution_count": 272,
   "metadata": {},
   "outputs": [
    {
     "data": {
      "text/plain": [
       "tensor([0.5428, 0.4524], grad_fn=<AddBackward0>)"
      ]
     },
     "execution_count": 272,
     "metadata": {},
     "output_type": "execute_result"
    }
   ],
   "source": [
    "result2"
   ]
  },
  {
   "cell_type": "markdown",
   "metadata": {},
   "source": [
    " "
   ]
  },
  {
   "cell_type": "markdown",
   "metadata": {},
   "source": [
    " "
   ]
  },
  {
   "cell_type": "code",
   "execution_count": 29,
   "metadata": {},
   "outputs": [],
   "source": [
    "# Update a layer to trainable\n",
    "\n",
    "model.h6.trainable=True"
   ]
  },
  {
   "cell_type": "code",
   "execution_count": 274,
   "metadata": {},
   "outputs": [
    {
     "data": {
      "text/plain": [
       "OrderedDict([('h1.weight',\n",
       "              tensor([[-1.5180e-02,  2.5245e-01, -2.5572e-01,  2.9487e-01, -3.0550e-01,\n",
       "                       -8.8485e-02, -2.4777e-01, -2.6725e-01, -1.0807e-01, -2.3417e-01],\n",
       "                      [-2.7279e-01,  2.5990e-01,  3.5231e-02, -2.8507e-01,  2.3367e-01,\n",
       "                       -1.5646e-01, -2.9878e-01,  1.6895e-01, -2.9058e-01, -1.6546e-01],\n",
       "                      [ 2.2926e-01,  1.0390e-01, -2.4138e-01,  2.7180e-01,  3.1759e-01,\n",
       "                       -2.9439e-01,  8.3949e-02,  2.4511e-01, -2.4300e-01, -6.1017e-02],\n",
       "                      [ 1.7614e-01,  7.2212e-04,  1.4329e-01, -1.6625e-01,  1.5629e-01,\n",
       "                       -9.8712e-02, -2.4785e-01,  2.5231e-01,  2.9543e-01, -1.6072e-01],\n",
       "                      [-1.2759e-03,  8.3236e-02, -2.2241e-01, -5.6307e-02, -2.3656e-01,\n",
       "                        2.3283e-01,  2.1385e-01,  6.2890e-02, -2.6357e-01, -2.3411e-01],\n",
       "                      [-2.5424e-01,  1.5495e-01,  2.2749e-01,  2.6472e-01, -1.9484e-01,\n",
       "                        3.0479e-01,  2.6603e-01,  2.2342e-01, -7.1560e-02,  5.9357e-03],\n",
       "                      [ 1.4358e-01,  9.2621e-02, -1.9166e-01,  2.3202e-01, -2.0309e-01,\n",
       "                       -1.4341e-01, -2.5811e-01,  1.2770e-01,  2.1682e-01,  2.1320e-01],\n",
       "                      [ 9.6647e-02, -2.2072e-01, -2.0823e-01,  2.8104e-01, -5.4059e-02,\n",
       "                       -2.3580e-01, -2.8856e-02, -7.1000e-02, -2.5869e-01, -2.8359e-01],\n",
       "                      [-1.0116e-01,  2.2661e-02,  6.6772e-02, -2.3352e-01, -2.1897e-01,\n",
       "                        8.8169e-02, -7.6377e-02,  8.1116e-02,  7.9583e-02, -3.2615e-02],\n",
       "                      [-1.6922e-01, -8.1939e-02, -1.6199e-01,  1.5315e-02, -2.1360e-01,\n",
       "                        4.9765e-02, -1.1822e-01,  8.9406e-02,  1.7889e-01, -1.7651e-02],\n",
       "                      [ 2.6954e-01, -8.2906e-02,  1.2345e-01, -2.2146e-01, -2.5576e-01,\n",
       "                       -2.8416e-01, -8.9278e-02,  1.8393e-01, -2.1409e-01,  2.9007e-01],\n",
       "                      [-1.1429e-01, -8.4071e-02, -1.8146e-01,  4.0422e-02,  1.7362e-01,\n",
       "                       -2.7144e-01,  3.2979e-02, -1.4913e-01, -1.9783e-01, -2.8574e-01],\n",
       "                      [-2.4797e-02,  1.0896e-01,  1.2414e-01,  2.5540e-01,  2.4244e-01,\n",
       "                       -7.8515e-02, -7.3629e-02, -3.7134e-03,  2.7431e-01, -1.9612e-01],\n",
       "                      [ 1.9241e-01,  5.4903e-02, -2.5990e-01,  2.8055e-01, -9.9016e-02,\n",
       "                        2.8535e-01, -6.7814e-02, -2.2947e-02, -1.6431e-01,  2.0929e-01],\n",
       "                      [-2.1328e-01,  1.6019e-01, -1.7865e-01, -1.1813e-01,  5.5792e-02,\n",
       "                       -9.2238e-03, -3.6751e-02,  4.0856e-02,  2.4592e-01, -2.6862e-01],\n",
       "                      [-1.2479e-01,  1.3140e-01,  1.8167e-01, -1.6129e-01,  2.3933e-01,\n",
       "                       -3.0310e-01,  1.8936e-02, -1.0638e-02, -1.3441e-01, -1.4009e-01],\n",
       "                      [ 2.6519e-01, -2.8592e-01, -3.7558e-02, -2.0495e-01, -2.7072e-01,\n",
       "                        1.2999e-01, -1.8441e-01, -5.8105e-02,  1.3668e-01,  1.7089e-01],\n",
       "                      [ 1.3994e-01, -2.3218e-01,  6.2848e-02,  1.1508e-01, -1.4600e-01,\n",
       "                       -1.7648e-01,  2.2953e-01,  2.7395e-02,  1.2593e-01,  2.7819e-01],\n",
       "                      [-5.7260e-02,  1.5048e-01,  3.1364e-01,  6.9130e-02, -7.1053e-02,\n",
       "                        5.7820e-02,  3.7065e-02, -2.4748e-01,  2.5322e-01,  2.9151e-01],\n",
       "                      [ 1.6188e-01, -1.8399e-02,  2.4989e-02,  3.1562e-01,  1.5959e-01,\n",
       "                        1.4155e-01,  3.1956e-01, -2.7188e-01,  2.3238e-01,  4.7078e-03],\n",
       "                      [ 2.0260e-01,  5.7975e-02,  2.2117e-01, -2.8301e-01, -3.1344e-01,\n",
       "                        1.0326e-01,  2.9059e-01, -2.2109e-01, -1.2093e-01,  1.5931e-01],\n",
       "                      [ 2.7357e-01,  2.1984e-01, -2.8526e-01,  1.8517e-01,  2.3734e-01,\n",
       "                        7.5506e-02,  2.1142e-01,  1.0686e-01,  2.2337e-01, -1.2123e-01],\n",
       "                      [ 9.1300e-03, -2.4406e-01,  1.6349e-01, -2.6086e-01, -2.2454e-01,\n",
       "                       -8.9808e-02, -2.3701e-01, -2.7055e-01,  2.7191e-01,  1.7863e-01],\n",
       "                      [ 2.0280e-01,  1.4324e-02,  3.1604e-01,  1.7916e-01, -1.6927e-01,\n",
       "                        2.7423e-01, -2.4408e-01, -2.3169e-01,  2.2653e-01, -1.4119e-01],\n",
       "                      [ 5.2513e-02, -2.6402e-01,  3.1488e-01, -2.1898e-01, -1.8239e-01,\n",
       "                        3.9471e-02, -2.4530e-01, -2.3519e-01, -3.0729e-01,  1.3287e-01],\n",
       "                      [-2.5453e-01, -1.6775e-01,  3.7263e-02,  3.0107e-01, -1.5651e-01,\n",
       "                        6.7114e-02,  2.9554e-01, -3.7374e-02,  9.7336e-02,  2.2086e-01],\n",
       "                      [ 1.3618e-01,  1.9502e-01, -7.9677e-03, -1.7677e-01,  2.2001e-01,\n",
       "                        1.0987e-01,  2.1062e-01, -6.7539e-02, -1.4313e-01, -1.5573e-01],\n",
       "                      [ 2.5863e-01, -5.3624e-02,  1.7052e-01, -2.5598e-01,  7.3596e-02,\n",
       "                       -3.8533e-02,  1.7475e-01,  2.7345e-01, -2.9758e-01, -5.1253e-02],\n",
       "                      [-2.2787e-01,  1.3992e-01,  2.6862e-01,  2.5228e-01,  2.3415e-01,\n",
       "                        1.2804e-01,  2.9569e-01, -2.6151e-02, -5.8192e-02,  2.9115e-01],\n",
       "                      [-2.1810e-01, -6.0858e-02, -1.6762e-01, -1.1022e-01, -2.9016e-01,\n",
       "                        2.1052e-01,  2.9937e-01, -1.5432e-01,  1.5358e-01,  6.8188e-03],\n",
       "                      [ 1.5277e-01,  2.7092e-01, -1.4896e-01, -6.5062e-02,  2.7923e-01,\n",
       "                        1.4645e-01,  3.0283e-01, -3.0254e-01, -1.0474e-01, -1.6514e-02],\n",
       "                      [ 2.4052e-02, -5.5330e-02, -1.0191e-01, -1.1849e-01,  1.1615e-01,\n",
       "                       -9.2467e-02, -5.0878e-02,  1.6384e-02, -8.3440e-02, -4.8783e-02],\n",
       "                      [-2.5121e-01,  3.1519e-01,  6.4917e-02, -2.3104e-01, -2.7533e-01,\n",
       "                       -4.2283e-02,  2.9920e-01, -9.8015e-02, -6.6263e-02, -1.0050e-01],\n",
       "                      [-3.3327e-02, -2.2923e-01,  1.3125e-01,  1.6183e-01,  1.4746e-01,\n",
       "                        1.0659e-01, -2.8954e-01,  2.2024e-02, -1.8120e-02,  6.7549e-02],\n",
       "                      [ 1.7213e-01,  6.0472e-02,  2.9757e-01, -6.9861e-03,  1.3328e-01,\n",
       "                        2.8759e-01,  1.4542e-01, -4.2455e-02,  8.4785e-02,  1.9624e-01],\n",
       "                      [ 9.8958e-02, -6.1108e-02,  1.6699e-01,  2.4651e-02, -1.9736e-01,\n",
       "                        6.0813e-02, -1.7915e-01,  7.9921e-02,  1.9435e-02, -2.1875e-01],\n",
       "                      [-2.4901e-01,  2.4332e-01, -6.3277e-03, -2.1174e-01, -4.3863e-03,\n",
       "                       -6.0871e-02,  2.2894e-01, -4.5756e-02,  5.6966e-02, -1.3939e-01],\n",
       "                      [ 1.8705e-02, -2.2976e-01,  2.8499e-01,  1.4917e-01, -1.3843e-01,\n",
       "                       -9.9750e-02,  1.7605e-01,  1.8977e-01, -1.0931e-01, -1.7717e-01],\n",
       "                      [-1.5298e-01, -1.0758e-01, -1.9903e-01,  1.8167e-01,  9.2448e-02,\n",
       "                        1.8227e-02, -1.0726e-01, -2.8458e-01, -9.7528e-02, -2.5770e-01],\n",
       "                      [ 9.0537e-02,  1.3441e-01,  1.9335e-01, -2.6145e-01, -1.5300e-01,\n",
       "                       -2.5960e-01, -2.3778e-02, -2.9384e-01,  5.9932e-05,  1.3209e-01],\n",
       "                      [ 2.8399e-02,  2.1386e-01, -6.4744e-02,  1.1637e-01, -2.8870e-02,\n",
       "                        1.3397e-01,  1.0178e-01, -1.5800e-01,  6.3778e-02, -1.6158e-02],\n",
       "                      [ 4.1376e-02,  1.0454e-01, -2.4767e-01,  3.2434e-02,  1.7069e-01,\n",
       "                       -1.8531e-01, -5.7410e-02,  2.4803e-01,  2.0694e-01, -7.0151e-03],\n",
       "                      [-1.3251e-01, -1.0978e-01,  1.6599e-01, -3.4355e-02, -9.2042e-02,\n",
       "                       -1.4184e-01, -1.8599e-01, -1.0831e-01,  2.2472e-02,  2.8437e-01],\n",
       "                      [ 6.9712e-02,  2.5318e-01, -7.9186e-02, -2.6676e-01, -7.7909e-02,\n",
       "                        1.7424e-01, -2.3431e-01,  1.8418e-01, -2.3425e-01,  4.0246e-02],\n",
       "                      [ 4.3657e-03,  2.3275e-01, -2.2573e-01,  1.0907e-01,  1.9116e-01,\n",
       "                       -1.9031e-01,  1.7225e-01,  1.2789e-01,  1.7099e-01, -4.8280e-02],\n",
       "                      [ 9.2631e-02,  6.7550e-02, -1.7405e-01,  1.9960e-01, -1.9907e-01,\n",
       "                        2.2960e-01,  2.8733e-02,  6.1116e-02, -1.5689e-01,  4.3729e-02],\n",
       "                      [ 1.6849e-01,  8.7858e-02, -1.2116e-01,  2.2566e-01,  2.7935e-01,\n",
       "                       -4.6181e-02,  2.3189e-01, -3.0607e-01, -2.3375e-01,  1.7951e-01],\n",
       "                      [ 3.0792e-01, -1.5540e-01,  1.3188e-01, -1.3792e-01,  1.2277e-01,\n",
       "                       -1.3396e-01, -3.7945e-02, -2.7349e-01,  2.8152e-01, -1.7507e-01],\n",
       "                      [ 2.2984e-01,  1.0924e-01,  2.1901e-02, -2.3423e-01, -2.3926e-01,\n",
       "                       -3.0391e-01,  7.8875e-02, -1.3102e-01, -2.1208e-01,  2.9982e-01],\n",
       "                      [ 4.4239e-02,  1.9492e-01, -1.5895e-01,  2.6628e-01, -3.0575e-01,\n",
       "                        2.1244e-01,  2.1161e-01, -2.4814e-01, -1.6604e-01,  3.0270e-01],\n",
       "                      [-2.5139e-01,  1.5725e-01, -1.3767e-01, -6.3968e-02, -1.3633e-01,\n",
       "                       -2.9122e-02, -2.7709e-01,  1.0020e-02, -2.5430e-01,  1.6130e-01],\n",
       "                      [ 2.7375e-01,  2.7217e-01, -2.6334e-01, -1.8929e-02, -1.7434e-01,\n",
       "                       -2.6815e-01,  6.7633e-02, -6.1313e-02,  2.6532e-01,  1.0434e-01],\n",
       "                      [-1.0199e-02,  5.0344e-03, -2.0563e-02, -2.1858e-01, -8.8896e-02,\n",
       "                       -3.0867e-01,  1.5979e-02, -1.5457e-01, -1.9641e-01, -7.9997e-02],\n",
       "                      [ 2.6237e-01, -2.2816e-01, -2.4688e-01, -2.8203e-03,  2.6243e-01,\n",
       "                       -5.2494e-02, -7.3374e-02,  5.5780e-02, -7.4700e-02,  6.6625e-03],\n",
       "                      [ 3.1210e-01, -2.9627e-01,  2.1970e-01, -2.5338e-01,  2.4664e-01,\n",
       "                       -2.8782e-01, -2.6312e-01, -1.3803e-01, -2.8793e-02, -1.2429e-01],\n",
       "                      [ 2.5992e-01,  2.1595e-02, -2.1928e-01,  2.3270e-01,  6.4829e-03,\n",
       "                       -1.0080e-02,  1.9504e-01, -2.4327e-01,  2.6272e-01, -9.1587e-02],\n",
       "                      [-4.8193e-02,  2.0862e-01,  1.5841e-01, -1.5935e-01,  1.1638e-01,\n",
       "                        1.3796e-01, -5.8798e-02, -2.8849e-01,  2.5677e-01, -1.7257e-01],\n",
       "                      [-3.0284e-01, -7.1338e-02,  2.7243e-01, -1.6479e-01,  2.7176e-02,\n",
       "                       -2.4189e-01, -1.7298e-01, -1.8200e-01,  2.2348e-01, -3.0004e-01],\n",
       "                      [-1.0243e-01,  6.0479e-02, -6.5366e-02, -2.3364e-01, -9.1352e-02,\n",
       "                       -1.8322e-01, -3.1998e-02, -3.6270e-02, -1.6845e-01,  4.1444e-02],\n",
       "                      [-8.7931e-02,  3.0937e-01, -1.3526e-01, -4.9751e-02, -1.3406e-01,\n",
       "                        1.5746e-01, -2.4648e-01, -2.9552e-01,  2.2563e-01,  1.6320e-01],\n",
       "                      [ 1.8777e-01,  1.2870e-03, -2.9008e-01, -1.3347e-01, -2.6947e-01,\n",
       "                       -7.7551e-02,  2.2464e-01, -1.0143e-01, -2.9713e-04,  7.3827e-02],\n",
       "                      [-1.9142e-01,  3.0265e-01,  8.4955e-02,  2.6875e-01, -1.8274e-01,\n",
       "                        1.6284e-01, -2.7887e-02, -4.1141e-03, -1.3227e-01,  2.6627e-01],\n",
       "                      [ 1.3056e-01,  1.9962e-02, -1.1915e-01, -7.0052e-02,  1.6604e-01,\n",
       "                        1.5718e-01, -1.4866e-01, -2.7313e-01,  2.9572e-01, -2.3605e-01],\n",
       "                      [-2.2907e-01, -1.5546e-01,  1.6527e-01, -2.4659e-01,  5.3625e-02,\n",
       "                       -1.1958e-01,  3.6240e-02, -2.7965e-01,  2.5702e-01, -2.8636e-01],\n",
       "                      [-1.8624e-01, -3.1577e-01, -2.6020e-01,  8.8027e-02, -1.9627e-01,\n",
       "                        7.7223e-02, -2.9398e-01, -5.7355e-02, -2.3235e-01, -1.6576e-01],\n",
       "                      [-1.6918e-01, -1.8664e-03,  1.5491e-01,  1.6966e-01, -1.0691e-01,\n",
       "                        1.3717e-01,  6.6902e-02, -2.5124e-01, -3.8096e-02,  4.6028e-02],\n",
       "                      [ 1.6962e-01,  1.3926e-01,  2.5069e-01,  3.3354e-02,  2.7981e-01,\n",
       "                       -2.6220e-01, -7.7428e-02,  2.7724e-01,  2.7803e-01, -2.4087e-01],\n",
       "                      [-1.8168e-01, -1.9812e-01,  8.2823e-02, -1.6870e-01,  2.4774e-01,\n",
       "                        3.2338e-01,  8.8429e-02, -2.7806e-01,  2.9687e-01,  2.1285e-02],\n",
       "                      [ 1.6184e-01, -8.4389e-02, -1.0497e-01, -1.3227e-01,  1.2021e-01,\n",
       "                        1.9750e-01, -8.3985e-02,  2.9674e-01, -1.6895e-01, -1.3110e-01],\n",
       "                      [ 2.8660e-01,  9.5062e-03, -1.1773e-01,  7.6459e-03, -4.1256e-02,\n",
       "                       -8.8334e-02,  2.2086e-01,  1.9076e-01,  1.8975e-01, -2.1585e-01],\n",
       "                      [ 1.4408e-01,  3.8306e-03,  2.0779e-01,  2.9069e-01,  1.2247e-01,\n",
       "                        1.7985e-01, -1.6535e-01,  3.1643e-01,  2.2970e-01, -1.2776e-01],\n",
       "                      [ 2.6499e-02,  5.8835e-02, -1.5086e-01, -1.9396e-01, -3.0820e-01,\n",
       "                       -1.1312e-02,  2.2175e-01, -9.2578e-02,  2.1491e-01, -2.0424e-01],\n",
       "                      [ 6.3167e-02, -1.6185e-01,  1.7338e-01, -1.0323e-01, -2.5224e-01,\n",
       "                       -6.4196e-02,  6.4611e-02, -5.4473e-02, -1.3316e-01, -2.0283e-01],\n",
       "                      [-1.6887e-01, -1.8177e-01, -5.8903e-02, -4.0360e-02, -1.9110e-01,\n",
       "                        1.7285e-01,  1.0358e-01,  6.0135e-02,  2.1481e-01,  4.9011e-02],\n",
       "                      [-6.0147e-02,  2.9768e-01, -2.0402e-01, -1.8597e-01,  1.6007e-01,\n",
       "                        1.9191e-01, -1.3457e-01,  2.7300e-01,  1.1654e-01, -6.7625e-02],\n",
       "                      [ 3.0709e-01, -6.8592e-02, -2.5654e-01, -1.2452e-02,  7.0966e-02,\n",
       "                        2.1526e-01, -9.4363e-02, -2.6201e-01,  2.7754e-01, -2.4846e-01],\n",
       "                      [ 2.7843e-01,  1.8612e-01,  2.2977e-01, -1.1431e-01,  1.9031e-01,\n",
       "                        1.7219e-01, -6.0767e-03,  4.3245e-02,  1.0566e-01, -9.2242e-02],\n",
       "                      [-2.8146e-01,  2.5279e-01,  7.8634e-02,  1.7986e-01,  4.0107e-02,\n",
       "                        1.8170e-01, -2.2475e-02, -2.9649e-01, -3.0171e-01,  1.5851e-01],\n",
       "                      [-2.2035e-01, -2.1650e-01, -2.4856e-01, -6.6524e-02,  8.8271e-02,\n",
       "                        1.8644e-01,  1.2406e-01, -2.6755e-01,  2.5304e-01, -9.7201e-02],\n",
       "                      [ 2.4607e-01,  2.2426e-01, -2.4949e-01, -5.6785e-02, -2.5154e-01,\n",
       "                        1.6566e-01, -2.1951e-01, -2.8244e-02,  2.5197e-01, -2.8523e-01],\n",
       "                      [ 1.9384e-01,  1.9012e-01, -2.2167e-01,  3.0014e-01, -5.9625e-02,\n",
       "                        1.7603e-01,  2.0327e-01,  2.9533e-02,  1.6755e-01,  1.8107e-01],\n",
       "                      [ 1.2502e-01, -2.5329e-01,  1.2356e-01,  5.3860e-02,  2.4120e-01,\n",
       "                        1.6784e-01, -2.7781e-01,  2.1505e-01,  9.0361e-02, -2.7264e-01],\n",
       "                      [-2.0355e-01, -2.8488e-01,  1.9001e-01, -2.9118e-01,  2.0367e-01,\n",
       "                        2.0817e-01, -7.3775e-02, -1.9421e-01,  2.9339e-01,  2.6250e-01],\n",
       "                      [ 8.1173e-02,  5.1387e-02, -9.6046e-02, -3.1250e-01, -2.8925e-01,\n",
       "                       -1.4504e-01,  3.1313e-01, -1.8621e-02,  1.6234e-01, -1.9298e-01],\n",
       "                      [ 2.1574e-02, -2.3758e-02,  2.1166e-01, -2.7969e-01,  3.0132e-01,\n",
       "                        1.7068e-01, -2.4438e-01,  2.5164e-02, -2.4835e-01,  1.4177e-01],\n",
       "                      [ 3.1325e-02, -4.9328e-03,  1.8626e-01, -3.0875e-02, -1.1427e-02,\n",
       "                       -1.4538e-01,  1.1421e-01, -2.2827e-01, -2.4217e-01,  2.3141e-01],\n",
       "                      [-1.3923e-01, -5.6031e-02, -2.5040e-01,  4.1097e-02, -2.7397e-02,\n",
       "                        2.4624e-01, -1.6344e-01,  1.7503e-01,  1.8343e-01, -1.4086e-01],\n",
       "                      [-1.9531e-01, -6.1391e-03, -7.0143e-02,  7.8468e-02, -1.5196e-01,\n",
       "                       -6.3124e-02,  1.9729e-01,  2.9171e-01, -1.3967e-01,  2.5400e-01],\n",
       "                      [ 2.9721e-01,  9.3983e-02,  9.1747e-02,  2.2910e-01,  1.5445e-02,\n",
       "                        2.7934e-01, -3.0722e-01, -2.3429e-01,  2.9480e-01,  1.6831e-01],\n",
       "                      [ 2.6773e-01, -7.2101e-02, -6.2486e-02,  2.6005e-01, -1.3545e-02,\n",
       "                        2.2636e-02, -1.6567e-01,  1.3027e-01, -9.5524e-02, -2.7066e-01],\n",
       "                      [-7.7141e-03, -1.5565e-01,  2.3581e-01,  1.7164e-01, -2.7930e-01,\n",
       "                       -3.0824e-01, -6.3675e-02,  2.8617e-01,  2.4347e-01, -2.4177e-01],\n",
       "                      [ 2.7343e-01, -2.5278e-01,  2.0751e-01, -2.6203e-01,  2.4945e-01,\n",
       "                        2.0452e-01,  2.6432e-01, -1.3914e-01, -1.3179e-01, -9.7381e-03],\n",
       "                      [-1.6240e-01, -2.3336e-01, -2.8387e-01, -1.8368e-01, -1.3838e-01,\n",
       "                        6.6671e-02, -9.4639e-03, -1.3421e-01,  4.1180e-02, -3.0110e-01],\n",
       "                      [-3.0502e-01, -1.7901e-01,  1.1041e-01, -2.3156e-01,  5.1832e-02,\n",
       "                        5.2579e-02, -2.3575e-01, -1.9438e-01, -2.5035e-02,  8.9623e-02],\n",
       "                      [ 2.6794e-01,  1.2498e-01,  8.7770e-02, -2.6369e-01,  6.6011e-02,\n",
       "                       -1.5976e-01, -2.9385e-01,  7.9998e-02, -2.1697e-01, -1.1314e-01],\n",
       "                      [-1.4781e-02,  2.1154e-01,  2.5542e-01, -2.7525e-01,  6.5448e-02,\n",
       "                       -2.8162e-01,  1.2299e-01,  1.1962e-02, -9.0305e-02, -1.6385e-01],\n",
       "                      [ 2.9411e-01,  3.0724e-01,  5.6391e-03, -2.3485e-01,  3.2842e-02,\n",
       "                       -1.0237e-01,  2.7132e-01, -2.3575e-01, -1.4879e-02,  7.7782e-03],\n",
       "                      [ 3.5735e-02,  3.0997e-01,  1.1845e-01, -1.0561e-02, -1.1871e-01,\n",
       "                        4.9662e-02, -1.0182e-01, -3.9692e-02, -2.4835e-01, -2.0518e-01],\n",
       "                      [-2.9531e-02, -2.1155e-01,  8.9758e-02, -2.0011e-01, -3.0439e-01,\n",
       "                       -1.8390e-01, -2.3709e-01, -2.0834e-02,  2.9327e-01,  8.9354e-02],\n",
       "                      [ 3.0639e-02, -1.9407e-01,  5.2136e-02,  9.3471e-02, -2.2514e-01,\n",
       "                       -2.5104e-01,  2.7849e-01, -2.3539e-01, -2.8935e-01,  1.1914e-01]])),\n",
       "             ('h1.bias',\n",
       "              tensor([ 0.2231, -0.0348,  0.2104,  0.1241,  0.2108,  0.2146, -0.0466,  0.3109,\n",
       "                       0.0242, -0.2172,  0.2232,  0.2520, -0.1466,  0.1732,  0.1050, -0.2616,\n",
       "                      -0.0570,  0.0028,  0.2854, -0.2857, -0.1204,  0.1015,  0.0351, -0.3000,\n",
       "                       0.2495,  0.3076,  0.0491, -0.2429,  0.2257,  0.1118, -0.2837,  0.0137,\n",
       "                      -0.2145,  0.2791,  0.2317,  0.0477, -0.1328,  0.1121,  0.0869,  0.0875,\n",
       "                       0.2932, -0.1400, -0.1687, -0.0207,  0.1356,  0.0302,  0.0696,  0.1845,\n",
       "                      -0.0351, -0.2615, -0.1518,  0.1815,  0.0343,  0.1822,  0.0343,  0.0694,\n",
       "                       0.1719,  0.2213,  0.0133,  0.0790,  0.2631, -0.0478,  0.1955, -0.0247,\n",
       "                       0.2563, -0.1840, -0.0700,  0.0525, -0.2404, -0.1999,  0.2607, -0.2482,\n",
       "                       0.2470,  0.2690, -0.2088, -0.1769, -0.1578, -0.0106, -0.0489, -0.2772,\n",
       "                      -0.0268,  0.1332, -0.0701,  0.1192,  0.1458, -0.2740,  0.3094, -0.1381,\n",
       "                       0.2016,  0.2025, -0.0166,  0.1436, -0.3099, -0.0862, -0.1922, -0.2914,\n",
       "                      -0.0987, -0.1374, -0.1393, -0.3137])),\n",
       "             ('h2.weight',\n",
       "              tensor([[-0.0458, -0.0447,  0.0755,  ..., -0.0817, -0.0690, -0.0701],\n",
       "                      [-0.0076,  0.0245, -0.0155,  ...,  0.0102,  0.0869, -0.0962],\n",
       "                      [ 0.0844, -0.0702, -0.0520,  ...,  0.0237,  0.0165,  0.0437],\n",
       "                      ...,\n",
       "                      [-0.0940,  0.0797,  0.0714,  ..., -0.0466, -0.0274, -0.0497],\n",
       "                      [-0.0892, -0.0163, -0.0352,  ..., -0.0479,  0.0008, -0.0420],\n",
       "                      [-0.0582, -0.0460, -0.0071,  ...,  0.0841, -0.0832,  0.0084]])),\n",
       "             ('h2.bias',\n",
       "              tensor([ 0.1049,  0.0140,  0.0672,  0.0858,  0.0168,  0.0316, -0.0417,  0.0806,\n",
       "                       0.0739,  0.0830,  0.1094,  0.0144,  0.0373,  0.0541,  0.0561, -0.0685,\n",
       "                      -0.0935,  0.0340,  0.0565, -0.0690,  0.0304, -0.0252, -0.0238,  0.0602,\n",
       "                      -0.0803,  0.0400, -0.0960,  0.0162, -0.0926,  0.0885, -0.0518,  0.0685,\n",
       "                       0.0531, -0.0559,  0.0012, -0.0233, -0.0627,  0.0257,  0.0760, -0.0587,\n",
       "                      -0.0388,  0.0345,  0.0337, -0.0374,  0.0934,  0.0413,  0.0774,  0.0037,\n",
       "                       0.0142,  0.0780,  0.0330,  0.0383,  0.0814,  0.0706,  0.0817,  0.0096,\n",
       "                      -0.0666, -0.0241,  0.0669,  0.0725])),\n",
       "             ('h3.weight',\n",
       "              tensor([[-0.0683,  0.0625,  0.0622,  ..., -0.0548,  0.1011,  0.1038],\n",
       "                      [ 0.0679,  0.0088,  0.0599,  ..., -0.0263, -0.1146, -0.0944],\n",
       "                      [ 0.0750,  0.0710,  0.0806,  ..., -0.1169, -0.1104, -0.0715],\n",
       "                      ...,\n",
       "                      [ 0.0618, -0.0821,  0.0010,  ...,  0.0754,  0.0584, -0.0643],\n",
       "                      [-0.0956,  0.0738, -0.0192,  ..., -0.0323,  0.0782, -0.1030],\n",
       "                      [ 0.0590, -0.0363,  0.0856,  ...,  0.0314,  0.0852, -0.0113]])),\n",
       "             ('h3.bias',\n",
       "              tensor([ 9.6583e-02,  9.0997e-02,  5.9719e-02,  6.0870e-02, -1.0800e-01,\n",
       "                       1.8760e-02, -7.5388e-02, -1.9288e-02, -1.2435e-01,  1.1914e-01,\n",
       "                      -3.0866e-02,  1.2591e-01, -1.6555e-02, -1.6789e-02, -8.4061e-02,\n",
       "                      -1.8050e-02,  3.0867e-02, -1.0363e-01, -8.5844e-02,  1.1457e-01,\n",
       "                      -1.3947e-05, -1.1533e-01,  9.9242e-02,  5.4222e-02,  1.1621e-01,\n",
       "                      -5.8962e-02,  1.1287e-02,  3.7273e-02,  8.6388e-02, -1.0764e-01])),\n",
       "             ('h4.weight',\n",
       "              tensor([[-0.1462, -0.0060,  0.0759,  ...,  0.1649, -0.1804, -0.1587],\n",
       "                      [ 0.1550,  0.0521, -0.0221,  ...,  0.1014, -0.0591,  0.0497],\n",
       "                      [ 0.0641,  0.0127,  0.0103,  ...,  0.0778, -0.0427, -0.1669],\n",
       "                      ...,\n",
       "                      [-0.0357,  0.1293, -0.1632,  ...,  0.1235, -0.0058, -0.1717],\n",
       "                      [-0.0998, -0.0515, -0.1052,  ..., -0.0086,  0.0781, -0.1570],\n",
       "                      [ 0.1567,  0.0504, -0.1401,  ..., -0.0482, -0.1804, -0.0616]])),\n",
       "             ('h4.bias',\n",
       "              tensor([-0.0071,  0.1646,  0.0318,  0.0167,  0.0076,  0.1569, -0.1424,  0.1257,\n",
       "                       0.1541, -0.1514, -0.0123, -0.0703,  0.0480, -0.0955,  0.0143, -0.0015,\n",
       "                       0.0931,  0.0651, -0.1114,  0.0572, -0.0351, -0.0336,  0.0428, -0.0231,\n",
       "                       0.1513,  0.0423, -0.1397, -0.0603, -0.0949, -0.1115,  0.1822, -0.0332,\n",
       "                       0.1420, -0.0868,  0.0660,  0.1080, -0.0716,  0.0137,  0.0328, -0.0463,\n",
       "                      -0.1601, -0.1699, -0.1532, -0.0459, -0.1299,  0.1482, -0.0357,  0.0867,\n",
       "                      -0.0871, -0.1700, -0.0314,  0.0011,  0.1630,  0.1198, -0.1594,  0.1067,\n",
       "                       0.0902, -0.0428, -0.0083,  0.0153,  0.1003, -0.0197,  0.0814, -0.1616,\n",
       "                      -0.0660, -0.1348,  0.1227, -0.0120,  0.1634,  0.1643, -0.1696,  0.0755,\n",
       "                      -0.1234,  0.0991,  0.0950, -0.1228,  0.1084,  0.1096, -0.1137,  0.1633,\n",
       "                      -0.0473,  0.1174,  0.1559, -0.0743,  0.0523,  0.0475,  0.0394,  0.1556,\n",
       "                      -0.0173,  0.1521,  0.0199,  0.0111, -0.0038, -0.1254, -0.1562, -0.1092,\n",
       "                      -0.0183, -0.1316,  0.0998, -0.0009])),\n",
       "             ('h5.weight',\n",
       "              tensor([[ 5.0516e-02, -2.5848e-02,  7.2001e-02, -3.3199e-02,  2.4838e-02,\n",
       "                       -7.2518e-02,  2.6919e-02, -9.5044e-02,  9.1977e-02,  8.2006e-02,\n",
       "                        6.6124e-02,  7.2625e-02, -6.5120e-02, -2.8425e-03,  7.1807e-02,\n",
       "                       -7.7958e-02,  1.4111e-02, -8.5940e-02,  5.4812e-02, -5.5698e-02,\n",
       "                        7.9386e-02,  7.9310e-02,  6.1102e-02,  4.6394e-02,  4.5228e-02,\n",
       "                        4.7575e-02, -8.4363e-02, -8.4534e-02, -9.5148e-02,  8.4672e-02,\n",
       "                        6.9048e-03, -7.4097e-02, -6.1940e-03,  8.2055e-03,  3.8260e-02,\n",
       "                       -3.0137e-02, -5.5483e-02, -5.6056e-03,  1.2921e-02,  5.3906e-02,\n",
       "                       -4.7723e-02,  5.1956e-02,  3.8729e-02, -7.8949e-02,  3.0279e-02,\n",
       "                        8.4946e-02,  2.4293e-02,  5.2479e-02, -4.7856e-02, -2.3863e-02,\n",
       "                       -3.1493e-02, -5.6827e-02,  2.6893e-02, -7.8748e-03, -2.7091e-02,\n",
       "                       -1.2339e-02,  4.4060e-02,  7.1643e-02,  3.7902e-02, -4.5315e-02,\n",
       "                        1.0337e-01,  8.4323e-04, -5.1459e-02,  8.6946e-02, -2.4771e-02,\n",
       "                        5.8489e-03, -5.9583e-02, -2.5996e-03, -4.3006e-02, -4.8665e-02,\n",
       "                       -7.6706e-02, -2.9679e-02,  6.7507e-02, -4.3701e-02, -2.3605e-02,\n",
       "                       -8.3106e-02,  5.2637e-02,  1.7941e-02, -3.5323e-02, -7.4967e-02,\n",
       "                        4.5600e-02, -8.7559e-02,  1.0377e-01, -3.8374e-04,  3.4380e-03,\n",
       "                        3.2378e-02, -2.9716e-02,  3.6992e-02,  6.2464e-02,  5.1246e-02,\n",
       "                        5.9455e-02, -7.1668e-02,  9.5200e-02,  1.2989e-02,  8.7264e-02,\n",
       "                        6.6088e-02,  9.3835e-02, -3.3554e-02,  5.0824e-02,  9.2742e-02],\n",
       "                      [-5.9284e-02, -2.1640e-02,  9.9335e-02, -4.3291e-02, -7.2123e-02,\n",
       "                        5.1357e-02,  6.4626e-02, -2.3025e-03,  1.0967e-02,  4.7833e-02,\n",
       "                        9.1411e-02, -3.0949e-03, -2.7770e-02,  9.8105e-02,  5.5279e-02,\n",
       "                        2.8682e-02, -3.3380e-02,  7.9784e-02, -7.3088e-02,  2.1155e-02,\n",
       "                        1.0430e-01,  1.9183e-02,  2.7579e-02, -4.8516e-03, -1.0621e-04,\n",
       "                        2.2171e-02,  4.1672e-03, -4.6838e-02, -6.4278e-03, -2.0780e-02,\n",
       "                       -5.3535e-02,  7.4138e-02, -2.4406e-02, -5.6924e-02,  7.9240e-02,\n",
       "                       -1.0601e-02, -4.6865e-02,  9.1773e-02,  1.3981e-02,  9.5724e-02,\n",
       "                       -6.9722e-02, -5.8284e-02,  8.3279e-02,  1.8682e-02,  8.9671e-02,\n",
       "                        2.7370e-02, -1.7281e-02,  5.6354e-02,  8.7180e-02,  8.0781e-02,\n",
       "                        9.5243e-02,  1.2451e-02,  2.9485e-02,  1.9680e-02, -3.8519e-02,\n",
       "                        2.4600e-02,  7.0260e-02,  3.6785e-02,  9.6349e-02,  7.0818e-02,\n",
       "                        5.9673e-02, -8.8011e-02,  4.5286e-02,  3.0715e-02,  1.2066e-02,\n",
       "                       -4.1870e-02, -4.3627e-02, -2.8004e-02,  1.0352e-01, -6.7433e-02,\n",
       "                        2.6583e-02,  8.9328e-02, -6.5035e-02,  1.0766e-01, -1.9315e-02,\n",
       "                        4.6748e-02,  1.5616e-02,  3.9832e-02,  8.9903e-02, -5.0306e-02,\n",
       "                        4.9718e-02,  8.4527e-02, -3.0053e-03,  2.6239e-02,  5.7658e-02,\n",
       "                        4.7305e-02,  7.7465e-02, -4.9129e-02, -2.7055e-04,  2.1542e-02,\n",
       "                        4.4737e-02,  8.3276e-02,  4.9416e-02, -2.0094e-03, -7.4508e-02,\n",
       "                        9.2660e-03,  6.4263e-02,  6.3846e-02,  1.0084e-02,  1.2555e-02],\n",
       "                      [ 4.9376e-02, -8.0380e-02,  1.9925e-02,  7.8290e-02, -3.6927e-02,\n",
       "                       -6.5057e-02, -2.8454e-02, -9.9028e-02,  4.4725e-02,  5.2905e-03,\n",
       "                       -9.7933e-03,  5.8184e-02, -2.2279e-02,  4.9447e-02, -5.2574e-03,\n",
       "                        4.5544e-02, -2.5554e-02, -3.0377e-02,  4.6312e-02,  6.3439e-02,\n",
       "                       -7.9538e-02, -1.9957e-02,  9.8359e-02, -2.8382e-02, -8.6096e-03,\n",
       "                       -7.2739e-02, -4.1914e-02,  7.2671e-03, -4.0485e-02,  1.4529e-02,\n",
       "                        9.7127e-02, -2.4592e-02,  9.6209e-02, -4.8466e-02,  2.6512e-02,\n",
       "                       -7.0055e-02,  2.0602e-02,  4.0198e-02, -4.5666e-02, -2.1287e-02,\n",
       "                        6.8287e-02, -8.8245e-02,  1.3212e-02, -8.0087e-04, -8.9296e-02,\n",
       "                       -2.6043e-02,  3.0245e-02, -8.6240e-02,  5.9282e-02,  6.6699e-02,\n",
       "                        8.7757e-02, -5.2582e-02, -5.2426e-02, -3.3937e-02,  2.3776e-02,\n",
       "                        5.3286e-02, -1.4207e-02, -9.0836e-03,  6.9964e-02, -2.7093e-02,\n",
       "                        1.1572e-02, -6.1129e-02,  6.3174e-02, -8.1522e-02, -6.0881e-02,\n",
       "                       -4.0103e-03, -1.5489e-02, -2.9825e-02,  9.8312e-02, -8.8564e-02,\n",
       "                        1.8498e-02,  5.6108e-02, -8.4011e-02,  5.7252e-02, -3.3589e-03,\n",
       "                        5.9586e-02, -2.1344e-02, -4.4469e-04,  5.2530e-02, -4.8291e-03,\n",
       "                        9.7567e-02, -4.8353e-02, -5.9217e-02, -8.8603e-02,  5.9359e-02,\n",
       "                        2.6056e-02, -6.4241e-03,  7.0543e-02,  9.7696e-02,  8.5204e-02,\n",
       "                        5.5301e-02, -8.5979e-02,  4.0926e-02,  3.8598e-02, -6.2330e-02,\n",
       "                        2.9886e-02,  8.9626e-02, -7.5499e-02,  2.1382e-02, -4.0625e-02],\n",
       "                      [ 4.8081e-02, -3.4165e-02,  6.9400e-02, -5.1608e-02,  8.6977e-02,\n",
       "                       -2.5266e-02,  9.0243e-02, -3.9014e-02, -6.6380e-02, -1.6807e-02,\n",
       "                        1.0166e-01,  5.3037e-02,  2.8252e-02,  9.2152e-02, -1.2021e-02,\n",
       "                        3.9288e-02,  7.3205e-02, -3.6050e-02,  8.1684e-02, -7.2693e-02,\n",
       "                        7.9495e-02,  9.6105e-02, -1.8401e-02,  7.6952e-03, -1.1194e-02,\n",
       "                       -7.9791e-02,  6.7059e-02,  4.6520e-02,  7.3810e-02, -7.6154e-02,\n",
       "                        1.5937e-02,  8.5057e-02,  1.1635e-02, -9.8181e-02,  8.2016e-02,\n",
       "                        9.7275e-03, -4.9412e-02,  1.1825e-02,  4.8296e-02, -1.0211e-03,\n",
       "                       -6.1193e-02, -8.5377e-02, -3.1755e-02, -7.7025e-02, -5.3100e-02,\n",
       "                       -7.9908e-02, -5.6979e-02, -5.7351e-02,  5.2988e-03, -4.5590e-02,\n",
       "                       -6.6953e-02, -2.5495e-02, -8.6052e-02,  3.4695e-02, -6.6931e-02,\n",
       "                       -2.0342e-02, -5.3582e-02, -5.4861e-02,  8.4660e-02, -7.5358e-02,\n",
       "                        9.8740e-02, -7.2393e-02, -9.5942e-02, -7.2049e-02,  5.0211e-02,\n",
       "                        8.2197e-02, -5.3724e-02, -6.3272e-02, -7.7863e-02, -5.0712e-03,\n",
       "                        4.7532e-02,  1.1048e-02,  3.6766e-02,  4.3560e-02,  9.7705e-02,\n",
       "                        4.9499e-02, -2.3235e-02,  5.0303e-02,  7.3095e-02, -3.3042e-02,\n",
       "                       -6.2161e-02, -1.8136e-02, -7.4174e-03, -3.7455e-02,  6.1863e-02,\n",
       "                        4.7310e-02,  1.0408e-01, -5.4246e-02, -2.6155e-03,  6.2897e-02,\n",
       "                        9.0116e-02,  9.8895e-02, -4.1341e-02,  4.5272e-02,  8.0293e-02,\n",
       "                       -7.8729e-02,  3.8617e-02, -5.7347e-02,  4.7656e-03, -6.3225e-02],\n",
       "                      [-7.9029e-02, -3.9547e-02,  7.0654e-02,  4.0233e-02,  5.3636e-02,\n",
       "                       -6.0551e-02,  9.9594e-02,  5.3861e-03,  9.9261e-02, -6.0573e-02,\n",
       "                       -3.2627e-02,  7.6356e-02, -3.6782e-02, -3.5621e-02,  7.5698e-02,\n",
       "                        3.3603e-02,  9.8092e-02,  4.2029e-02, -4.7743e-02,  4.4817e-02,\n",
       "                        2.3227e-03,  3.2617e-02,  9.8598e-02, -6.3842e-03,  6.7884e-02,\n",
       "                        7.3503e-03, -2.7917e-02, -4.8118e-02,  7.3318e-02,  7.7896e-02,\n",
       "                       -3.2881e-03,  6.9562e-02, -3.7366e-03,  2.8267e-02, -2.6801e-02,\n",
       "                        6.7907e-02,  4.9561e-02, -6.0907e-03,  6.6709e-02,  1.6120e-02,\n",
       "                       -6.1521e-02,  3.2030e-02, -5.8038e-02, -5.4107e-02, -2.1622e-02,\n",
       "                        3.1144e-02,  1.4833e-03, -4.0188e-02, -4.8728e-02,  2.8143e-02,\n",
       "                        4.3009e-02,  9.5047e-02, -4.0810e-02,  9.7824e-02,  5.5478e-02,\n",
       "                        8.4646e-02,  2.8430e-02,  9.5434e-02,  3.2393e-02,  2.8744e-02,\n",
       "                       -3.4266e-02,  9.0787e-03,  9.4412e-03,  8.0744e-02, -2.4255e-02,\n",
       "                       -2.2628e-02, -7.3005e-02, -1.0059e-02, -2.4765e-02,  2.1412e-02,\n",
       "                        5.5605e-03, -3.8804e-02,  4.4209e-03, -1.5791e-02,  4.0356e-02,\n",
       "                        5.8608e-02,  2.2935e-02,  4.8790e-02,  7.5220e-02,  2.2094e-02,\n",
       "                        9.8440e-03, -3.3776e-02,  3.9230e-02, -9.0887e-02,  5.0418e-02,\n",
       "                        1.6555e-03, -8.9595e-02, -9.0638e-02, -4.0023e-02,  6.2232e-02,\n",
       "                       -2.4247e-02,  9.1462e-02, -5.1014e-02, -8.7639e-03,  5.3546e-02,\n",
       "                       -1.4202e-02,  5.9712e-02,  9.8828e-02,  4.7729e-02,  1.0089e-01],\n",
       "                      [-1.3862e-02, -5.1047e-02, -5.9866e-02, -9.7413e-02, -3.3925e-02,\n",
       "                        6.6490e-02,  1.8498e-02,  4.1258e-02,  8.5831e-02, -1.8170e-02,\n",
       "                        1.0461e-02, -3.4419e-02,  1.9612e-02, -5.9259e-02,  7.5492e-02,\n",
       "                       -6.7581e-02, -1.2366e-02, -7.6654e-02,  9.9120e-02,  4.8595e-02,\n",
       "                        1.0662e-02,  8.1714e-04,  5.1193e-04,  2.6098e-02,  3.2380e-02,\n",
       "                       -5.5695e-02, -1.3887e-02, -1.5188e-03,  6.0945e-02, -2.8680e-02,\n",
       "                        4.2953e-02, -9.1089e-02, -9.1220e-02,  2.9252e-02, -2.6140e-02,\n",
       "                       -9.3338e-02,  7.3897e-02, -5.8399e-02, -8.2189e-02, -1.2215e-02,\n",
       "                       -3.3051e-03,  8.6334e-02, -5.2723e-02,  1.3917e-02,  1.9309e-03,\n",
       "                        4.5816e-02,  4.6949e-02,  5.2881e-02,  9.7965e-02, -2.8417e-02,\n",
       "                       -8.0143e-02,  9.1238e-02,  1.3694e-02, -4.8448e-02,  2.0851e-02,\n",
       "                        7.4830e-02,  9.9163e-02,  1.8744e-02,  9.6383e-02, -1.2049e-02,\n",
       "                       -6.0144e-02, -3.2973e-02,  2.1739e-02, -1.6086e-02, -5.1162e-02,\n",
       "                        5.3692e-02,  1.1922e-02, -2.8442e-03, -6.9575e-02, -6.7944e-02,\n",
       "                        2.1174e-02, -1.1223e-03,  3.1750e-02,  2.8370e-02,  1.8972e-02,\n",
       "                        1.7734e-02, -5.7988e-02,  7.6259e-02,  6.5073e-03,  7.6953e-02,\n",
       "                       -2.0613e-02, -7.3699e-02,  8.3792e-02,  4.1026e-02, -1.2799e-02,\n",
       "                       -1.9207e-02,  7.3137e-02,  3.1072e-02, -4.3152e-02, -7.9830e-02,\n",
       "                       -5.4233e-02,  7.2892e-02,  6.1274e-02,  8.3335e-02, -6.4806e-02,\n",
       "                        8.4933e-02, -8.7086e-02,  2.6795e-02, -3.5613e-02,  5.2268e-03],\n",
       "                      [-5.8834e-03, -5.4720e-02, -9.3217e-02,  4.8350e-02, -9.8843e-02,\n",
       "                        5.6170e-02,  6.6894e-02,  6.1161e-02, -4.8955e-02, -2.5252e-03,\n",
       "                       -7.4117e-02, -1.8359e-02,  8.3881e-02, -7.5257e-02,  9.4926e-02,\n",
       "                       -7.0844e-02,  2.9799e-02, -9.5749e-02,  9.8043e-02, -5.4553e-02,\n",
       "                       -1.3103e-02,  1.9299e-02,  1.0555e-02, -7.3864e-02, -4.7315e-02,\n",
       "                       -1.0078e-02,  8.1048e-02,  7.8914e-02, -4.6279e-02,  3.9240e-02,\n",
       "                       -2.8361e-02,  2.5321e-02, -5.9081e-02,  9.9357e-02, -7.0511e-02,\n",
       "                       -7.5549e-02,  7.7953e-02, -8.9991e-02,  6.4976e-02, -2.2373e-02,\n",
       "                        5.6567e-02, -4.7715e-02, -9.7163e-02,  2.4049e-02, -5.1206e-02,\n",
       "                       -6.1821e-02, -2.6559e-02, -1.4179e-03,  9.9443e-02, -9.5652e-02,\n",
       "                        5.6505e-05, -2.6272e-03,  1.3799e-02, -2.0228e-02, -3.7872e-02,\n",
       "                       -8.8748e-02,  9.6105e-02,  9.6104e-04, -9.4364e-02,  6.5895e-02,\n",
       "                        4.3257e-02, -2.4824e-02,  4.9576e-02,  6.9712e-02, -7.1836e-02,\n",
       "                       -2.5280e-02,  8.5805e-02,  3.6477e-02,  1.9407e-02, -1.2807e-02,\n",
       "                        8.6934e-02, -7.4609e-02, -1.5907e-02,  9.2006e-02,  7.6192e-02,\n",
       "                       -3.4258e-02, -7.9198e-02, -1.9831e-02, -8.6383e-02, -1.8687e-02,\n",
       "                       -1.8450e-02,  8.5306e-02,  2.2038e-02,  9.9020e-02,  6.9116e-02,\n",
       "                        5.7012e-02, -1.4797e-02, -1.4284e-02, -1.2330e-02,  2.6130e-02,\n",
       "                        8.1731e-02, -5.7299e-02, -7.1522e-02, -8.7692e-03,  6.6635e-02,\n",
       "                       -2.4910e-02,  6.2337e-02, -9.1517e-02, -2.3288e-03,  2.4825e-02],\n",
       "                      [-2.1626e-02,  4.3699e-02,  7.9553e-02,  6.8460e-02,  1.0992e-01,\n",
       "                        1.0977e-01, -2.0891e-03, -6.3833e-02,  1.8437e-02, -4.3802e-02,\n",
       "                       -3.2772e-03,  4.4849e-02,  9.3207e-02, -3.9656e-02, -8.7420e-02,\n",
       "                       -6.4385e-02, -6.1082e-03, -2.8034e-02, -8.0072e-02, -3.3371e-02,\n",
       "                        1.0340e-01,  2.2144e-02,  5.9536e-02,  9.3512e-02, -1.6482e-02,\n",
       "                        7.8514e-02,  8.8297e-02, -7.3443e-02,  9.9861e-02,  1.3485e-02,\n",
       "                        4.5595e-02,  5.7011e-02, -4.7233e-03, -9.8575e-02,  7.2951e-02,\n",
       "                       -7.4778e-02, -3.1644e-02,  5.9899e-02,  7.6127e-02, -3.7489e-02,\n",
       "                        9.1206e-03, -9.8189e-02, -5.3068e-02, -5.4530e-02, -1.4748e-02,\n",
       "                       -5.0838e-02,  1.0588e-02, -4.3935e-02, -5.3049e-02,  7.7039e-02,\n",
       "                       -5.8609e-02,  5.0393e-02, -1.0499e-02,  1.0949e-01, -5.9271e-02,\n",
       "                       -1.9116e-03, -9.2856e-03,  1.0872e-02, -9.1972e-02, -8.5768e-02,\n",
       "                        1.0873e-01,  3.3102e-02, -7.2834e-02,  6.8069e-02, -5.4919e-02,\n",
       "                        2.8146e-02,  5.6709e-02,  6.5899e-02,  3.2675e-02, -4.3616e-02,\n",
       "                       -1.9451e-02,  7.7881e-02,  3.4494e-02,  4.2719e-02, -2.0343e-03,\n",
       "                       -4.0567e-02, -8.7294e-02, -6.3203e-02,  5.0307e-02, -1.3656e-02,\n",
       "                        8.6069e-02, -7.6477e-03,  1.0545e-01,  3.8847e-02, -1.1700e-02,\n",
       "                        5.1330e-02, -3.7168e-02, -6.3475e-02,  3.3359e-02, -3.2000e-02,\n",
       "                       -8.9522e-02,  2.5317e-02, -3.5184e-02, -9.3259e-03,  1.0733e-01,\n",
       "                       -5.9464e-02,  7.3118e-02, -4.0743e-02,  1.0970e-01, -4.3258e-02],\n",
       "                      [-4.3462e-02, -9.5759e-03,  3.4870e-02, -3.0323e-02, -7.8244e-02,\n",
       "                       -1.5683e-02,  6.1844e-03,  8.3986e-03, -6.9689e-02, -1.2092e-02,\n",
       "                       -1.7977e-02,  7.3366e-02, -5.8042e-02, -4.3314e-02,  2.4429e-02,\n",
       "                        9.3945e-03,  3.5253e-03, -3.7595e-02,  3.6120e-02, -9.6466e-02,\n",
       "                       -7.5540e-03,  4.3525e-02,  7.3318e-02, -7.9230e-02,  3.7382e-02,\n",
       "                       -9.7496e-02,  8.7678e-02,  4.0141e-03,  3.4095e-03,  9.0452e-02,\n",
       "                       -3.0459e-02,  6.1201e-02, -4.1721e-02,  3.1280e-02,  2.3831e-02,\n",
       "                        4.3779e-02,  1.9873e-02,  6.5870e-02,  5.4319e-04,  5.5857e-02,\n",
       "                       -1.6371e-02, -9.6441e-02,  1.4346e-02, -5.2004e-03, -5.1587e-02,\n",
       "                        3.4719e-03, -8.8979e-03,  4.6588e-03, -3.3695e-02,  8.8657e-02,\n",
       "                       -7.9369e-02, -9.3127e-02, -9.5859e-02,  4.6914e-02,  9.2067e-02,\n",
       "                       -8.2894e-02,  5.3833e-02,  6.7017e-02,  4.2884e-02, -8.4965e-02,\n",
       "                        1.2798e-02,  3.4019e-02,  8.5922e-03, -9.0481e-02,  2.7308e-02,\n",
       "                        3.2425e-02, -2.9128e-02,  8.1336e-02, -9.0165e-02, -9.4752e-02,\n",
       "                        8.8685e-02,  6.8599e-02,  6.6853e-02, -2.7319e-02,  3.9920e-02,\n",
       "                        2.4112e-02, -2.3576e-02, -6.0053e-02,  1.6925e-02, -1.6213e-02,\n",
       "                        4.6663e-02,  6.9485e-02,  1.1752e-02, -7.9702e-02, -7.3741e-02,\n",
       "                       -3.2485e-02,  6.7369e-02, -2.8049e-02,  1.0080e-01, -1.6106e-02,\n",
       "                        7.8986e-02, -4.3229e-02, -4.2631e-02,  2.1608e-02, -1.9081e-02,\n",
       "                       -9.9107e-02, -7.2582e-02, -5.7177e-03,  5.6125e-02, -8.3292e-03],\n",
       "                      [-7.7075e-02, -8.1574e-02,  5.0212e-02, -2.4586e-02,  7.5531e-02,\n",
       "                        3.9596e-02, -1.6339e-02,  5.8650e-02,  3.1071e-02,  3.3909e-02,\n",
       "                       -4.6666e-02,  6.5471e-02,  9.6878e-02,  5.4994e-02,  3.2802e-02,\n",
       "                        2.6863e-02, -9.9436e-02,  2.9214e-02, -4.2976e-02,  2.4363e-02,\n",
       "                        1.0078e-01, -1.0480e-03,  7.4086e-02, -8.8571e-02, -9.5998e-02,\n",
       "                       -2.1554e-02,  3.6753e-02, -3.8414e-02,  5.5224e-02, -8.6040e-02,\n",
       "                        2.3461e-02, -5.9162e-02, -3.3295e-02, -5.1621e-02,  9.9109e-02,\n",
       "                       -8.8138e-02, -1.6344e-02, -4.1300e-02, -4.6671e-02, -4.4722e-02,\n",
       "                       -1.6262e-02,  6.9544e-02, -1.8976e-02, -9.1016e-02, -5.7465e-02,\n",
       "                        9.5494e-02,  8.7453e-02, -2.6031e-02, -6.1639e-02,  1.6060e-02,\n",
       "                       -7.9626e-02, -8.0797e-02, -2.3827e-02, -1.6319e-02, -4.8353e-02,\n",
       "                        3.8975e-02, -1.7887e-02, -3.9173e-02, -4.2983e-02, -2.1749e-02,\n",
       "                        4.3620e-02, -2.9822e-02,  4.9668e-02,  8.8459e-02,  8.7414e-02,\n",
       "                       -8.8053e-04, -6.0148e-02,  1.2934e-02, -2.9575e-02,  1.6158e-02,\n",
       "                        8.4253e-02, -2.1400e-02, -9.2184e-02, -2.7513e-02,  2.9893e-02,\n",
       "                        5.3155e-02, -4.6402e-02,  7.8117e-02,  8.1300e-02,  5.9137e-02,\n",
       "                        5.5221e-03, -3.8078e-02, -2.5719e-02, -4.1639e-02,  2.9481e-02,\n",
       "                       -9.0818e-02,  5.7320e-02,  9.9449e-02,  5.3890e-02,  9.5385e-02,\n",
       "                        4.7121e-03, -8.9894e-02, -5.9514e-02,  8.5417e-02,  8.7718e-03,\n",
       "                       -2.5353e-02,  8.8749e-02,  8.3606e-02,  2.4990e-02, -7.1565e-02]])),\n",
       "             ('h5.bias',\n",
       "              tensor([ 0.0857,  0.0917, -0.0644, -0.0748, -0.0502, -0.0629,  0.0556,  0.0639,\n",
       "                       0.0788,  0.0130])),\n",
       "             ('h6.weight',\n",
       "              tensor([[ 0.0777,  0.2045,  0.1210, -0.2771,  0.0355, -0.2319,  0.0826,  0.2873,\n",
       "                       -0.2973,  0.0511],\n",
       "                      [ 0.2588,  0.2574, -0.3045, -0.1405, -0.2479,  0.3023,  0.0572,  0.1562,\n",
       "                       -0.0526,  0.3049]])),\n",
       "             ('h6.bias', tensor([0.1900, 0.1022]))])"
      ]
     },
     "execution_count": 274,
     "metadata": {},
     "output_type": "execute_result"
    }
   ],
   "source": [
    "model.state_dict() # Printing state of the model gives all weights and biases"
   ]
  },
  {
   "cell_type": "markdown",
   "metadata": {},
   "source": [
    " "
   ]
  },
  {
   "cell_type": "markdown",
   "metadata": {},
   "source": [
    "### Defining a new class which inherits from the redefined class so that we can make the model changes"
   ]
  },
  {
   "cell_type": "markdown",
   "metadata": {},
   "source": [
    "  "
   ]
  },
  {
   "cell_type": "code",
   "execution_count": 207,
   "metadata": {},
   "outputs": [],
   "source": [
    "class NewNeurons(Neurons):\n",
    "    def __init__(self, input=10, output=10):\n",
    "        super().__init__()\n",
    "        self.h6=nn.Linear(10, 2)\n",
    "        \n",
    "    def forward(self,x):\n",
    "        d1=self.h6(x)\n",
    "        d1=F.relu(d1)\n",
    "        return d1\n",
    "        \n",
    "    "
   ]
  },
  {
   "cell_type": "code",
   "execution_count": 59,
   "metadata": {},
   "outputs": [],
   "source": [
    "#Neurons().state_dict()"
   ]
  },
  {
   "cell_type": "code",
   "execution_count": 276,
   "metadata": {},
   "outputs": [],
   "source": [
    "newmodel=NewNeurons() # Initialising the new model Note - This would reinitialise all the weights, so trained weights are now gone"
   ]
  },
  {
   "cell_type": "code",
   "execution_count": 213,
   "metadata": {},
   "outputs": [],
   "source": [
    "## Updating a new dictionary with weights from the previous model\n",
    "\n",
    "Preexisting_weights={y:y1 for y,y1 in model.state_dict().items() for x in newmodel.state_dict() if y in x}\n",
    " "
   ]
  },
  {
   "cell_type": "code",
   "execution_count": 214,
   "metadata": {},
   "outputs": [],
   "source": [
    "## Updating the trained weights on the new model"
   ]
  },
  {
   "cell_type": "code",
   "execution_count": 215,
   "metadata": {},
   "outputs": [],
   "source": [
    "newmodel.state_dict().update(Preexisting_weights)"
   ]
  },
  {
   "cell_type": "code",
   "execution_count": 220,
   "metadata": {},
   "outputs": [
    {
     "data": {
      "text/plain": [
       "<All keys matched successfully>"
      ]
     },
     "execution_count": 220,
     "metadata": {},
     "output_type": "execute_result"
    }
   ],
   "source": [
    "newmodel.load_state_dict(newmodel.state_dict()) ## Loading the model with the new weights"
   ]
  },
  {
   "cell_type": "code",
   "execution_count": 216,
   "metadata": {},
   "outputs": [],
   "source": [
    "#model.load_state_dict(Neurons().state_dict())"
   ]
  },
  {
   "cell_type": "code",
   "execution_count": 221,
   "metadata": {},
   "outputs": [
    {
     "data": {
      "text/plain": [
       "Parameter containing:\n",
       "tensor([ 0.2175,  0.3036, -0.2440, -0.0438,  0.0803,  0.1276, -0.0502, -0.0510,\n",
       "        -0.1159,  0.2665, -0.0965, -0.0029, -0.2285, -0.2251, -0.1008,  0.2778,\n",
       "         0.2251,  0.1351,  0.0086,  0.0543,  0.1704, -0.2137, -0.1250, -0.1156,\n",
       "        -0.2806, -0.0346,  0.0912,  0.3104,  0.0964,  0.2403,  0.2804, -0.0950,\n",
       "        -0.1712,  0.1268,  0.1890,  0.2727, -0.0435, -0.2247,  0.0929, -0.2586,\n",
       "         0.0977,  0.1601, -0.1972,  0.3103, -0.2654,  0.3153, -0.1758,  0.1407,\n",
       "        -0.0195, -0.0915, -0.0524, -0.0188,  0.1226,  0.2547,  0.2881, -0.2041,\n",
       "        -0.1706,  0.0141, -0.1042, -0.0599,  0.2422, -0.2338,  0.0639,  0.0304,\n",
       "         0.1261,  0.1121,  0.1786,  0.2995,  0.2519,  0.0412,  0.1612,  0.0468,\n",
       "        -0.0006,  0.1920, -0.1211,  0.1851, -0.1400, -0.0859,  0.0470, -0.0245,\n",
       "         0.1238,  0.0621, -0.1860,  0.2299,  0.1876, -0.2029,  0.0848,  0.1373,\n",
       "        -0.1667, -0.0077,  0.1574, -0.0632, -0.1712, -0.0699, -0.2134,  0.1254,\n",
       "        -0.2940,  0.0291,  0.3058,  0.1189], requires_grad=True)"
      ]
     },
     "execution_count": 221,
     "metadata": {},
     "output_type": "execute_result"
    }
   ],
   "source": [
    "newmodel.h1.bias"
   ]
  },
  {
   "cell_type": "code",
   "execution_count": 225,
   "metadata": {},
   "outputs": [],
   "source": [
    "model.train()\n",
    "output=newmodel(x)"
   ]
  },
  {
   "cell_type": "code",
   "execution_count": 227,
   "metadata": {},
   "outputs": [
    {
     "data": {
      "text/plain": [
       "(tensor([0.0000, 2.6715], grad_fn=<ReluBackward0>), torch.Size([2]))"
      ]
     },
     "execution_count": 227,
     "metadata": {},
     "output_type": "execute_result"
    }
   ],
   "source": [
    "output, output.shape"
   ]
  },
  {
   "cell_type": "markdown",
   "metadata": {},
   "source": [
    " "
   ]
  },
  {
   "cell_type": "markdown",
   "metadata": {},
   "source": [
    " "
   ]
  },
  {
   "cell_type": "markdown",
   "metadata": {},
   "source": [
    "### - - - Ending of Transfer Learning Concept"
   ]
  },
  {
   "cell_type": "markdown",
   "metadata": {},
   "source": [
    " "
   ]
  },
  {
   "cell_type": "markdown",
   "metadata": {},
   "source": [
    " "
   ]
  },
  {
   "cell_type": "markdown",
   "metadata": {},
   "source": [
    "#### -------------------------------------------------------------------------------------------------------------------------------------------------------------------------"
   ]
  },
  {
   "cell_type": "markdown",
   "metadata": {},
   "source": [
    "### LSTM"
   ]
  },
  {
   "cell_type": "markdown",
   "metadata": {},
   "source": [
    "#### -------------------------------------------------------------------------------------------------------------------------------------------------------------------------"
   ]
  },
  {
   "cell_type": "markdown",
   "metadata": {},
   "source": [
    " "
   ]
  },
  {
   "cell_type": "code",
   "execution_count": 285,
   "metadata": {},
   "outputs": [],
   "source": [
    "\n",
    "class MakeLstm(nn.Module):\n",
    "    def __init__(self, in_size):\n",
    "            super().__init__()\n",
    "            \n",
    "            self.l1=nn.Linear(in_size, 30) # Linear layer takes the input and transforms it to a layer of 30\n",
    "            self.l2=nn.LSTM(10,20,1) # LSTM layer is defined with 30 inputs, 20 hidden states and 1 layer\n",
    "            \n",
    "            self.h0=torch.rand(1,3,20) # Hidden state and Cell state are randomly initialised \n",
    "            self.c0=torch.rand(1,3,20) # layers 1, batch 1 and size = Hidden size\n",
    "            \n",
    "        \n",
    "            \n",
    "    def forward(self,x):\n",
    "        x=self.l1(x)\n",
    "        \n",
    "        hidden = (self.h0,self.c0) # Hidden state and cell state is made into a tuple\n",
    "        #print(hidden)\n",
    "        \n",
    "        # 30 >>> (sequence, batch, input size) if Batch_first = True, then ( batch, sequence, input size )\n",
    "        output, hidden=self.l2(x.view(1,3,-1), hidden) \n",
    "        # This is then passed onto the LSTM, and the input is reshaped to seq, batch, size\n",
    "        \n",
    "        return output\n",
    "            \n",
    "    "
   ]
  },
  {
   "cell_type": "code",
   "execution_count": 286,
   "metadata": {},
   "outputs": [
    {
     "data": {
      "text/plain": [
       "tensor([[[0.0984, 0.0589, 0.4417, 0.7920, 0.6834, 0.5416, 0.9683, 0.8136,\n",
       "          0.8037, 0.4503, 0.4698, 0.9641, 0.5721, 0.3132, 0.0112, 0.4335,\n",
       "          0.9738, 0.6239, 0.6296, 0.2141]]])"
      ]
     },
     "execution_count": 286,
     "metadata": {},
     "output_type": "execute_result"
    }
   ],
   "source": [
    "torch.rand(1,1,20)"
   ]
  },
  {
   "cell_type": "code",
   "execution_count": 287,
   "metadata": {},
   "outputs": [],
   "source": [
    "x=torch.tensor([1,2,3,4,5,6,7,8,9,0], dtype=torch.float)\n",
    "model=MakeLstm(10)\n"
   ]
  },
  {
   "cell_type": "code",
   "execution_count": 288,
   "metadata": {},
   "outputs": [
    {
     "name": "stdout",
     "output_type": "stream",
     "text": [
      "tensor([[[ 0.3894, -0.0310,  0.0396,  0.3809, -0.0033,  0.4219,  0.0254,\n",
      "           0.0443, -0.0196,  0.1054, -0.4776,  0.1188,  0.2959,  0.2520,\n",
      "           0.0241,  0.4157,  0.1325,  0.1381,  0.1242,  0.0366],\n",
      "         [ 0.5290, -0.0246,  0.1146,  0.0312,  0.1400,  0.0630,  0.3208,\n",
      "          -0.0201, -0.0504,  0.1075, -0.0034,  0.0935,  0.4123,  0.1544,\n",
      "           0.1368, -0.0056,  0.3053,  0.2055,  0.1739,  0.2777],\n",
      "         [ 0.0888,  0.1719,  0.1926,  0.2167,  0.2437,  0.1748,  0.3179,\n",
      "           0.1615,  0.1757,  0.3247,  0.3051,  0.4971,  0.2429,  0.0441,\n",
      "           0.2293,  0.0188,  0.1197,  0.4586,  0.0830, -0.1930]]],\n",
      "       grad_fn=<StackBackward>)\n"
     ]
    }
   ],
   "source": [
    "val=model(x)\n",
    "print(val)"
   ]
  },
  {
   "cell_type": "code",
   "execution_count": 289,
   "metadata": {},
   "outputs": [
    {
     "data": {
      "text/plain": [
       "dtype('float32')"
      ]
     },
     "execution_count": 289,
     "metadata": {},
     "output_type": "execute_result"
    }
   ],
   "source": [
    "val.detach().numpy()[0].dtype"
   ]
  },
  {
   "cell_type": "code",
   "execution_count": 304,
   "metadata": {},
   "outputs": [
    {
     "data": {
      "text/plain": [
       "array([ 0.38943672, -0.03100339,  0.03964118,  0.38088694, -0.00326936,\n",
       "        0.42190745,  0.025356  ,  0.04434595, -0.01963208,  0.10543466,\n",
       "       -0.47763485,  0.1187842 ,  0.29587764,  0.2519869 ,  0.02408553,\n",
       "        0.41573438,  0.13251492,  0.13806367,  0.12423478,  0.03661866,\n",
       "        0.52899027, -0.0246177 ,  0.11459512,  0.03122801,  0.1400379 ,\n",
       "        0.0630275 ,  0.32083035, -0.02014687, -0.05043667,  0.10747094,\n",
       "       -0.00337499,  0.09347769,  0.41232184,  0.15441391,  0.13682146,\n",
       "       -0.00560327,  0.30529022,  0.20554464,  0.17388763,  0.27769223,\n",
       "        0.08881152,  0.17185485,  0.19260435,  0.2166707 ,  0.24366884,\n",
       "        0.17476894,  0.3178685 ,  0.16154858,  0.17573701,  0.32473323,\n",
       "        0.3051032 ,  0.49709785,  0.24290505,  0.04410435,  0.2293206 ,\n",
       "        0.01884477,  0.11967836,  0.45861432,  0.08298797, -0.19298652],\n",
       "      dtype=float32)"
      ]
     },
     "execution_count": 304,
     "metadata": {},
     "output_type": "execute_result"
    }
   ],
   "source": [
    "val.detach().numpy()[0].flatten()"
   ]
  },
  {
   "cell_type": "code",
   "execution_count": 312,
   "metadata": {},
   "outputs": [
    {
     "data": {
      "text/plain": [
       "tensor([1])"
      ]
     },
     "execution_count": 312,
     "metadata": {},
     "output_type": "execute_result"
    }
   ],
   "source": [
    "labels=np.array([1], dtype=np.long)\n",
    "labels=torch.tensor(labels,dtype=torch.long)\n",
    "labels"
   ]
  },
  {
   "cell_type": "code",
   "execution_count": 313,
   "metadata": {},
   "outputs": [],
   "source": [
    "lr=0.005\n",
    "clip=5\n",
    "criterion = nn.CrossEntropyLoss()\n",
    "optimizer = torch.optim.Adam(model.parameters(), lr=lr)\n",
    "loss = criterion(val.view(1,-1), labels)\n",
    "loss.backward()\n",
    "nn.utils.clip_grad_norm_(model.parameters(), clip)\n",
    "optimizer.step()"
   ]
  },
  {
   "cell_type": "code",
   "execution_count": 327,
   "metadata": {},
   "outputs": [
    {
     "name": "stdout",
     "output_type": "stream",
     "text": [
      "l1.weight\n",
      "l1.bias\n",
      "l2.weight_ih_l0\n",
      "l2.weight_hh_l0\n",
      "l2.bias_ih_l0\n",
      "l2.bias_hh_l0\n"
     ]
    }
   ],
   "source": [
    "for c in model.state_dict():\n",
    "    print(c) # Parameters of model"
   ]
  },
  {
   "cell_type": "code",
   "execution_count": 701,
   "metadata": {},
   "outputs": [
    {
     "data": {
      "image/png": "[encoded data removed]",
      "text/plain": [
       "<PIL.PngImagePlugin.PngImageFile image mode=RGB size=1078x1438 at 0x1DF85D71488>"
      ]
     },
     "metadata": {},
     "output_type": "display_data"
    }
   ],
   "source": [
    "from PIL import Image\n",
    "import requests\n",
    "from io import BytesIO\n",
    "url=\"https://miro.medium.com/max/1078/1*1OCrRYMjrlI4J061RD5bqQ.png\"\n",
    "response = requests.get(url)\n",
    "img = Image.open(BytesIO(response.content))\n",
    "display(img)"
   ]
  },
  {
   "cell_type": "markdown",
   "metadata": {},
   "source": [
    "How LSTMs work - First, inputs and previous hidden states are passed into the forget gate, where it is multiplied with weights and bias and then passed through a Sigmoid function \n",
    "\n",
    "This output is then multiplied with the previous layer cell state to form a value - forget gate output\n",
    "\n",
    "inputs and previous hidden states are then passed through the input gate, where they're multiplied with input gate weights and added bias, this is then made to pass through a sigmoid function as well as a TanH function, parallelly\n",
    "\n",
    "These two outputs are then multiplied to gate the Input gate output.\n",
    "\n",
    "Similarly for output gate, the inputs and hidden states are multiplied by weights, with bias added from the output gate as shown\n",
    "\n",
    "- This is then passed through a sigmoid activation layer\n",
    "\n",
    "- Outputs from the cell state are also passed through a Tanh function\n",
    "\n",
    "- The results from above are multiplied to get the new hidden state\n",
    "\n",
    "- The cell state from Input gate is also passed to make the new cell state\n",
    "\n",
    "\n"
   ]
  },
  {
   "cell_type": "markdown",
   "metadata": {},
   "source": [
    "### KEY POINTERS\n",
    "\n",
    "LSTM shape >> [Input size], Hidden size , number of layers of LSTM\n",
    "\n",
    "When passing input, it needs to be of the shape Sequence, Batch, [Input size]\n",
    "\n",
    "Hidden State and Cell state both need to be of the format number of layers, Batch , Hidden size"
   ]
  },
  {
   "cell_type": "code",
   "execution_count": 706,
   "metadata": {},
   "outputs": [
    {
     "name": "stderr",
     "output_type": "stream",
     "text": [
      "C:\\Users\\akaniyamparambil\\AppData\\Local\\Continuum\\anaconda3\\lib\\site-packages\\ipykernel_launcher.py:6: UserWarning: To copy construct from a tensor, it is recommended to use sourceTensor.clone().detach() or sourceTensor.clone().detach().requires_grad_(True), rather than torch.tensor(sourceTensor).\n",
      "  \n"
     ]
    },
    {
     "name": "stdout",
     "output_type": "stream",
     "text": [
      "torch.Size([1, 1, 1])\n",
      "torch.float32\n"
     ]
    }
   ],
   "source": [
    "## EXAMPLE\n",
    "\n",
    "rnn = nn.LSTM(1, 3, 1)\n",
    "#input1 = np.array([[[1,10,11,15,9,100],[2,11,12,16,9,100]]], dtype=np.float32)\n",
    "input1=torch.randn(1,1,1)\n",
    "input1=torch.tensor(input1)\n",
    "print(input1.shape)\n",
    "h0 = torch.randn(1, 1, 3)\n",
    "c0 = torch.randn(1, 1, 3)\n",
    "print(c0.dtype)\n",
    "output, (hn, cn) = rnn(input1, (h0, c0))"
   ]
  },
  {
   "cell_type": "code",
   "execution_count": 660,
   "metadata": {},
   "outputs": [
    {
     "data": {
      "text/plain": [
       "tensor([[[0.3225]]])"
      ]
     },
     "execution_count": 660,
     "metadata": {},
     "output_type": "execute_result"
    }
   ],
   "source": [
    "input1"
   ]
  },
  {
   "cell_type": "code",
   "execution_count": 657,
   "metadata": {},
   "outputs": [
    {
     "data": {
      "text/plain": [
       "torch.Size([1, 1, 3])"
      ]
     },
     "execution_count": 657,
     "metadata": {},
     "output_type": "execute_result"
    }
   ],
   "source": [
    "output.shape"
   ]
  },
  {
   "cell_type": "code",
   "execution_count": 658,
   "metadata": {},
   "outputs": [
    {
     "data": {
      "text/plain": [
       "(torch.Size([1, 1, 3]), torch.Size([1, 1, 3]))"
      ]
     },
     "execution_count": 658,
     "metadata": {},
     "output_type": "execute_result"
    }
   ],
   "source": [
    "(hn.shape, cn.shape)"
   ]
  },
  {
   "cell_type": "code",
   "execution_count": 659,
   "metadata": {},
   "outputs": [
    {
     "name": "stdout",
     "output_type": "stream",
     "text": [
      "torch.Size([12, 1])\n",
      "torch.Size([12, 3])\n",
      "torch.Size([12])\n",
      "torch.Size([12])\n"
     ]
    }
   ],
   "source": [
    "for c in rnn.parameters():\n",
    "    print(c.shape)"
   ]
  },
  {
   "cell_type": "code",
   "execution_count": 702,
   "metadata": {},
   "outputs": [
    {
     "name": "stdout",
     "output_type": "stream",
     "text": [
      "('weight_ih_l0', Parameter containing:\n",
      "tensor([[-0.3362],\n",
      "        [ 0.5151],\n",
      "        [-0.0321],\n",
      "        [ 0.0000],\n",
      "        [ 0.0000],\n",
      "        [ 0.0000],\n",
      "        [ 0.2387],\n",
      "        [ 0.3276],\n",
      "        [-0.1778],\n",
      "        [-0.3967],\n",
      "        [ 0.4130],\n",
      "        [ 0.4804]], requires_grad=True))\n",
      "('weight_hh_l0', Parameter containing:\n",
      "tensor([[ 0.2665,  0.2123, -0.3010],\n",
      "        [ 0.1275,  0.4863,  0.4862],\n",
      "        [-0.4479, -0.0443,  0.2221],\n",
      "        [-0.5427, -0.0777, -0.0609],\n",
      "        [-0.3612,  0.1139,  0.5713],\n",
      "        [-0.2960, -0.1849,  0.3095],\n",
      "        [-0.1035,  0.4653, -0.4983],\n",
      "        [ 0.5636,  0.0923,  0.2687],\n",
      "        [-0.2956,  0.1564, -0.1417],\n",
      "        [ 0.1539,  0.1444,  0.0647],\n",
      "        [ 0.0382,  0.5432,  0.2147],\n",
      "        [ 0.0573, -0.4232,  0.5254]], requires_grad=True))\n",
      "('bias_ih_l0', Parameter containing:\n",
      "tensor([-0.4678,  0.1060,  0.3826, -0.4981,  0.3333, -0.0187,  0.1718,  0.2326,\n",
      "         0.2751,  0.2121, -0.4040, -0.1212], requires_grad=True))\n",
      "('bias_hh_l0', Parameter containing:\n",
      "tensor([-0.2460,  0.5248,  0.1323,  0.2256,  0.3255, -0.1663,  0.0150,  0.2617,\n",
      "        -0.2427, -0.5047,  0.5262,  0.0610], requires_grad=True))\n"
     ]
    }
   ],
   "source": [
    "for c in rnn.named_parameters():\n",
    "    print(c)\n",
    "    \n",
    "    # weight_ih_l0 is actually the combined weights of all the gates i.e [4*number of hidden states, input size] >> [12,1] in this case"
   ]
  },
  {
   "cell_type": "code",
   "execution_count": 671,
   "metadata": {},
   "outputs": [],
   "source": [
    "Input_weights = rnn.weight_ih_l0.detach().numpy()\n",
    "Input_bias = rnn.bias_ih_l0.detach().numpy()\n",
    "Hidden_weights = rnn.weight_hh_l0.detach().numpy()\n",
    "Hidden_bias = rnn.bias_hh_l0.detach().numpy()"
   ]
  },
  {
   "cell_type": "code",
   "execution_count": 704,
   "metadata": {},
   "outputs": [
    {
     "data": {
      "text/plain": [
       "Parameter containing:\n",
       "tensor([[-0.3362],\n",
       "        [ 0.5151],\n",
       "        [-0.0321],\n",
       "        [ 0.0000],\n",
       "        [ 0.0000],\n",
       "        [ 0.0000],\n",
       "        [ 0.2387],\n",
       "        [ 0.3276],\n",
       "        [-0.1778],\n",
       "        [-0.3967],\n",
       "        [ 0.4130],\n",
       "        [ 0.4804]], requires_grad=True)"
      ]
     },
     "execution_count": 704,
     "metadata": {},
     "output_type": "execute_result"
    }
   ],
   "source": [
    "rnn.weight_ih_l0"
   ]
  },
  {
   "cell_type": "code",
   "execution_count": 703,
   "metadata": {},
   "outputs": [
    {
     "data": {
      "text/plain": [
       "tensor([[-0.3362],\n",
       "        [ 0.5151],\n",
       "        [-0.0321]])"
      ]
     },
     "execution_count": 703,
     "metadata": {},
     "output_type": "execute_result"
    }
   ],
   "source": [
    "rnn.weight_ih_l0.data[:3] # By using the following method we can target out the data in every specific gate \n",
    "                          # as the parameter weight_ih_l0 would give you a combination of all weights\n"
   ]
  },
  {
   "cell_type": "markdown",
   "metadata": {},
   "source": [
    "### EXAMPLE PYTORCH USING EMBEDDINGS"
   ]
  },
  {
   "cell_type": "code",
   "execution_count": 923,
   "metadata": {},
   "outputs": [],
   "source": [
    "vocab=[\"This is unnatural of anyone to think this is strange, but is weird\"]"
   ]
  },
  {
   "cell_type": "code",
   "execution_count": 924,
   "metadata": {},
   "outputs": [],
   "source": [
    "vocab1=[\"Flower power\"]"
   ]
  },
  {
   "cell_type": "code",
   "execution_count": 925,
   "metadata": {},
   "outputs": [],
   "source": [
    "vocab2=[\"We re unnatural and stupid\"]"
   ]
  },
  {
   "cell_type": "code",
   "execution_count": 926,
   "metadata": {},
   "outputs": [],
   "source": [
    "vocab3=[\"This is stupendously ingregious\"]"
   ]
  },
  {
   "cell_type": "code",
   "execution_count": 355,
   "metadata": {},
   "outputs": [],
   "source": [
    "Vocab_master=\"\"\"Good evening, London. Allow me first to apologize for this interruption. I do, like many of you, appreciate the comforts of every day routine - the security of the familiar, the tranquility of repetition. I enjoy them as much as any bloke. But in the spirit of commemoration, thereby those important events of the past usually associated with someone's death or the end of some awful bloody struggle, a celebration of a nice holiday, I thought we could mark this November the 5th, a day that is sadly no longer remembered, by taking some time out of our daily lives to sit down and have a little chat.\n",
    "\n",
    "There are of course those who do not want us to speak. I suspect even now, orders are being shouted into telephones, and men with guns will soon be on their way. Why? Because while the truncheon may be used in lieu of conversation, words will always retain their power. Words offer the means to meaning, and for those who will listen, the enunciation of truth. And the truth is, there is something terribly wrong with this country, isn't there?\n",
    "\n",
    "Cruelty and injustice, intolerance and oppression. And where once you had the freedom to object, to think and speak as you saw fit, you now have censors and systems of surveillance coercing your conformity and soliciting your submission. How did this happen? Who's to blame? Well certainly there are those who are more responsible than others, and they will be held accountable, but again truth be told, if you're looking for the guilty, you need only look into a mirror.\n",
    "\n",
    "I know why you did it. I know you were afraid. Who wouldn't be? War, terror, disease. There were a myriad of problems which conspired to corrupt your reason and rob you of your common sense. Fear got the best of you, and in your panic you turned to the now high chancellor, Adam Sutler. He promised you order, he promised you peace, and all he demanded in return was your silent, obedient consent. Last night, I sought to end that silence. Last night, I destroyed the Old Bailey, to remind this country of what it has forgotten. More than four hundred years ago, a great citizen wished to embed the 5th of November forever in our memory. His hope was to remind the world that fairness, justice, and freedom are more than words - they are perspectives. So if you've seen nothing, if the crimes of this government remain unknown to you, then I would suggest you allow the 5th of November to pass unmarked.\n",
    "\n",
    "But if you see what I see, if you feel as I feel, and if you would seek as I seek, then I ask you to stand beside me one year from tonight, outside the gates of Parliament, and together we shall give them a 5th of November that shall never, ever be forgot.\n",
    "\n",
    "\"\"\"\n",
    "\n"
   ]
  },
  {
   "cell_type": "code",
   "execution_count": 356,
   "metadata": {},
   "outputs": [
    {
     "data": {
      "text/plain": [
       "\"Good evening, London. Allow me first to apologize for this interruption. I do, like many of you, appreciate the comforts of every day routine - the security of the familiar, the tranquility of repetition. I enjoy them as much as any bloke. But in the spirit of commemoration, thereby those important events of the past usually associated with someone's death or the end of some awful bloody struggle, a celebration of a nice holiday, I thought we could mark this November the 5th, a day that is sadly no longer remembered, by taking some time out of our daily lives to sit down and have a little chat.\\n\\nThere are of course those who do not want us to speak. I suspect even now, orders are being shouted into telephones, and men with guns will soon be on their way. Why? Because while the truncheon may be used in lieu of conversation, words will always retain their power. Words offer the means to meaning, and for those who will listen, the enunciation of truth. And the truth is, there is something terribly wrong with this country, isn't there?\\n\\nCruelty and injustice, intolerance and oppression. And where once you had the freedom to object, to think and speak as you saw fit, you now have censors and systems of surveillance coercing your conformity and soliciting your submission. How did this happen? Who's to blame? Well certainly there are those who are more responsible than others, and they will be held accountable, but again truth be told, if you're looking for the guilty, you need only look into a mirror.\\n\\nI know why you did it. I know you were afraid. Who wouldn't be? War, terror, disease. There were a myriad of problems which conspired to corrupt your reason and rob you of your common sense. Fear got the best of you, and in your panic you turned to the now high chancellor, Adam Sutler. He promised you order, he promised you peace, and all he demanded in return was your silent, obedient consent. Last night, I sought to end that silence. Last night, I destroyed the Old Bailey, to remind this country of what it has forgotten. More than four hundred years ago, a great citizen wished to embed the 5th of November forever in our memory. His hope was to remind the world that fairness, justice, and freedom are more than words - they are perspectives. So if you've seen nothing, if the crimes of this government remain unknown to you, then I would suggest you allow the 5th of November to pass unmarked.\\n\\nBut if you see what I see, if you feel as I feel, and if you would seek as I seek, then I ask you to stand beside me one year from tonight, outside the gates of Parliament, and together we shall give them a 5th of November that shall never, ever be forgot.\\n\\n\""
      ]
     },
     "execution_count": 356,
     "metadata": {},
     "output_type": "execute_result"
    }
   ],
   "source": [
    "Vocab_master"
   ]
  },
  {
   "cell_type": "code",
   "execution_count": 1294,
   "metadata": {},
   "outputs": [],
   "source": [
    "Vocab_master=\"\"\"What is Data Science The Data Science platform is a dynamically stable environment, given we have a set of methodologies in place to make sure that the maintenance is key #\n",
    "What is Data Scientist A Data Scientist is a person who is capable of interfacing between some business data and a pattern, he works by identifying the pattern and coming up with methods to hone insights out of data#\n",
    "Architect A Data Architect is someone who architects the data in an enterprise, implementing data warehouse solutions for streamlined transfer of data#\n",
    "\"\"\""
   ]
  },
  {
   "cell_type": "code",
   "execution_count": 1295,
   "metadata": {},
   "outputs": [],
   "source": [
    "Vocab_master=Vocab_master.lower()"
   ]
  },
  {
   "cell_type": "code",
   "execution_count": 1296,
   "metadata": {},
   "outputs": [],
   "source": [
    "# totals=\"\"\n",
    "# for x in Vocab_master:\n",
    "#     totals=totals+\" \" +x"
   ]
  },
  {
   "cell_type": "code",
   "execution_count": 1297,
   "metadata": {},
   "outputs": [],
   "source": [
    "# totals"
   ]
  },
  {
   "cell_type": "code",
   "execution_count": 1298,
   "metadata": {},
   "outputs": [],
   "source": [
    "vocab_size=len(Vocab_master)"
   ]
  },
  {
   "cell_type": "code",
   "execution_count": 1299,
   "metadata": {},
   "outputs": [],
   "source": [
    "words=Vocab_master.split()"
   ]
  },
  {
   "cell_type": "code",
   "execution_count": 1300,
   "metadata": {},
   "outputs": [],
   "source": [
    "from collections import Counter"
   ]
  },
  {
   "cell_type": "code",
   "execution_count": 1301,
   "metadata": {},
   "outputs": [
    {
     "name": "stdout",
     "output_type": "stream",
     "text": [
      "data 8\n",
      "is 7\n",
      "a 6\n",
      "the 4\n",
      "of 4\n",
      "what 2\n",
      "science 2\n",
      "in 2\n",
      "to 2\n",
      "scientist 2\n",
      "who 2\n",
      "and 2\n",
      "data# 2\n",
      "architect 2\n",
      "platform 1\n",
      "dynamically 1\n",
      "stable 1\n",
      "environment, 1\n",
      "given 1\n",
      "we 1\n",
      "have 1\n",
      "set 1\n",
      "methodologies 1\n",
      "place 1\n",
      "make 1\n",
      "sure 1\n",
      "that 1\n",
      "maintenance 1\n",
      "key 1\n",
      "# 1\n",
      "person 1\n",
      "capable 1\n",
      "interfacing 1\n",
      "between 1\n",
      "some 1\n",
      "business 1\n",
      "pattern, 1\n",
      "he 1\n",
      "works 1\n",
      "by 1\n",
      "identifying 1\n",
      "pattern 1\n",
      "coming 1\n",
      "up 1\n",
      "with 1\n",
      "methods 1\n",
      "hone 1\n",
      "insights 1\n",
      "out 1\n",
      "someone 1\n",
      "architects 1\n",
      "an 1\n",
      "enterprise, 1\n",
      "implementing 1\n",
      "warehouse 1\n",
      "solutions 1\n",
      "for 1\n",
      "streamlined 1\n",
      "transfer 1\n"
     ]
    }
   ],
   "source": [
    "for x,y in Counter(Vocab_master.split()).most_common():\n",
    "    print(x,y)"
   ]
  },
  {
   "cell_type": "code",
   "execution_count": 1302,
   "metadata": {},
   "outputs": [],
   "source": [
    "dict={}\n",
    "for x,i in enumerate(list(set(Vocab_master.split()))):\n",
    "     dict[i]=x"
   ]
  },
  {
   "cell_type": "code",
   "execution_count": 1303,
   "metadata": {},
   "outputs": [
    {
     "data": {
      "text/plain": [
       "{'streamlined': 0,\n",
       " 'interfacing': 1,\n",
       " 'for': 2,\n",
       " 'given': 3,\n",
       " 'works': 4,\n",
       " 'architects': 5,\n",
       " 'sure': 6,\n",
       " 'set': 7,\n",
       " 'data': 8,\n",
       " 'architect': 9,\n",
       " 'platform': 10,\n",
       " 'pattern,': 11,\n",
       " 'identifying': 12,\n",
       " 'with': 13,\n",
       " 'methods': 14,\n",
       " 'stable': 15,\n",
       " '#': 16,\n",
       " 'an': 17,\n",
       " 'solutions': 18,\n",
       " 'implementing': 19,\n",
       " 'business': 20,\n",
       " 'we': 21,\n",
       " 'place': 22,\n",
       " 'to': 23,\n",
       " 'who': 24,\n",
       " 'the': 25,\n",
       " 'dynamically': 26,\n",
       " 'have': 27,\n",
       " 'environment,': 28,\n",
       " 'science': 29,\n",
       " 'pattern': 30,\n",
       " 'make': 31,\n",
       " 'warehouse': 32,\n",
       " 'maintenance': 33,\n",
       " 'and': 34,\n",
       " 'transfer': 35,\n",
       " 'he': 36,\n",
       " 'is': 37,\n",
       " 'key': 38,\n",
       " 'enterprise,': 39,\n",
       " 'that': 40,\n",
       " 'of': 41,\n",
       " 'coming': 42,\n",
       " 'person': 43,\n",
       " 'capable': 44,\n",
       " 'insights': 45,\n",
       " 'what': 46,\n",
       " 'someone': 47,\n",
       " 'a': 48,\n",
       " 'between': 49,\n",
       " 'some': 50,\n",
       " 'hone': 51,\n",
       " 'up': 52,\n",
       " 'methodologies': 53,\n",
       " 'in': 54,\n",
       " 'data#': 55,\n",
       " 'scientist': 56,\n",
       " 'by': 57,\n",
       " 'out': 58}"
      ]
     },
     "execution_count": 1303,
     "metadata": {},
     "output_type": "execute_result"
    }
   ],
   "source": [
    "dict"
   ]
  },
  {
   "cell_type": "code",
   "execution_count": 1304,
   "metadata": {},
   "outputs": [
    {
     "data": {
      "text/plain": [
       "59"
      ]
     },
     "execution_count": 1304,
     "metadata": {},
     "output_type": "execute_result"
    }
   ],
   "source": [
    "vocab_size=len(dict.keys())\n",
    "vocab_size"
   ]
  },
  {
   "cell_type": "code",
   "execution_count": 1305,
   "metadata": {
    "scrolled": true
   },
   "outputs": [
    {
     "name": "stdout",
     "output_type": "stream",
     "text": [
      "('streamlined', 0)\n",
      "('interfacing', 1)\n",
      "('for', 2)\n",
      "('given', 3)\n",
      "('works', 4)\n",
      "('architects', 5)\n",
      "('sure', 6)\n",
      "('set', 7)\n",
      "('data', 8)\n",
      "('architect', 9)\n",
      "('platform', 10)\n",
      "('pattern,', 11)\n",
      "('identifying', 12)\n",
      "('with', 13)\n",
      "('methods', 14)\n",
      "('stable', 15)\n",
      "('#', 16)\n",
      "('an', 17)\n",
      "('solutions', 18)\n",
      "('implementing', 19)\n",
      "('business', 20)\n",
      "('we', 21)\n",
      "('place', 22)\n",
      "('to', 23)\n",
      "('who', 24)\n",
      "('the', 25)\n",
      "('dynamically', 26)\n",
      "('have', 27)\n",
      "('environment,', 28)\n",
      "('science', 29)\n",
      "('pattern', 30)\n",
      "('make', 31)\n",
      "('warehouse', 32)\n",
      "('maintenance', 33)\n",
      "('and', 34)\n",
      "('transfer', 35)\n",
      "('he', 36)\n",
      "('is', 37)\n",
      "('key', 38)\n",
      "('enterprise,', 39)\n",
      "('that', 40)\n",
      "('of', 41)\n",
      "('coming', 42)\n",
      "('person', 43)\n",
      "('capable', 44)\n",
      "('insights', 45)\n",
      "('what', 46)\n",
      "('someone', 47)\n",
      "('a', 48)\n",
      "('between', 49)\n",
      "('some', 50)\n",
      "('hone', 51)\n",
      "('up', 52)\n",
      "('methodologies', 53)\n",
      "('in', 54)\n",
      "('data#', 55)\n",
      "('scientist', 56)\n",
      "('by', 57)\n",
      "('out', 58)\n"
     ]
    }
   ],
   "source": [
    "for y in dict.items():\n",
    "    print(y)"
   ]
  },
  {
   "cell_type": "code",
   "execution_count": 1306,
   "metadata": {},
   "outputs": [],
   "source": [
    "\n",
    "Encoded=([y[1] for x in Vocab_master.split() for y in dict.items() if x==y[0] ])\n",
    "    "
   ]
  },
  {
   "cell_type": "code",
   "execution_count": 1307,
   "metadata": {},
   "outputs": [
    {
     "data": {
      "text/plain": [
       "[46,\n",
       " 37,\n",
       " 8,\n",
       " 29,\n",
       " 25,\n",
       " 8,\n",
       " 29,\n",
       " 10,\n",
       " 37,\n",
       " 48,\n",
       " 26,\n",
       " 15,\n",
       " 28,\n",
       " 3,\n",
       " 21,\n",
       " 27,\n",
       " 48,\n",
       " 7,\n",
       " 41,\n",
       " 53,\n",
       " 54,\n",
       " 22,\n",
       " 23,\n",
       " 31,\n",
       " 6,\n",
       " 40,\n",
       " 25,\n",
       " 33,\n",
       " 37,\n",
       " 38,\n",
       " 16,\n",
       " 46,\n",
       " 37,\n",
       " 8,\n",
       " 56,\n",
       " 48,\n",
       " 8,\n",
       " 56,\n",
       " 37,\n",
       " 48,\n",
       " 43,\n",
       " 24,\n",
       " 37,\n",
       " 44,\n",
       " 41,\n",
       " 1,\n",
       " 49,\n",
       " 50,\n",
       " 20,\n",
       " 8,\n",
       " 34,\n",
       " 48,\n",
       " 11,\n",
       " 36,\n",
       " 4,\n",
       " 57,\n",
       " 12,\n",
       " 25,\n",
       " 30,\n",
       " 34,\n",
       " 42,\n",
       " 52,\n",
       " 13,\n",
       " 14,\n",
       " 23,\n",
       " 51,\n",
       " 45,\n",
       " 58,\n",
       " 41,\n",
       " 55,\n",
       " 9,\n",
       " 48,\n",
       " 8,\n",
       " 9,\n",
       " 37,\n",
       " 47,\n",
       " 24,\n",
       " 5,\n",
       " 25,\n",
       " 8,\n",
       " 54,\n",
       " 17,\n",
       " 39,\n",
       " 19,\n",
       " 8,\n",
       " 32,\n",
       " 18,\n",
       " 2,\n",
       " 0,\n",
       " 35,\n",
       " 41,\n",
       " 55]"
      ]
     },
     "execution_count": 1307,
     "metadata": {},
     "output_type": "execute_result"
    }
   ],
   "source": [
    "Encoded"
   ]
  },
  {
   "cell_type": "code",
   "execution_count": 1308,
   "metadata": {},
   "outputs": [],
   "source": [
    "#Padding sentences"
   ]
  },
  {
   "cell_type": "code",
   "execution_count": 1309,
   "metadata": {},
   "outputs": [],
   "source": [
    "# for x in Encoded:\n",
    "#     x.extend([0]*(13-len(x)))"
   ]
  },
  {
   "cell_type": "markdown",
   "metadata": {},
   "source": [
    "## Creating batches"
   ]
  },
  {
   "cell_type": "code",
   "execution_count": 1312,
   "metadata": {},
   "outputs": [],
   "source": [
    "Train_x=[]\n",
    "label_y=[]\n",
    "def batch_maker():\n",
    "    n=4\n",
    "    k=0\n",
    "    for term in range(len(Encoded)):\n",
    "        \n",
    "        Train_x.append(Encoded[k:n])\n",
    "        label_y.append(Encoded[n:n+1])\n",
    "        n=n+1\n",
    "        k=k+1\n",
    "\n",
    "batch_maker()"
   ]
  },
  {
   "cell_type": "markdown",
   "metadata": {},
   "source": [
    "## Padding sequences"
   ]
  },
  {
   "cell_type": "code",
   "execution_count": 1313,
   "metadata": {},
   "outputs": [
    {
     "name": "stdout",
     "output_type": "stream",
     "text": [
      "[35, 41, 55]\n",
      "[35, 41, 55, 0, 0]\n",
      "[41, 55]\n",
      "[41, 55, 0, 0, 0]\n",
      "[55]\n",
      "[55, 0, 0, 0, 0]\n"
     ]
    }
   ],
   "source": [
    "for t in range(len(Train_x)):\n",
    "    if len(Train_x[t])<4:\n",
    "        print(Train_x[t])\n",
    "        s=5-len(Train_x[t])\n",
    "        Train_x[t].extend([0]*s)\n",
    "        print(Train_x[t])\n",
    "            \n",
    "            "
   ]
  },
  {
   "cell_type": "markdown",
   "metadata": {},
   "source": [
    "## Getting rid of missing data points"
   ]
  },
  {
   "cell_type": "code",
   "execution_count": 1314,
   "metadata": {},
   "outputs": [],
   "source": [
    "label_y=label_y[:-4]\n",
    "Train_x=Train_x[:-4]"
   ]
  },
  {
   "cell_type": "code",
   "execution_count": 1315,
   "metadata": {},
   "outputs": [
    {
     "data": {
      "text/plain": [
       "([2, 0, 35, 41], [18, 2, 0, 35], [32, 18, 2, 0])"
      ]
     },
     "execution_count": 1315,
     "metadata": {},
     "output_type": "execute_result"
    }
   ],
   "source": [
    "Train_x[-1],Train_x[-2],Train_x[-3]\n"
   ]
  },
  {
   "cell_type": "code",
   "execution_count": 1316,
   "metadata": {},
   "outputs": [
    {
     "data": {
      "text/plain": [
       "([46, 37, 8, 29], [25], [37, 8, 29, 25], [8])"
      ]
     },
     "execution_count": 1316,
     "metadata": {},
     "output_type": "execute_result"
    }
   ],
   "source": [
    "Train_x[0], label_y[0],Train_x[1], label_y[1]"
   ]
  },
  {
   "cell_type": "code",
   "execution_count": 1317,
   "metadata": {},
   "outputs": [],
   "source": [
    "a1=[1,2,3]\n",
    "a1.extend([0]*2)"
   ]
  },
  {
   "cell_type": "code",
   "execution_count": 1318,
   "metadata": {},
   "outputs": [
    {
     "data": {
      "text/plain": [
       "[1, 2, 3, 0, 0]"
      ]
     },
     "execution_count": 1318,
     "metadata": {},
     "output_type": "execute_result"
    }
   ],
   "source": [
    "a1"
   ]
  },
  {
   "cell_type": "code",
   "execution_count": 1319,
   "metadata": {},
   "outputs": [
    {
     "data": {
      "text/plain": [
       "[[25],\n",
       " [8],\n",
       " [29],\n",
       " [10],\n",
       " [37],\n",
       " [48],\n",
       " [26],\n",
       " [15],\n",
       " [28],\n",
       " [3],\n",
       " [21],\n",
       " [27],\n",
       " [48],\n",
       " [7],\n",
       " [41],\n",
       " [53],\n",
       " [54],\n",
       " [22],\n",
       " [23],\n",
       " [31],\n",
       " [6],\n",
       " [40],\n",
       " [25],\n",
       " [33],\n",
       " [37],\n",
       " [38],\n",
       " [16],\n",
       " [46],\n",
       " [37],\n",
       " [8],\n",
       " [56],\n",
       " [48],\n",
       " [8],\n",
       " [56],\n",
       " [37],\n",
       " [48],\n",
       " [43],\n",
       " [24],\n",
       " [37],\n",
       " [44],\n",
       " [41],\n",
       " [1],\n",
       " [49],\n",
       " [50],\n",
       " [20],\n",
       " [8],\n",
       " [34],\n",
       " [48],\n",
       " [11],\n",
       " [36],\n",
       " [4],\n",
       " [57],\n",
       " [12],\n",
       " [25],\n",
       " [30],\n",
       " [34],\n",
       " [42],\n",
       " [52],\n",
       " [13],\n",
       " [14],\n",
       " [23],\n",
       " [51],\n",
       " [45],\n",
       " [58],\n",
       " [41],\n",
       " [55],\n",
       " [9],\n",
       " [48],\n",
       " [8],\n",
       " [9],\n",
       " [37],\n",
       " [47],\n",
       " [24],\n",
       " [5],\n",
       " [25],\n",
       " [8],\n",
       " [54],\n",
       " [17],\n",
       " [39],\n",
       " [19],\n",
       " [8],\n",
       " [32],\n",
       " [18],\n",
       " [2],\n",
       " [0],\n",
       " [35],\n",
       " [41],\n",
       " [55]]"
      ]
     },
     "execution_count": 1319,
     "metadata": {},
     "output_type": "execute_result"
    }
   ],
   "source": [
    "label_y"
   ]
  },
  {
   "cell_type": "code",
   "execution_count": 1320,
   "metadata": {},
   "outputs": [],
   "source": [
    "from torch.utils.data import DataLoader"
   ]
  },
  {
   "cell_type": "code",
   "execution_count": 1321,
   "metadata": {},
   "outputs": [],
   "source": [
    "# Train=DataLoader(Encoded,batch_size=5)"
   ]
  },
  {
   "cell_type": "code",
   "execution_count": 1322,
   "metadata": {},
   "outputs": [],
   "source": [
    "# label=[]\n",
    "# # for x in Train:\n",
    "#     print(x)\n",
    "#     label.append(x[0].detach().numpy().tolist())"
   ]
  },
  {
   "cell_type": "code",
   "execution_count": 1335,
   "metadata": {},
   "outputs": [
    {
     "data": {
      "text/plain": [
       "([2, 0, 35, 41], [55])"
      ]
     },
     "execution_count": 1335,
     "metadata": {},
     "output_type": "execute_result"
    }
   ],
   "source": [
    "# label=label[1:]\n",
    "# label=torch.tensor(label, dtype=float)\n",
    "# label\n",
    "Train_x[-1],label_y[-1]"
   ]
  },
  {
   "cell_type": "code",
   "execution_count": 1324,
   "metadata": {},
   "outputs": [
    {
     "data": {
      "text/plain": [
       "59"
      ]
     },
     "execution_count": 1324,
     "metadata": {},
     "output_type": "execute_result"
    }
   ],
   "source": [
    "#vocab_size= len(Encoded)\n",
    "vocab_size"
   ]
  },
  {
   "cell_type": "code",
   "execution_count": 330,
   "metadata": {},
   "outputs": [],
   "source": [
    "class Pytorchisawesome(nn.Module):\n",
    "    def __init__(self):\n",
    "        super().__init__()\n",
    "        self.embed = nn.Embedding(vocab_size, 50)\n",
    "        self.lstm = nn.LSTM(50,60,1,bidirectional=True)\n",
    "        self.L1=nn.Linear(120,vocab_size)\n",
    "        self.hidden = (torch.randn(2,2,60),torch.randn(2,2,60))\n",
    "        #self.L2= nn.Linear(293,293)\n",
    "        \n",
    "    def forward(self,x):\n",
    "        x=self.embed(x)\n",
    "        #print(x.shape)\n",
    "        #print(x.view(5,5,-1))\n",
    "        #print(x.view(1,5,-1))\n",
    "        #print(self.hidden.shape)\n",
    "        output, hidden = self.lstm(x.view(2,2,-1), self.hidden)\n",
    "        #print(output.shape)\n",
    "        #print(f\"Printing output of LSTM layer {output.shape}\")\n",
    "        final = self.L1(output.view(len(x),-1))\n",
    "        #print(f\"Printing shape of Final layer before softmax {final.shape}\")\n",
    "        log_probs = F.log_softmax(final, dim=1)\n",
    "        \n",
    "        #print(f\"Printing log probability {log_probs[-1]}\")\n",
    "        #print(log_probs.shape)\n",
    "        #rel=self.L2(log_probs.view(5,-1))\n",
    "        #print(f\"Printing REL {rel}\")\n",
    "        return log_probs[-1]\n",
    "        \n",
    "        \n",
    "        \n",
    "        \n",
    "\n",
    "\n"
   ]
  },
  {
   "cell_type": "code",
   "execution_count": 332,
   "metadata": {},
   "outputs": [],
   "source": [
    "#model=Pytorchisawesome()"
   ]
  },
  {
   "cell_type": "code",
   "execution_count": 1467,
   "metadata": {},
   "outputs": [],
   "source": [
    "loss_function = nn.CrossEntropyLoss()\n",
    "optimizer = optim.SGD(model.parameters(), lr=0.001)"
   ]
  },
  {
   "cell_type": "code",
   "execution_count": 1468,
   "metadata": {},
   "outputs": [
    {
     "data": {
      "text/plain": [
       "Pytorchisawesome(\n",
       "  (embed): Embedding(59, 50)\n",
       "  (lstm): LSTM(50, 60, bidirectional=True)\n",
       "  (L1): Linear(in_features=120, out_features=59, bias=True)\n",
       ")"
      ]
     },
     "execution_count": 1468,
     "metadata": {},
     "output_type": "execute_result"
    }
   ],
   "source": [
    "model"
   ]
  },
  {
   "cell_type": "code",
   "execution_count": 1469,
   "metadata": {},
   "outputs": [
    {
     "data": {
      "text/plain": [
       "(88, 88)"
      ]
     },
     "execution_count": 1469,
     "metadata": {},
     "output_type": "execute_result"
    }
   ],
   "source": [
    "# for x in Train_x:\n",
    "#     print(torch.FloatTensor(x))\n",
    "#     break\n",
    "len(Train_x),len(label_y)"
   ]
  },
  {
   "cell_type": "code",
   "execution_count": 1470,
   "metadata": {},
   "outputs": [
    {
     "data": {
      "text/plain": [
       "59"
      ]
     },
     "execution_count": 1470,
     "metadata": {},
     "output_type": "execute_result"
    }
   ],
   "source": [
    "vocab_size"
   ]
  },
  {
   "cell_type": "code",
   "execution_count": 1471,
   "metadata": {},
   "outputs": [],
   "source": [
    "# s1=[1,2,3]\n",
    "# sum(s1)"
   ]
  },
  {
   "cell_type": "code",
   "execution_count": 1473,
   "metadata": {},
   "outputs": [
    {
     "name": "stdout",
     "output_type": "stream",
     "text": [
      "0.0\n",
      "tensor(5.3545, grad_fn=<DivBackward0>)\n",
      "tensor(5.3487, grad_fn=<DivBackward0>)\n",
      "tensor(5.3430, grad_fn=<DivBackward0>)\n",
      "tensor(5.3373, grad_fn=<DivBackward0>)\n",
      "tensor(5.3315, grad_fn=<DivBackward0>)\n",
      "tensor(5.3257, grad_fn=<DivBackward0>)\n",
      "tensor(5.3199, grad_fn=<DivBackward0>)\n",
      "tensor(5.3140, grad_fn=<DivBackward0>)\n",
      "tensor(5.3082, grad_fn=<DivBackward0>)\n",
      "tensor(5.3023, grad_fn=<DivBackward0>)\n",
      "tensor(5.2964, grad_fn=<DivBackward0>)\n",
      "tensor(5.2904, grad_fn=<DivBackward0>)\n",
      "tensor(5.2845, grad_fn=<DivBackward0>)\n",
      "tensor(5.2785, grad_fn=<DivBackward0>)\n",
      "tensor(5.2724, grad_fn=<DivBackward0>)\n",
      "tensor(5.2664, grad_fn=<DivBackward0>)\n",
      "tensor(5.2603, grad_fn=<DivBackward0>)\n",
      "tensor(5.2542, grad_fn=<DivBackward0>)\n",
      "tensor(5.2480, grad_fn=<DivBackward0>)\n",
      "tensor(5.2418, grad_fn=<DivBackward0>)\n",
      "tensor(5.2356, grad_fn=<DivBackward0>)\n",
      "tensor(5.2294, grad_fn=<DivBackward0>)\n",
      "tensor(5.2231, grad_fn=<DivBackward0>)\n",
      "tensor(5.2167, grad_fn=<DivBackward0>)\n",
      "tensor(5.2104, grad_fn=<DivBackward0>)\n",
      "tensor(5.2040, grad_fn=<DivBackward0>)\n",
      "tensor(5.1975, grad_fn=<DivBackward0>)\n",
      "tensor(5.1910, grad_fn=<DivBackward0>)\n",
      "tensor(5.1845, grad_fn=<DivBackward0>)\n",
      "tensor(5.1780, grad_fn=<DivBackward0>)\n",
      "tensor(5.1714, grad_fn=<DivBackward0>)\n",
      "tensor(5.1647, grad_fn=<DivBackward0>)\n",
      "tensor(5.1581, grad_fn=<DivBackward0>)\n",
      "tensor(5.1513, grad_fn=<DivBackward0>)\n",
      "tensor(5.1446, grad_fn=<DivBackward0>)\n",
      "tensor(5.1378, grad_fn=<DivBackward0>)\n",
      "tensor(5.1309, grad_fn=<DivBackward0>)\n",
      "tensor(5.1240, grad_fn=<DivBackward0>)\n",
      "tensor(5.1171, grad_fn=<DivBackward0>)\n",
      "tensor(5.1101, grad_fn=<DivBackward0>)\n",
      "tensor(5.1030, grad_fn=<DivBackward0>)\n",
      "tensor(5.0959, grad_fn=<DivBackward0>)\n",
      "tensor(5.0888, grad_fn=<DivBackward0>)\n",
      "tensor(5.0816, grad_fn=<DivBackward0>)\n",
      "tensor(5.0744, grad_fn=<DivBackward0>)\n",
      "tensor(5.0671, grad_fn=<DivBackward0>)\n",
      "tensor(5.0598, grad_fn=<DivBackward0>)\n",
      "tensor(5.0524, grad_fn=<DivBackward0>)\n",
      "tensor(5.0450, grad_fn=<DivBackward0>)\n",
      "tensor(5.0376, grad_fn=<DivBackward0>)\n",
      "tensor(5.0300, grad_fn=<DivBackward0>)\n",
      "tensor(5.0225, grad_fn=<DivBackward0>)\n",
      "tensor(5.0148, grad_fn=<DivBackward0>)\n",
      "tensor(5.0071, grad_fn=<DivBackward0>)\n",
      "tensor(4.9994, grad_fn=<DivBackward0>)\n",
      "tensor(4.9916, grad_fn=<DivBackward0>)\n",
      "tensor(4.9838, grad_fn=<DivBackward0>)\n",
      "tensor(4.9759, grad_fn=<DivBackward0>)\n",
      "tensor(4.9679, grad_fn=<DivBackward0>)\n",
      "tensor(4.9599, grad_fn=<DivBackward0>)\n",
      "tensor(4.9519, grad_fn=<DivBackward0>)\n",
      "tensor(4.9438, grad_fn=<DivBackward0>)\n",
      "tensor(4.9356, grad_fn=<DivBackward0>)\n",
      "tensor(4.9274, grad_fn=<DivBackward0>)\n",
      "tensor(4.9191, grad_fn=<DivBackward0>)\n",
      "tensor(4.9108, grad_fn=<DivBackward0>)\n",
      "tensor(4.9024, grad_fn=<DivBackward0>)\n",
      "tensor(4.8939, grad_fn=<DivBackward0>)\n",
      "tensor(4.8854, grad_fn=<DivBackward0>)\n",
      "tensor(4.8768, grad_fn=<DivBackward0>)\n",
      "tensor(4.8682, grad_fn=<DivBackward0>)\n",
      "tensor(4.8595, grad_fn=<DivBackward0>)\n",
      "tensor(4.8508, grad_fn=<DivBackward0>)\n",
      "tensor(4.8419, grad_fn=<DivBackward0>)\n",
      "tensor(4.8331, grad_fn=<DivBackward0>)\n",
      "tensor(4.8242, grad_fn=<DivBackward0>)\n",
      "tensor(4.8152, grad_fn=<DivBackward0>)\n",
      "tensor(4.8061, grad_fn=<DivBackward0>)\n",
      "tensor(4.7970, grad_fn=<DivBackward0>)\n",
      "tensor(4.7878, grad_fn=<DivBackward0>)\n",
      "tensor(4.7786, grad_fn=<DivBackward0>)\n",
      "tensor(4.7693, grad_fn=<DivBackward0>)\n",
      "tensor(4.7600, grad_fn=<DivBackward0>)\n",
      "tensor(4.7506, grad_fn=<DivBackward0>)\n",
      "tensor(4.7411, grad_fn=<DivBackward0>)\n",
      "tensor(4.7316, grad_fn=<DivBackward0>)\n",
      "tensor(4.7220, grad_fn=<DivBackward0>)\n",
      "tensor(4.7123, grad_fn=<DivBackward0>)\n",
      "tensor(4.7026, grad_fn=<DivBackward0>)\n",
      "tensor(4.6928, grad_fn=<DivBackward0>)\n",
      "tensor(4.6829, grad_fn=<DivBackward0>)\n",
      "tensor(4.6730, grad_fn=<DivBackward0>)\n",
      "tensor(4.6631, grad_fn=<DivBackward0>)\n",
      "tensor(4.6530, grad_fn=<DivBackward0>)\n",
      "tensor(4.6429, grad_fn=<DivBackward0>)\n",
      "tensor(4.6328, grad_fn=<DivBackward0>)\n",
      "tensor(4.6226, grad_fn=<DivBackward0>)\n",
      "tensor(4.6123, grad_fn=<DivBackward0>)\n",
      "tensor(4.6019, grad_fn=<DivBackward0>)\n",
      "tensor(4.5915, grad_fn=<DivBackward0>)\n",
      "tensor(4.5811, grad_fn=<DivBackward0>)\n",
      "tensor(4.5705, grad_fn=<DivBackward0>)\n",
      "tensor(4.5599, grad_fn=<DivBackward0>)\n",
      "tensor(4.5493, grad_fn=<DivBackward0>)\n",
      "tensor(4.5386, grad_fn=<DivBackward0>)\n",
      "tensor(4.5278, grad_fn=<DivBackward0>)\n",
      "tensor(4.5170, grad_fn=<DivBackward0>)\n",
      "tensor(4.5061, grad_fn=<DivBackward0>)\n",
      "tensor(4.4951, grad_fn=<DivBackward0>)\n",
      "tensor(4.4841, grad_fn=<DivBackward0>)\n",
      "tensor(4.4730, grad_fn=<DivBackward0>)\n",
      "tensor(4.4619, grad_fn=<DivBackward0>)\n",
      "tensor(4.4507, grad_fn=<DivBackward0>)\n",
      "tensor(4.4394, grad_fn=<DivBackward0>)\n",
      "tensor(4.4281, grad_fn=<DivBackward0>)\n",
      "tensor(4.4167, grad_fn=<DivBackward0>)\n",
      "tensor(4.4053, grad_fn=<DivBackward0>)\n",
      "tensor(4.3938, grad_fn=<DivBackward0>)\n",
      "tensor(4.3822, grad_fn=<DivBackward0>)\n",
      "tensor(4.3706, grad_fn=<DivBackward0>)\n",
      "tensor(4.3590, grad_fn=<DivBackward0>)\n",
      "tensor(4.3472, grad_fn=<DivBackward0>)\n",
      "tensor(4.3355, grad_fn=<DivBackward0>)\n",
      "tensor(4.3236, grad_fn=<DivBackward0>)\n",
      "tensor(4.3117, grad_fn=<DivBackward0>)\n",
      "tensor(4.2998, grad_fn=<DivBackward0>)\n",
      "tensor(4.2878, grad_fn=<DivBackward0>)\n",
      "tensor(4.2757, grad_fn=<DivBackward0>)\n",
      "tensor(4.2636, grad_fn=<DivBackward0>)\n",
      "tensor(4.2514, grad_fn=<DivBackward0>)\n",
      "tensor(4.2392, grad_fn=<DivBackward0>)\n",
      "tensor(4.2269, grad_fn=<DivBackward0>)\n",
      "tensor(4.2146, grad_fn=<DivBackward0>)\n",
      "tensor(4.2022, grad_fn=<DivBackward0>)\n",
      "tensor(4.1898, grad_fn=<DivBackward0>)\n",
      "tensor(4.1773, grad_fn=<DivBackward0>)\n",
      "tensor(4.1648, grad_fn=<DivBackward0>)\n",
      "tensor(4.1522, grad_fn=<DivBackward0>)\n",
      "tensor(4.1396, grad_fn=<DivBackward0>)\n",
      "tensor(4.1269, grad_fn=<DivBackward0>)\n",
      "tensor(4.1142, grad_fn=<DivBackward0>)\n",
      "tensor(4.1014, grad_fn=<DivBackward0>)\n",
      "tensor(4.0886, grad_fn=<DivBackward0>)\n",
      "tensor(4.0757, grad_fn=<DivBackward0>)\n",
      "tensor(4.0628, grad_fn=<DivBackward0>)\n",
      "tensor(4.0498, grad_fn=<DivBackward0>)\n",
      "tensor(4.0368, grad_fn=<DivBackward0>)\n",
      "tensor(4.0238, grad_fn=<DivBackward0>)\n",
      "tensor(4.0107, grad_fn=<DivBackward0>)\n",
      "tensor(3.9975, grad_fn=<DivBackward0>)\n",
      "tensor(3.9844, grad_fn=<DivBackward0>)\n",
      "tensor(3.9712, grad_fn=<DivBackward0>)\n",
      "tensor(3.9579, grad_fn=<DivBackward0>)\n",
      "tensor(3.9446, grad_fn=<DivBackward0>)\n",
      "tensor(3.9313, grad_fn=<DivBackward0>)\n",
      "tensor(3.9179, grad_fn=<DivBackward0>)\n",
      "tensor(3.9045, grad_fn=<DivBackward0>)\n",
      "tensor(3.8911, grad_fn=<DivBackward0>)\n",
      "tensor(3.8776, grad_fn=<DivBackward0>)\n",
      "tensor(3.8641, grad_fn=<DivBackward0>)\n",
      "tensor(3.8505, grad_fn=<DivBackward0>)\n",
      "tensor(3.8369, grad_fn=<DivBackward0>)\n",
      "tensor(3.8233, grad_fn=<DivBackward0>)\n",
      "tensor(3.8097, grad_fn=<DivBackward0>)\n",
      "tensor(3.7960, grad_fn=<DivBackward0>)\n",
      "tensor(3.7823, grad_fn=<DivBackward0>)\n",
      "tensor(3.7685, grad_fn=<DivBackward0>)\n",
      "tensor(3.7548, grad_fn=<DivBackward0>)\n",
      "tensor(3.7410, grad_fn=<DivBackward0>)\n",
      "tensor(3.7272, grad_fn=<DivBackward0>)\n",
      "tensor(3.7133, grad_fn=<DivBackward0>)\n",
      "tensor(3.6994, grad_fn=<DivBackward0>)\n",
      "tensor(3.6855, grad_fn=<DivBackward0>)\n",
      "tensor(3.6716, grad_fn=<DivBackward0>)\n",
      "tensor(3.6577, grad_fn=<DivBackward0>)\n",
      "tensor(3.6437, grad_fn=<DivBackward0>)\n",
      "tensor(3.6297, grad_fn=<DivBackward0>)\n",
      "tensor(3.6157, grad_fn=<DivBackward0>)\n",
      "tensor(3.6017, grad_fn=<DivBackward0>)\n",
      "tensor(3.5877, grad_fn=<DivBackward0>)\n",
      "tensor(3.5736, grad_fn=<DivBackward0>)\n",
      "tensor(3.5595, grad_fn=<DivBackward0>)\n",
      "tensor(3.5455, grad_fn=<DivBackward0>)\n",
      "tensor(3.5314, grad_fn=<DivBackward0>)\n",
      "tensor(3.5172, grad_fn=<DivBackward0>)\n",
      "tensor(3.5031, grad_fn=<DivBackward0>)\n",
      "tensor(3.4890, grad_fn=<DivBackward0>)\n",
      "tensor(3.4748, grad_fn=<DivBackward0>)\n",
      "tensor(3.4607, grad_fn=<DivBackward0>)\n",
      "tensor(3.4465, grad_fn=<DivBackward0>)\n",
      "tensor(3.4323, grad_fn=<DivBackward0>)\n",
      "tensor(3.4181, grad_fn=<DivBackward0>)\n",
      "tensor(3.4039, grad_fn=<DivBackward0>)\n",
      "tensor(3.3897, grad_fn=<DivBackward0>)\n",
      "tensor(3.3755, grad_fn=<DivBackward0>)\n",
      "tensor(3.3613, grad_fn=<DivBackward0>)\n",
      "tensor(3.3471, grad_fn=<DivBackward0>)\n",
      "tensor(3.3329, grad_fn=<DivBackward0>)\n",
      "tensor(3.3187, grad_fn=<DivBackward0>)\n",
      "tensor(3.3045, grad_fn=<DivBackward0>)\n",
      "tensor(3.2903, grad_fn=<DivBackward0>)\n",
      "tensor(3.2761, grad_fn=<DivBackward0>)\n",
      "tensor(3.2619, grad_fn=<DivBackward0>)\n",
      "tensor(3.2477, grad_fn=<DivBackward0>)\n",
      "tensor(3.2335, grad_fn=<DivBackward0>)\n",
      "tensor(3.2193, grad_fn=<DivBackward0>)\n",
      "tensor(3.2051, grad_fn=<DivBackward0>)\n",
      "tensor(3.1909, grad_fn=<DivBackward0>)\n",
      "tensor(3.1767, grad_fn=<DivBackward0>)\n",
      "tensor(3.1625, grad_fn=<DivBackward0>)\n",
      "tensor(3.1484, grad_fn=<DivBackward0>)\n",
      "tensor(3.1342, grad_fn=<DivBackward0>)\n",
      "tensor(3.1201, grad_fn=<DivBackward0>)\n",
      "tensor(3.1060, grad_fn=<DivBackward0>)\n",
      "tensor(3.0918, grad_fn=<DivBackward0>)\n",
      "tensor(3.0777, grad_fn=<DivBackward0>)\n",
      "tensor(3.0636, grad_fn=<DivBackward0>)\n",
      "tensor(3.0496, grad_fn=<DivBackward0>)\n",
      "tensor(3.0355, grad_fn=<DivBackward0>)\n",
      "tensor(3.0214, grad_fn=<DivBackward0>)\n",
      "tensor(3.0074, grad_fn=<DivBackward0>)\n",
      "tensor(2.9934, grad_fn=<DivBackward0>)\n",
      "tensor(2.9794, grad_fn=<DivBackward0>)\n",
      "tensor(2.9654, grad_fn=<DivBackward0>)\n",
      "tensor(2.9515, grad_fn=<DivBackward0>)\n",
      "tensor(2.9375, grad_fn=<DivBackward0>)\n",
      "tensor(2.9236, grad_fn=<DivBackward0>)\n",
      "tensor(2.9097, grad_fn=<DivBackward0>)\n",
      "tensor(2.8958, grad_fn=<DivBackward0>)\n",
      "tensor(2.8820, grad_fn=<DivBackward0>)\n",
      "tensor(2.8681, grad_fn=<DivBackward0>)\n",
      "tensor(2.8543, grad_fn=<DivBackward0>)\n",
      "tensor(2.8405, grad_fn=<DivBackward0>)\n",
      "tensor(2.8268, grad_fn=<DivBackward0>)\n",
      "tensor(2.8130, grad_fn=<DivBackward0>)\n",
      "tensor(2.7993, grad_fn=<DivBackward0>)\n",
      "tensor(2.7856, grad_fn=<DivBackward0>)\n",
      "tensor(2.7720, grad_fn=<DivBackward0>)\n",
      "tensor(2.7583, grad_fn=<DivBackward0>)\n",
      "tensor(2.7447, grad_fn=<DivBackward0>)\n",
      "tensor(2.7311, grad_fn=<DivBackward0>)\n",
      "tensor(2.7176, grad_fn=<DivBackward0>)\n",
      "tensor(2.7041, grad_fn=<DivBackward0>)\n",
      "tensor(2.6906, grad_fn=<DivBackward0>)\n",
      "tensor(2.6771, grad_fn=<DivBackward0>)\n",
      "tensor(2.6637, grad_fn=<DivBackward0>)\n",
      "tensor(2.6503, grad_fn=<DivBackward0>)\n",
      "tensor(2.6369, grad_fn=<DivBackward0>)\n",
      "tensor(2.6236, grad_fn=<DivBackward0>)\n",
      "tensor(2.6103, grad_fn=<DivBackward0>)\n",
      "tensor(2.5970, grad_fn=<DivBackward0>)\n",
      "tensor(2.5838, grad_fn=<DivBackward0>)\n",
      "tensor(2.5706, grad_fn=<DivBackward0>)\n",
      "tensor(2.5574, grad_fn=<DivBackward0>)\n",
      "tensor(2.5443, grad_fn=<DivBackward0>)\n",
      "tensor(2.5312, grad_fn=<DivBackward0>)\n",
      "tensor(2.5181, grad_fn=<DivBackward0>)\n",
      "tensor(2.5051, grad_fn=<DivBackward0>)\n",
      "tensor(2.4921, grad_fn=<DivBackward0>)\n",
      "tensor(2.4792, grad_fn=<DivBackward0>)\n",
      "tensor(2.4663, grad_fn=<DivBackward0>)\n",
      "tensor(2.4534, grad_fn=<DivBackward0>)\n",
      "tensor(2.4405, grad_fn=<DivBackward0>)\n",
      "tensor(2.4278, grad_fn=<DivBackward0>)\n",
      "tensor(2.4150, grad_fn=<DivBackward0>)\n",
      "tensor(2.4023, grad_fn=<DivBackward0>)\n",
      "tensor(2.3896, grad_fn=<DivBackward0>)\n",
      "tensor(2.3770, grad_fn=<DivBackward0>)\n",
      "tensor(2.3644, grad_fn=<DivBackward0>)\n",
      "tensor(2.3518, grad_fn=<DivBackward0>)\n",
      "tensor(2.3393, grad_fn=<DivBackward0>)\n",
      "tensor(2.3268, grad_fn=<DivBackward0>)\n",
      "tensor(2.3144, grad_fn=<DivBackward0>)\n",
      "tensor(2.3020, grad_fn=<DivBackward0>)\n",
      "tensor(2.2897, grad_fn=<DivBackward0>)\n",
      "tensor(2.2774, grad_fn=<DivBackward0>)\n",
      "tensor(2.2651, grad_fn=<DivBackward0>)\n",
      "tensor(2.2529, grad_fn=<DivBackward0>)\n",
      "tensor(2.2407, grad_fn=<DivBackward0>)\n",
      "tensor(2.2286, grad_fn=<DivBackward0>)\n",
      "tensor(2.2165, grad_fn=<DivBackward0>)\n",
      "tensor(2.2045, grad_fn=<DivBackward0>)\n",
      "tensor(2.1925, grad_fn=<DivBackward0>)\n",
      "tensor(2.1806, grad_fn=<DivBackward0>)\n",
      "tensor(2.1687, grad_fn=<DivBackward0>)\n",
      "tensor(2.1568, grad_fn=<DivBackward0>)\n",
      "tensor(2.1450, grad_fn=<DivBackward0>)\n",
      "tensor(2.1333, grad_fn=<DivBackward0>)\n",
      "tensor(2.1216, grad_fn=<DivBackward0>)\n",
      "tensor(2.1099, grad_fn=<DivBackward0>)\n",
      "tensor(2.0983, grad_fn=<DivBackward0>)\n",
      "tensor(2.0867, grad_fn=<DivBackward0>)\n",
      "tensor(2.0752, grad_fn=<DivBackward0>)\n",
      "tensor(2.0638, grad_fn=<DivBackward0>)\n",
      "tensor(2.0524, grad_fn=<DivBackward0>)\n",
      "tensor(2.0410, grad_fn=<DivBackward0>)\n",
      "tensor(2.0297, grad_fn=<DivBackward0>)\n",
      "tensor(2.0184, grad_fn=<DivBackward0>)\n",
      "tensor(2.0072, grad_fn=<DivBackward0>)\n",
      "tensor(1.9960, grad_fn=<DivBackward0>)\n",
      "tensor(1.9849, grad_fn=<DivBackward0>)\n",
      "tensor(1.9738, grad_fn=<DivBackward0>)\n",
      "tensor(1.9628, grad_fn=<DivBackward0>)\n",
      "tensor(1.9519, grad_fn=<DivBackward0>)\n",
      "tensor(1.9410, grad_fn=<DivBackward0>)\n",
      "tensor(1.9301, grad_fn=<DivBackward0>)\n",
      "tensor(1.9193, grad_fn=<DivBackward0>)\n",
      "tensor(1.9085, grad_fn=<DivBackward0>)\n",
      "tensor(1.8978, grad_fn=<DivBackward0>)\n",
      "tensor(1.8872, grad_fn=<DivBackward0>)\n",
      "tensor(1.8766, grad_fn=<DivBackward0>)\n",
      "tensor(1.8661, grad_fn=<DivBackward0>)\n",
      "tensor(1.8556, grad_fn=<DivBackward0>)\n",
      "tensor(1.8451, grad_fn=<DivBackward0>)\n",
      "tensor(1.8348, grad_fn=<DivBackward0>)\n",
      "tensor(1.8244, grad_fn=<DivBackward0>)\n",
      "tensor(1.8141, grad_fn=<DivBackward0>)\n",
      "tensor(1.8039, grad_fn=<DivBackward0>)\n",
      "tensor(1.7938, grad_fn=<DivBackward0>)\n",
      "tensor(1.7836, grad_fn=<DivBackward0>)\n",
      "tensor(1.7736, grad_fn=<DivBackward0>)\n",
      "tensor(1.7636, grad_fn=<DivBackward0>)\n",
      "tensor(1.7536, grad_fn=<DivBackward0>)\n",
      "tensor(1.7437, grad_fn=<DivBackward0>)\n",
      "tensor(1.7339, grad_fn=<DivBackward0>)\n",
      "tensor(1.7241, grad_fn=<DivBackward0>)\n",
      "tensor(1.7144, grad_fn=<DivBackward0>)\n",
      "tensor(1.7047, grad_fn=<DivBackward0>)\n",
      "tensor(1.6951, grad_fn=<DivBackward0>)\n",
      "tensor(1.6855, grad_fn=<DivBackward0>)\n",
      "tensor(1.6760, grad_fn=<DivBackward0>)\n",
      "tensor(1.6665, grad_fn=<DivBackward0>)\n",
      "tensor(1.6571, grad_fn=<DivBackward0>)\n",
      "tensor(1.6478, grad_fn=<DivBackward0>)\n",
      "tensor(1.6385, grad_fn=<DivBackward0>)\n",
      "tensor(1.6292, grad_fn=<DivBackward0>)\n",
      "tensor(1.6201, grad_fn=<DivBackward0>)\n",
      "tensor(1.6109, grad_fn=<DivBackward0>)\n",
      "tensor(1.6019, grad_fn=<DivBackward0>)\n",
      "tensor(1.5928, grad_fn=<DivBackward0>)\n",
      "tensor(1.5839, grad_fn=<DivBackward0>)\n",
      "tensor(1.5750, grad_fn=<DivBackward0>)\n",
      "tensor(1.5661, grad_fn=<DivBackward0>)\n",
      "tensor(1.5573, grad_fn=<DivBackward0>)\n",
      "tensor(1.5486, grad_fn=<DivBackward0>)\n",
      "tensor(1.5399, grad_fn=<DivBackward0>)\n",
      "tensor(1.5312, grad_fn=<DivBackward0>)\n",
      "tensor(1.5227, grad_fn=<DivBackward0>)\n",
      "tensor(1.5141, grad_fn=<DivBackward0>)\n",
      "tensor(1.5057, grad_fn=<DivBackward0>)\n",
      "tensor(1.4972, grad_fn=<DivBackward0>)\n",
      "tensor(1.4889, grad_fn=<DivBackward0>)\n",
      "tensor(1.4806, grad_fn=<DivBackward0>)\n",
      "tensor(1.4723, grad_fn=<DivBackward0>)\n",
      "tensor(1.4641, grad_fn=<DivBackward0>)\n",
      "tensor(1.4560, grad_fn=<DivBackward0>)\n",
      "tensor(1.4479, grad_fn=<DivBackward0>)\n",
      "tensor(1.4398, grad_fn=<DivBackward0>)\n",
      "tensor(1.4319, grad_fn=<DivBackward0>)\n",
      "tensor(1.4239, grad_fn=<DivBackward0>)\n",
      "tensor(1.4160, grad_fn=<DivBackward0>)\n",
      "tensor(1.4082, grad_fn=<DivBackward0>)\n",
      "tensor(1.4004, grad_fn=<DivBackward0>)\n",
      "tensor(1.3927, grad_fn=<DivBackward0>)\n",
      "tensor(1.3850, grad_fn=<DivBackward0>)\n",
      "tensor(1.3774, grad_fn=<DivBackward0>)\n",
      "tensor(1.3699, grad_fn=<DivBackward0>)\n",
      "tensor(1.3623, grad_fn=<DivBackward0>)\n",
      "tensor(1.3549, grad_fn=<DivBackward0>)\n",
      "tensor(1.3475, grad_fn=<DivBackward0>)\n",
      "tensor(1.3401, grad_fn=<DivBackward0>)\n",
      "tensor(1.3328, grad_fn=<DivBackward0>)\n",
      "tensor(1.3255, grad_fn=<DivBackward0>)\n",
      "tensor(1.3183, grad_fn=<DivBackward0>)\n",
      "tensor(1.3112, grad_fn=<DivBackward0>)\n",
      "tensor(1.3041, grad_fn=<DivBackward0>)\n",
      "tensor(1.2970, grad_fn=<DivBackward0>)\n",
      "tensor(1.2900, grad_fn=<DivBackward0>)\n",
      "tensor(1.2830, grad_fn=<DivBackward0>)\n",
      "tensor(1.2761, grad_fn=<DivBackward0>)\n",
      "tensor(1.2693, grad_fn=<DivBackward0>)\n",
      "tensor(1.2625, grad_fn=<DivBackward0>)\n",
      "tensor(1.2557, grad_fn=<DivBackward0>)\n",
      "tensor(1.2490, grad_fn=<DivBackward0>)\n",
      "tensor(1.2423, grad_fn=<DivBackward0>)\n",
      "tensor(1.2357, grad_fn=<DivBackward0>)\n",
      "tensor(1.2291, grad_fn=<DivBackward0>)\n",
      "tensor(1.2226, grad_fn=<DivBackward0>)\n",
      "tensor(1.2161, grad_fn=<DivBackward0>)\n",
      "tensor(1.2097, grad_fn=<DivBackward0>)\n",
      "tensor(1.2033, grad_fn=<DivBackward0>)\n",
      "tensor(1.1969, grad_fn=<DivBackward0>)\n",
      "tensor(1.1906, grad_fn=<DivBackward0>)\n",
      "tensor(1.1844, grad_fn=<DivBackward0>)\n",
      "tensor(1.1782, grad_fn=<DivBackward0>)\n",
      "tensor(1.1720, grad_fn=<DivBackward0>)\n",
      "tensor(1.1659, grad_fn=<DivBackward0>)\n",
      "tensor(1.1598, grad_fn=<DivBackward0>)\n",
      "tensor(1.1538, grad_fn=<DivBackward0>)\n",
      "tensor(1.1478, grad_fn=<DivBackward0>)\n",
      "tensor(1.1419, grad_fn=<DivBackward0>)\n",
      "tensor(1.1360, grad_fn=<DivBackward0>)\n",
      "tensor(1.1301, grad_fn=<DivBackward0>)\n",
      "tensor(1.1243, grad_fn=<DivBackward0>)\n",
      "tensor(1.1185, grad_fn=<DivBackward0>)\n",
      "tensor(1.1128, grad_fn=<DivBackward0>)\n",
      "tensor(1.1071, grad_fn=<DivBackward0>)\n",
      "tensor(1.1015, grad_fn=<DivBackward0>)\n",
      "tensor(1.0958, grad_fn=<DivBackward0>)\n",
      "tensor(1.0903, grad_fn=<DivBackward0>)\n",
      "tensor(1.0847, grad_fn=<DivBackward0>)\n",
      "tensor(1.0793, grad_fn=<DivBackward0>)\n",
      "tensor(1.0738, grad_fn=<DivBackward0>)\n",
      "tensor(1.0684, grad_fn=<DivBackward0>)\n",
      "tensor(1.0630, grad_fn=<DivBackward0>)\n",
      "tensor(1.0577, grad_fn=<DivBackward0>)\n",
      "tensor(1.0524, grad_fn=<DivBackward0>)\n",
      "tensor(1.0471, grad_fn=<DivBackward0>)\n",
      "tensor(1.0419, grad_fn=<DivBackward0>)\n"
     ]
    },
    {
     "name": "stdout",
     "output_type": "stream",
     "text": [
      "tensor(1.0367, grad_fn=<DivBackward0>)\n",
      "tensor(1.0316, grad_fn=<DivBackward0>)\n",
      "tensor(1.0265, grad_fn=<DivBackward0>)\n",
      "tensor(1.0214, grad_fn=<DivBackward0>)\n",
      "tensor(1.0164, grad_fn=<DivBackward0>)\n",
      "tensor(1.0114, grad_fn=<DivBackward0>)\n",
      "tensor(1.0064, grad_fn=<DivBackward0>)\n",
      "tensor(1.0015, grad_fn=<DivBackward0>)\n",
      "tensor(0.9966, grad_fn=<DivBackward0>)\n",
      "tensor(0.9917, grad_fn=<DivBackward0>)\n",
      "tensor(0.9869, grad_fn=<DivBackward0>)\n",
      "tensor(0.9821, grad_fn=<DivBackward0>)\n",
      "tensor(0.9773, grad_fn=<DivBackward0>)\n",
      "tensor(0.9726, grad_fn=<DivBackward0>)\n",
      "tensor(0.9679, grad_fn=<DivBackward0>)\n",
      "tensor(0.9633, grad_fn=<DivBackward0>)\n",
      "tensor(0.9586, grad_fn=<DivBackward0>)\n",
      "tensor(0.9540, grad_fn=<DivBackward0>)\n",
      "tensor(0.9495, grad_fn=<DivBackward0>)\n",
      "tensor(0.9450, grad_fn=<DivBackward0>)\n",
      "tensor(0.9405, grad_fn=<DivBackward0>)\n",
      "tensor(0.9360, grad_fn=<DivBackward0>)\n",
      "tensor(0.9316, grad_fn=<DivBackward0>)\n",
      "tensor(0.9271, grad_fn=<DivBackward0>)\n",
      "tensor(0.9228, grad_fn=<DivBackward0>)\n",
      "tensor(0.9184, grad_fn=<DivBackward0>)\n",
      "tensor(0.9141, grad_fn=<DivBackward0>)\n",
      "tensor(0.9098, grad_fn=<DivBackward0>)\n",
      "tensor(0.9056, grad_fn=<DivBackward0>)\n",
      "tensor(0.9013, grad_fn=<DivBackward0>)\n",
      "tensor(0.8971, grad_fn=<DivBackward0>)\n",
      "tensor(0.8930, grad_fn=<DivBackward0>)\n",
      "tensor(0.8888, grad_fn=<DivBackward0>)\n",
      "tensor(0.8847, grad_fn=<DivBackward0>)\n",
      "tensor(0.8806, grad_fn=<DivBackward0>)\n",
      "tensor(0.8765, grad_fn=<DivBackward0>)\n",
      "tensor(0.8725, grad_fn=<DivBackward0>)\n",
      "tensor(0.8685, grad_fn=<DivBackward0>)\n",
      "tensor(0.8645, grad_fn=<DivBackward0>)\n",
      "tensor(0.8606, grad_fn=<DivBackward0>)\n",
      "tensor(0.8566, grad_fn=<DivBackward0>)\n",
      "tensor(0.8527, grad_fn=<DivBackward0>)\n",
      "tensor(0.8489, grad_fn=<DivBackward0>)\n",
      "tensor(0.8450, grad_fn=<DivBackward0>)\n",
      "tensor(0.8412, grad_fn=<DivBackward0>)\n",
      "tensor(0.8374, grad_fn=<DivBackward0>)\n",
      "tensor(0.8336, grad_fn=<DivBackward0>)\n",
      "tensor(0.8298, grad_fn=<DivBackward0>)\n",
      "tensor(0.8261, grad_fn=<DivBackward0>)\n",
      "tensor(0.8224, grad_fn=<DivBackward0>)\n",
      "tensor(0.8187, grad_fn=<DivBackward0>)\n",
      "tensor(0.8151, grad_fn=<DivBackward0>)\n",
      "tensor(0.8114, grad_fn=<DivBackward0>)\n",
      "tensor(0.8078, grad_fn=<DivBackward0>)\n",
      "tensor(0.8042, grad_fn=<DivBackward0>)\n",
      "tensor(0.8007, grad_fn=<DivBackward0>)\n",
      "tensor(0.7971, grad_fn=<DivBackward0>)\n",
      "tensor(0.7936, grad_fn=<DivBackward0>)\n",
      "tensor(0.7901, grad_fn=<DivBackward0>)\n",
      "tensor(0.7866, grad_fn=<DivBackward0>)\n",
      "tensor(0.7832, grad_fn=<DivBackward0>)\n",
      "tensor(0.7798, grad_fn=<DivBackward0>)\n",
      "tensor(0.7763, grad_fn=<DivBackward0>)\n",
      "tensor(0.7730, grad_fn=<DivBackward0>)\n",
      "tensor(0.7696, grad_fn=<DivBackward0>)\n",
      "tensor(0.7662, grad_fn=<DivBackward0>)\n",
      "tensor(0.7629, grad_fn=<DivBackward0>)\n",
      "tensor(0.7596, grad_fn=<DivBackward0>)\n",
      "tensor(0.7563, grad_fn=<DivBackward0>)\n",
      "tensor(0.7530, grad_fn=<DivBackward0>)\n",
      "tensor(0.7498, grad_fn=<DivBackward0>)\n",
      "tensor(0.7466, grad_fn=<DivBackward0>)\n",
      "tensor(0.7434, grad_fn=<DivBackward0>)\n",
      "tensor(0.7402, grad_fn=<DivBackward0>)\n",
      "tensor(0.7370, grad_fn=<DivBackward0>)\n",
      "tensor(0.7339, grad_fn=<DivBackward0>)\n",
      "tensor(0.7307, grad_fn=<DivBackward0>)\n",
      "tensor(0.7276, grad_fn=<DivBackward0>)\n",
      "tensor(0.7245, grad_fn=<DivBackward0>)\n",
      "tensor(0.7214, grad_fn=<DivBackward0>)\n"
     ]
    }
   ],
   "source": [
    "\n",
    "epochs=500\n",
    "losses=[]\n",
    "for num in range(epochs):\n",
    "    print(sum(losses)/vocab_size)\n",
    "    losses=[]\n",
    "    k =0\n",
    "    for x in Train_x:\n",
    "        x=torch.tensor(x)\n",
    "        #print(x)\n",
    "        model.zero_grad()\n",
    "\n",
    "        result=model(x)\n",
    "        #result=result.detach()\n",
    "\n",
    "        y_actual=torch.tensor(label_y[k], dtype=torch.long)\n",
    "        #result=torch.argmax(result[0])\n",
    "        #print(result)\n",
    "        #new=torch.max(result)\n",
    "\n",
    "        #new=torch.tensor(new)\n",
    "        #print(f\"Index is {new}\")\n",
    "        result=result\n",
    "        #print(f\"Printing result shape {result.view(1,-1).shape}\")\n",
    "        #print(f\"Printing actual shape {y_actual.shape}\")\n",
    "        #print(\"Printing the actual results down\")\n",
    "        #new_new=[1 if i ==new else 0 for i in range(vocab_size) ]\n",
    "        #print(new_new)\n",
    "        #print(result,y_actual)\n",
    "        #modified=torch.argmax(result.view(1,-1))\n",
    "        \n",
    "        #modified=modified.float()\n",
    "        #print(modified,y_actual)\n",
    "        #print(modified.shape,y_actual.shape)\n",
    "        loss=loss_function(result.view(1,-1),y_actual)\n",
    "        k=k+1\n",
    "        loss.backward()\n",
    "        optimizer.step()\n",
    "        #print(loss)\n",
    "        #break\n",
    "        losses.append(loss)\n",
    "\n"
   ]
  },
  {
   "cell_type": "code",
   "execution_count": 915,
   "metadata": {},
   "outputs": [
    {
     "data": {
      "text/plain": [
       "'C:\\\\Users\\\\akaniyamparambil'"
      ]
     },
     "execution_count": 915,
     "metadata": {},
     "output_type": "execute_result"
    }
   ],
   "source": [
    "pwd"
   ]
  },
  {
   "cell_type": "code",
   "execution_count": 1129,
   "metadata": {},
   "outputs": [
    {
     "data": {
      "text/plain": [
       "[203, 221]"
      ]
     },
     "execution_count": 1129,
     "metadata": {},
     "output_type": "execute_result"
    }
   ],
   "source": [
    "Train_x[0]"
   ]
  },
  {
   "cell_type": "code",
   "execution_count": 1130,
   "metadata": {},
   "outputs": [],
   "source": [
    "blah=nn.Embedding(10, 3)"
   ]
  },
  {
   "cell_type": "code",
   "execution_count": 1133,
   "metadata": {},
   "outputs": [
    {
     "data": {
      "text/plain": [
       "tensor([[ 0.1685,  1.1358,  0.4762],\n",
       "        [ 1.4778, -0.7600,  1.1954]], grad_fn=<EmbeddingBackward>)"
      ]
     },
     "execution_count": 1133,
     "metadata": {},
     "output_type": "execute_result"
    }
   ],
   "source": [
    "blah(torch.tensor([1,2]).long())"
   ]
  },
  {
   "cell_type": "code",
   "execution_count": null,
   "metadata": {},
   "outputs": [],
   "source": []
  },
  {
   "cell_type": "code",
   "execution_count": null,
   "metadata": {},
   "outputs": [],
   "source": []
  },
  {
   "cell_type": "code",
   "execution_count": 919,
   "metadata": {},
   "outputs": [
    {
     "name": "stderr",
     "output_type": "stream",
     "text": [
      "C:\\Users\\akaniyamparambil\\AppData\\Local\\Continuum\\anaconda3\\lib\\site-packages\\torch\\serialization.py:256: UserWarning: Couldn't retrieve source code for container of type Pytorchisawesome. It won't be checked for correctness upon loading.\n",
      "  \"type \" + obj.__name__ + \". It won't be checked \"\n"
     ]
    }
   ],
   "source": [
    "torch.save(model,\"LSTMISNOTSOAWESOME.pt\")"
   ]
  },
  {
   "cell_type": "code",
   "execution_count": 335,
   "metadata": {},
   "outputs": [],
   "source": [
    "model=torch.load(\"LSTMISNOTSOAWESOME.pt\") \n",
    "\n",
    "# Incase of error loading a model, what you can do is just initialise the model class and then load it \n",
    "# - Some Namespace error is observed"
   ]
  },
  {
   "cell_type": "code",
   "execution_count": 922,
   "metadata": {},
   "outputs": [
    {
     "name": "stdout",
     "output_type": "stream",
     "text": [
      "tensor(171) tensor([171])\n",
      "Actual\n",
      "do,\n",
      "Predicted\n",
      "do,\n"
     ]
    }
   ],
   "source": [
    "to_predict=torch.tensor(Train_x[7])\n",
    "validation = torch.tensor(label_y[7])\n",
    "model.eval()\n",
    "z=model(to_predict)\n",
    "\n",
    "val = torch.argmax(z)\n",
    "print(val,validation)\n",
    "print(\"Actual\")\n",
    "print(list(dict.keys())[list(dict.values()).index(validation)])\n",
    "print(\"Predicted\")\n",
    "print(list(dict.keys())[list(dict.values()).index(val)])"
   ]
  },
  {
   "cell_type": "code",
   "execution_count": 1344,
   "metadata": {},
   "outputs": [],
   "source": [
    "def convert_to_ids(Sentence):\n",
    "    return ([y[1] for x in Sentence.split() for y in dict.items() if x==y[0] ])\n",
    "def predictions_away(to_predict):\n",
    "    z=model(to_predict)\n",
    "    val = torch.argmax(z)\n",
    "    return list(dict.keys())[list(dict.values()).index(val)]"
   ]
  },
  {
   "cell_type": "code",
   "execution_count": 1345,
   "metadata": {},
   "outputs": [],
   "source": [
    "def checker(Sentence):\n",
    "    \n",
    "    fill=Sentence.split()\n",
    "    flag=0\n",
    "    missing=[]\n",
    "    for z1 in fill:\n",
    "        if z1 in dict.keys():\n",
    "            flag=flag+1\n",
    "            if flag==4:\n",
    "                radical(Sentence)\n",
    "            \n",
    "            \n",
    "            \n",
    "        \n",
    "        else:\n",
    "            missing.append(z1)\n",
    "            print(\"Some text passed is not in the trained corpus. Provide another sentence\")\n",
    "        \n",
    "    if missing != list():\n",
    "        print(f\"The missing texts are {missing}\")"
   ]
  },
  {
   "cell_type": "code",
   "execution_count": 901,
   "metadata": {},
   "outputs": [
    {
     "data": {
      "text/plain": [
       "True"
      ]
     },
     "execution_count": 901,
     "metadata": {},
     "output_type": "execute_result"
    }
   ],
   "source": [
    "\"shall\" in dict.keys()"
   ]
  },
  {
   "cell_type": "code",
   "execution_count": 1346,
   "metadata": {},
   "outputs": [
    {
     "data": {
      "text/plain": [
       "Pytorchisawesome(\n",
       "  (embed): Embedding(59, 50)\n",
       "  (lstm): LSTM(50, 60, num_layers=2)\n",
       "  (L1): Linear(in_features=60, out_features=59, bias=True)\n",
       ")"
      ]
     },
     "execution_count": 1346,
     "metadata": {},
     "output_type": "execute_result"
    }
   ],
   "source": [
    "model.eval()"
   ]
  },
  {
   "cell_type": "code",
   "execution_count": 1347,
   "metadata": {},
   "outputs": [],
   "source": [
    "def radical(Sentence):\n",
    "    Converted = convert_to_ids(Sentence)\n",
    "    Converted=torch.tensor(Converted)\n",
    "    print(Converted)\n",
    "    outputme=predictions_away(Converted)\n",
    "    print(outputme)"
   ]
  },
  {
   "cell_type": "markdown",
   "metadata": {},
   "source": [
    "Hi, how are you >> 1 Hi, I am well, thank you. \n",
    "                   2 I am well\n",
    "                   3 Well\n",
    "                   4 Good\n",
    "                   5 Not too bad\n",
    "                   6 Nothing much\n",
    "\n",
    "LSTM and Standard classification \n",
    "\n",
    "Standard classification >> X=\"Hi, how are you\"\n",
    "\n",
    "Y = \"Hi, I am well, thank you\"\n",
    "\n"
   ]
  },
  {
   "cell_type": "code",
   "execution_count": 1253,
   "metadata": {},
   "outputs": [
    {
     "data": {
      "text/plain": [
       "[['what', 'do'],\n",
       " ['do', 'you'],\n",
       " ['you', 'mean'],\n",
       " ['mean', 'by'],\n",
       " ['by', 'data'],\n",
       " ['data', 'science']]"
      ]
     },
     "execution_count": 1253,
     "metadata": {},
     "output_type": "execute_result"
    }
   ],
   "source": [
    "Sen=\"What do you mean by data science\"\n",
    "Sen=Sen.lower()\n",
    "need=Sen.split()\n",
    "listing=[]\n",
    "for x in range(len(need)-1):\n",
    "    listing.append([need[x],need[x+1]])\n",
    "    \n",
    "listing    "
   ]
  },
  {
   "cell_type": "code",
   "execution_count": 1282,
   "metadata": {},
   "outputs": [
    {
     "name": "stdout",
     "output_type": "stream",
     "text": [
      "what do\n",
      "The sentence is what do\n",
      "do you\n",
      "The sentence is do you\n",
      "you mean\n",
      "The sentence is you mean\n",
      "mean by\n",
      "The sentence is mean by\n",
      "by data\n",
      "The sentence is by data\n",
      "Required : ['by']\n",
      "Required : ['by', 'data']\n",
      "Required : ['by', 'data', 'enterprise,']\n",
      "Required : ['by', 'data', 'enterprise,', 'enterprise,']\n",
      "Required : ['by', 'data', 'enterprise,', 'enterprise,', 'enterprise,']\n",
      "Required : ['by', 'data', 'enterprise,', 'enterprise,', 'enterprise,', 'enterprise,']\n",
      "Required : ['by', 'data', 'enterprise,', 'enterprise,', 'enterprise,', 'enterprise,', 'enterprise,']\n",
      "Required : ['by', 'data', 'enterprise,', 'enterprise,', 'enterprise,', 'enterprise,', 'enterprise,', 'enterprise,']\n",
      "Required : ['by', 'data', 'enterprise,', 'enterprise,', 'enterprise,', 'enterprise,', 'enterprise,', 'enterprise,', 'enterprise,']\n",
      "Required : ['by', 'data', 'enterprise,', 'enterprise,', 'enterprise,', 'enterprise,', 'enterprise,', 'enterprise,', 'enterprise,', 'enterprise,']\n",
      "Required : ['by', 'data', 'enterprise,', 'enterprise,', 'enterprise,', 'enterprise,', 'enterprise,', 'enterprise,', 'enterprise,', 'enterprise,', 'enterprise,']\n",
      "Required : ['by', 'data', 'enterprise,', 'enterprise,', 'enterprise,', 'enterprise,', 'enterprise,', 'enterprise,', 'enterprise,', 'enterprise,', 'enterprise,', 'enterprise,']\n",
      "Required : ['by', 'data', 'enterprise,', 'enterprise,', 'enterprise,', 'enterprise,', 'enterprise,', 'enterprise,', 'enterprise,', 'enterprise,', 'enterprise,', 'enterprise,', 'enterprise,']\n",
      "Required : ['by', 'data', 'enterprise,', 'enterprise,', 'enterprise,', 'enterprise,', 'enterprise,', 'enterprise,', 'enterprise,', 'enterprise,', 'enterprise,', 'enterprise,', 'enterprise,', 'enterprise,']\n",
      "Required : ['by', 'data', 'enterprise,', 'enterprise,', 'enterprise,', 'enterprise,', 'enterprise,', 'enterprise,', 'enterprise,', 'enterprise,', 'enterprise,', 'enterprise,', 'enterprise,', 'enterprise,', 'enterprise,']\n",
      "Required : ['by', 'data', 'enterprise,', 'enterprise,', 'enterprise,', 'enterprise,', 'enterprise,', 'enterprise,', 'enterprise,', 'enterprise,', 'enterprise,', 'enterprise,', 'enterprise,', 'enterprise,', 'enterprise,', 'enterprise,']\n",
      "Required : ['by', 'data', 'enterprise,', 'enterprise,', 'enterprise,', 'enterprise,', 'enterprise,', 'enterprise,', 'enterprise,', 'enterprise,', 'enterprise,', 'enterprise,', 'enterprise,', 'enterprise,', 'enterprise,', 'enterprise,', 'enterprise,']\n",
      "Required : ['by', 'data', 'enterprise,', 'enterprise,', 'enterprise,', 'enterprise,', 'enterprise,', 'enterprise,', 'enterprise,', 'enterprise,', 'enterprise,', 'enterprise,', 'enterprise,', 'enterprise,', 'enterprise,', 'enterprise,', 'enterprise,', 'enterprise,']\n",
      "Required : ['by', 'data', 'enterprise,', 'enterprise,', 'enterprise,', 'enterprise,', 'enterprise,', 'enterprise,', 'enterprise,', 'enterprise,', 'enterprise,', 'enterprise,', 'enterprise,', 'enterprise,', 'enterprise,', 'enterprise,', 'enterprise,', 'enterprise,', 'enterprise,']\n",
      "Required : ['by', 'data', 'enterprise,', 'enterprise,', 'enterprise,', 'enterprise,', 'enterprise,', 'enterprise,', 'enterprise,', 'enterprise,', 'enterprise,', 'enterprise,', 'enterprise,', 'enterprise,', 'enterprise,', 'enterprise,', 'enterprise,', 'enterprise,', 'enterprise,', 'enterprise,']\n",
      "Required : ['by', 'data', 'enterprise,', 'enterprise,', 'enterprise,', 'enterprise,', 'enterprise,', 'enterprise,', 'enterprise,', 'enterprise,', 'enterprise,', 'enterprise,', 'enterprise,', 'enterprise,', 'enterprise,', 'enterprise,', 'enterprise,', 'enterprise,', 'enterprise,', 'enterprise,', 'enterprise,']\n",
      "Required : ['by', 'data', 'enterprise,', 'enterprise,', 'enterprise,', 'enterprise,', 'enterprise,', 'enterprise,', 'enterprise,', 'enterprise,', 'enterprise,', 'enterprise,', 'enterprise,', 'enterprise,', 'enterprise,', 'enterprise,', 'enterprise,', 'enterprise,', 'enterprise,', 'enterprise,', 'enterprise,', 'enterprise,']\n",
      "Required : ['by', 'data', 'enterprise,', 'enterprise,', 'enterprise,', 'enterprise,', 'enterprise,', 'enterprise,', 'enterprise,', 'enterprise,', 'enterprise,', 'enterprise,', 'enterprise,', 'enterprise,', 'enterprise,', 'enterprise,', 'enterprise,', 'enterprise,', 'enterprise,', 'enterprise,', 'enterprise,', 'enterprise,', 'enterprise,']\n",
      "Required : ['by', 'data', 'enterprise,', 'enterprise,', 'enterprise,', 'enterprise,', 'enterprise,', 'enterprise,', 'enterprise,', 'enterprise,', 'enterprise,', 'enterprise,', 'enterprise,', 'enterprise,', 'enterprise,', 'enterprise,', 'enterprise,', 'enterprise,', 'enterprise,', 'enterprise,', 'enterprise,', 'enterprise,', 'enterprise,', 'enterprise,']\n",
      "Required : ['by', 'data', 'enterprise,', 'enterprise,', 'enterprise,', 'enterprise,', 'enterprise,', 'enterprise,', 'enterprise,', 'enterprise,', 'enterprise,', 'enterprise,', 'enterprise,', 'enterprise,', 'enterprise,', 'enterprise,', 'enterprise,', 'enterprise,', 'enterprise,', 'enterprise,', 'enterprise,', 'enterprise,', 'enterprise,', 'enterprise,', 'enterprise,']\n",
      "Required : ['by', 'data', 'enterprise,', 'enterprise,', 'enterprise,', 'enterprise,', 'enterprise,', 'enterprise,', 'enterprise,', 'enterprise,', 'enterprise,', 'enterprise,', 'enterprise,', 'enterprise,', 'enterprise,', 'enterprise,', 'enterprise,', 'enterprise,', 'enterprise,', 'enterprise,', 'enterprise,', 'enterprise,', 'enterprise,', 'enterprise,', 'enterprise,', 'enterprise,']\n",
      "Required : ['by', 'data', 'enterprise,', 'enterprise,', 'enterprise,', 'enterprise,', 'enterprise,', 'enterprise,', 'enterprise,', 'enterprise,', 'enterprise,', 'enterprise,', 'enterprise,', 'enterprise,', 'enterprise,', 'enterprise,', 'enterprise,', 'enterprise,', 'enterprise,', 'enterprise,', 'enterprise,', 'enterprise,', 'enterprise,', 'enterprise,', 'enterprise,', 'enterprise,', 'enterprise,']\n",
      "Required : ['by', 'data', 'enterprise,', 'enterprise,', 'enterprise,', 'enterprise,', 'enterprise,', 'enterprise,', 'enterprise,', 'enterprise,', 'enterprise,', 'enterprise,', 'enterprise,', 'enterprise,', 'enterprise,', 'enterprise,', 'enterprise,', 'enterprise,', 'enterprise,', 'enterprise,', 'enterprise,', 'enterprise,', 'enterprise,', 'enterprise,', 'enterprise,', 'enterprise,', 'enterprise,', 'enterprise,']\n",
      "Required : ['by', 'data', 'enterprise,', 'enterprise,', 'enterprise,', 'enterprise,', 'enterprise,', 'enterprise,', 'enterprise,', 'enterprise,', 'enterprise,', 'enterprise,', 'enterprise,', 'enterprise,', 'enterprise,', 'enterprise,', 'enterprise,', 'enterprise,', 'enterprise,', 'enterprise,', 'enterprise,', 'enterprise,', 'enterprise,', 'enterprise,', 'enterprise,', 'enterprise,', 'enterprise,', 'enterprise,', 'enterprise,']\n",
      "Required : ['by', 'data', 'enterprise,', 'enterprise,', 'enterprise,', 'enterprise,', 'enterprise,', 'enterprise,', 'enterprise,', 'enterprise,', 'enterprise,', 'enterprise,', 'enterprise,', 'enterprise,', 'enterprise,', 'enterprise,', 'enterprise,', 'enterprise,', 'enterprise,', 'enterprise,', 'enterprise,', 'enterprise,', 'enterprise,', 'enterprise,', 'enterprise,', 'enterprise,', 'enterprise,', 'enterprise,', 'enterprise,', 'enterprise,']\n",
      "Required : ['by', 'data', 'enterprise,', 'enterprise,', 'enterprise,', 'enterprise,', 'enterprise,', 'enterprise,', 'enterprise,', 'enterprise,', 'enterprise,', 'enterprise,', 'enterprise,', 'enterprise,', 'enterprise,', 'enterprise,', 'enterprise,', 'enterprise,', 'enterprise,', 'enterprise,', 'enterprise,', 'enterprise,', 'enterprise,', 'enterprise,', 'enterprise,', 'enterprise,', 'enterprise,', 'enterprise,', 'enterprise,', 'enterprise,', 'enterprise,']\n",
      "Required : ['by', 'data', 'enterprise,', 'enterprise,', 'enterprise,', 'enterprise,', 'enterprise,', 'enterprise,', 'enterprise,', 'enterprise,', 'enterprise,', 'enterprise,', 'enterprise,', 'enterprise,', 'enterprise,', 'enterprise,', 'enterprise,', 'enterprise,', 'enterprise,', 'enterprise,', 'enterprise,', 'enterprise,', 'enterprise,', 'enterprise,', 'enterprise,', 'enterprise,', 'enterprise,', 'enterprise,', 'enterprise,', 'enterprise,', 'enterprise,', 'enterprise,']\n",
      "Required : ['by', 'data', 'enterprise,', 'enterprise,', 'enterprise,', 'enterprise,', 'enterprise,', 'enterprise,', 'enterprise,', 'enterprise,', 'enterprise,', 'enterprise,', 'enterprise,', 'enterprise,', 'enterprise,', 'enterprise,', 'enterprise,', 'enterprise,', 'enterprise,', 'enterprise,', 'enterprise,', 'enterprise,', 'enterprise,', 'enterprise,', 'enterprise,', 'enterprise,', 'enterprise,', 'enterprise,', 'enterprise,', 'enterprise,', 'enterprise,', 'enterprise,', 'enterprise,']\n",
      "Required : ['by', 'data', 'enterprise,', 'enterprise,', 'enterprise,', 'enterprise,', 'enterprise,', 'enterprise,', 'enterprise,', 'enterprise,', 'enterprise,', 'enterprise,', 'enterprise,', 'enterprise,', 'enterprise,', 'enterprise,', 'enterprise,', 'enterprise,', 'enterprise,', 'enterprise,', 'enterprise,', 'enterprise,', 'enterprise,', 'enterprise,', 'enterprise,', 'enterprise,', 'enterprise,', 'enterprise,', 'enterprise,', 'enterprise,', 'enterprise,', 'enterprise,', 'enterprise,', 'enterprise,']\n",
      "Required : ['by', 'data', 'enterprise,', 'enterprise,', 'enterprise,', 'enterprise,', 'enterprise,', 'enterprise,', 'enterprise,', 'enterprise,', 'enterprise,', 'enterprise,', 'enterprise,', 'enterprise,', 'enterprise,', 'enterprise,', 'enterprise,', 'enterprise,', 'enterprise,', 'enterprise,', 'enterprise,', 'enterprise,', 'enterprise,', 'enterprise,', 'enterprise,', 'enterprise,', 'enterprise,', 'enterprise,', 'enterprise,', 'enterprise,', 'enterprise,', 'enterprise,', 'enterprise,', 'enterprise,', 'enterprise,']\n",
      "Required : ['by', 'data', 'enterprise,', 'enterprise,', 'enterprise,', 'enterprise,', 'enterprise,', 'enterprise,', 'enterprise,', 'enterprise,', 'enterprise,', 'enterprise,', 'enterprise,', 'enterprise,', 'enterprise,', 'enterprise,', 'enterprise,', 'enterprise,', 'enterprise,', 'enterprise,', 'enterprise,', 'enterprise,', 'enterprise,', 'enterprise,', 'enterprise,', 'enterprise,', 'enterprise,', 'enterprise,', 'enterprise,', 'enterprise,', 'enterprise,', 'enterprise,', 'enterprise,', 'enterprise,', 'enterprise,', 'enterprise,']\n",
      "Required : ['by', 'data', 'enterprise,', 'enterprise,', 'enterprise,', 'enterprise,', 'enterprise,', 'enterprise,', 'enterprise,', 'enterprise,', 'enterprise,', 'enterprise,', 'enterprise,', 'enterprise,', 'enterprise,', 'enterprise,', 'enterprise,', 'enterprise,', 'enterprise,', 'enterprise,', 'enterprise,', 'enterprise,', 'enterprise,', 'enterprise,', 'enterprise,', 'enterprise,', 'enterprise,', 'enterprise,', 'enterprise,', 'enterprise,', 'enterprise,', 'enterprise,', 'enterprise,', 'enterprise,', 'enterprise,', 'enterprise,', 'enterprise,']\n",
      "Required : ['by', 'data', 'enterprise,', 'enterprise,', 'enterprise,', 'enterprise,', 'enterprise,', 'enterprise,', 'enterprise,', 'enterprise,', 'enterprise,', 'enterprise,', 'enterprise,', 'enterprise,', 'enterprise,', 'enterprise,', 'enterprise,', 'enterprise,', 'enterprise,', 'enterprise,', 'enterprise,', 'enterprise,', 'enterprise,', 'enterprise,', 'enterprise,', 'enterprise,', 'enterprise,', 'enterprise,', 'enterprise,', 'enterprise,', 'enterprise,', 'enterprise,', 'enterprise,', 'enterprise,', 'enterprise,', 'enterprise,', 'enterprise,', 'enterprise,']\n",
      "Required : ['by', 'data', 'enterprise,', 'enterprise,', 'enterprise,', 'enterprise,', 'enterprise,', 'enterprise,', 'enterprise,', 'enterprise,', 'enterprise,', 'enterprise,', 'enterprise,', 'enterprise,', 'enterprise,', 'enterprise,', 'enterprise,', 'enterprise,', 'enterprise,', 'enterprise,', 'enterprise,', 'enterprise,', 'enterprise,', 'enterprise,', 'enterprise,', 'enterprise,', 'enterprise,', 'enterprise,', 'enterprise,', 'enterprise,', 'enterprise,', 'enterprise,', 'enterprise,', 'enterprise,', 'enterprise,', 'enterprise,', 'enterprise,', 'enterprise,', 'enterprise,']\n",
      "Required : ['by', 'data', 'enterprise,', 'enterprise,', 'enterprise,', 'enterprise,', 'enterprise,', 'enterprise,', 'enterprise,', 'enterprise,', 'enterprise,', 'enterprise,', 'enterprise,', 'enterprise,', 'enterprise,', 'enterprise,', 'enterprise,', 'enterprise,', 'enterprise,', 'enterprise,', 'enterprise,', 'enterprise,', 'enterprise,', 'enterprise,', 'enterprise,', 'enterprise,', 'enterprise,', 'enterprise,', 'enterprise,', 'enterprise,', 'enterprise,', 'enterprise,', 'enterprise,', 'enterprise,', 'enterprise,', 'enterprise,', 'enterprise,', 'enterprise,', 'enterprise,', 'enterprise,']\n",
      "Required : ['by', 'data', 'enterprise,', 'enterprise,', 'enterprise,', 'enterprise,', 'enterprise,', 'enterprise,', 'enterprise,', 'enterprise,', 'enterprise,', 'enterprise,', 'enterprise,', 'enterprise,', 'enterprise,', 'enterprise,', 'enterprise,', 'enterprise,', 'enterprise,', 'enterprise,', 'enterprise,', 'enterprise,', 'enterprise,', 'enterprise,', 'enterprise,', 'enterprise,', 'enterprise,', 'enterprise,', 'enterprise,', 'enterprise,', 'enterprise,', 'enterprise,', 'enterprise,', 'enterprise,', 'enterprise,', 'enterprise,', 'enterprise,', 'enterprise,', 'enterprise,', 'enterprise,', 'enterprise,']\n",
      "Required : ['by', 'data', 'enterprise,', 'enterprise,', 'enterprise,', 'enterprise,', 'enterprise,', 'enterprise,', 'enterprise,', 'enterprise,', 'enterprise,', 'enterprise,', 'enterprise,', 'enterprise,', 'enterprise,', 'enterprise,', 'enterprise,', 'enterprise,', 'enterprise,', 'enterprise,', 'enterprise,', 'enterprise,', 'enterprise,', 'enterprise,', 'enterprise,', 'enterprise,', 'enterprise,', 'enterprise,', 'enterprise,', 'enterprise,', 'enterprise,', 'enterprise,', 'enterprise,', 'enterprise,', 'enterprise,', 'enterprise,', 'enterprise,', 'enterprise,', 'enterprise,', 'enterprise,', 'enterprise,', 'enterprise,']\n",
      "Required : ['by', 'data', 'enterprise,', 'enterprise,', 'enterprise,', 'enterprise,', 'enterprise,', 'enterprise,', 'enterprise,', 'enterprise,', 'enterprise,', 'enterprise,', 'enterprise,', 'enterprise,', 'enterprise,', 'enterprise,', 'enterprise,', 'enterprise,', 'enterprise,', 'enterprise,', 'enterprise,', 'enterprise,', 'enterprise,', 'enterprise,', 'enterprise,', 'enterprise,', 'enterprise,', 'enterprise,', 'enterprise,', 'enterprise,', 'enterprise,', 'enterprise,', 'enterprise,', 'enterprise,', 'enterprise,', 'enterprise,', 'enterprise,', 'enterprise,', 'enterprise,', 'enterprise,', 'enterprise,', 'enterprise,', 'enterprise,']\n",
      "Required : ['by', 'data', 'enterprise,', 'enterprise,', 'enterprise,', 'enterprise,', 'enterprise,', 'enterprise,', 'enterprise,', 'enterprise,', 'enterprise,', 'enterprise,', 'enterprise,', 'enterprise,', 'enterprise,', 'enterprise,', 'enterprise,', 'enterprise,', 'enterprise,', 'enterprise,', 'enterprise,', 'enterprise,', 'enterprise,', 'enterprise,', 'enterprise,', 'enterprise,', 'enterprise,', 'enterprise,', 'enterprise,', 'enterprise,', 'enterprise,', 'enterprise,', 'enterprise,', 'enterprise,', 'enterprise,', 'enterprise,', 'enterprise,', 'enterprise,', 'enterprise,', 'enterprise,', 'enterprise,', 'enterprise,', 'enterprise,', 'enterprise,']\n",
      "Required : ['by', 'data', 'enterprise,', 'enterprise,', 'enterprise,', 'enterprise,', 'enterprise,', 'enterprise,', 'enterprise,', 'enterprise,', 'enterprise,', 'enterprise,', 'enterprise,', 'enterprise,', 'enterprise,', 'enterprise,', 'enterprise,', 'enterprise,', 'enterprise,', 'enterprise,', 'enterprise,', 'enterprise,', 'enterprise,', 'enterprise,', 'enterprise,', 'enterprise,', 'enterprise,', 'enterprise,', 'enterprise,', 'enterprise,', 'enterprise,', 'enterprise,', 'enterprise,', 'enterprise,', 'enterprise,', 'enterprise,', 'enterprise,', 'enterprise,', 'enterprise,', 'enterprise,', 'enterprise,', 'enterprise,', 'enterprise,', 'enterprise,', 'enterprise,']\n"
     ]
    },
    {
     "name": "stdout",
     "output_type": "stream",
     "text": [
      "Required : ['by', 'data', 'enterprise,', 'enterprise,', 'enterprise,', 'enterprise,', 'enterprise,', 'enterprise,', 'enterprise,', 'enterprise,', 'enterprise,', 'enterprise,', 'enterprise,', 'enterprise,', 'enterprise,', 'enterprise,', 'enterprise,', 'enterprise,', 'enterprise,', 'enterprise,', 'enterprise,', 'enterprise,', 'enterprise,', 'enterprise,', 'enterprise,', 'enterprise,', 'enterprise,', 'enterprise,', 'enterprise,', 'enterprise,', 'enterprise,', 'enterprise,', 'enterprise,', 'enterprise,', 'enterprise,', 'enterprise,', 'enterprise,', 'enterprise,', 'enterprise,', 'enterprise,', 'enterprise,', 'enterprise,', 'enterprise,', 'enterprise,', 'enterprise,', 'enterprise,']\n",
      "Required : ['by', 'data', 'enterprise,', 'enterprise,', 'enterprise,', 'enterprise,', 'enterprise,', 'enterprise,', 'enterprise,', 'enterprise,', 'enterprise,', 'enterprise,', 'enterprise,', 'enterprise,', 'enterprise,', 'enterprise,', 'enterprise,', 'enterprise,', 'enterprise,', 'enterprise,', 'enterprise,', 'enterprise,', 'enterprise,', 'enterprise,', 'enterprise,', 'enterprise,', 'enterprise,', 'enterprise,', 'enterprise,', 'enterprise,', 'enterprise,', 'enterprise,', 'enterprise,', 'enterprise,', 'enterprise,', 'enterprise,', 'enterprise,', 'enterprise,', 'enterprise,', 'enterprise,', 'enterprise,', 'enterprise,', 'enterprise,', 'enterprise,', 'enterprise,', 'enterprise,', 'enterprise,']\n",
      "Required : ['by', 'data', 'enterprise,', 'enterprise,', 'enterprise,', 'enterprise,', 'enterprise,', 'enterprise,', 'enterprise,', 'enterprise,', 'enterprise,', 'enterprise,', 'enterprise,', 'enterprise,', 'enterprise,', 'enterprise,', 'enterprise,', 'enterprise,', 'enterprise,', 'enterprise,', 'enterprise,', 'enterprise,', 'enterprise,', 'enterprise,', 'enterprise,', 'enterprise,', 'enterprise,', 'enterprise,', 'enterprise,', 'enterprise,', 'enterprise,', 'enterprise,', 'enterprise,', 'enterprise,', 'enterprise,', 'enterprise,', 'enterprise,', 'enterprise,', 'enterprise,', 'enterprise,', 'enterprise,', 'enterprise,', 'enterprise,', 'enterprise,', 'enterprise,', 'enterprise,', 'enterprise,', 'enterprise,']\n",
      "Required : ['by', 'data', 'enterprise,', 'enterprise,', 'enterprise,', 'enterprise,', 'enterprise,', 'enterprise,', 'enterprise,', 'enterprise,', 'enterprise,', 'enterprise,', 'enterprise,', 'enterprise,', 'enterprise,', 'enterprise,', 'enterprise,', 'enterprise,', 'enterprise,', 'enterprise,', 'enterprise,', 'enterprise,', 'enterprise,', 'enterprise,', 'enterprise,', 'enterprise,', 'enterprise,', 'enterprise,', 'enterprise,', 'enterprise,', 'enterprise,', 'enterprise,', 'enterprise,', 'enterprise,', 'enterprise,', 'enterprise,', 'enterprise,', 'enterprise,', 'enterprise,', 'enterprise,', 'enterprise,', 'enterprise,', 'enterprise,', 'enterprise,', 'enterprise,', 'enterprise,', 'enterprise,', 'enterprise,', 'enterprise,']\n",
      "Required : ['by', 'data', 'enterprise,', 'enterprise,', 'enterprise,', 'enterprise,', 'enterprise,', 'enterprise,', 'enterprise,', 'enterprise,', 'enterprise,', 'enterprise,', 'enterprise,', 'enterprise,', 'enterprise,', 'enterprise,', 'enterprise,', 'enterprise,', 'enterprise,', 'enterprise,', 'enterprise,', 'enterprise,', 'enterprise,', 'enterprise,', 'enterprise,', 'enterprise,', 'enterprise,', 'enterprise,', 'enterprise,', 'enterprise,', 'enterprise,', 'enterprise,', 'enterprise,', 'enterprise,', 'enterprise,', 'enterprise,', 'enterprise,', 'enterprise,', 'enterprise,', 'enterprise,', 'enterprise,', 'enterprise,', 'enterprise,', 'enterprise,', 'enterprise,', 'enterprise,', 'enterprise,', 'enterprise,', 'enterprise,', 'enterprise,']\n",
      "Required : ['by', 'data', 'enterprise,', 'enterprise,', 'enterprise,', 'enterprise,', 'enterprise,', 'enterprise,', 'enterprise,', 'enterprise,', 'enterprise,', 'enterprise,', 'enterprise,', 'enterprise,', 'enterprise,', 'enterprise,', 'enterprise,', 'enterprise,', 'enterprise,', 'enterprise,', 'enterprise,', 'enterprise,', 'enterprise,', 'enterprise,', 'enterprise,', 'enterprise,', 'enterprise,', 'enterprise,', 'enterprise,', 'enterprise,', 'enterprise,', 'enterprise,', 'enterprise,', 'enterprise,', 'enterprise,', 'enterprise,', 'enterprise,', 'enterprise,', 'enterprise,', 'enterprise,', 'enterprise,', 'enterprise,', 'enterprise,', 'enterprise,', 'enterprise,', 'enterprise,', 'enterprise,', 'enterprise,', 'enterprise,', 'enterprise,', 'enterprise,']\n",
      "Required : ['by', 'data', 'enterprise,', 'enterprise,', 'enterprise,', 'enterprise,', 'enterprise,', 'enterprise,', 'enterprise,', 'enterprise,', 'enterprise,', 'enterprise,', 'enterprise,', 'enterprise,', 'enterprise,', 'enterprise,', 'enterprise,', 'enterprise,', 'enterprise,', 'enterprise,', 'enterprise,', 'enterprise,', 'enterprise,', 'enterprise,', 'enterprise,', 'enterprise,', 'enterprise,', 'enterprise,', 'enterprise,', 'enterprise,', 'enterprise,', 'enterprise,', 'enterprise,', 'enterprise,', 'enterprise,', 'enterprise,', 'enterprise,', 'enterprise,', 'enterprise,', 'enterprise,', 'enterprise,', 'enterprise,', 'enterprise,', 'enterprise,', 'enterprise,', 'enterprise,', 'enterprise,', 'enterprise,', 'enterprise,', 'enterprise,', 'enterprise,', 'enterprise,']\n",
      "Required : ['by', 'data', 'enterprise,', 'enterprise,', 'enterprise,', 'enterprise,', 'enterprise,', 'enterprise,', 'enterprise,', 'enterprise,', 'enterprise,', 'enterprise,', 'enterprise,', 'enterprise,', 'enterprise,', 'enterprise,', 'enterprise,', 'enterprise,', 'enterprise,', 'enterprise,', 'enterprise,', 'enterprise,', 'enterprise,', 'enterprise,', 'enterprise,', 'enterprise,', 'enterprise,', 'enterprise,', 'enterprise,', 'enterprise,', 'enterprise,', 'enterprise,', 'enterprise,', 'enterprise,', 'enterprise,', 'enterprise,', 'enterprise,', 'enterprise,', 'enterprise,', 'enterprise,', 'enterprise,', 'enterprise,', 'enterprise,', 'enterprise,', 'enterprise,', 'enterprise,', 'enterprise,', 'enterprise,', 'enterprise,', 'enterprise,', 'enterprise,', 'enterprise,', 'enterprise,']\n",
      "Required : ['by', 'data', 'enterprise,', 'enterprise,', 'enterprise,', 'enterprise,', 'enterprise,', 'enterprise,', 'enterprise,', 'enterprise,', 'enterprise,', 'enterprise,', 'enterprise,', 'enterprise,', 'enterprise,', 'enterprise,', 'enterprise,', 'enterprise,', 'enterprise,', 'enterprise,', 'enterprise,', 'enterprise,', 'enterprise,', 'enterprise,', 'enterprise,', 'enterprise,', 'enterprise,', 'enterprise,', 'enterprise,', 'enterprise,', 'enterprise,', 'enterprise,', 'enterprise,', 'enterprise,', 'enterprise,', 'enterprise,', 'enterprise,', 'enterprise,', 'enterprise,', 'enterprise,', 'enterprise,', 'enterprise,', 'enterprise,', 'enterprise,', 'enterprise,', 'enterprise,', 'enterprise,', 'enterprise,', 'enterprise,', 'enterprise,', 'enterprise,', 'enterprise,', 'enterprise,', 'enterprise,']\n",
      "Required : ['by', 'data', 'enterprise,', 'enterprise,', 'enterprise,', 'enterprise,', 'enterprise,', 'enterprise,', 'enterprise,', 'enterprise,', 'enterprise,', 'enterprise,', 'enterprise,', 'enterprise,', 'enterprise,', 'enterprise,', 'enterprise,', 'enterprise,', 'enterprise,', 'enterprise,', 'enterprise,', 'enterprise,', 'enterprise,', 'enterprise,', 'enterprise,', 'enterprise,', 'enterprise,', 'enterprise,', 'enterprise,', 'enterprise,', 'enterprise,', 'enterprise,', 'enterprise,', 'enterprise,', 'enterprise,', 'enterprise,', 'enterprise,', 'enterprise,', 'enterprise,', 'enterprise,', 'enterprise,', 'enterprise,', 'enterprise,', 'enterprise,', 'enterprise,', 'enterprise,', 'enterprise,', 'enterprise,', 'enterprise,', 'enterprise,', 'enterprise,', 'enterprise,', 'enterprise,', 'enterprise,', 'enterprise,']\n",
      "Required : ['by', 'data', 'enterprise,', 'enterprise,', 'enterprise,', 'enterprise,', 'enterprise,', 'enterprise,', 'enterprise,', 'enterprise,', 'enterprise,', 'enterprise,', 'enterprise,', 'enterprise,', 'enterprise,', 'enterprise,', 'enterprise,', 'enterprise,', 'enterprise,', 'enterprise,', 'enterprise,', 'enterprise,', 'enterprise,', 'enterprise,', 'enterprise,', 'enterprise,', 'enterprise,', 'enterprise,', 'enterprise,', 'enterprise,', 'enterprise,', 'enterprise,', 'enterprise,', 'enterprise,', 'enterprise,', 'enterprise,', 'enterprise,', 'enterprise,', 'enterprise,', 'enterprise,', 'enterprise,', 'enterprise,', 'enterprise,', 'enterprise,', 'enterprise,', 'enterprise,', 'enterprise,', 'enterprise,', 'enterprise,', 'enterprise,', 'enterprise,', 'enterprise,', 'enterprise,', 'enterprise,', 'enterprise,', 'enterprise,']\n",
      "Required : ['by', 'data', 'enterprise,', 'enterprise,', 'enterprise,', 'enterprise,', 'enterprise,', 'enterprise,', 'enterprise,', 'enterprise,', 'enterprise,', 'enterprise,', 'enterprise,', 'enterprise,', 'enterprise,', 'enterprise,', 'enterprise,', 'enterprise,', 'enterprise,', 'enterprise,', 'enterprise,', 'enterprise,', 'enterprise,', 'enterprise,', 'enterprise,', 'enterprise,', 'enterprise,', 'enterprise,', 'enterprise,', 'enterprise,', 'enterprise,', 'enterprise,', 'enterprise,', 'enterprise,', 'enterprise,', 'enterprise,', 'enterprise,', 'enterprise,', 'enterprise,', 'enterprise,', 'enterprise,', 'enterprise,', 'enterprise,', 'enterprise,', 'enterprise,', 'enterprise,', 'enterprise,', 'enterprise,', 'enterprise,', 'enterprise,', 'enterprise,', 'enterprise,', 'enterprise,', 'enterprise,', 'enterprise,', 'enterprise,', 'enterprise,']\n",
      "Required : ['by', 'data', 'enterprise,', 'enterprise,', 'enterprise,', 'enterprise,', 'enterprise,', 'enterprise,', 'enterprise,', 'enterprise,', 'enterprise,', 'enterprise,', 'enterprise,', 'enterprise,', 'enterprise,', 'enterprise,', 'enterprise,', 'enterprise,', 'enterprise,', 'enterprise,', 'enterprise,', 'enterprise,', 'enterprise,', 'enterprise,', 'enterprise,', 'enterprise,', 'enterprise,', 'enterprise,', 'enterprise,', 'enterprise,', 'enterprise,', 'enterprise,', 'enterprise,', 'enterprise,', 'enterprise,', 'enterprise,', 'enterprise,', 'enterprise,', 'enterprise,', 'enterprise,', 'enterprise,', 'enterprise,', 'enterprise,', 'enterprise,', 'enterprise,', 'enterprise,', 'enterprise,', 'enterprise,', 'enterprise,', 'enterprise,', 'enterprise,', 'enterprise,', 'enterprise,', 'enterprise,', 'enterprise,', 'enterprise,', 'enterprise,', 'enterprise,']\n",
      "Required : ['by', 'data', 'enterprise,', 'enterprise,', 'enterprise,', 'enterprise,', 'enterprise,', 'enterprise,', 'enterprise,', 'enterprise,', 'enterprise,', 'enterprise,', 'enterprise,', 'enterprise,', 'enterprise,', 'enterprise,', 'enterprise,', 'enterprise,', 'enterprise,', 'enterprise,', 'enterprise,', 'enterprise,', 'enterprise,', 'enterprise,', 'enterprise,', 'enterprise,', 'enterprise,', 'enterprise,', 'enterprise,', 'enterprise,', 'enterprise,', 'enterprise,', 'enterprise,', 'enterprise,', 'enterprise,', 'enterprise,', 'enterprise,', 'enterprise,', 'enterprise,', 'enterprise,', 'enterprise,', 'enterprise,', 'enterprise,', 'enterprise,', 'enterprise,', 'enterprise,', 'enterprise,', 'enterprise,', 'enterprise,', 'enterprise,', 'enterprise,', 'enterprise,', 'enterprise,', 'enterprise,', 'enterprise,', 'enterprise,', 'enterprise,', 'enterprise,', 'enterprise,']\n",
      "Required : ['by', 'data', 'enterprise,', 'enterprise,', 'enterprise,', 'enterprise,', 'enterprise,', 'enterprise,', 'enterprise,', 'enterprise,', 'enterprise,', 'enterprise,', 'enterprise,', 'enterprise,', 'enterprise,', 'enterprise,', 'enterprise,', 'enterprise,', 'enterprise,', 'enterprise,', 'enterprise,', 'enterprise,', 'enterprise,', 'enterprise,', 'enterprise,', 'enterprise,', 'enterprise,', 'enterprise,', 'enterprise,', 'enterprise,', 'enterprise,', 'enterprise,', 'enterprise,', 'enterprise,', 'enterprise,', 'enterprise,', 'enterprise,', 'enterprise,', 'enterprise,', 'enterprise,', 'enterprise,', 'enterprise,', 'enterprise,', 'enterprise,', 'enterprise,', 'enterprise,', 'enterprise,', 'enterprise,', 'enterprise,', 'enterprise,', 'enterprise,', 'enterprise,', 'enterprise,', 'enterprise,', 'enterprise,', 'enterprise,', 'enterprise,', 'enterprise,', 'enterprise,', 'enterprise,']\n",
      "Required : ['by', 'data', 'enterprise,', 'enterprise,', 'enterprise,', 'enterprise,', 'enterprise,', 'enterprise,', 'enterprise,', 'enterprise,', 'enterprise,', 'enterprise,', 'enterprise,', 'enterprise,', 'enterprise,', 'enterprise,', 'enterprise,', 'enterprise,', 'enterprise,', 'enterprise,', 'enterprise,', 'enterprise,', 'enterprise,', 'enterprise,', 'enterprise,', 'enterprise,', 'enterprise,', 'enterprise,', 'enterprise,', 'enterprise,', 'enterprise,', 'enterprise,', 'enterprise,', 'enterprise,', 'enterprise,', 'enterprise,', 'enterprise,', 'enterprise,', 'enterprise,', 'enterprise,', 'enterprise,', 'enterprise,', 'enterprise,', 'enterprise,', 'enterprise,', 'enterprise,', 'enterprise,', 'enterprise,', 'enterprise,', 'enterprise,', 'enterprise,', 'enterprise,', 'enterprise,', 'enterprise,', 'enterprise,', 'enterprise,', 'enterprise,', 'enterprise,', 'enterprise,', 'enterprise,', 'enterprise,']\n",
      "Required : ['by', 'data', 'enterprise,', 'enterprise,', 'enterprise,', 'enterprise,', 'enterprise,', 'enterprise,', 'enterprise,', 'enterprise,', 'enterprise,', 'enterprise,', 'enterprise,', 'enterprise,', 'enterprise,', 'enterprise,', 'enterprise,', 'enterprise,', 'enterprise,', 'enterprise,', 'enterprise,', 'enterprise,', 'enterprise,', 'enterprise,', 'enterprise,', 'enterprise,', 'enterprise,', 'enterprise,', 'enterprise,', 'enterprise,', 'enterprise,', 'enterprise,', 'enterprise,', 'enterprise,', 'enterprise,', 'enterprise,', 'enterprise,', 'enterprise,', 'enterprise,', 'enterprise,', 'enterprise,', 'enterprise,', 'enterprise,', 'enterprise,', 'enterprise,', 'enterprise,', 'enterprise,', 'enterprise,', 'enterprise,', 'enterprise,', 'enterprise,', 'enterprise,', 'enterprise,', 'enterprise,', 'enterprise,', 'enterprise,', 'enterprise,', 'enterprise,', 'enterprise,', 'enterprise,', 'enterprise,', 'enterprise,']\n",
      "Required : ['by', 'data', 'enterprise,', 'enterprise,', 'enterprise,', 'enterprise,', 'enterprise,', 'enterprise,', 'enterprise,', 'enterprise,', 'enterprise,', 'enterprise,', 'enterprise,', 'enterprise,', 'enterprise,', 'enterprise,', 'enterprise,', 'enterprise,', 'enterprise,', 'enterprise,', 'enterprise,', 'enterprise,', 'enterprise,', 'enterprise,', 'enterprise,', 'enterprise,', 'enterprise,', 'enterprise,', 'enterprise,', 'enterprise,', 'enterprise,', 'enterprise,', 'enterprise,', 'enterprise,', 'enterprise,', 'enterprise,', 'enterprise,', 'enterprise,', 'enterprise,', 'enterprise,', 'enterprise,', 'enterprise,', 'enterprise,', 'enterprise,', 'enterprise,', 'enterprise,', 'enterprise,', 'enterprise,', 'enterprise,', 'enterprise,', 'enterprise,', 'enterprise,', 'enterprise,', 'enterprise,', 'enterprise,', 'enterprise,', 'enterprise,', 'enterprise,', 'enterprise,', 'enterprise,', 'enterprise,', 'enterprise,', 'enterprise,']\n",
      "Required : ['by', 'data', 'enterprise,', 'enterprise,', 'enterprise,', 'enterprise,', 'enterprise,', 'enterprise,', 'enterprise,', 'enterprise,', 'enterprise,', 'enterprise,', 'enterprise,', 'enterprise,', 'enterprise,', 'enterprise,', 'enterprise,', 'enterprise,', 'enterprise,', 'enterprise,', 'enterprise,', 'enterprise,', 'enterprise,', 'enterprise,', 'enterprise,', 'enterprise,', 'enterprise,', 'enterprise,', 'enterprise,', 'enterprise,', 'enterprise,', 'enterprise,', 'enterprise,', 'enterprise,', 'enterprise,', 'enterprise,', 'enterprise,', 'enterprise,', 'enterprise,', 'enterprise,', 'enterprise,', 'enterprise,', 'enterprise,', 'enterprise,', 'enterprise,', 'enterprise,', 'enterprise,', 'enterprise,', 'enterprise,', 'enterprise,', 'enterprise,', 'enterprise,', 'enterprise,', 'enterprise,', 'enterprise,', 'enterprise,', 'enterprise,', 'enterprise,', 'enterprise,', 'enterprise,', 'enterprise,', 'enterprise,', 'enterprise,', 'enterprise,']\n"
     ]
    },
    {
     "name": "stdout",
     "output_type": "stream",
     "text": [
      "Required : ['by', 'data', 'enterprise,', 'enterprise,', 'enterprise,', 'enterprise,', 'enterprise,', 'enterprise,', 'enterprise,', 'enterprise,', 'enterprise,', 'enterprise,', 'enterprise,', 'enterprise,', 'enterprise,', 'enterprise,', 'enterprise,', 'enterprise,', 'enterprise,', 'enterprise,', 'enterprise,', 'enterprise,', 'enterprise,', 'enterprise,', 'enterprise,', 'enterprise,', 'enterprise,', 'enterprise,', 'enterprise,', 'enterprise,', 'enterprise,', 'enterprise,', 'enterprise,', 'enterprise,', 'enterprise,', 'enterprise,', 'enterprise,', 'enterprise,', 'enterprise,', 'enterprise,', 'enterprise,', 'enterprise,', 'enterprise,', 'enterprise,', 'enterprise,', 'enterprise,', 'enterprise,', 'enterprise,', 'enterprise,', 'enterprise,', 'enterprise,', 'enterprise,', 'enterprise,', 'enterprise,', 'enterprise,', 'enterprise,', 'enterprise,', 'enterprise,', 'enterprise,', 'enterprise,', 'enterprise,', 'enterprise,', 'enterprise,', 'enterprise,', 'enterprise,']\n",
      "Required : ['by', 'data', 'enterprise,', 'enterprise,', 'enterprise,', 'enterprise,', 'enterprise,', 'enterprise,', 'enterprise,', 'enterprise,', 'enterprise,', 'enterprise,', 'enterprise,', 'enterprise,', 'enterprise,', 'enterprise,', 'enterprise,', 'enterprise,', 'enterprise,', 'enterprise,', 'enterprise,', 'enterprise,', 'enterprise,', 'enterprise,', 'enterprise,', 'enterprise,', 'enterprise,', 'enterprise,', 'enterprise,', 'enterprise,', 'enterprise,', 'enterprise,', 'enterprise,', 'enterprise,', 'enterprise,', 'enterprise,', 'enterprise,', 'enterprise,', 'enterprise,', 'enterprise,', 'enterprise,', 'enterprise,', 'enterprise,', 'enterprise,', 'enterprise,', 'enterprise,', 'enterprise,', 'enterprise,', 'enterprise,', 'enterprise,', 'enterprise,', 'enterprise,', 'enterprise,', 'enterprise,', 'enterprise,', 'enterprise,', 'enterprise,', 'enterprise,', 'enterprise,', 'enterprise,', 'enterprise,', 'enterprise,', 'enterprise,', 'enterprise,', 'enterprise,', 'enterprise,']\n",
      "Required : ['by', 'data', 'enterprise,', 'enterprise,', 'enterprise,', 'enterprise,', 'enterprise,', 'enterprise,', 'enterprise,', 'enterprise,', 'enterprise,', 'enterprise,', 'enterprise,', 'enterprise,', 'enterprise,', 'enterprise,', 'enterprise,', 'enterprise,', 'enterprise,', 'enterprise,', 'enterprise,', 'enterprise,', 'enterprise,', 'enterprise,', 'enterprise,', 'enterprise,', 'enterprise,', 'enterprise,', 'enterprise,', 'enterprise,', 'enterprise,', 'enterprise,', 'enterprise,', 'enterprise,', 'enterprise,', 'enterprise,', 'enterprise,', 'enterprise,', 'enterprise,', 'enterprise,', 'enterprise,', 'enterprise,', 'enterprise,', 'enterprise,', 'enterprise,', 'enterprise,', 'enterprise,', 'enterprise,', 'enterprise,', 'enterprise,', 'enterprise,', 'enterprise,', 'enterprise,', 'enterprise,', 'enterprise,', 'enterprise,', 'enterprise,', 'enterprise,', 'enterprise,', 'enterprise,', 'enterprise,', 'enterprise,', 'enterprise,', 'enterprise,', 'enterprise,', 'enterprise,', 'enterprise,']\n",
      "Required : ['by', 'data', 'enterprise,', 'enterprise,', 'enterprise,', 'enterprise,', 'enterprise,', 'enterprise,', 'enterprise,', 'enterprise,', 'enterprise,', 'enterprise,', 'enterprise,', 'enterprise,', 'enterprise,', 'enterprise,', 'enterprise,', 'enterprise,', 'enterprise,', 'enterprise,', 'enterprise,', 'enterprise,', 'enterprise,', 'enterprise,', 'enterprise,', 'enterprise,', 'enterprise,', 'enterprise,', 'enterprise,', 'enterprise,', 'enterprise,', 'enterprise,', 'enterprise,', 'enterprise,', 'enterprise,', 'enterprise,', 'enterprise,', 'enterprise,', 'enterprise,', 'enterprise,', 'enterprise,', 'enterprise,', 'enterprise,', 'enterprise,', 'enterprise,', 'enterprise,', 'enterprise,', 'enterprise,', 'enterprise,', 'enterprise,', 'enterprise,', 'enterprise,', 'enterprise,', 'enterprise,', 'enterprise,', 'enterprise,', 'enterprise,', 'enterprise,', 'enterprise,', 'enterprise,', 'enterprise,', 'enterprise,', 'enterprise,', 'enterprise,', 'enterprise,', 'enterprise,', 'enterprise,', 'enterprise,']\n",
      "Required : ['by', 'data', 'enterprise,', 'enterprise,', 'enterprise,', 'enterprise,', 'enterprise,', 'enterprise,', 'enterprise,', 'enterprise,', 'enterprise,', 'enterprise,', 'enterprise,', 'enterprise,', 'enterprise,', 'enterprise,', 'enterprise,', 'enterprise,', 'enterprise,', 'enterprise,', 'enterprise,', 'enterprise,', 'enterprise,', 'enterprise,', 'enterprise,', 'enterprise,', 'enterprise,', 'enterprise,', 'enterprise,', 'enterprise,', 'enterprise,', 'enterprise,', 'enterprise,', 'enterprise,', 'enterprise,', 'enterprise,', 'enterprise,', 'enterprise,', 'enterprise,', 'enterprise,', 'enterprise,', 'enterprise,', 'enterprise,', 'enterprise,', 'enterprise,', 'enterprise,', 'enterprise,', 'enterprise,', 'enterprise,', 'enterprise,', 'enterprise,', 'enterprise,', 'enterprise,', 'enterprise,', 'enterprise,', 'enterprise,', 'enterprise,', 'enterprise,', 'enterprise,', 'enterprise,', 'enterprise,', 'enterprise,', 'enterprise,', 'enterprise,', 'enterprise,', 'enterprise,', 'enterprise,', 'enterprise,', 'enterprise,']\n",
      "Required : ['by', 'data', 'enterprise,', 'enterprise,', 'enterprise,', 'enterprise,', 'enterprise,', 'enterprise,', 'enterprise,', 'enterprise,', 'enterprise,', 'enterprise,', 'enterprise,', 'enterprise,', 'enterprise,', 'enterprise,', 'enterprise,', 'enterprise,', 'enterprise,', 'enterprise,', 'enterprise,', 'enterprise,', 'enterprise,', 'enterprise,', 'enterprise,', 'enterprise,', 'enterprise,', 'enterprise,', 'enterprise,', 'enterprise,', 'enterprise,', 'enterprise,', 'enterprise,', 'enterprise,', 'enterprise,', 'enterprise,', 'enterprise,', 'enterprise,', 'enterprise,', 'enterprise,', 'enterprise,', 'enterprise,', 'enterprise,', 'enterprise,', 'enterprise,', 'enterprise,', 'enterprise,', 'enterprise,', 'enterprise,', 'enterprise,', 'enterprise,', 'enterprise,', 'enterprise,', 'enterprise,', 'enterprise,', 'enterprise,', 'enterprise,', 'enterprise,', 'enterprise,', 'enterprise,', 'enterprise,', 'enterprise,', 'enterprise,', 'enterprise,', 'enterprise,', 'enterprise,', 'enterprise,', 'enterprise,', 'enterprise,', 'enterprise,']\n",
      "Required : ['by', 'data', 'enterprise,', 'enterprise,', 'enterprise,', 'enterprise,', 'enterprise,', 'enterprise,', 'enterprise,', 'enterprise,', 'enterprise,', 'enterprise,', 'enterprise,', 'enterprise,', 'enterprise,', 'enterprise,', 'enterprise,', 'enterprise,', 'enterprise,', 'enterprise,', 'enterprise,', 'enterprise,', 'enterprise,', 'enterprise,', 'enterprise,', 'enterprise,', 'enterprise,', 'enterprise,', 'enterprise,', 'enterprise,', 'enterprise,', 'enterprise,', 'enterprise,', 'enterprise,', 'enterprise,', 'enterprise,', 'enterprise,', 'enterprise,', 'enterprise,', 'enterprise,', 'enterprise,', 'enterprise,', 'enterprise,', 'enterprise,', 'enterprise,', 'enterprise,', 'enterprise,', 'enterprise,', 'enterprise,', 'enterprise,', 'enterprise,', 'enterprise,', 'enterprise,', 'enterprise,', 'enterprise,', 'enterprise,', 'enterprise,', 'enterprise,', 'enterprise,', 'enterprise,', 'enterprise,', 'enterprise,', 'enterprise,', 'enterprise,', 'enterprise,', 'enterprise,', 'enterprise,', 'enterprise,', 'enterprise,', 'enterprise,', 'enterprise,']\n",
      "Required : ['by', 'data', 'enterprise,', 'enterprise,', 'enterprise,', 'enterprise,', 'enterprise,', 'enterprise,', 'enterprise,', 'enterprise,', 'enterprise,', 'enterprise,', 'enterprise,', 'enterprise,', 'enterprise,', 'enterprise,', 'enterprise,', 'enterprise,', 'enterprise,', 'enterprise,', 'enterprise,', 'enterprise,', 'enterprise,', 'enterprise,', 'enterprise,', 'enterprise,', 'enterprise,', 'enterprise,', 'enterprise,', 'enterprise,', 'enterprise,', 'enterprise,', 'enterprise,', 'enterprise,', 'enterprise,', 'enterprise,', 'enterprise,', 'enterprise,', 'enterprise,', 'enterprise,', 'enterprise,', 'enterprise,', 'enterprise,', 'enterprise,', 'enterprise,', 'enterprise,', 'enterprise,', 'enterprise,', 'enterprise,', 'enterprise,', 'enterprise,', 'enterprise,', 'enterprise,', 'enterprise,', 'enterprise,', 'enterprise,', 'enterprise,', 'enterprise,', 'enterprise,', 'enterprise,', 'enterprise,', 'enterprise,', 'enterprise,', 'enterprise,', 'enterprise,', 'enterprise,', 'enterprise,', 'enterprise,', 'enterprise,', 'enterprise,', 'enterprise,', 'enterprise,']\n",
      "Required : ['by', 'data', 'enterprise,', 'enterprise,', 'enterprise,', 'enterprise,', 'enterprise,', 'enterprise,', 'enterprise,', 'enterprise,', 'enterprise,', 'enterprise,', 'enterprise,', 'enterprise,', 'enterprise,', 'enterprise,', 'enterprise,', 'enterprise,', 'enterprise,', 'enterprise,', 'enterprise,', 'enterprise,', 'enterprise,', 'enterprise,', 'enterprise,', 'enterprise,', 'enterprise,', 'enterprise,', 'enterprise,', 'enterprise,', 'enterprise,', 'enterprise,', 'enterprise,', 'enterprise,', 'enterprise,', 'enterprise,', 'enterprise,', 'enterprise,', 'enterprise,', 'enterprise,', 'enterprise,', 'enterprise,', 'enterprise,', 'enterprise,', 'enterprise,', 'enterprise,', 'enterprise,', 'enterprise,', 'enterprise,', 'enterprise,', 'enterprise,', 'enterprise,', 'enterprise,', 'enterprise,', 'enterprise,', 'enterprise,', 'enterprise,', 'enterprise,', 'enterprise,', 'enterprise,', 'enterprise,', 'enterprise,', 'enterprise,', 'enterprise,', 'enterprise,', 'enterprise,', 'enterprise,', 'enterprise,', 'enterprise,', 'enterprise,', 'enterprise,', 'enterprise,', 'enterprise,']\n",
      "Required : ['by', 'data', 'enterprise,', 'enterprise,', 'enterprise,', 'enterprise,', 'enterprise,', 'enterprise,', 'enterprise,', 'enterprise,', 'enterprise,', 'enterprise,', 'enterprise,', 'enterprise,', 'enterprise,', 'enterprise,', 'enterprise,', 'enterprise,', 'enterprise,', 'enterprise,', 'enterprise,', 'enterprise,', 'enterprise,', 'enterprise,', 'enterprise,', 'enterprise,', 'enterprise,', 'enterprise,', 'enterprise,', 'enterprise,', 'enterprise,', 'enterprise,', 'enterprise,', 'enterprise,', 'enterprise,', 'enterprise,', 'enterprise,', 'enterprise,', 'enterprise,', 'enterprise,', 'enterprise,', 'enterprise,', 'enterprise,', 'enterprise,', 'enterprise,', 'enterprise,', 'enterprise,', 'enterprise,', 'enterprise,', 'enterprise,', 'enterprise,', 'enterprise,', 'enterprise,', 'enterprise,', 'enterprise,', 'enterprise,', 'enterprise,', 'enterprise,', 'enterprise,', 'enterprise,', 'enterprise,', 'enterprise,', 'enterprise,', 'enterprise,', 'enterprise,', 'enterprise,', 'enterprise,', 'enterprise,', 'enterprise,', 'enterprise,', 'enterprise,', 'enterprise,', 'enterprise,', 'enterprise,']\n",
      "Required : ['by', 'data', 'enterprise,', 'enterprise,', 'enterprise,', 'enterprise,', 'enterprise,', 'enterprise,', 'enterprise,', 'enterprise,', 'enterprise,', 'enterprise,', 'enterprise,', 'enterprise,', 'enterprise,', 'enterprise,', 'enterprise,', 'enterprise,', 'enterprise,', 'enterprise,', 'enterprise,', 'enterprise,', 'enterprise,', 'enterprise,', 'enterprise,', 'enterprise,', 'enterprise,', 'enterprise,', 'enterprise,', 'enterprise,', 'enterprise,', 'enterprise,', 'enterprise,', 'enterprise,', 'enterprise,', 'enterprise,', 'enterprise,', 'enterprise,', 'enterprise,', 'enterprise,', 'enterprise,', 'enterprise,', 'enterprise,', 'enterprise,', 'enterprise,', 'enterprise,', 'enterprise,', 'enterprise,', 'enterprise,', 'enterprise,', 'enterprise,', 'enterprise,', 'enterprise,', 'enterprise,', 'enterprise,', 'enterprise,', 'enterprise,', 'enterprise,', 'enterprise,', 'enterprise,', 'enterprise,', 'enterprise,', 'enterprise,', 'enterprise,', 'enterprise,', 'enterprise,', 'enterprise,', 'enterprise,', 'enterprise,', 'enterprise,', 'enterprise,', 'enterprise,', 'enterprise,', 'enterprise,', 'enterprise,']\n",
      "Required : ['by', 'data', 'enterprise,', 'enterprise,', 'enterprise,', 'enterprise,', 'enterprise,', 'enterprise,', 'enterprise,', 'enterprise,', 'enterprise,', 'enterprise,', 'enterprise,', 'enterprise,', 'enterprise,', 'enterprise,', 'enterprise,', 'enterprise,', 'enterprise,', 'enterprise,', 'enterprise,', 'enterprise,', 'enterprise,', 'enterprise,', 'enterprise,', 'enterprise,', 'enterprise,', 'enterprise,', 'enterprise,', 'enterprise,', 'enterprise,', 'enterprise,', 'enterprise,', 'enterprise,', 'enterprise,', 'enterprise,', 'enterprise,', 'enterprise,', 'enterprise,', 'enterprise,', 'enterprise,', 'enterprise,', 'enterprise,', 'enterprise,', 'enterprise,', 'enterprise,', 'enterprise,', 'enterprise,', 'enterprise,', 'enterprise,', 'enterprise,', 'enterprise,', 'enterprise,', 'enterprise,', 'enterprise,', 'enterprise,', 'enterprise,', 'enterprise,', 'enterprise,', 'enterprise,', 'enterprise,', 'enterprise,', 'enterprise,', 'enterprise,', 'enterprise,', 'enterprise,', 'enterprise,', 'enterprise,', 'enterprise,', 'enterprise,', 'enterprise,', 'enterprise,', 'enterprise,', 'enterprise,', 'enterprise,', 'enterprise,']\n",
      "Required : ['by', 'data', 'enterprise,', 'enterprise,', 'enterprise,', 'enterprise,', 'enterprise,', 'enterprise,', 'enterprise,', 'enterprise,', 'enterprise,', 'enterprise,', 'enterprise,', 'enterprise,', 'enterprise,', 'enterprise,', 'enterprise,', 'enterprise,', 'enterprise,', 'enterprise,', 'enterprise,', 'enterprise,', 'enterprise,', 'enterprise,', 'enterprise,', 'enterprise,', 'enterprise,', 'enterprise,', 'enterprise,', 'enterprise,', 'enterprise,', 'enterprise,', 'enterprise,', 'enterprise,', 'enterprise,', 'enterprise,', 'enterprise,', 'enterprise,', 'enterprise,', 'enterprise,', 'enterprise,', 'enterprise,', 'enterprise,', 'enterprise,', 'enterprise,', 'enterprise,', 'enterprise,', 'enterprise,', 'enterprise,', 'enterprise,', 'enterprise,', 'enterprise,', 'enterprise,', 'enterprise,', 'enterprise,', 'enterprise,', 'enterprise,', 'enterprise,', 'enterprise,', 'enterprise,', 'enterprise,', 'enterprise,', 'enterprise,', 'enterprise,', 'enterprise,', 'enterprise,', 'enterprise,', 'enterprise,', 'enterprise,', 'enterprise,', 'enterprise,', 'enterprise,', 'enterprise,', 'enterprise,', 'enterprise,', 'enterprise,', 'enterprise,']\n",
      "Required : ['by', 'data', 'enterprise,', 'enterprise,', 'enterprise,', 'enterprise,', 'enterprise,', 'enterprise,', 'enterprise,', 'enterprise,', 'enterprise,', 'enterprise,', 'enterprise,', 'enterprise,', 'enterprise,', 'enterprise,', 'enterprise,', 'enterprise,', 'enterprise,', 'enterprise,', 'enterprise,', 'enterprise,', 'enterprise,', 'enterprise,', 'enterprise,', 'enterprise,', 'enterprise,', 'enterprise,', 'enterprise,', 'enterprise,', 'enterprise,', 'enterprise,', 'enterprise,', 'enterprise,', 'enterprise,', 'enterprise,', 'enterprise,', 'enterprise,', 'enterprise,', 'enterprise,', 'enterprise,', 'enterprise,', 'enterprise,', 'enterprise,', 'enterprise,', 'enterprise,', 'enterprise,', 'enterprise,', 'enterprise,', 'enterprise,', 'enterprise,', 'enterprise,', 'enterprise,', 'enterprise,', 'enterprise,', 'enterprise,', 'enterprise,', 'enterprise,', 'enterprise,', 'enterprise,', 'enterprise,', 'enterprise,', 'enterprise,', 'enterprise,', 'enterprise,', 'enterprise,', 'enterprise,', 'enterprise,', 'enterprise,', 'enterprise,', 'enterprise,', 'enterprise,', 'enterprise,', 'enterprise,', 'enterprise,', 'enterprise,', 'enterprise,', 'enterprise,']\n",
      "Required : ['by', 'data', 'enterprise,', 'enterprise,', 'enterprise,', 'enterprise,', 'enterprise,', 'enterprise,', 'enterprise,', 'enterprise,', 'enterprise,', 'enterprise,', 'enterprise,', 'enterprise,', 'enterprise,', 'enterprise,', 'enterprise,', 'enterprise,', 'enterprise,', 'enterprise,', 'enterprise,', 'enterprise,', 'enterprise,', 'enterprise,', 'enterprise,', 'enterprise,', 'enterprise,', 'enterprise,', 'enterprise,', 'enterprise,', 'enterprise,', 'enterprise,', 'enterprise,', 'enterprise,', 'enterprise,', 'enterprise,', 'enterprise,', 'enterprise,', 'enterprise,', 'enterprise,', 'enterprise,', 'enterprise,', 'enterprise,', 'enterprise,', 'enterprise,', 'enterprise,', 'enterprise,', 'enterprise,', 'enterprise,', 'enterprise,', 'enterprise,', 'enterprise,', 'enterprise,', 'enterprise,', 'enterprise,', 'enterprise,', 'enterprise,', 'enterprise,', 'enterprise,', 'enterprise,', 'enterprise,', 'enterprise,', 'enterprise,', 'enterprise,', 'enterprise,', 'enterprise,', 'enterprise,', 'enterprise,', 'enterprise,', 'enterprise,', 'enterprise,', 'enterprise,', 'enterprise,', 'enterprise,', 'enterprise,', 'enterprise,', 'enterprise,', 'enterprise,', 'enterprise,']\n"
     ]
    },
    {
     "name": "stdout",
     "output_type": "stream",
     "text": [
      "Required : ['by', 'data', 'enterprise,', 'enterprise,', 'enterprise,', 'enterprise,', 'enterprise,', 'enterprise,', 'enterprise,', 'enterprise,', 'enterprise,', 'enterprise,', 'enterprise,', 'enterprise,', 'enterprise,', 'enterprise,', 'enterprise,', 'enterprise,', 'enterprise,', 'enterprise,', 'enterprise,', 'enterprise,', 'enterprise,', 'enterprise,', 'enterprise,', 'enterprise,', 'enterprise,', 'enterprise,', 'enterprise,', 'enterprise,', 'enterprise,', 'enterprise,', 'enterprise,', 'enterprise,', 'enterprise,', 'enterprise,', 'enterprise,', 'enterprise,', 'enterprise,', 'enterprise,', 'enterprise,', 'enterprise,', 'enterprise,', 'enterprise,', 'enterprise,', 'enterprise,', 'enterprise,', 'enterprise,', 'enterprise,', 'enterprise,', 'enterprise,', 'enterprise,', 'enterprise,', 'enterprise,', 'enterprise,', 'enterprise,', 'enterprise,', 'enterprise,', 'enterprise,', 'enterprise,', 'enterprise,', 'enterprise,', 'enterprise,', 'enterprise,', 'enterprise,', 'enterprise,', 'enterprise,', 'enterprise,', 'enterprise,', 'enterprise,', 'enterprise,', 'enterprise,', 'enterprise,', 'enterprise,', 'enterprise,', 'enterprise,', 'enterprise,', 'enterprise,', 'enterprise,', 'enterprise,']\n",
      "Required : ['by', 'data', 'enterprise,', 'enterprise,', 'enterprise,', 'enterprise,', 'enterprise,', 'enterprise,', 'enterprise,', 'enterprise,', 'enterprise,', 'enterprise,', 'enterprise,', 'enterprise,', 'enterprise,', 'enterprise,', 'enterprise,', 'enterprise,', 'enterprise,', 'enterprise,', 'enterprise,', 'enterprise,', 'enterprise,', 'enterprise,', 'enterprise,', 'enterprise,', 'enterprise,', 'enterprise,', 'enterprise,', 'enterprise,', 'enterprise,', 'enterprise,', 'enterprise,', 'enterprise,', 'enterprise,', 'enterprise,', 'enterprise,', 'enterprise,', 'enterprise,', 'enterprise,', 'enterprise,', 'enterprise,', 'enterprise,', 'enterprise,', 'enterprise,', 'enterprise,', 'enterprise,', 'enterprise,', 'enterprise,', 'enterprise,', 'enterprise,', 'enterprise,', 'enterprise,', 'enterprise,', 'enterprise,', 'enterprise,', 'enterprise,', 'enterprise,', 'enterprise,', 'enterprise,', 'enterprise,', 'enterprise,', 'enterprise,', 'enterprise,', 'enterprise,', 'enterprise,', 'enterprise,', 'enterprise,', 'enterprise,', 'enterprise,', 'enterprise,', 'enterprise,', 'enterprise,', 'enterprise,', 'enterprise,', 'enterprise,', 'enterprise,', 'enterprise,', 'enterprise,', 'enterprise,', 'enterprise,']\n",
      "Required : ['by', 'data', 'enterprise,', 'enterprise,', 'enterprise,', 'enterprise,', 'enterprise,', 'enterprise,', 'enterprise,', 'enterprise,', 'enterprise,', 'enterprise,', 'enterprise,', 'enterprise,', 'enterprise,', 'enterprise,', 'enterprise,', 'enterprise,', 'enterprise,', 'enterprise,', 'enterprise,', 'enterprise,', 'enterprise,', 'enterprise,', 'enterprise,', 'enterprise,', 'enterprise,', 'enterprise,', 'enterprise,', 'enterprise,', 'enterprise,', 'enterprise,', 'enterprise,', 'enterprise,', 'enterprise,', 'enterprise,', 'enterprise,', 'enterprise,', 'enterprise,', 'enterprise,', 'enterprise,', 'enterprise,', 'enterprise,', 'enterprise,', 'enterprise,', 'enterprise,', 'enterprise,', 'enterprise,', 'enterprise,', 'enterprise,', 'enterprise,', 'enterprise,', 'enterprise,', 'enterprise,', 'enterprise,', 'enterprise,', 'enterprise,', 'enterprise,', 'enterprise,', 'enterprise,', 'enterprise,', 'enterprise,', 'enterprise,', 'enterprise,', 'enterprise,', 'enterprise,', 'enterprise,', 'enterprise,', 'enterprise,', 'enterprise,', 'enterprise,', 'enterprise,', 'enterprise,', 'enterprise,', 'enterprise,', 'enterprise,', 'enterprise,', 'enterprise,', 'enterprise,', 'enterprise,', 'enterprise,', 'enterprise,']\n",
      "Required : ['by', 'data', 'enterprise,', 'enterprise,', 'enterprise,', 'enterprise,', 'enterprise,', 'enterprise,', 'enterprise,', 'enterprise,', 'enterprise,', 'enterprise,', 'enterprise,', 'enterprise,', 'enterprise,', 'enterprise,', 'enterprise,', 'enterprise,', 'enterprise,', 'enterprise,', 'enterprise,', 'enterprise,', 'enterprise,', 'enterprise,', 'enterprise,', 'enterprise,', 'enterprise,', 'enterprise,', 'enterprise,', 'enterprise,', 'enterprise,', 'enterprise,', 'enterprise,', 'enterprise,', 'enterprise,', 'enterprise,', 'enterprise,', 'enterprise,', 'enterprise,', 'enterprise,', 'enterprise,', 'enterprise,', 'enterprise,', 'enterprise,', 'enterprise,', 'enterprise,', 'enterprise,', 'enterprise,', 'enterprise,', 'enterprise,', 'enterprise,', 'enterprise,', 'enterprise,', 'enterprise,', 'enterprise,', 'enterprise,', 'enterprise,', 'enterprise,', 'enterprise,', 'enterprise,', 'enterprise,', 'enterprise,', 'enterprise,', 'enterprise,', 'enterprise,', 'enterprise,', 'enterprise,', 'enterprise,', 'enterprise,', 'enterprise,', 'enterprise,', 'enterprise,', 'enterprise,', 'enterprise,', 'enterprise,', 'enterprise,', 'enterprise,', 'enterprise,', 'enterprise,', 'enterprise,', 'enterprise,', 'enterprise,', 'enterprise,']\n",
      "Required : ['by', 'data', 'enterprise,', 'enterprise,', 'enterprise,', 'enterprise,', 'enterprise,', 'enterprise,', 'enterprise,', 'enterprise,', 'enterprise,', 'enterprise,', 'enterprise,', 'enterprise,', 'enterprise,', 'enterprise,', 'enterprise,', 'enterprise,', 'enterprise,', 'enterprise,', 'enterprise,', 'enterprise,', 'enterprise,', 'enterprise,', 'enterprise,', 'enterprise,', 'enterprise,', 'enterprise,', 'enterprise,', 'enterprise,', 'enterprise,', 'enterprise,', 'enterprise,', 'enterprise,', 'enterprise,', 'enterprise,', 'enterprise,', 'enterprise,', 'enterprise,', 'enterprise,', 'enterprise,', 'enterprise,', 'enterprise,', 'enterprise,', 'enterprise,', 'enterprise,', 'enterprise,', 'enterprise,', 'enterprise,', 'enterprise,', 'enterprise,', 'enterprise,', 'enterprise,', 'enterprise,', 'enterprise,', 'enterprise,', 'enterprise,', 'enterprise,', 'enterprise,', 'enterprise,', 'enterprise,', 'enterprise,', 'enterprise,', 'enterprise,', 'enterprise,', 'enterprise,', 'enterprise,', 'enterprise,', 'enterprise,', 'enterprise,', 'enterprise,', 'enterprise,', 'enterprise,', 'enterprise,', 'enterprise,', 'enterprise,', 'enterprise,', 'enterprise,', 'enterprise,', 'enterprise,', 'enterprise,', 'enterprise,', 'enterprise,', 'enterprise,']\n",
      "Required : ['by', 'data', 'enterprise,', 'enterprise,', 'enterprise,', 'enterprise,', 'enterprise,', 'enterprise,', 'enterprise,', 'enterprise,', 'enterprise,', 'enterprise,', 'enterprise,', 'enterprise,', 'enterprise,', 'enterprise,', 'enterprise,', 'enterprise,', 'enterprise,', 'enterprise,', 'enterprise,', 'enterprise,', 'enterprise,', 'enterprise,', 'enterprise,', 'enterprise,', 'enterprise,', 'enterprise,', 'enterprise,', 'enterprise,', 'enterprise,', 'enterprise,', 'enterprise,', 'enterprise,', 'enterprise,', 'enterprise,', 'enterprise,', 'enterprise,', 'enterprise,', 'enterprise,', 'enterprise,', 'enterprise,', 'enterprise,', 'enterprise,', 'enterprise,', 'enterprise,', 'enterprise,', 'enterprise,', 'enterprise,', 'enterprise,', 'enterprise,', 'enterprise,', 'enterprise,', 'enterprise,', 'enterprise,', 'enterprise,', 'enterprise,', 'enterprise,', 'enterprise,', 'enterprise,', 'enterprise,', 'enterprise,', 'enterprise,', 'enterprise,', 'enterprise,', 'enterprise,', 'enterprise,', 'enterprise,', 'enterprise,', 'enterprise,', 'enterprise,', 'enterprise,', 'enterprise,', 'enterprise,', 'enterprise,', 'enterprise,', 'enterprise,', 'enterprise,', 'enterprise,', 'enterprise,', 'enterprise,', 'enterprise,', 'enterprise,', 'enterprise,', 'enterprise,']\n",
      "Required : ['by', 'data', 'enterprise,', 'enterprise,', 'enterprise,', 'enterprise,', 'enterprise,', 'enterprise,', 'enterprise,', 'enterprise,', 'enterprise,', 'enterprise,', 'enterprise,', 'enterprise,', 'enterprise,', 'enterprise,', 'enterprise,', 'enterprise,', 'enterprise,', 'enterprise,', 'enterprise,', 'enterprise,', 'enterprise,', 'enterprise,', 'enterprise,', 'enterprise,', 'enterprise,', 'enterprise,', 'enterprise,', 'enterprise,', 'enterprise,', 'enterprise,', 'enterprise,', 'enterprise,', 'enterprise,', 'enterprise,', 'enterprise,', 'enterprise,', 'enterprise,', 'enterprise,', 'enterprise,', 'enterprise,', 'enterprise,', 'enterprise,', 'enterprise,', 'enterprise,', 'enterprise,', 'enterprise,', 'enterprise,', 'enterprise,', 'enterprise,', 'enterprise,', 'enterprise,', 'enterprise,', 'enterprise,', 'enterprise,', 'enterprise,', 'enterprise,', 'enterprise,', 'enterprise,', 'enterprise,', 'enterprise,', 'enterprise,', 'enterprise,', 'enterprise,', 'enterprise,', 'enterprise,', 'enterprise,', 'enterprise,', 'enterprise,', 'enterprise,', 'enterprise,', 'enterprise,', 'enterprise,', 'enterprise,', 'enterprise,', 'enterprise,', 'enterprise,', 'enterprise,', 'enterprise,', 'enterprise,', 'enterprise,', 'enterprise,', 'enterprise,', 'enterprise,', 'enterprise,']\n",
      "Required : ['by', 'data', 'enterprise,', 'enterprise,', 'enterprise,', 'enterprise,', 'enterprise,', 'enterprise,', 'enterprise,', 'enterprise,', 'enterprise,', 'enterprise,', 'enterprise,', 'enterprise,', 'enterprise,', 'enterprise,', 'enterprise,', 'enterprise,', 'enterprise,', 'enterprise,', 'enterprise,', 'enterprise,', 'enterprise,', 'enterprise,', 'enterprise,', 'enterprise,', 'enterprise,', 'enterprise,', 'enterprise,', 'enterprise,', 'enterprise,', 'enterprise,', 'enterprise,', 'enterprise,', 'enterprise,', 'enterprise,', 'enterprise,', 'enterprise,', 'enterprise,', 'enterprise,', 'enterprise,', 'enterprise,', 'enterprise,', 'enterprise,', 'enterprise,', 'enterprise,', 'enterprise,', 'enterprise,', 'enterprise,', 'enterprise,', 'enterprise,', 'enterprise,', 'enterprise,', 'enterprise,', 'enterprise,', 'enterprise,', 'enterprise,', 'enterprise,', 'enterprise,', 'enterprise,', 'enterprise,', 'enterprise,', 'enterprise,', 'enterprise,', 'enterprise,', 'enterprise,', 'enterprise,', 'enterprise,', 'enterprise,', 'enterprise,', 'enterprise,', 'enterprise,', 'enterprise,', 'enterprise,', 'enterprise,', 'enterprise,', 'enterprise,', 'enterprise,', 'enterprise,', 'enterprise,', 'enterprise,', 'enterprise,', 'enterprise,', 'enterprise,', 'enterprise,', 'enterprise,', 'enterprise,']\n",
      "Required : ['by', 'data', 'enterprise,', 'enterprise,', 'enterprise,', 'enterprise,', 'enterprise,', 'enterprise,', 'enterprise,', 'enterprise,', 'enterprise,', 'enterprise,', 'enterprise,', 'enterprise,', 'enterprise,', 'enterprise,', 'enterprise,', 'enterprise,', 'enterprise,', 'enterprise,', 'enterprise,', 'enterprise,', 'enterprise,', 'enterprise,', 'enterprise,', 'enterprise,', 'enterprise,', 'enterprise,', 'enterprise,', 'enterprise,', 'enterprise,', 'enterprise,', 'enterprise,', 'enterprise,', 'enterprise,', 'enterprise,', 'enterprise,', 'enterprise,', 'enterprise,', 'enterprise,', 'enterprise,', 'enterprise,', 'enterprise,', 'enterprise,', 'enterprise,', 'enterprise,', 'enterprise,', 'enterprise,', 'enterprise,', 'enterprise,', 'enterprise,', 'enterprise,', 'enterprise,', 'enterprise,', 'enterprise,', 'enterprise,', 'enterprise,', 'enterprise,', 'enterprise,', 'enterprise,', 'enterprise,', 'enterprise,', 'enterprise,', 'enterprise,', 'enterprise,', 'enterprise,', 'enterprise,', 'enterprise,', 'enterprise,', 'enterprise,', 'enterprise,', 'enterprise,', 'enterprise,', 'enterprise,', 'enterprise,', 'enterprise,', 'enterprise,', 'enterprise,', 'enterprise,', 'enterprise,', 'enterprise,', 'enterprise,', 'enterprise,', 'enterprise,', 'enterprise,', 'enterprise,', 'enterprise,', 'enterprise,']\n",
      "Required : ['by', 'data', 'enterprise,', 'enterprise,', 'enterprise,', 'enterprise,', 'enterprise,', 'enterprise,', 'enterprise,', 'enterprise,', 'enterprise,', 'enterprise,', 'enterprise,', 'enterprise,', 'enterprise,', 'enterprise,', 'enterprise,', 'enterprise,', 'enterprise,', 'enterprise,', 'enterprise,', 'enterprise,', 'enterprise,', 'enterprise,', 'enterprise,', 'enterprise,', 'enterprise,', 'enterprise,', 'enterprise,', 'enterprise,', 'enterprise,', 'enterprise,', 'enterprise,', 'enterprise,', 'enterprise,', 'enterprise,', 'enterprise,', 'enterprise,', 'enterprise,', 'enterprise,', 'enterprise,', 'enterprise,', 'enterprise,', 'enterprise,', 'enterprise,', 'enterprise,', 'enterprise,', 'enterprise,', 'enterprise,', 'enterprise,', 'enterprise,', 'enterprise,', 'enterprise,', 'enterprise,', 'enterprise,', 'enterprise,', 'enterprise,', 'enterprise,', 'enterprise,', 'enterprise,', 'enterprise,', 'enterprise,', 'enterprise,', 'enterprise,', 'enterprise,', 'enterprise,', 'enterprise,', 'enterprise,', 'enterprise,', 'enterprise,', 'enterprise,', 'enterprise,', 'enterprise,', 'enterprise,', 'enterprise,', 'enterprise,', 'enterprise,', 'enterprise,', 'enterprise,', 'enterprise,', 'enterprise,', 'enterprise,', 'enterprise,', 'enterprise,', 'enterprise,', 'enterprise,', 'enterprise,', 'enterprise,', 'enterprise,']\n",
      "Required : ['by', 'data', 'enterprise,', 'enterprise,', 'enterprise,', 'enterprise,', 'enterprise,', 'enterprise,', 'enterprise,', 'enterprise,', 'enterprise,', 'enterprise,', 'enterprise,', 'enterprise,', 'enterprise,', 'enterprise,', 'enterprise,', 'enterprise,', 'enterprise,', 'enterprise,', 'enterprise,', 'enterprise,', 'enterprise,', 'enterprise,', 'enterprise,', 'enterprise,', 'enterprise,', 'enterprise,', 'enterprise,', 'enterprise,', 'enterprise,', 'enterprise,', 'enterprise,', 'enterprise,', 'enterprise,', 'enterprise,', 'enterprise,', 'enterprise,', 'enterprise,', 'enterprise,', 'enterprise,', 'enterprise,', 'enterprise,', 'enterprise,', 'enterprise,', 'enterprise,', 'enterprise,', 'enterprise,', 'enterprise,', 'enterprise,', 'enterprise,', 'enterprise,', 'enterprise,', 'enterprise,', 'enterprise,', 'enterprise,', 'enterprise,', 'enterprise,', 'enterprise,', 'enterprise,', 'enterprise,', 'enterprise,', 'enterprise,', 'enterprise,', 'enterprise,', 'enterprise,', 'enterprise,', 'enterprise,', 'enterprise,', 'enterprise,', 'enterprise,', 'enterprise,', 'enterprise,', 'enterprise,', 'enterprise,', 'enterprise,', 'enterprise,', 'enterprise,', 'enterprise,', 'enterprise,', 'enterprise,', 'enterprise,', 'enterprise,', 'enterprise,', 'enterprise,', 'enterprise,', 'enterprise,', 'enterprise,', 'enterprise,', 'enterprise,']\n",
      "Required : ['by', 'data', 'enterprise,', 'enterprise,', 'enterprise,', 'enterprise,', 'enterprise,', 'enterprise,', 'enterprise,', 'enterprise,', 'enterprise,', 'enterprise,', 'enterprise,', 'enterprise,', 'enterprise,', 'enterprise,', 'enterprise,', 'enterprise,', 'enterprise,', 'enterprise,', 'enterprise,', 'enterprise,', 'enterprise,', 'enterprise,', 'enterprise,', 'enterprise,', 'enterprise,', 'enterprise,', 'enterprise,', 'enterprise,', 'enterprise,', 'enterprise,', 'enterprise,', 'enterprise,', 'enterprise,', 'enterprise,', 'enterprise,', 'enterprise,', 'enterprise,', 'enterprise,', 'enterprise,', 'enterprise,', 'enterprise,', 'enterprise,', 'enterprise,', 'enterprise,', 'enterprise,', 'enterprise,', 'enterprise,', 'enterprise,', 'enterprise,', 'enterprise,', 'enterprise,', 'enterprise,', 'enterprise,', 'enterprise,', 'enterprise,', 'enterprise,', 'enterprise,', 'enterprise,', 'enterprise,', 'enterprise,', 'enterprise,', 'enterprise,', 'enterprise,', 'enterprise,', 'enterprise,', 'enterprise,', 'enterprise,', 'enterprise,', 'enterprise,', 'enterprise,', 'enterprise,', 'enterprise,', 'enterprise,', 'enterprise,', 'enterprise,', 'enterprise,', 'enterprise,', 'enterprise,', 'enterprise,', 'enterprise,', 'enterprise,', 'enterprise,', 'enterprise,', 'enterprise,', 'enterprise,', 'enterprise,', 'enterprise,', 'enterprise,', 'enterprise,']\n"
     ]
    },
    {
     "name": "stdout",
     "output_type": "stream",
     "text": [
      "Required : ['by', 'data', 'enterprise,', 'enterprise,', 'enterprise,', 'enterprise,', 'enterprise,', 'enterprise,', 'enterprise,', 'enterprise,', 'enterprise,', 'enterprise,', 'enterprise,', 'enterprise,', 'enterprise,', 'enterprise,', 'enterprise,', 'enterprise,', 'enterprise,', 'enterprise,', 'enterprise,', 'enterprise,', 'enterprise,', 'enterprise,', 'enterprise,', 'enterprise,', 'enterprise,', 'enterprise,', 'enterprise,', 'enterprise,', 'enterprise,', 'enterprise,', 'enterprise,', 'enterprise,', 'enterprise,', 'enterprise,', 'enterprise,', 'enterprise,', 'enterprise,', 'enterprise,', 'enterprise,', 'enterprise,', 'enterprise,', 'enterprise,', 'enterprise,', 'enterprise,', 'enterprise,', 'enterprise,', 'enterprise,', 'enterprise,', 'enterprise,', 'enterprise,', 'enterprise,', 'enterprise,', 'enterprise,', 'enterprise,', 'enterprise,', 'enterprise,', 'enterprise,', 'enterprise,', 'enterprise,', 'enterprise,', 'enterprise,', 'enterprise,', 'enterprise,', 'enterprise,', 'enterprise,', 'enterprise,', 'enterprise,', 'enterprise,', 'enterprise,', 'enterprise,', 'enterprise,', 'enterprise,', 'enterprise,', 'enterprise,', 'enterprise,', 'enterprise,', 'enterprise,', 'enterprise,', 'enterprise,', 'enterprise,', 'enterprise,', 'enterprise,', 'enterprise,', 'enterprise,', 'enterprise,', 'enterprise,', 'enterprise,', 'enterprise,', 'enterprise,', 'enterprise,']\n",
      "Required : ['by', 'data', 'enterprise,', 'enterprise,', 'enterprise,', 'enterprise,', 'enterprise,', 'enterprise,', 'enterprise,', 'enterprise,', 'enterprise,', 'enterprise,', 'enterprise,', 'enterprise,', 'enterprise,', 'enterprise,', 'enterprise,', 'enterprise,', 'enterprise,', 'enterprise,', 'enterprise,', 'enterprise,', 'enterprise,', 'enterprise,', 'enterprise,', 'enterprise,', 'enterprise,', 'enterprise,', 'enterprise,', 'enterprise,', 'enterprise,', 'enterprise,', 'enterprise,', 'enterprise,', 'enterprise,', 'enterprise,', 'enterprise,', 'enterprise,', 'enterprise,', 'enterprise,', 'enterprise,', 'enterprise,', 'enterprise,', 'enterprise,', 'enterprise,', 'enterprise,', 'enterprise,', 'enterprise,', 'enterprise,', 'enterprise,', 'enterprise,', 'enterprise,', 'enterprise,', 'enterprise,', 'enterprise,', 'enterprise,', 'enterprise,', 'enterprise,', 'enterprise,', 'enterprise,', 'enterprise,', 'enterprise,', 'enterprise,', 'enterprise,', 'enterprise,', 'enterprise,', 'enterprise,', 'enterprise,', 'enterprise,', 'enterprise,', 'enterprise,', 'enterprise,', 'enterprise,', 'enterprise,', 'enterprise,', 'enterprise,', 'enterprise,', 'enterprise,', 'enterprise,', 'enterprise,', 'enterprise,', 'enterprise,', 'enterprise,', 'enterprise,', 'enterprise,', 'enterprise,', 'enterprise,', 'enterprise,', 'enterprise,', 'enterprise,', 'enterprise,', 'enterprise,', 'enterprise,']\n",
      "Required : ['by', 'data', 'enterprise,', 'enterprise,', 'enterprise,', 'enterprise,', 'enterprise,', 'enterprise,', 'enterprise,', 'enterprise,', 'enterprise,', 'enterprise,', 'enterprise,', 'enterprise,', 'enterprise,', 'enterprise,', 'enterprise,', 'enterprise,', 'enterprise,', 'enterprise,', 'enterprise,', 'enterprise,', 'enterprise,', 'enterprise,', 'enterprise,', 'enterprise,', 'enterprise,', 'enterprise,', 'enterprise,', 'enterprise,', 'enterprise,', 'enterprise,', 'enterprise,', 'enterprise,', 'enterprise,', 'enterprise,', 'enterprise,', 'enterprise,', 'enterprise,', 'enterprise,', 'enterprise,', 'enterprise,', 'enterprise,', 'enterprise,', 'enterprise,', 'enterprise,', 'enterprise,', 'enterprise,', 'enterprise,', 'enterprise,', 'enterprise,', 'enterprise,', 'enterprise,', 'enterprise,', 'enterprise,', 'enterprise,', 'enterprise,', 'enterprise,', 'enterprise,', 'enterprise,', 'enterprise,', 'enterprise,', 'enterprise,', 'enterprise,', 'enterprise,', 'enterprise,', 'enterprise,', 'enterprise,', 'enterprise,', 'enterprise,', 'enterprise,', 'enterprise,', 'enterprise,', 'enterprise,', 'enterprise,', 'enterprise,', 'enterprise,', 'enterprise,', 'enterprise,', 'enterprise,', 'enterprise,', 'enterprise,', 'enterprise,', 'enterprise,', 'enterprise,', 'enterprise,', 'enterprise,', 'enterprise,', 'enterprise,', 'enterprise,', 'enterprise,', 'enterprise,', 'enterprise,', 'enterprise,']\n",
      "Required : ['by', 'data', 'enterprise,', 'enterprise,', 'enterprise,', 'enterprise,', 'enterprise,', 'enterprise,', 'enterprise,', 'enterprise,', 'enterprise,', 'enterprise,', 'enterprise,', 'enterprise,', 'enterprise,', 'enterprise,', 'enterprise,', 'enterprise,', 'enterprise,', 'enterprise,', 'enterprise,', 'enterprise,', 'enterprise,', 'enterprise,', 'enterprise,', 'enterprise,', 'enterprise,', 'enterprise,', 'enterprise,', 'enterprise,', 'enterprise,', 'enterprise,', 'enterprise,', 'enterprise,', 'enterprise,', 'enterprise,', 'enterprise,', 'enterprise,', 'enterprise,', 'enterprise,', 'enterprise,', 'enterprise,', 'enterprise,', 'enterprise,', 'enterprise,', 'enterprise,', 'enterprise,', 'enterprise,', 'enterprise,', 'enterprise,', 'enterprise,', 'enterprise,', 'enterprise,', 'enterprise,', 'enterprise,', 'enterprise,', 'enterprise,', 'enterprise,', 'enterprise,', 'enterprise,', 'enterprise,', 'enterprise,', 'enterprise,', 'enterprise,', 'enterprise,', 'enterprise,', 'enterprise,', 'enterprise,', 'enterprise,', 'enterprise,', 'enterprise,', 'enterprise,', 'enterprise,', 'enterprise,', 'enterprise,', 'enterprise,', 'enterprise,', 'enterprise,', 'enterprise,', 'enterprise,', 'enterprise,', 'enterprise,', 'enterprise,', 'enterprise,', 'enterprise,', 'enterprise,', 'enterprise,', 'enterprise,', 'enterprise,', 'enterprise,', 'enterprise,', 'enterprise,', 'enterprise,', 'enterprise,', 'enterprise,']\n",
      "Required : ['by', 'data', 'enterprise,', 'enterprise,', 'enterprise,', 'enterprise,', 'enterprise,', 'enterprise,', 'enterprise,', 'enterprise,', 'enterprise,', 'enterprise,', 'enterprise,', 'enterprise,', 'enterprise,', 'enterprise,', 'enterprise,', 'enterprise,', 'enterprise,', 'enterprise,', 'enterprise,', 'enterprise,', 'enterprise,', 'enterprise,', 'enterprise,', 'enterprise,', 'enterprise,', 'enterprise,', 'enterprise,', 'enterprise,', 'enterprise,', 'enterprise,', 'enterprise,', 'enterprise,', 'enterprise,', 'enterprise,', 'enterprise,', 'enterprise,', 'enterprise,', 'enterprise,', 'enterprise,', 'enterprise,', 'enterprise,', 'enterprise,', 'enterprise,', 'enterprise,', 'enterprise,', 'enterprise,', 'enterprise,', 'enterprise,', 'enterprise,', 'enterprise,', 'enterprise,', 'enterprise,', 'enterprise,', 'enterprise,', 'enterprise,', 'enterprise,', 'enterprise,', 'enterprise,', 'enterprise,', 'enterprise,', 'enterprise,', 'enterprise,', 'enterprise,', 'enterprise,', 'enterprise,', 'enterprise,', 'enterprise,', 'enterprise,', 'enterprise,', 'enterprise,', 'enterprise,', 'enterprise,', 'enterprise,', 'enterprise,', 'enterprise,', 'enterprise,', 'enterprise,', 'enterprise,', 'enterprise,', 'enterprise,', 'enterprise,', 'enterprise,', 'enterprise,', 'enterprise,', 'enterprise,', 'enterprise,', 'enterprise,', 'enterprise,', 'enterprise,', 'enterprise,', 'enterprise,', 'enterprise,', 'enterprise,', 'enterprise,']\n",
      "Required : ['by', 'data', 'enterprise,', 'enterprise,', 'enterprise,', 'enterprise,', 'enterprise,', 'enterprise,', 'enterprise,', 'enterprise,', 'enterprise,', 'enterprise,', 'enterprise,', 'enterprise,', 'enterprise,', 'enterprise,', 'enterprise,', 'enterprise,', 'enterprise,', 'enterprise,', 'enterprise,', 'enterprise,', 'enterprise,', 'enterprise,', 'enterprise,', 'enterprise,', 'enterprise,', 'enterprise,', 'enterprise,', 'enterprise,', 'enterprise,', 'enterprise,', 'enterprise,', 'enterprise,', 'enterprise,', 'enterprise,', 'enterprise,', 'enterprise,', 'enterprise,', 'enterprise,', 'enterprise,', 'enterprise,', 'enterprise,', 'enterprise,', 'enterprise,', 'enterprise,', 'enterprise,', 'enterprise,', 'enterprise,', 'enterprise,', 'enterprise,', 'enterprise,', 'enterprise,', 'enterprise,', 'enterprise,', 'enterprise,', 'enterprise,', 'enterprise,', 'enterprise,', 'enterprise,', 'enterprise,', 'enterprise,', 'enterprise,', 'enterprise,', 'enterprise,', 'enterprise,', 'enterprise,', 'enterprise,', 'enterprise,', 'enterprise,', 'enterprise,', 'enterprise,', 'enterprise,', 'enterprise,', 'enterprise,', 'enterprise,', 'enterprise,', 'enterprise,', 'enterprise,', 'enterprise,', 'enterprise,', 'enterprise,', 'enterprise,', 'enterprise,', 'enterprise,', 'enterprise,', 'enterprise,', 'enterprise,', 'enterprise,', 'enterprise,', 'enterprise,', 'enterprise,', 'enterprise,', 'enterprise,', 'enterprise,', 'enterprise,', 'enterprise,']\n",
      "Required : ['by', 'data', 'enterprise,', 'enterprise,', 'enterprise,', 'enterprise,', 'enterprise,', 'enterprise,', 'enterprise,', 'enterprise,', 'enterprise,', 'enterprise,', 'enterprise,', 'enterprise,', 'enterprise,', 'enterprise,', 'enterprise,', 'enterprise,', 'enterprise,', 'enterprise,', 'enterprise,', 'enterprise,', 'enterprise,', 'enterprise,', 'enterprise,', 'enterprise,', 'enterprise,', 'enterprise,', 'enterprise,', 'enterprise,', 'enterprise,', 'enterprise,', 'enterprise,', 'enterprise,', 'enterprise,', 'enterprise,', 'enterprise,', 'enterprise,', 'enterprise,', 'enterprise,', 'enterprise,', 'enterprise,', 'enterprise,', 'enterprise,', 'enterprise,', 'enterprise,', 'enterprise,', 'enterprise,', 'enterprise,', 'enterprise,', 'enterprise,', 'enterprise,', 'enterprise,', 'enterprise,', 'enterprise,', 'enterprise,', 'enterprise,', 'enterprise,', 'enterprise,', 'enterprise,', 'enterprise,', 'enterprise,', 'enterprise,', 'enterprise,', 'enterprise,', 'enterprise,', 'enterprise,', 'enterprise,', 'enterprise,', 'enterprise,', 'enterprise,', 'enterprise,', 'enterprise,', 'enterprise,', 'enterprise,', 'enterprise,', 'enterprise,', 'enterprise,', 'enterprise,', 'enterprise,', 'enterprise,', 'enterprise,', 'enterprise,', 'enterprise,', 'enterprise,', 'enterprise,', 'enterprise,', 'enterprise,', 'enterprise,', 'enterprise,', 'enterprise,', 'enterprise,', 'enterprise,', 'enterprise,', 'enterprise,', 'enterprise,', 'enterprise,', 'enterprise,']\n",
      "Required : ['by', 'data', 'enterprise,', 'enterprise,', 'enterprise,', 'enterprise,', 'enterprise,', 'enterprise,', 'enterprise,', 'enterprise,', 'enterprise,', 'enterprise,', 'enterprise,', 'enterprise,', 'enterprise,', 'enterprise,', 'enterprise,', 'enterprise,', 'enterprise,', 'enterprise,', 'enterprise,', 'enterprise,', 'enterprise,', 'enterprise,', 'enterprise,', 'enterprise,', 'enterprise,', 'enterprise,', 'enterprise,', 'enterprise,', 'enterprise,', 'enterprise,', 'enterprise,', 'enterprise,', 'enterprise,', 'enterprise,', 'enterprise,', 'enterprise,', 'enterprise,', 'enterprise,', 'enterprise,', 'enterprise,', 'enterprise,', 'enterprise,', 'enterprise,', 'enterprise,', 'enterprise,', 'enterprise,', 'enterprise,', 'enterprise,', 'enterprise,', 'enterprise,', 'enterprise,', 'enterprise,', 'enterprise,', 'enterprise,', 'enterprise,', 'enterprise,', 'enterprise,', 'enterprise,', 'enterprise,', 'enterprise,', 'enterprise,', 'enterprise,', 'enterprise,', 'enterprise,', 'enterprise,', 'enterprise,', 'enterprise,', 'enterprise,', 'enterprise,', 'enterprise,', 'enterprise,', 'enterprise,', 'enterprise,', 'enterprise,', 'enterprise,', 'enterprise,', 'enterprise,', 'enterprise,', 'enterprise,', 'enterprise,', 'enterprise,', 'enterprise,', 'enterprise,', 'enterprise,', 'enterprise,', 'enterprise,', 'enterprise,', 'enterprise,', 'enterprise,', 'enterprise,', 'enterprise,', 'enterprise,', 'enterprise,', 'enterprise,', 'enterprise,', 'enterprise,', 'enterprise,']\n",
      "Required : ['by', 'data', 'enterprise,', 'enterprise,', 'enterprise,', 'enterprise,', 'enterprise,', 'enterprise,', 'enterprise,', 'enterprise,', 'enterprise,', 'enterprise,', 'enterprise,', 'enterprise,', 'enterprise,', 'enterprise,', 'enterprise,', 'enterprise,', 'enterprise,', 'enterprise,', 'enterprise,', 'enterprise,', 'enterprise,', 'enterprise,', 'enterprise,', 'enterprise,', 'enterprise,', 'enterprise,', 'enterprise,', 'enterprise,', 'enterprise,', 'enterprise,', 'enterprise,', 'enterprise,', 'enterprise,', 'enterprise,', 'enterprise,', 'enterprise,', 'enterprise,', 'enterprise,', 'enterprise,', 'enterprise,', 'enterprise,', 'enterprise,', 'enterprise,', 'enterprise,', 'enterprise,', 'enterprise,', 'enterprise,', 'enterprise,', 'enterprise,', 'enterprise,', 'enterprise,', 'enterprise,', 'enterprise,', 'enterprise,', 'enterprise,', 'enterprise,', 'enterprise,', 'enterprise,', 'enterprise,', 'enterprise,', 'enterprise,', 'enterprise,', 'enterprise,', 'enterprise,', 'enterprise,', 'enterprise,', 'enterprise,', 'enterprise,', 'enterprise,', 'enterprise,', 'enterprise,', 'enterprise,', 'enterprise,', 'enterprise,', 'enterprise,', 'enterprise,', 'enterprise,', 'enterprise,', 'enterprise,', 'enterprise,', 'enterprise,', 'enterprise,', 'enterprise,', 'enterprise,', 'enterprise,', 'enterprise,', 'enterprise,', 'enterprise,', 'enterprise,', 'enterprise,', 'enterprise,', 'enterprise,', 'enterprise,', 'enterprise,', 'enterprise,', 'enterprise,', 'enterprise,', 'enterprise,']\n",
      "by data enterprise, enterprise, enterprise, enterprise, enterprise, enterprise, enterprise, enterprise, enterprise, enterprise, enterprise, enterprise, enterprise, enterprise, enterprise, enterprise, enterprise, enterprise, enterprise, enterprise, enterprise, enterprise, enterprise, enterprise, enterprise, enterprise, enterprise, enterprise, enterprise, enterprise, enterprise, enterprise, enterprise, enterprise, enterprise, enterprise, enterprise, enterprise, enterprise, enterprise, enterprise, enterprise, enterprise, enterprise, enterprise, enterprise, enterprise, enterprise, enterprise, enterprise, enterprise, enterprise, enterprise, enterprise, enterprise, enterprise, enterprise, enterprise, enterprise, enterprise, enterprise, enterprise, enterprise, enterprise, enterprise, enterprise, enterprise, enterprise, enterprise, enterprise, enterprise, enterprise, enterprise, enterprise, enterprise, enterprise, enterprise, enterprise, enterprise, enterprise, enterprise, enterprise, enterprise, enterprise, enterprise, enterprise, enterprise, enterprise, enterprise, enterprise, enterprise, enterprise, enterprise, enterprise, enterprise, enterprise, enterprise, enterprise, enterprise, enterprise,\n",
      "data science\n",
      "The sentence is data science\n",
      "Required : ['data']\n",
      "Required : ['data', 'science']\n",
      "Required : ['data', 'science', 'enterprise,']\n",
      "Required : ['data', 'science', 'enterprise,', 'enterprise,']\n",
      "Required : ['data', 'science', 'enterprise,', 'enterprise,', 'enterprise,']\n",
      "Required : ['data', 'science', 'enterprise,', 'enterprise,', 'enterprise,', 'enterprise,']\n",
      "Required : ['data', 'science', 'enterprise,', 'enterprise,', 'enterprise,', 'enterprise,', 'enterprise,']\n",
      "Required : ['data', 'science', 'enterprise,', 'enterprise,', 'enterprise,', 'enterprise,', 'enterprise,', 'enterprise,']\n",
      "Required : ['data', 'science', 'enterprise,', 'enterprise,', 'enterprise,', 'enterprise,', 'enterprise,', 'enterprise,', 'enterprise,']\n",
      "Required : ['data', 'science', 'enterprise,', 'enterprise,', 'enterprise,', 'enterprise,', 'enterprise,', 'enterprise,', 'enterprise,', 'enterprise,']\n",
      "Required : ['data', 'science', 'enterprise,', 'enterprise,', 'enterprise,', 'enterprise,', 'enterprise,', 'enterprise,', 'enterprise,', 'enterprise,', 'enterprise,']\n"
     ]
    },
    {
     "name": "stdout",
     "output_type": "stream",
     "text": [
      "Required : ['data', 'science', 'enterprise,', 'enterprise,', 'enterprise,', 'enterprise,', 'enterprise,', 'enterprise,', 'enterprise,', 'enterprise,', 'enterprise,', 'enterprise,']\n",
      "Required : ['data', 'science', 'enterprise,', 'enterprise,', 'enterprise,', 'enterprise,', 'enterprise,', 'enterprise,', 'enterprise,', 'enterprise,', 'enterprise,', 'enterprise,', 'enterprise,']\n",
      "Required : ['data', 'science', 'enterprise,', 'enterprise,', 'enterprise,', 'enterprise,', 'enterprise,', 'enterprise,', 'enterprise,', 'enterprise,', 'enterprise,', 'enterprise,', 'enterprise,', 'enterprise,']\n",
      "Required : ['data', 'science', 'enterprise,', 'enterprise,', 'enterprise,', 'enterprise,', 'enterprise,', 'enterprise,', 'enterprise,', 'enterprise,', 'enterprise,', 'enterprise,', 'enterprise,', 'enterprise,', 'enterprise,']\n",
      "Required : ['data', 'science', 'enterprise,', 'enterprise,', 'enterprise,', 'enterprise,', 'enterprise,', 'enterprise,', 'enterprise,', 'enterprise,', 'enterprise,', 'enterprise,', 'enterprise,', 'enterprise,', 'enterprise,', 'enterprise,']\n",
      "Required : ['data', 'science', 'enterprise,', 'enterprise,', 'enterprise,', 'enterprise,', 'enterprise,', 'enterprise,', 'enterprise,', 'enterprise,', 'enterprise,', 'enterprise,', 'enterprise,', 'enterprise,', 'enterprise,', 'enterprise,', 'enterprise,']\n",
      "Required : ['data', 'science', 'enterprise,', 'enterprise,', 'enterprise,', 'enterprise,', 'enterprise,', 'enterprise,', 'enterprise,', 'enterprise,', 'enterprise,', 'enterprise,', 'enterprise,', 'enterprise,', 'enterprise,', 'enterprise,', 'enterprise,', 'enterprise,']\n",
      "Required : ['data', 'science', 'enterprise,', 'enterprise,', 'enterprise,', 'enterprise,', 'enterprise,', 'enterprise,', 'enterprise,', 'enterprise,', 'enterprise,', 'enterprise,', 'enterprise,', 'enterprise,', 'enterprise,', 'enterprise,', 'enterprise,', 'enterprise,', 'enterprise,']\n",
      "Required : ['data', 'science', 'enterprise,', 'enterprise,', 'enterprise,', 'enterprise,', 'enterprise,', 'enterprise,', 'enterprise,', 'enterprise,', 'enterprise,', 'enterprise,', 'enterprise,', 'enterprise,', 'enterprise,', 'enterprise,', 'enterprise,', 'enterprise,', 'enterprise,', 'enterprise,']\n",
      "Required : ['data', 'science', 'enterprise,', 'enterprise,', 'enterprise,', 'enterprise,', 'enterprise,', 'enterprise,', 'enterprise,', 'enterprise,', 'enterprise,', 'enterprise,', 'enterprise,', 'enterprise,', 'enterprise,', 'enterprise,', 'enterprise,', 'enterprise,', 'enterprise,', 'enterprise,', 'enterprise,']\n",
      "Required : ['data', 'science', 'enterprise,', 'enterprise,', 'enterprise,', 'enterprise,', 'enterprise,', 'enterprise,', 'enterprise,', 'enterprise,', 'enterprise,', 'enterprise,', 'enterprise,', 'enterprise,', 'enterprise,', 'enterprise,', 'enterprise,', 'enterprise,', 'enterprise,', 'enterprise,', 'enterprise,', 'enterprise,']\n",
      "Required : ['data', 'science', 'enterprise,', 'enterprise,', 'enterprise,', 'enterprise,', 'enterprise,', 'enterprise,', 'enterprise,', 'enterprise,', 'enterprise,', 'enterprise,', 'enterprise,', 'enterprise,', 'enterprise,', 'enterprise,', 'enterprise,', 'enterprise,', 'enterprise,', 'enterprise,', 'enterprise,', 'enterprise,', 'enterprise,']\n",
      "Required : ['data', 'science', 'enterprise,', 'enterprise,', 'enterprise,', 'enterprise,', 'enterprise,', 'enterprise,', 'enterprise,', 'enterprise,', 'enterprise,', 'enterprise,', 'enterprise,', 'enterprise,', 'enterprise,', 'enterprise,', 'enterprise,', 'enterprise,', 'enterprise,', 'enterprise,', 'enterprise,', 'enterprise,', 'enterprise,', 'enterprise,']\n",
      "Required : ['data', 'science', 'enterprise,', 'enterprise,', 'enterprise,', 'enterprise,', 'enterprise,', 'enterprise,', 'enterprise,', 'enterprise,', 'enterprise,', 'enterprise,', 'enterprise,', 'enterprise,', 'enterprise,', 'enterprise,', 'enterprise,', 'enterprise,', 'enterprise,', 'enterprise,', 'enterprise,', 'enterprise,', 'enterprise,', 'enterprise,', 'enterprise,']\n",
      "Required : ['data', 'science', 'enterprise,', 'enterprise,', 'enterprise,', 'enterprise,', 'enterprise,', 'enterprise,', 'enterprise,', 'enterprise,', 'enterprise,', 'enterprise,', 'enterprise,', 'enterprise,', 'enterprise,', 'enterprise,', 'enterprise,', 'enterprise,', 'enterprise,', 'enterprise,', 'enterprise,', 'enterprise,', 'enterprise,', 'enterprise,', 'enterprise,', 'enterprise,']\n",
      "Required : ['data', 'science', 'enterprise,', 'enterprise,', 'enterprise,', 'enterprise,', 'enterprise,', 'enterprise,', 'enterprise,', 'enterprise,', 'enterprise,', 'enterprise,', 'enterprise,', 'enterprise,', 'enterprise,', 'enterprise,', 'enterprise,', 'enterprise,', 'enterprise,', 'enterprise,', 'enterprise,', 'enterprise,', 'enterprise,', 'enterprise,', 'enterprise,', 'enterprise,', 'enterprise,']\n",
      "Required : ['data', 'science', 'enterprise,', 'enterprise,', 'enterprise,', 'enterprise,', 'enterprise,', 'enterprise,', 'enterprise,', 'enterprise,', 'enterprise,', 'enterprise,', 'enterprise,', 'enterprise,', 'enterprise,', 'enterprise,', 'enterprise,', 'enterprise,', 'enterprise,', 'enterprise,', 'enterprise,', 'enterprise,', 'enterprise,', 'enterprise,', 'enterprise,', 'enterprise,', 'enterprise,', 'enterprise,']\n",
      "Required : ['data', 'science', 'enterprise,', 'enterprise,', 'enterprise,', 'enterprise,', 'enterprise,', 'enterprise,', 'enterprise,', 'enterprise,', 'enterprise,', 'enterprise,', 'enterprise,', 'enterprise,', 'enterprise,', 'enterprise,', 'enterprise,', 'enterprise,', 'enterprise,', 'enterprise,', 'enterprise,', 'enterprise,', 'enterprise,', 'enterprise,', 'enterprise,', 'enterprise,', 'enterprise,', 'enterprise,', 'enterprise,']\n",
      "Required : ['data', 'science', 'enterprise,', 'enterprise,', 'enterprise,', 'enterprise,', 'enterprise,', 'enterprise,', 'enterprise,', 'enterprise,', 'enterprise,', 'enterprise,', 'enterprise,', 'enterprise,', 'enterprise,', 'enterprise,', 'enterprise,', 'enterprise,', 'enterprise,', 'enterprise,', 'enterprise,', 'enterprise,', 'enterprise,', 'enterprise,', 'enterprise,', 'enterprise,', 'enterprise,', 'enterprise,', 'enterprise,', 'enterprise,']\n",
      "Required : ['data', 'science', 'enterprise,', 'enterprise,', 'enterprise,', 'enterprise,', 'enterprise,', 'enterprise,', 'enterprise,', 'enterprise,', 'enterprise,', 'enterprise,', 'enterprise,', 'enterprise,', 'enterprise,', 'enterprise,', 'enterprise,', 'enterprise,', 'enterprise,', 'enterprise,', 'enterprise,', 'enterprise,', 'enterprise,', 'enterprise,', 'enterprise,', 'enterprise,', 'enterprise,', 'enterprise,', 'enterprise,', 'enterprise,', 'enterprise,']\n",
      "Required : ['data', 'science', 'enterprise,', 'enterprise,', 'enterprise,', 'enterprise,', 'enterprise,', 'enterprise,', 'enterprise,', 'enterprise,', 'enterprise,', 'enterprise,', 'enterprise,', 'enterprise,', 'enterprise,', 'enterprise,', 'enterprise,', 'enterprise,', 'enterprise,', 'enterprise,', 'enterprise,', 'enterprise,', 'enterprise,', 'enterprise,', 'enterprise,', 'enterprise,', 'enterprise,', 'enterprise,', 'enterprise,', 'enterprise,', 'enterprise,', 'enterprise,']\n",
      "Required : ['data', 'science', 'enterprise,', 'enterprise,', 'enterprise,', 'enterprise,', 'enterprise,', 'enterprise,', 'enterprise,', 'enterprise,', 'enterprise,', 'enterprise,', 'enterprise,', 'enterprise,', 'enterprise,', 'enterprise,', 'enterprise,', 'enterprise,', 'enterprise,', 'enterprise,', 'enterprise,', 'enterprise,', 'enterprise,', 'enterprise,', 'enterprise,', 'enterprise,', 'enterprise,', 'enterprise,', 'enterprise,', 'enterprise,', 'enterprise,', 'enterprise,', 'enterprise,']\n",
      "Required : ['data', 'science', 'enterprise,', 'enterprise,', 'enterprise,', 'enterprise,', 'enterprise,', 'enterprise,', 'enterprise,', 'enterprise,', 'enterprise,', 'enterprise,', 'enterprise,', 'enterprise,', 'enterprise,', 'enterprise,', 'enterprise,', 'enterprise,', 'enterprise,', 'enterprise,', 'enterprise,', 'enterprise,', 'enterprise,', 'enterprise,', 'enterprise,', 'enterprise,', 'enterprise,', 'enterprise,', 'enterprise,', 'enterprise,', 'enterprise,', 'enterprise,', 'enterprise,', 'enterprise,']\n",
      "Required : ['data', 'science', 'enterprise,', 'enterprise,', 'enterprise,', 'enterprise,', 'enterprise,', 'enterprise,', 'enterprise,', 'enterprise,', 'enterprise,', 'enterprise,', 'enterprise,', 'enterprise,', 'enterprise,', 'enterprise,', 'enterprise,', 'enterprise,', 'enterprise,', 'enterprise,', 'enterprise,', 'enterprise,', 'enterprise,', 'enterprise,', 'enterprise,', 'enterprise,', 'enterprise,', 'enterprise,', 'enterprise,', 'enterprise,', 'enterprise,', 'enterprise,', 'enterprise,', 'enterprise,', 'enterprise,']\n",
      "Required : ['data', 'science', 'enterprise,', 'enterprise,', 'enterprise,', 'enterprise,', 'enterprise,', 'enterprise,', 'enterprise,', 'enterprise,', 'enterprise,', 'enterprise,', 'enterprise,', 'enterprise,', 'enterprise,', 'enterprise,', 'enterprise,', 'enterprise,', 'enterprise,', 'enterprise,', 'enterprise,', 'enterprise,', 'enterprise,', 'enterprise,', 'enterprise,', 'enterprise,', 'enterprise,', 'enterprise,', 'enterprise,', 'enterprise,', 'enterprise,', 'enterprise,', 'enterprise,', 'enterprise,', 'enterprise,', 'enterprise,']\n",
      "Required : ['data', 'science', 'enterprise,', 'enterprise,', 'enterprise,', 'enterprise,', 'enterprise,', 'enterprise,', 'enterprise,', 'enterprise,', 'enterprise,', 'enterprise,', 'enterprise,', 'enterprise,', 'enterprise,', 'enterprise,', 'enterprise,', 'enterprise,', 'enterprise,', 'enterprise,', 'enterprise,', 'enterprise,', 'enterprise,', 'enterprise,', 'enterprise,', 'enterprise,', 'enterprise,', 'enterprise,', 'enterprise,', 'enterprise,', 'enterprise,', 'enterprise,', 'enterprise,', 'enterprise,', 'enterprise,', 'enterprise,', 'enterprise,']\n",
      "Required : ['data', 'science', 'enterprise,', 'enterprise,', 'enterprise,', 'enterprise,', 'enterprise,', 'enterprise,', 'enterprise,', 'enterprise,', 'enterprise,', 'enterprise,', 'enterprise,', 'enterprise,', 'enterprise,', 'enterprise,', 'enterprise,', 'enterprise,', 'enterprise,', 'enterprise,', 'enterprise,', 'enterprise,', 'enterprise,', 'enterprise,', 'enterprise,', 'enterprise,', 'enterprise,', 'enterprise,', 'enterprise,', 'enterprise,', 'enterprise,', 'enterprise,', 'enterprise,', 'enterprise,', 'enterprise,', 'enterprise,', 'enterprise,', 'enterprise,']\n",
      "Required : ['data', 'science', 'enterprise,', 'enterprise,', 'enterprise,', 'enterprise,', 'enterprise,', 'enterprise,', 'enterprise,', 'enterprise,', 'enterprise,', 'enterprise,', 'enterprise,', 'enterprise,', 'enterprise,', 'enterprise,', 'enterprise,', 'enterprise,', 'enterprise,', 'enterprise,', 'enterprise,', 'enterprise,', 'enterprise,', 'enterprise,', 'enterprise,', 'enterprise,', 'enterprise,', 'enterprise,', 'enterprise,', 'enterprise,', 'enterprise,', 'enterprise,', 'enterprise,', 'enterprise,', 'enterprise,', 'enterprise,', 'enterprise,', 'enterprise,', 'enterprise,']\n",
      "Required : ['data', 'science', 'enterprise,', 'enterprise,', 'enterprise,', 'enterprise,', 'enterprise,', 'enterprise,', 'enterprise,', 'enterprise,', 'enterprise,', 'enterprise,', 'enterprise,', 'enterprise,', 'enterprise,', 'enterprise,', 'enterprise,', 'enterprise,', 'enterprise,', 'enterprise,', 'enterprise,', 'enterprise,', 'enterprise,', 'enterprise,', 'enterprise,', 'enterprise,', 'enterprise,', 'enterprise,', 'enterprise,', 'enterprise,', 'enterprise,', 'enterprise,', 'enterprise,', 'enterprise,', 'enterprise,', 'enterprise,', 'enterprise,', 'enterprise,', 'enterprise,', 'enterprise,']\n",
      "Required : ['data', 'science', 'enterprise,', 'enterprise,', 'enterprise,', 'enterprise,', 'enterprise,', 'enterprise,', 'enterprise,', 'enterprise,', 'enterprise,', 'enterprise,', 'enterprise,', 'enterprise,', 'enterprise,', 'enterprise,', 'enterprise,', 'enterprise,', 'enterprise,', 'enterprise,', 'enterprise,', 'enterprise,', 'enterprise,', 'enterprise,', 'enterprise,', 'enterprise,', 'enterprise,', 'enterprise,', 'enterprise,', 'enterprise,', 'enterprise,', 'enterprise,', 'enterprise,', 'enterprise,', 'enterprise,', 'enterprise,', 'enterprise,', 'enterprise,', 'enterprise,', 'enterprise,', 'enterprise,']\n",
      "Required : ['data', 'science', 'enterprise,', 'enterprise,', 'enterprise,', 'enterprise,', 'enterprise,', 'enterprise,', 'enterprise,', 'enterprise,', 'enterprise,', 'enterprise,', 'enterprise,', 'enterprise,', 'enterprise,', 'enterprise,', 'enterprise,', 'enterprise,', 'enterprise,', 'enterprise,', 'enterprise,', 'enterprise,', 'enterprise,', 'enterprise,', 'enterprise,', 'enterprise,', 'enterprise,', 'enterprise,', 'enterprise,', 'enterprise,', 'enterprise,', 'enterprise,', 'enterprise,', 'enterprise,', 'enterprise,', 'enterprise,', 'enterprise,', 'enterprise,', 'enterprise,', 'enterprise,', 'enterprise,', 'enterprise,']\n",
      "Required : ['data', 'science', 'enterprise,', 'enterprise,', 'enterprise,', 'enterprise,', 'enterprise,', 'enterprise,', 'enterprise,', 'enterprise,', 'enterprise,', 'enterprise,', 'enterprise,', 'enterprise,', 'enterprise,', 'enterprise,', 'enterprise,', 'enterprise,', 'enterprise,', 'enterprise,', 'enterprise,', 'enterprise,', 'enterprise,', 'enterprise,', 'enterprise,', 'enterprise,', 'enterprise,', 'enterprise,', 'enterprise,', 'enterprise,', 'enterprise,', 'enterprise,', 'enterprise,', 'enterprise,', 'enterprise,', 'enterprise,', 'enterprise,', 'enterprise,', 'enterprise,', 'enterprise,', 'enterprise,', 'enterprise,', 'enterprise,']\n",
      "Required : ['data', 'science', 'enterprise,', 'enterprise,', 'enterprise,', 'enterprise,', 'enterprise,', 'enterprise,', 'enterprise,', 'enterprise,', 'enterprise,', 'enterprise,', 'enterprise,', 'enterprise,', 'enterprise,', 'enterprise,', 'enterprise,', 'enterprise,', 'enterprise,', 'enterprise,', 'enterprise,', 'enterprise,', 'enterprise,', 'enterprise,', 'enterprise,', 'enterprise,', 'enterprise,', 'enterprise,', 'enterprise,', 'enterprise,', 'enterprise,', 'enterprise,', 'enterprise,', 'enterprise,', 'enterprise,', 'enterprise,', 'enterprise,', 'enterprise,', 'enterprise,', 'enterprise,', 'enterprise,', 'enterprise,', 'enterprise,', 'enterprise,']\n",
      "Required : ['data', 'science', 'enterprise,', 'enterprise,', 'enterprise,', 'enterprise,', 'enterprise,', 'enterprise,', 'enterprise,', 'enterprise,', 'enterprise,', 'enterprise,', 'enterprise,', 'enterprise,', 'enterprise,', 'enterprise,', 'enterprise,', 'enterprise,', 'enterprise,', 'enterprise,', 'enterprise,', 'enterprise,', 'enterprise,', 'enterprise,', 'enterprise,', 'enterprise,', 'enterprise,', 'enterprise,', 'enterprise,', 'enterprise,', 'enterprise,', 'enterprise,', 'enterprise,', 'enterprise,', 'enterprise,', 'enterprise,', 'enterprise,', 'enterprise,', 'enterprise,', 'enterprise,', 'enterprise,', 'enterprise,', 'enterprise,', 'enterprise,', 'enterprise,']\n",
      "Required : ['data', 'science', 'enterprise,', 'enterprise,', 'enterprise,', 'enterprise,', 'enterprise,', 'enterprise,', 'enterprise,', 'enterprise,', 'enterprise,', 'enterprise,', 'enterprise,', 'enterprise,', 'enterprise,', 'enterprise,', 'enterprise,', 'enterprise,', 'enterprise,', 'enterprise,', 'enterprise,', 'enterprise,', 'enterprise,', 'enterprise,', 'enterprise,', 'enterprise,', 'enterprise,', 'enterprise,', 'enterprise,', 'enterprise,', 'enterprise,', 'enterprise,', 'enterprise,', 'enterprise,', 'enterprise,', 'enterprise,', 'enterprise,', 'enterprise,', 'enterprise,', 'enterprise,', 'enterprise,', 'enterprise,', 'enterprise,', 'enterprise,', 'enterprise,', 'enterprise,']\n",
      "Required : ['data', 'science', 'enterprise,', 'enterprise,', 'enterprise,', 'enterprise,', 'enterprise,', 'enterprise,', 'enterprise,', 'enterprise,', 'enterprise,', 'enterprise,', 'enterprise,', 'enterprise,', 'enterprise,', 'enterprise,', 'enterprise,', 'enterprise,', 'enterprise,', 'enterprise,', 'enterprise,', 'enterprise,', 'enterprise,', 'enterprise,', 'enterprise,', 'enterprise,', 'enterprise,', 'enterprise,', 'enterprise,', 'enterprise,', 'enterprise,', 'enterprise,', 'enterprise,', 'enterprise,', 'enterprise,', 'enterprise,', 'enterprise,', 'enterprise,', 'enterprise,', 'enterprise,', 'enterprise,', 'enterprise,', 'enterprise,', 'enterprise,', 'enterprise,', 'enterprise,', 'enterprise,']\n"
     ]
    },
    {
     "name": "stdout",
     "output_type": "stream",
     "text": [
      "Required : ['data', 'science', 'enterprise,', 'enterprise,', 'enterprise,', 'enterprise,', 'enterprise,', 'enterprise,', 'enterprise,', 'enterprise,', 'enterprise,', 'enterprise,', 'enterprise,', 'enterprise,', 'enterprise,', 'enterprise,', 'enterprise,', 'enterprise,', 'enterprise,', 'enterprise,', 'enterprise,', 'enterprise,', 'enterprise,', 'enterprise,', 'enterprise,', 'enterprise,', 'enterprise,', 'enterprise,', 'enterprise,', 'enterprise,', 'enterprise,', 'enterprise,', 'enterprise,', 'enterprise,', 'enterprise,', 'enterprise,', 'enterprise,', 'enterprise,', 'enterprise,', 'enterprise,', 'enterprise,', 'enterprise,', 'enterprise,', 'enterprise,', 'enterprise,', 'enterprise,', 'enterprise,', 'enterprise,']\n",
      "Required : ['data', 'science', 'enterprise,', 'enterprise,', 'enterprise,', 'enterprise,', 'enterprise,', 'enterprise,', 'enterprise,', 'enterprise,', 'enterprise,', 'enterprise,', 'enterprise,', 'enterprise,', 'enterprise,', 'enterprise,', 'enterprise,', 'enterprise,', 'enterprise,', 'enterprise,', 'enterprise,', 'enterprise,', 'enterprise,', 'enterprise,', 'enterprise,', 'enterprise,', 'enterprise,', 'enterprise,', 'enterprise,', 'enterprise,', 'enterprise,', 'enterprise,', 'enterprise,', 'enterprise,', 'enterprise,', 'enterprise,', 'enterprise,', 'enterprise,', 'enterprise,', 'enterprise,', 'enterprise,', 'enterprise,', 'enterprise,', 'enterprise,', 'enterprise,', 'enterprise,', 'enterprise,', 'enterprise,', 'enterprise,']\n",
      "Required : ['data', 'science', 'enterprise,', 'enterprise,', 'enterprise,', 'enterprise,', 'enterprise,', 'enterprise,', 'enterprise,', 'enterprise,', 'enterprise,', 'enterprise,', 'enterprise,', 'enterprise,', 'enterprise,', 'enterprise,', 'enterprise,', 'enterprise,', 'enterprise,', 'enterprise,', 'enterprise,', 'enterprise,', 'enterprise,', 'enterprise,', 'enterprise,', 'enterprise,', 'enterprise,', 'enterprise,', 'enterprise,', 'enterprise,', 'enterprise,', 'enterprise,', 'enterprise,', 'enterprise,', 'enterprise,', 'enterprise,', 'enterprise,', 'enterprise,', 'enterprise,', 'enterprise,', 'enterprise,', 'enterprise,', 'enterprise,', 'enterprise,', 'enterprise,', 'enterprise,', 'enterprise,', 'enterprise,', 'enterprise,', 'enterprise,']\n",
      "Required : ['data', 'science', 'enterprise,', 'enterprise,', 'enterprise,', 'enterprise,', 'enterprise,', 'enterprise,', 'enterprise,', 'enterprise,', 'enterprise,', 'enterprise,', 'enterprise,', 'enterprise,', 'enterprise,', 'enterprise,', 'enterprise,', 'enterprise,', 'enterprise,', 'enterprise,', 'enterprise,', 'enterprise,', 'enterprise,', 'enterprise,', 'enterprise,', 'enterprise,', 'enterprise,', 'enterprise,', 'enterprise,', 'enterprise,', 'enterprise,', 'enterprise,', 'enterprise,', 'enterprise,', 'enterprise,', 'enterprise,', 'enterprise,', 'enterprise,', 'enterprise,', 'enterprise,', 'enterprise,', 'enterprise,', 'enterprise,', 'enterprise,', 'enterprise,', 'enterprise,', 'enterprise,', 'enterprise,', 'enterprise,', 'enterprise,', 'enterprise,']\n",
      "Required : ['data', 'science', 'enterprise,', 'enterprise,', 'enterprise,', 'enterprise,', 'enterprise,', 'enterprise,', 'enterprise,', 'enterprise,', 'enterprise,', 'enterprise,', 'enterprise,', 'enterprise,', 'enterprise,', 'enterprise,', 'enterprise,', 'enterprise,', 'enterprise,', 'enterprise,', 'enterprise,', 'enterprise,', 'enterprise,', 'enterprise,', 'enterprise,', 'enterprise,', 'enterprise,', 'enterprise,', 'enterprise,', 'enterprise,', 'enterprise,', 'enterprise,', 'enterprise,', 'enterprise,', 'enterprise,', 'enterprise,', 'enterprise,', 'enterprise,', 'enterprise,', 'enterprise,', 'enterprise,', 'enterprise,', 'enterprise,', 'enterprise,', 'enterprise,', 'enterprise,', 'enterprise,', 'enterprise,', 'enterprise,', 'enterprise,', 'enterprise,', 'enterprise,']\n",
      "Required : ['data', 'science', 'enterprise,', 'enterprise,', 'enterprise,', 'enterprise,', 'enterprise,', 'enterprise,', 'enterprise,', 'enterprise,', 'enterprise,', 'enterprise,', 'enterprise,', 'enterprise,', 'enterprise,', 'enterprise,', 'enterprise,', 'enterprise,', 'enterprise,', 'enterprise,', 'enterprise,', 'enterprise,', 'enterprise,', 'enterprise,', 'enterprise,', 'enterprise,', 'enterprise,', 'enterprise,', 'enterprise,', 'enterprise,', 'enterprise,', 'enterprise,', 'enterprise,', 'enterprise,', 'enterprise,', 'enterprise,', 'enterprise,', 'enterprise,', 'enterprise,', 'enterprise,', 'enterprise,', 'enterprise,', 'enterprise,', 'enterprise,', 'enterprise,', 'enterprise,', 'enterprise,', 'enterprise,', 'enterprise,', 'enterprise,', 'enterprise,', 'enterprise,', 'enterprise,']\n",
      "Required : ['data', 'science', 'enterprise,', 'enterprise,', 'enterprise,', 'enterprise,', 'enterprise,', 'enterprise,', 'enterprise,', 'enterprise,', 'enterprise,', 'enterprise,', 'enterprise,', 'enterprise,', 'enterprise,', 'enterprise,', 'enterprise,', 'enterprise,', 'enterprise,', 'enterprise,', 'enterprise,', 'enterprise,', 'enterprise,', 'enterprise,', 'enterprise,', 'enterprise,', 'enterprise,', 'enterprise,', 'enterprise,', 'enterprise,', 'enterprise,', 'enterprise,', 'enterprise,', 'enterprise,', 'enterprise,', 'enterprise,', 'enterprise,', 'enterprise,', 'enterprise,', 'enterprise,', 'enterprise,', 'enterprise,', 'enterprise,', 'enterprise,', 'enterprise,', 'enterprise,', 'enterprise,', 'enterprise,', 'enterprise,', 'enterprise,', 'enterprise,', 'enterprise,', 'enterprise,', 'enterprise,']\n",
      "Required : ['data', 'science', 'enterprise,', 'enterprise,', 'enterprise,', 'enterprise,', 'enterprise,', 'enterprise,', 'enterprise,', 'enterprise,', 'enterprise,', 'enterprise,', 'enterprise,', 'enterprise,', 'enterprise,', 'enterprise,', 'enterprise,', 'enterprise,', 'enterprise,', 'enterprise,', 'enterprise,', 'enterprise,', 'enterprise,', 'enterprise,', 'enterprise,', 'enterprise,', 'enterprise,', 'enterprise,', 'enterprise,', 'enterprise,', 'enterprise,', 'enterprise,', 'enterprise,', 'enterprise,', 'enterprise,', 'enterprise,', 'enterprise,', 'enterprise,', 'enterprise,', 'enterprise,', 'enterprise,', 'enterprise,', 'enterprise,', 'enterprise,', 'enterprise,', 'enterprise,', 'enterprise,', 'enterprise,', 'enterprise,', 'enterprise,', 'enterprise,', 'enterprise,', 'enterprise,', 'enterprise,', 'enterprise,']\n",
      "Required : ['data', 'science', 'enterprise,', 'enterprise,', 'enterprise,', 'enterprise,', 'enterprise,', 'enterprise,', 'enterprise,', 'enterprise,', 'enterprise,', 'enterprise,', 'enterprise,', 'enterprise,', 'enterprise,', 'enterprise,', 'enterprise,', 'enterprise,', 'enterprise,', 'enterprise,', 'enterprise,', 'enterprise,', 'enterprise,', 'enterprise,', 'enterprise,', 'enterprise,', 'enterprise,', 'enterprise,', 'enterprise,', 'enterprise,', 'enterprise,', 'enterprise,', 'enterprise,', 'enterprise,', 'enterprise,', 'enterprise,', 'enterprise,', 'enterprise,', 'enterprise,', 'enterprise,', 'enterprise,', 'enterprise,', 'enterprise,', 'enterprise,', 'enterprise,', 'enterprise,', 'enterprise,', 'enterprise,', 'enterprise,', 'enterprise,', 'enterprise,', 'enterprise,', 'enterprise,', 'enterprise,', 'enterprise,', 'enterprise,']\n",
      "Required : ['data', 'science', 'enterprise,', 'enterprise,', 'enterprise,', 'enterprise,', 'enterprise,', 'enterprise,', 'enterprise,', 'enterprise,', 'enterprise,', 'enterprise,', 'enterprise,', 'enterprise,', 'enterprise,', 'enterprise,', 'enterprise,', 'enterprise,', 'enterprise,', 'enterprise,', 'enterprise,', 'enterprise,', 'enterprise,', 'enterprise,', 'enterprise,', 'enterprise,', 'enterprise,', 'enterprise,', 'enterprise,', 'enterprise,', 'enterprise,', 'enterprise,', 'enterprise,', 'enterprise,', 'enterprise,', 'enterprise,', 'enterprise,', 'enterprise,', 'enterprise,', 'enterprise,', 'enterprise,', 'enterprise,', 'enterprise,', 'enterprise,', 'enterprise,', 'enterprise,', 'enterprise,', 'enterprise,', 'enterprise,', 'enterprise,', 'enterprise,', 'enterprise,', 'enterprise,', 'enterprise,', 'enterprise,', 'enterprise,', 'enterprise,']\n",
      "Required : ['data', 'science', 'enterprise,', 'enterprise,', 'enterprise,', 'enterprise,', 'enterprise,', 'enterprise,', 'enterprise,', 'enterprise,', 'enterprise,', 'enterprise,', 'enterprise,', 'enterprise,', 'enterprise,', 'enterprise,', 'enterprise,', 'enterprise,', 'enterprise,', 'enterprise,', 'enterprise,', 'enterprise,', 'enterprise,', 'enterprise,', 'enterprise,', 'enterprise,', 'enterprise,', 'enterprise,', 'enterprise,', 'enterprise,', 'enterprise,', 'enterprise,', 'enterprise,', 'enterprise,', 'enterprise,', 'enterprise,', 'enterprise,', 'enterprise,', 'enterprise,', 'enterprise,', 'enterprise,', 'enterprise,', 'enterprise,', 'enterprise,', 'enterprise,', 'enterprise,', 'enterprise,', 'enterprise,', 'enterprise,', 'enterprise,', 'enterprise,', 'enterprise,', 'enterprise,', 'enterprise,', 'enterprise,', 'enterprise,', 'enterprise,', 'enterprise,']\n",
      "Required : ['data', 'science', 'enterprise,', 'enterprise,', 'enterprise,', 'enterprise,', 'enterprise,', 'enterprise,', 'enterprise,', 'enterprise,', 'enterprise,', 'enterprise,', 'enterprise,', 'enterprise,', 'enterprise,', 'enterprise,', 'enterprise,', 'enterprise,', 'enterprise,', 'enterprise,', 'enterprise,', 'enterprise,', 'enterprise,', 'enterprise,', 'enterprise,', 'enterprise,', 'enterprise,', 'enterprise,', 'enterprise,', 'enterprise,', 'enterprise,', 'enterprise,', 'enterprise,', 'enterprise,', 'enterprise,', 'enterprise,', 'enterprise,', 'enterprise,', 'enterprise,', 'enterprise,', 'enterprise,', 'enterprise,', 'enterprise,', 'enterprise,', 'enterprise,', 'enterprise,', 'enterprise,', 'enterprise,', 'enterprise,', 'enterprise,', 'enterprise,', 'enterprise,', 'enterprise,', 'enterprise,', 'enterprise,', 'enterprise,', 'enterprise,', 'enterprise,', 'enterprise,']\n",
      "Required : ['data', 'science', 'enterprise,', 'enterprise,', 'enterprise,', 'enterprise,', 'enterprise,', 'enterprise,', 'enterprise,', 'enterprise,', 'enterprise,', 'enterprise,', 'enterprise,', 'enterprise,', 'enterprise,', 'enterprise,', 'enterprise,', 'enterprise,', 'enterprise,', 'enterprise,', 'enterprise,', 'enterprise,', 'enterprise,', 'enterprise,', 'enterprise,', 'enterprise,', 'enterprise,', 'enterprise,', 'enterprise,', 'enterprise,', 'enterprise,', 'enterprise,', 'enterprise,', 'enterprise,', 'enterprise,', 'enterprise,', 'enterprise,', 'enterprise,', 'enterprise,', 'enterprise,', 'enterprise,', 'enterprise,', 'enterprise,', 'enterprise,', 'enterprise,', 'enterprise,', 'enterprise,', 'enterprise,', 'enterprise,', 'enterprise,', 'enterprise,', 'enterprise,', 'enterprise,', 'enterprise,', 'enterprise,', 'enterprise,', 'enterprise,', 'enterprise,', 'enterprise,', 'enterprise,']\n",
      "Required : ['data', 'science', 'enterprise,', 'enterprise,', 'enterprise,', 'enterprise,', 'enterprise,', 'enterprise,', 'enterprise,', 'enterprise,', 'enterprise,', 'enterprise,', 'enterprise,', 'enterprise,', 'enterprise,', 'enterprise,', 'enterprise,', 'enterprise,', 'enterprise,', 'enterprise,', 'enterprise,', 'enterprise,', 'enterprise,', 'enterprise,', 'enterprise,', 'enterprise,', 'enterprise,', 'enterprise,', 'enterprise,', 'enterprise,', 'enterprise,', 'enterprise,', 'enterprise,', 'enterprise,', 'enterprise,', 'enterprise,', 'enterprise,', 'enterprise,', 'enterprise,', 'enterprise,', 'enterprise,', 'enterprise,', 'enterprise,', 'enterprise,', 'enterprise,', 'enterprise,', 'enterprise,', 'enterprise,', 'enterprise,', 'enterprise,', 'enterprise,', 'enterprise,', 'enterprise,', 'enterprise,', 'enterprise,', 'enterprise,', 'enterprise,', 'enterprise,', 'enterprise,', 'enterprise,', 'enterprise,']\n",
      "Required : ['data', 'science', 'enterprise,', 'enterprise,', 'enterprise,', 'enterprise,', 'enterprise,', 'enterprise,', 'enterprise,', 'enterprise,', 'enterprise,', 'enterprise,', 'enterprise,', 'enterprise,', 'enterprise,', 'enterprise,', 'enterprise,', 'enterprise,', 'enterprise,', 'enterprise,', 'enterprise,', 'enterprise,', 'enterprise,', 'enterprise,', 'enterprise,', 'enterprise,', 'enterprise,', 'enterprise,', 'enterprise,', 'enterprise,', 'enterprise,', 'enterprise,', 'enterprise,', 'enterprise,', 'enterprise,', 'enterprise,', 'enterprise,', 'enterprise,', 'enterprise,', 'enterprise,', 'enterprise,', 'enterprise,', 'enterprise,', 'enterprise,', 'enterprise,', 'enterprise,', 'enterprise,', 'enterprise,', 'enterprise,', 'enterprise,', 'enterprise,', 'enterprise,', 'enterprise,', 'enterprise,', 'enterprise,', 'enterprise,', 'enterprise,', 'enterprise,', 'enterprise,', 'enterprise,', 'enterprise,', 'enterprise,']\n",
      "Required : ['data', 'science', 'enterprise,', 'enterprise,', 'enterprise,', 'enterprise,', 'enterprise,', 'enterprise,', 'enterprise,', 'enterprise,', 'enterprise,', 'enterprise,', 'enterprise,', 'enterprise,', 'enterprise,', 'enterprise,', 'enterprise,', 'enterprise,', 'enterprise,', 'enterprise,', 'enterprise,', 'enterprise,', 'enterprise,', 'enterprise,', 'enterprise,', 'enterprise,', 'enterprise,', 'enterprise,', 'enterprise,', 'enterprise,', 'enterprise,', 'enterprise,', 'enterprise,', 'enterprise,', 'enterprise,', 'enterprise,', 'enterprise,', 'enterprise,', 'enterprise,', 'enterprise,', 'enterprise,', 'enterprise,', 'enterprise,', 'enterprise,', 'enterprise,', 'enterprise,', 'enterprise,', 'enterprise,', 'enterprise,', 'enterprise,', 'enterprise,', 'enterprise,', 'enterprise,', 'enterprise,', 'enterprise,', 'enterprise,', 'enterprise,', 'enterprise,', 'enterprise,', 'enterprise,', 'enterprise,', 'enterprise,', 'enterprise,']\n",
      "Required : ['data', 'science', 'enterprise,', 'enterprise,', 'enterprise,', 'enterprise,', 'enterprise,', 'enterprise,', 'enterprise,', 'enterprise,', 'enterprise,', 'enterprise,', 'enterprise,', 'enterprise,', 'enterprise,', 'enterprise,', 'enterprise,', 'enterprise,', 'enterprise,', 'enterprise,', 'enterprise,', 'enterprise,', 'enterprise,', 'enterprise,', 'enterprise,', 'enterprise,', 'enterprise,', 'enterprise,', 'enterprise,', 'enterprise,', 'enterprise,', 'enterprise,', 'enterprise,', 'enterprise,', 'enterprise,', 'enterprise,', 'enterprise,', 'enterprise,', 'enterprise,', 'enterprise,', 'enterprise,', 'enterprise,', 'enterprise,', 'enterprise,', 'enterprise,', 'enterprise,', 'enterprise,', 'enterprise,', 'enterprise,', 'enterprise,', 'enterprise,', 'enterprise,', 'enterprise,', 'enterprise,', 'enterprise,', 'enterprise,', 'enterprise,', 'enterprise,', 'enterprise,', 'enterprise,', 'enterprise,', 'enterprise,', 'enterprise,', 'enterprise,']\n",
      "Required : ['data', 'science', 'enterprise,', 'enterprise,', 'enterprise,', 'enterprise,', 'enterprise,', 'enterprise,', 'enterprise,', 'enterprise,', 'enterprise,', 'enterprise,', 'enterprise,', 'enterprise,', 'enterprise,', 'enterprise,', 'enterprise,', 'enterprise,', 'enterprise,', 'enterprise,', 'enterprise,', 'enterprise,', 'enterprise,', 'enterprise,', 'enterprise,', 'enterprise,', 'enterprise,', 'enterprise,', 'enterprise,', 'enterprise,', 'enterprise,', 'enterprise,', 'enterprise,', 'enterprise,', 'enterprise,', 'enterprise,', 'enterprise,', 'enterprise,', 'enterprise,', 'enterprise,', 'enterprise,', 'enterprise,', 'enterprise,', 'enterprise,', 'enterprise,', 'enterprise,', 'enterprise,', 'enterprise,', 'enterprise,', 'enterprise,', 'enterprise,', 'enterprise,', 'enterprise,', 'enterprise,', 'enterprise,', 'enterprise,', 'enterprise,', 'enterprise,', 'enterprise,', 'enterprise,', 'enterprise,', 'enterprise,', 'enterprise,', 'enterprise,', 'enterprise,']\n"
     ]
    },
    {
     "name": "stdout",
     "output_type": "stream",
     "text": [
      "Required : ['data', 'science', 'enterprise,', 'enterprise,', 'enterprise,', 'enterprise,', 'enterprise,', 'enterprise,', 'enterprise,', 'enterprise,', 'enterprise,', 'enterprise,', 'enterprise,', 'enterprise,', 'enterprise,', 'enterprise,', 'enterprise,', 'enterprise,', 'enterprise,', 'enterprise,', 'enterprise,', 'enterprise,', 'enterprise,', 'enterprise,', 'enterprise,', 'enterprise,', 'enterprise,', 'enterprise,', 'enterprise,', 'enterprise,', 'enterprise,', 'enterprise,', 'enterprise,', 'enterprise,', 'enterprise,', 'enterprise,', 'enterprise,', 'enterprise,', 'enterprise,', 'enterprise,', 'enterprise,', 'enterprise,', 'enterprise,', 'enterprise,', 'enterprise,', 'enterprise,', 'enterprise,', 'enterprise,', 'enterprise,', 'enterprise,', 'enterprise,', 'enterprise,', 'enterprise,', 'enterprise,', 'enterprise,', 'enterprise,', 'enterprise,', 'enterprise,', 'enterprise,', 'enterprise,', 'enterprise,', 'enterprise,', 'enterprise,', 'enterprise,', 'enterprise,', 'enterprise,']\n",
      "Required : ['data', 'science', 'enterprise,', 'enterprise,', 'enterprise,', 'enterprise,', 'enterprise,', 'enterprise,', 'enterprise,', 'enterprise,', 'enterprise,', 'enterprise,', 'enterprise,', 'enterprise,', 'enterprise,', 'enterprise,', 'enterprise,', 'enterprise,', 'enterprise,', 'enterprise,', 'enterprise,', 'enterprise,', 'enterprise,', 'enterprise,', 'enterprise,', 'enterprise,', 'enterprise,', 'enterprise,', 'enterprise,', 'enterprise,', 'enterprise,', 'enterprise,', 'enterprise,', 'enterprise,', 'enterprise,', 'enterprise,', 'enterprise,', 'enterprise,', 'enterprise,', 'enterprise,', 'enterprise,', 'enterprise,', 'enterprise,', 'enterprise,', 'enterprise,', 'enterprise,', 'enterprise,', 'enterprise,', 'enterprise,', 'enterprise,', 'enterprise,', 'enterprise,', 'enterprise,', 'enterprise,', 'enterprise,', 'enterprise,', 'enterprise,', 'enterprise,', 'enterprise,', 'enterprise,', 'enterprise,', 'enterprise,', 'enterprise,', 'enterprise,', 'enterprise,', 'enterprise,', 'enterprise,']\n",
      "Required : ['data', 'science', 'enterprise,', 'enterprise,', 'enterprise,', 'enterprise,', 'enterprise,', 'enterprise,', 'enterprise,', 'enterprise,', 'enterprise,', 'enterprise,', 'enterprise,', 'enterprise,', 'enterprise,', 'enterprise,', 'enterprise,', 'enterprise,', 'enterprise,', 'enterprise,', 'enterprise,', 'enterprise,', 'enterprise,', 'enterprise,', 'enterprise,', 'enterprise,', 'enterprise,', 'enterprise,', 'enterprise,', 'enterprise,', 'enterprise,', 'enterprise,', 'enterprise,', 'enterprise,', 'enterprise,', 'enterprise,', 'enterprise,', 'enterprise,', 'enterprise,', 'enterprise,', 'enterprise,', 'enterprise,', 'enterprise,', 'enterprise,', 'enterprise,', 'enterprise,', 'enterprise,', 'enterprise,', 'enterprise,', 'enterprise,', 'enterprise,', 'enterprise,', 'enterprise,', 'enterprise,', 'enterprise,', 'enterprise,', 'enterprise,', 'enterprise,', 'enterprise,', 'enterprise,', 'enterprise,', 'enterprise,', 'enterprise,', 'enterprise,', 'enterprise,', 'enterprise,', 'enterprise,', 'enterprise,']\n",
      "Required : ['data', 'science', 'enterprise,', 'enterprise,', 'enterprise,', 'enterprise,', 'enterprise,', 'enterprise,', 'enterprise,', 'enterprise,', 'enterprise,', 'enterprise,', 'enterprise,', 'enterprise,', 'enterprise,', 'enterprise,', 'enterprise,', 'enterprise,', 'enterprise,', 'enterprise,', 'enterprise,', 'enterprise,', 'enterprise,', 'enterprise,', 'enterprise,', 'enterprise,', 'enterprise,', 'enterprise,', 'enterprise,', 'enterprise,', 'enterprise,', 'enterprise,', 'enterprise,', 'enterprise,', 'enterprise,', 'enterprise,', 'enterprise,', 'enterprise,', 'enterprise,', 'enterprise,', 'enterprise,', 'enterprise,', 'enterprise,', 'enterprise,', 'enterprise,', 'enterprise,', 'enterprise,', 'enterprise,', 'enterprise,', 'enterprise,', 'enterprise,', 'enterprise,', 'enterprise,', 'enterprise,', 'enterprise,', 'enterprise,', 'enterprise,', 'enterprise,', 'enterprise,', 'enterprise,', 'enterprise,', 'enterprise,', 'enterprise,', 'enterprise,', 'enterprise,', 'enterprise,', 'enterprise,', 'enterprise,', 'enterprise,']\n",
      "Required : ['data', 'science', 'enterprise,', 'enterprise,', 'enterprise,', 'enterprise,', 'enterprise,', 'enterprise,', 'enterprise,', 'enterprise,', 'enterprise,', 'enterprise,', 'enterprise,', 'enterprise,', 'enterprise,', 'enterprise,', 'enterprise,', 'enterprise,', 'enterprise,', 'enterprise,', 'enterprise,', 'enterprise,', 'enterprise,', 'enterprise,', 'enterprise,', 'enterprise,', 'enterprise,', 'enterprise,', 'enterprise,', 'enterprise,', 'enterprise,', 'enterprise,', 'enterprise,', 'enterprise,', 'enterprise,', 'enterprise,', 'enterprise,', 'enterprise,', 'enterprise,', 'enterprise,', 'enterprise,', 'enterprise,', 'enterprise,', 'enterprise,', 'enterprise,', 'enterprise,', 'enterprise,', 'enterprise,', 'enterprise,', 'enterprise,', 'enterprise,', 'enterprise,', 'enterprise,', 'enterprise,', 'enterprise,', 'enterprise,', 'enterprise,', 'enterprise,', 'enterprise,', 'enterprise,', 'enterprise,', 'enterprise,', 'enterprise,', 'enterprise,', 'enterprise,', 'enterprise,', 'enterprise,', 'enterprise,', 'enterprise,', 'enterprise,']\n",
      "Required : ['data', 'science', 'enterprise,', 'enterprise,', 'enterprise,', 'enterprise,', 'enterprise,', 'enterprise,', 'enterprise,', 'enterprise,', 'enterprise,', 'enterprise,', 'enterprise,', 'enterprise,', 'enterprise,', 'enterprise,', 'enterprise,', 'enterprise,', 'enterprise,', 'enterprise,', 'enterprise,', 'enterprise,', 'enterprise,', 'enterprise,', 'enterprise,', 'enterprise,', 'enterprise,', 'enterprise,', 'enterprise,', 'enterprise,', 'enterprise,', 'enterprise,', 'enterprise,', 'enterprise,', 'enterprise,', 'enterprise,', 'enterprise,', 'enterprise,', 'enterprise,', 'enterprise,', 'enterprise,', 'enterprise,', 'enterprise,', 'enterprise,', 'enterprise,', 'enterprise,', 'enterprise,', 'enterprise,', 'enterprise,', 'enterprise,', 'enterprise,', 'enterprise,', 'enterprise,', 'enterprise,', 'enterprise,', 'enterprise,', 'enterprise,', 'enterprise,', 'enterprise,', 'enterprise,', 'enterprise,', 'enterprise,', 'enterprise,', 'enterprise,', 'enterprise,', 'enterprise,', 'enterprise,', 'enterprise,', 'enterprise,', 'enterprise,', 'enterprise,']\n",
      "Required : ['data', 'science', 'enterprise,', 'enterprise,', 'enterprise,', 'enterprise,', 'enterprise,', 'enterprise,', 'enterprise,', 'enterprise,', 'enterprise,', 'enterprise,', 'enterprise,', 'enterprise,', 'enterprise,', 'enterprise,', 'enterprise,', 'enterprise,', 'enterprise,', 'enterprise,', 'enterprise,', 'enterprise,', 'enterprise,', 'enterprise,', 'enterprise,', 'enterprise,', 'enterprise,', 'enterprise,', 'enterprise,', 'enterprise,', 'enterprise,', 'enterprise,', 'enterprise,', 'enterprise,', 'enterprise,', 'enterprise,', 'enterprise,', 'enterprise,', 'enterprise,', 'enterprise,', 'enterprise,', 'enterprise,', 'enterprise,', 'enterprise,', 'enterprise,', 'enterprise,', 'enterprise,', 'enterprise,', 'enterprise,', 'enterprise,', 'enterprise,', 'enterprise,', 'enterprise,', 'enterprise,', 'enterprise,', 'enterprise,', 'enterprise,', 'enterprise,', 'enterprise,', 'enterprise,', 'enterprise,', 'enterprise,', 'enterprise,', 'enterprise,', 'enterprise,', 'enterprise,', 'enterprise,', 'enterprise,', 'enterprise,', 'enterprise,', 'enterprise,', 'enterprise,']\n",
      "Required : ['data', 'science', 'enterprise,', 'enterprise,', 'enterprise,', 'enterprise,', 'enterprise,', 'enterprise,', 'enterprise,', 'enterprise,', 'enterprise,', 'enterprise,', 'enterprise,', 'enterprise,', 'enterprise,', 'enterprise,', 'enterprise,', 'enterprise,', 'enterprise,', 'enterprise,', 'enterprise,', 'enterprise,', 'enterprise,', 'enterprise,', 'enterprise,', 'enterprise,', 'enterprise,', 'enterprise,', 'enterprise,', 'enterprise,', 'enterprise,', 'enterprise,', 'enterprise,', 'enterprise,', 'enterprise,', 'enterprise,', 'enterprise,', 'enterprise,', 'enterprise,', 'enterprise,', 'enterprise,', 'enterprise,', 'enterprise,', 'enterprise,', 'enterprise,', 'enterprise,', 'enterprise,', 'enterprise,', 'enterprise,', 'enterprise,', 'enterprise,', 'enterprise,', 'enterprise,', 'enterprise,', 'enterprise,', 'enterprise,', 'enterprise,', 'enterprise,', 'enterprise,', 'enterprise,', 'enterprise,', 'enterprise,', 'enterprise,', 'enterprise,', 'enterprise,', 'enterprise,', 'enterprise,', 'enterprise,', 'enterprise,', 'enterprise,', 'enterprise,', 'enterprise,', 'enterprise,']\n",
      "Required : ['data', 'science', 'enterprise,', 'enterprise,', 'enterprise,', 'enterprise,', 'enterprise,', 'enterprise,', 'enterprise,', 'enterprise,', 'enterprise,', 'enterprise,', 'enterprise,', 'enterprise,', 'enterprise,', 'enterprise,', 'enterprise,', 'enterprise,', 'enterprise,', 'enterprise,', 'enterprise,', 'enterprise,', 'enterprise,', 'enterprise,', 'enterprise,', 'enterprise,', 'enterprise,', 'enterprise,', 'enterprise,', 'enterprise,', 'enterprise,', 'enterprise,', 'enterprise,', 'enterprise,', 'enterprise,', 'enterprise,', 'enterprise,', 'enterprise,', 'enterprise,', 'enterprise,', 'enterprise,', 'enterprise,', 'enterprise,', 'enterprise,', 'enterprise,', 'enterprise,', 'enterprise,', 'enterprise,', 'enterprise,', 'enterprise,', 'enterprise,', 'enterprise,', 'enterprise,', 'enterprise,', 'enterprise,', 'enterprise,', 'enterprise,', 'enterprise,', 'enterprise,', 'enterprise,', 'enterprise,', 'enterprise,', 'enterprise,', 'enterprise,', 'enterprise,', 'enterprise,', 'enterprise,', 'enterprise,', 'enterprise,', 'enterprise,', 'enterprise,', 'enterprise,', 'enterprise,', 'enterprise,']\n",
      "Required : ['data', 'science', 'enterprise,', 'enterprise,', 'enterprise,', 'enterprise,', 'enterprise,', 'enterprise,', 'enterprise,', 'enterprise,', 'enterprise,', 'enterprise,', 'enterprise,', 'enterprise,', 'enterprise,', 'enterprise,', 'enterprise,', 'enterprise,', 'enterprise,', 'enterprise,', 'enterprise,', 'enterprise,', 'enterprise,', 'enterprise,', 'enterprise,', 'enterprise,', 'enterprise,', 'enterprise,', 'enterprise,', 'enterprise,', 'enterprise,', 'enterprise,', 'enterprise,', 'enterprise,', 'enterprise,', 'enterprise,', 'enterprise,', 'enterprise,', 'enterprise,', 'enterprise,', 'enterprise,', 'enterprise,', 'enterprise,', 'enterprise,', 'enterprise,', 'enterprise,', 'enterprise,', 'enterprise,', 'enterprise,', 'enterprise,', 'enterprise,', 'enterprise,', 'enterprise,', 'enterprise,', 'enterprise,', 'enterprise,', 'enterprise,', 'enterprise,', 'enterprise,', 'enterprise,', 'enterprise,', 'enterprise,', 'enterprise,', 'enterprise,', 'enterprise,', 'enterprise,', 'enterprise,', 'enterprise,', 'enterprise,', 'enterprise,', 'enterprise,', 'enterprise,', 'enterprise,', 'enterprise,', 'enterprise,']\n",
      "Required : ['data', 'science', 'enterprise,', 'enterprise,', 'enterprise,', 'enterprise,', 'enterprise,', 'enterprise,', 'enterprise,', 'enterprise,', 'enterprise,', 'enterprise,', 'enterprise,', 'enterprise,', 'enterprise,', 'enterprise,', 'enterprise,', 'enterprise,', 'enterprise,', 'enterprise,', 'enterprise,', 'enterprise,', 'enterprise,', 'enterprise,', 'enterprise,', 'enterprise,', 'enterprise,', 'enterprise,', 'enterprise,', 'enterprise,', 'enterprise,', 'enterprise,', 'enterprise,', 'enterprise,', 'enterprise,', 'enterprise,', 'enterprise,', 'enterprise,', 'enterprise,', 'enterprise,', 'enterprise,', 'enterprise,', 'enterprise,', 'enterprise,', 'enterprise,', 'enterprise,', 'enterprise,', 'enterprise,', 'enterprise,', 'enterprise,', 'enterprise,', 'enterprise,', 'enterprise,', 'enterprise,', 'enterprise,', 'enterprise,', 'enterprise,', 'enterprise,', 'enterprise,', 'enterprise,', 'enterprise,', 'enterprise,', 'enterprise,', 'enterprise,', 'enterprise,', 'enterprise,', 'enterprise,', 'enterprise,', 'enterprise,', 'enterprise,', 'enterprise,', 'enterprise,', 'enterprise,', 'enterprise,', 'enterprise,', 'enterprise,']\n",
      "Required : ['data', 'science', 'enterprise,', 'enterprise,', 'enterprise,', 'enterprise,', 'enterprise,', 'enterprise,', 'enterprise,', 'enterprise,', 'enterprise,', 'enterprise,', 'enterprise,', 'enterprise,', 'enterprise,', 'enterprise,', 'enterprise,', 'enterprise,', 'enterprise,', 'enterprise,', 'enterprise,', 'enterprise,', 'enterprise,', 'enterprise,', 'enterprise,', 'enterprise,', 'enterprise,', 'enterprise,', 'enterprise,', 'enterprise,', 'enterprise,', 'enterprise,', 'enterprise,', 'enterprise,', 'enterprise,', 'enterprise,', 'enterprise,', 'enterprise,', 'enterprise,', 'enterprise,', 'enterprise,', 'enterprise,', 'enterprise,', 'enterprise,', 'enterprise,', 'enterprise,', 'enterprise,', 'enterprise,', 'enterprise,', 'enterprise,', 'enterprise,', 'enterprise,', 'enterprise,', 'enterprise,', 'enterprise,', 'enterprise,', 'enterprise,', 'enterprise,', 'enterprise,', 'enterprise,', 'enterprise,', 'enterprise,', 'enterprise,', 'enterprise,', 'enterprise,', 'enterprise,', 'enterprise,', 'enterprise,', 'enterprise,', 'enterprise,', 'enterprise,', 'enterprise,', 'enterprise,', 'enterprise,', 'enterprise,', 'enterprise,', 'enterprise,']\n",
      "Required : ['data', 'science', 'enterprise,', 'enterprise,', 'enterprise,', 'enterprise,', 'enterprise,', 'enterprise,', 'enterprise,', 'enterprise,', 'enterprise,', 'enterprise,', 'enterprise,', 'enterprise,', 'enterprise,', 'enterprise,', 'enterprise,', 'enterprise,', 'enterprise,', 'enterprise,', 'enterprise,', 'enterprise,', 'enterprise,', 'enterprise,', 'enterprise,', 'enterprise,', 'enterprise,', 'enterprise,', 'enterprise,', 'enterprise,', 'enterprise,', 'enterprise,', 'enterprise,', 'enterprise,', 'enterprise,', 'enterprise,', 'enterprise,', 'enterprise,', 'enterprise,', 'enterprise,', 'enterprise,', 'enterprise,', 'enterprise,', 'enterprise,', 'enterprise,', 'enterprise,', 'enterprise,', 'enterprise,', 'enterprise,', 'enterprise,', 'enterprise,', 'enterprise,', 'enterprise,', 'enterprise,', 'enterprise,', 'enterprise,', 'enterprise,', 'enterprise,', 'enterprise,', 'enterprise,', 'enterprise,', 'enterprise,', 'enterprise,', 'enterprise,', 'enterprise,', 'enterprise,', 'enterprise,', 'enterprise,', 'enterprise,', 'enterprise,', 'enterprise,', 'enterprise,', 'enterprise,', 'enterprise,', 'enterprise,', 'enterprise,', 'enterprise,', 'enterprise,']\n",
      "Required : ['data', 'science', 'enterprise,', 'enterprise,', 'enterprise,', 'enterprise,', 'enterprise,', 'enterprise,', 'enterprise,', 'enterprise,', 'enterprise,', 'enterprise,', 'enterprise,', 'enterprise,', 'enterprise,', 'enterprise,', 'enterprise,', 'enterprise,', 'enterprise,', 'enterprise,', 'enterprise,', 'enterprise,', 'enterprise,', 'enterprise,', 'enterprise,', 'enterprise,', 'enterprise,', 'enterprise,', 'enterprise,', 'enterprise,', 'enterprise,', 'enterprise,', 'enterprise,', 'enterprise,', 'enterprise,', 'enterprise,', 'enterprise,', 'enterprise,', 'enterprise,', 'enterprise,', 'enterprise,', 'enterprise,', 'enterprise,', 'enterprise,', 'enterprise,', 'enterprise,', 'enterprise,', 'enterprise,', 'enterprise,', 'enterprise,', 'enterprise,', 'enterprise,', 'enterprise,', 'enterprise,', 'enterprise,', 'enterprise,', 'enterprise,', 'enterprise,', 'enterprise,', 'enterprise,', 'enterprise,', 'enterprise,', 'enterprise,', 'enterprise,', 'enterprise,', 'enterprise,', 'enterprise,', 'enterprise,', 'enterprise,', 'enterprise,', 'enterprise,', 'enterprise,', 'enterprise,', 'enterprise,', 'enterprise,', 'enterprise,', 'enterprise,', 'enterprise,', 'enterprise,']\n"
     ]
    },
    {
     "name": "stdout",
     "output_type": "stream",
     "text": [
      "Required : ['data', 'science', 'enterprise,', 'enterprise,', 'enterprise,', 'enterprise,', 'enterprise,', 'enterprise,', 'enterprise,', 'enterprise,', 'enterprise,', 'enterprise,', 'enterprise,', 'enterprise,', 'enterprise,', 'enterprise,', 'enterprise,', 'enterprise,', 'enterprise,', 'enterprise,', 'enterprise,', 'enterprise,', 'enterprise,', 'enterprise,', 'enterprise,', 'enterprise,', 'enterprise,', 'enterprise,', 'enterprise,', 'enterprise,', 'enterprise,', 'enterprise,', 'enterprise,', 'enterprise,', 'enterprise,', 'enterprise,', 'enterprise,', 'enterprise,', 'enterprise,', 'enterprise,', 'enterprise,', 'enterprise,', 'enterprise,', 'enterprise,', 'enterprise,', 'enterprise,', 'enterprise,', 'enterprise,', 'enterprise,', 'enterprise,', 'enterprise,', 'enterprise,', 'enterprise,', 'enterprise,', 'enterprise,', 'enterprise,', 'enterprise,', 'enterprise,', 'enterprise,', 'enterprise,', 'enterprise,', 'enterprise,', 'enterprise,', 'enterprise,', 'enterprise,', 'enterprise,', 'enterprise,', 'enterprise,', 'enterprise,', 'enterprise,', 'enterprise,', 'enterprise,', 'enterprise,', 'enterprise,', 'enterprise,', 'enterprise,', 'enterprise,', 'enterprise,', 'enterprise,', 'enterprise,']\n",
      "Required : ['data', 'science', 'enterprise,', 'enterprise,', 'enterprise,', 'enterprise,', 'enterprise,', 'enterprise,', 'enterprise,', 'enterprise,', 'enterprise,', 'enterprise,', 'enterprise,', 'enterprise,', 'enterprise,', 'enterprise,', 'enterprise,', 'enterprise,', 'enterprise,', 'enterprise,', 'enterprise,', 'enterprise,', 'enterprise,', 'enterprise,', 'enterprise,', 'enterprise,', 'enterprise,', 'enterprise,', 'enterprise,', 'enterprise,', 'enterprise,', 'enterprise,', 'enterprise,', 'enterprise,', 'enterprise,', 'enterprise,', 'enterprise,', 'enterprise,', 'enterprise,', 'enterprise,', 'enterprise,', 'enterprise,', 'enterprise,', 'enterprise,', 'enterprise,', 'enterprise,', 'enterprise,', 'enterprise,', 'enterprise,', 'enterprise,', 'enterprise,', 'enterprise,', 'enterprise,', 'enterprise,', 'enterprise,', 'enterprise,', 'enterprise,', 'enterprise,', 'enterprise,', 'enterprise,', 'enterprise,', 'enterprise,', 'enterprise,', 'enterprise,', 'enterprise,', 'enterprise,', 'enterprise,', 'enterprise,', 'enterprise,', 'enterprise,', 'enterprise,', 'enterprise,', 'enterprise,', 'enterprise,', 'enterprise,', 'enterprise,', 'enterprise,', 'enterprise,', 'enterprise,', 'enterprise,', 'enterprise,']\n",
      "Required : ['data', 'science', 'enterprise,', 'enterprise,', 'enterprise,', 'enterprise,', 'enterprise,', 'enterprise,', 'enterprise,', 'enterprise,', 'enterprise,', 'enterprise,', 'enterprise,', 'enterprise,', 'enterprise,', 'enterprise,', 'enterprise,', 'enterprise,', 'enterprise,', 'enterprise,', 'enterprise,', 'enterprise,', 'enterprise,', 'enterprise,', 'enterprise,', 'enterprise,', 'enterprise,', 'enterprise,', 'enterprise,', 'enterprise,', 'enterprise,', 'enterprise,', 'enterprise,', 'enterprise,', 'enterprise,', 'enterprise,', 'enterprise,', 'enterprise,', 'enterprise,', 'enterprise,', 'enterprise,', 'enterprise,', 'enterprise,', 'enterprise,', 'enterprise,', 'enterprise,', 'enterprise,', 'enterprise,', 'enterprise,', 'enterprise,', 'enterprise,', 'enterprise,', 'enterprise,', 'enterprise,', 'enterprise,', 'enterprise,', 'enterprise,', 'enterprise,', 'enterprise,', 'enterprise,', 'enterprise,', 'enterprise,', 'enterprise,', 'enterprise,', 'enterprise,', 'enterprise,', 'enterprise,', 'enterprise,', 'enterprise,', 'enterprise,', 'enterprise,', 'enterprise,', 'enterprise,', 'enterprise,', 'enterprise,', 'enterprise,', 'enterprise,', 'enterprise,', 'enterprise,', 'enterprise,', 'enterprise,', 'enterprise,']\n",
      "Required : ['data', 'science', 'enterprise,', 'enterprise,', 'enterprise,', 'enterprise,', 'enterprise,', 'enterprise,', 'enterprise,', 'enterprise,', 'enterprise,', 'enterprise,', 'enterprise,', 'enterprise,', 'enterprise,', 'enterprise,', 'enterprise,', 'enterprise,', 'enterprise,', 'enterprise,', 'enterprise,', 'enterprise,', 'enterprise,', 'enterprise,', 'enterprise,', 'enterprise,', 'enterprise,', 'enterprise,', 'enterprise,', 'enterprise,', 'enterprise,', 'enterprise,', 'enterprise,', 'enterprise,', 'enterprise,', 'enterprise,', 'enterprise,', 'enterprise,', 'enterprise,', 'enterprise,', 'enterprise,', 'enterprise,', 'enterprise,', 'enterprise,', 'enterprise,', 'enterprise,', 'enterprise,', 'enterprise,', 'enterprise,', 'enterprise,', 'enterprise,', 'enterprise,', 'enterprise,', 'enterprise,', 'enterprise,', 'enterprise,', 'enterprise,', 'enterprise,', 'enterprise,', 'enterprise,', 'enterprise,', 'enterprise,', 'enterprise,', 'enterprise,', 'enterprise,', 'enterprise,', 'enterprise,', 'enterprise,', 'enterprise,', 'enterprise,', 'enterprise,', 'enterprise,', 'enterprise,', 'enterprise,', 'enterprise,', 'enterprise,', 'enterprise,', 'enterprise,', 'enterprise,', 'enterprise,', 'enterprise,', 'enterprise,', 'enterprise,']\n",
      "Required : ['data', 'science', 'enterprise,', 'enterprise,', 'enterprise,', 'enterprise,', 'enterprise,', 'enterprise,', 'enterprise,', 'enterprise,', 'enterprise,', 'enterprise,', 'enterprise,', 'enterprise,', 'enterprise,', 'enterprise,', 'enterprise,', 'enterprise,', 'enterprise,', 'enterprise,', 'enterprise,', 'enterprise,', 'enterprise,', 'enterprise,', 'enterprise,', 'enterprise,', 'enterprise,', 'enterprise,', 'enterprise,', 'enterprise,', 'enterprise,', 'enterprise,', 'enterprise,', 'enterprise,', 'enterprise,', 'enterprise,', 'enterprise,', 'enterprise,', 'enterprise,', 'enterprise,', 'enterprise,', 'enterprise,', 'enterprise,', 'enterprise,', 'enterprise,', 'enterprise,', 'enterprise,', 'enterprise,', 'enterprise,', 'enterprise,', 'enterprise,', 'enterprise,', 'enterprise,', 'enterprise,', 'enterprise,', 'enterprise,', 'enterprise,', 'enterprise,', 'enterprise,', 'enterprise,', 'enterprise,', 'enterprise,', 'enterprise,', 'enterprise,', 'enterprise,', 'enterprise,', 'enterprise,', 'enterprise,', 'enterprise,', 'enterprise,', 'enterprise,', 'enterprise,', 'enterprise,', 'enterprise,', 'enterprise,', 'enterprise,', 'enterprise,', 'enterprise,', 'enterprise,', 'enterprise,', 'enterprise,', 'enterprise,', 'enterprise,', 'enterprise,']\n",
      "Required : ['data', 'science', 'enterprise,', 'enterprise,', 'enterprise,', 'enterprise,', 'enterprise,', 'enterprise,', 'enterprise,', 'enterprise,', 'enterprise,', 'enterprise,', 'enterprise,', 'enterprise,', 'enterprise,', 'enterprise,', 'enterprise,', 'enterprise,', 'enterprise,', 'enterprise,', 'enterprise,', 'enterprise,', 'enterprise,', 'enterprise,', 'enterprise,', 'enterprise,', 'enterprise,', 'enterprise,', 'enterprise,', 'enterprise,', 'enterprise,', 'enterprise,', 'enterprise,', 'enterprise,', 'enterprise,', 'enterprise,', 'enterprise,', 'enterprise,', 'enterprise,', 'enterprise,', 'enterprise,', 'enterprise,', 'enterprise,', 'enterprise,', 'enterprise,', 'enterprise,', 'enterprise,', 'enterprise,', 'enterprise,', 'enterprise,', 'enterprise,', 'enterprise,', 'enterprise,', 'enterprise,', 'enterprise,', 'enterprise,', 'enterprise,', 'enterprise,', 'enterprise,', 'enterprise,', 'enterprise,', 'enterprise,', 'enterprise,', 'enterprise,', 'enterprise,', 'enterprise,', 'enterprise,', 'enterprise,', 'enterprise,', 'enterprise,', 'enterprise,', 'enterprise,', 'enterprise,', 'enterprise,', 'enterprise,', 'enterprise,', 'enterprise,', 'enterprise,', 'enterprise,', 'enterprise,', 'enterprise,', 'enterprise,', 'enterprise,', 'enterprise,', 'enterprise,']\n",
      "Required : ['data', 'science', 'enterprise,', 'enterprise,', 'enterprise,', 'enterprise,', 'enterprise,', 'enterprise,', 'enterprise,', 'enterprise,', 'enterprise,', 'enterprise,', 'enterprise,', 'enterprise,', 'enterprise,', 'enterprise,', 'enterprise,', 'enterprise,', 'enterprise,', 'enterprise,', 'enterprise,', 'enterprise,', 'enterprise,', 'enterprise,', 'enterprise,', 'enterprise,', 'enterprise,', 'enterprise,', 'enterprise,', 'enterprise,', 'enterprise,', 'enterprise,', 'enterprise,', 'enterprise,', 'enterprise,', 'enterprise,', 'enterprise,', 'enterprise,', 'enterprise,', 'enterprise,', 'enterprise,', 'enterprise,', 'enterprise,', 'enterprise,', 'enterprise,', 'enterprise,', 'enterprise,', 'enterprise,', 'enterprise,', 'enterprise,', 'enterprise,', 'enterprise,', 'enterprise,', 'enterprise,', 'enterprise,', 'enterprise,', 'enterprise,', 'enterprise,', 'enterprise,', 'enterprise,', 'enterprise,', 'enterprise,', 'enterprise,', 'enterprise,', 'enterprise,', 'enterprise,', 'enterprise,', 'enterprise,', 'enterprise,', 'enterprise,', 'enterprise,', 'enterprise,', 'enterprise,', 'enterprise,', 'enterprise,', 'enterprise,', 'enterprise,', 'enterprise,', 'enterprise,', 'enterprise,', 'enterprise,', 'enterprise,', 'enterprise,', 'enterprise,', 'enterprise,', 'enterprise,']\n",
      "Required : ['data', 'science', 'enterprise,', 'enterprise,', 'enterprise,', 'enterprise,', 'enterprise,', 'enterprise,', 'enterprise,', 'enterprise,', 'enterprise,', 'enterprise,', 'enterprise,', 'enterprise,', 'enterprise,', 'enterprise,', 'enterprise,', 'enterprise,', 'enterprise,', 'enterprise,', 'enterprise,', 'enterprise,', 'enterprise,', 'enterprise,', 'enterprise,', 'enterprise,', 'enterprise,', 'enterprise,', 'enterprise,', 'enterprise,', 'enterprise,', 'enterprise,', 'enterprise,', 'enterprise,', 'enterprise,', 'enterprise,', 'enterprise,', 'enterprise,', 'enterprise,', 'enterprise,', 'enterprise,', 'enterprise,', 'enterprise,', 'enterprise,', 'enterprise,', 'enterprise,', 'enterprise,', 'enterprise,', 'enterprise,', 'enterprise,', 'enterprise,', 'enterprise,', 'enterprise,', 'enterprise,', 'enterprise,', 'enterprise,', 'enterprise,', 'enterprise,', 'enterprise,', 'enterprise,', 'enterprise,', 'enterprise,', 'enterprise,', 'enterprise,', 'enterprise,', 'enterprise,', 'enterprise,', 'enterprise,', 'enterprise,', 'enterprise,', 'enterprise,', 'enterprise,', 'enterprise,', 'enterprise,', 'enterprise,', 'enterprise,', 'enterprise,', 'enterprise,', 'enterprise,', 'enterprise,', 'enterprise,', 'enterprise,', 'enterprise,', 'enterprise,', 'enterprise,', 'enterprise,', 'enterprise,']\n",
      "Required : ['data', 'science', 'enterprise,', 'enterprise,', 'enterprise,', 'enterprise,', 'enterprise,', 'enterprise,', 'enterprise,', 'enterprise,', 'enterprise,', 'enterprise,', 'enterprise,', 'enterprise,', 'enterprise,', 'enterprise,', 'enterprise,', 'enterprise,', 'enterprise,', 'enterprise,', 'enterprise,', 'enterprise,', 'enterprise,', 'enterprise,', 'enterprise,', 'enterprise,', 'enterprise,', 'enterprise,', 'enterprise,', 'enterprise,', 'enterprise,', 'enterprise,', 'enterprise,', 'enterprise,', 'enterprise,', 'enterprise,', 'enterprise,', 'enterprise,', 'enterprise,', 'enterprise,', 'enterprise,', 'enterprise,', 'enterprise,', 'enterprise,', 'enterprise,', 'enterprise,', 'enterprise,', 'enterprise,', 'enterprise,', 'enterprise,', 'enterprise,', 'enterprise,', 'enterprise,', 'enterprise,', 'enterprise,', 'enterprise,', 'enterprise,', 'enterprise,', 'enterprise,', 'enterprise,', 'enterprise,', 'enterprise,', 'enterprise,', 'enterprise,', 'enterprise,', 'enterprise,', 'enterprise,', 'enterprise,', 'enterprise,', 'enterprise,', 'enterprise,', 'enterprise,', 'enterprise,', 'enterprise,', 'enterprise,', 'enterprise,', 'enterprise,', 'enterprise,', 'enterprise,', 'enterprise,', 'enterprise,', 'enterprise,', 'enterprise,', 'enterprise,', 'enterprise,', 'enterprise,', 'enterprise,', 'enterprise,']\n",
      "Required : ['data', 'science', 'enterprise,', 'enterprise,', 'enterprise,', 'enterprise,', 'enterprise,', 'enterprise,', 'enterprise,', 'enterprise,', 'enterprise,', 'enterprise,', 'enterprise,', 'enterprise,', 'enterprise,', 'enterprise,', 'enterprise,', 'enterprise,', 'enterprise,', 'enterprise,', 'enterprise,', 'enterprise,', 'enterprise,', 'enterprise,', 'enterprise,', 'enterprise,', 'enterprise,', 'enterprise,', 'enterprise,', 'enterprise,', 'enterprise,', 'enterprise,', 'enterprise,', 'enterprise,', 'enterprise,', 'enterprise,', 'enterprise,', 'enterprise,', 'enterprise,', 'enterprise,', 'enterprise,', 'enterprise,', 'enterprise,', 'enterprise,', 'enterprise,', 'enterprise,', 'enterprise,', 'enterprise,', 'enterprise,', 'enterprise,', 'enterprise,', 'enterprise,', 'enterprise,', 'enterprise,', 'enterprise,', 'enterprise,', 'enterprise,', 'enterprise,', 'enterprise,', 'enterprise,', 'enterprise,', 'enterprise,', 'enterprise,', 'enterprise,', 'enterprise,', 'enterprise,', 'enterprise,', 'enterprise,', 'enterprise,', 'enterprise,', 'enterprise,', 'enterprise,', 'enterprise,', 'enterprise,', 'enterprise,', 'enterprise,', 'enterprise,', 'enterprise,', 'enterprise,', 'enterprise,', 'enterprise,', 'enterprise,', 'enterprise,', 'enterprise,', 'enterprise,', 'enterprise,', 'enterprise,', 'enterprise,', 'enterprise,']\n",
      "Required : ['data', 'science', 'enterprise,', 'enterprise,', 'enterprise,', 'enterprise,', 'enterprise,', 'enterprise,', 'enterprise,', 'enterprise,', 'enterprise,', 'enterprise,', 'enterprise,', 'enterprise,', 'enterprise,', 'enterprise,', 'enterprise,', 'enterprise,', 'enterprise,', 'enterprise,', 'enterprise,', 'enterprise,', 'enterprise,', 'enterprise,', 'enterprise,', 'enterprise,', 'enterprise,', 'enterprise,', 'enterprise,', 'enterprise,', 'enterprise,', 'enterprise,', 'enterprise,', 'enterprise,', 'enterprise,', 'enterprise,', 'enterprise,', 'enterprise,', 'enterprise,', 'enterprise,', 'enterprise,', 'enterprise,', 'enterprise,', 'enterprise,', 'enterprise,', 'enterprise,', 'enterprise,', 'enterprise,', 'enterprise,', 'enterprise,', 'enterprise,', 'enterprise,', 'enterprise,', 'enterprise,', 'enterprise,', 'enterprise,', 'enterprise,', 'enterprise,', 'enterprise,', 'enterprise,', 'enterprise,', 'enterprise,', 'enterprise,', 'enterprise,', 'enterprise,', 'enterprise,', 'enterprise,', 'enterprise,', 'enterprise,', 'enterprise,', 'enterprise,', 'enterprise,', 'enterprise,', 'enterprise,', 'enterprise,', 'enterprise,', 'enterprise,', 'enterprise,', 'enterprise,', 'enterprise,', 'enterprise,', 'enterprise,', 'enterprise,', 'enterprise,', 'enterprise,', 'enterprise,', 'enterprise,', 'enterprise,', 'enterprise,', 'enterprise,']\n",
      "Required : ['data', 'science', 'enterprise,', 'enterprise,', 'enterprise,', 'enterprise,', 'enterprise,', 'enterprise,', 'enterprise,', 'enterprise,', 'enterprise,', 'enterprise,', 'enterprise,', 'enterprise,', 'enterprise,', 'enterprise,', 'enterprise,', 'enterprise,', 'enterprise,', 'enterprise,', 'enterprise,', 'enterprise,', 'enterprise,', 'enterprise,', 'enterprise,', 'enterprise,', 'enterprise,', 'enterprise,', 'enterprise,', 'enterprise,', 'enterprise,', 'enterprise,', 'enterprise,', 'enterprise,', 'enterprise,', 'enterprise,', 'enterprise,', 'enterprise,', 'enterprise,', 'enterprise,', 'enterprise,', 'enterprise,', 'enterprise,', 'enterprise,', 'enterprise,', 'enterprise,', 'enterprise,', 'enterprise,', 'enterprise,', 'enterprise,', 'enterprise,', 'enterprise,', 'enterprise,', 'enterprise,', 'enterprise,', 'enterprise,', 'enterprise,', 'enterprise,', 'enterprise,', 'enterprise,', 'enterprise,', 'enterprise,', 'enterprise,', 'enterprise,', 'enterprise,', 'enterprise,', 'enterprise,', 'enterprise,', 'enterprise,', 'enterprise,', 'enterprise,', 'enterprise,', 'enterprise,', 'enterprise,', 'enterprise,', 'enterprise,', 'enterprise,', 'enterprise,', 'enterprise,', 'enterprise,', 'enterprise,', 'enterprise,', 'enterprise,', 'enterprise,', 'enterprise,', 'enterprise,', 'enterprise,', 'enterprise,', 'enterprise,', 'enterprise,', 'enterprise,']\n"
     ]
    },
    {
     "name": "stdout",
     "output_type": "stream",
     "text": [
      "Required : ['data', 'science', 'enterprise,', 'enterprise,', 'enterprise,', 'enterprise,', 'enterprise,', 'enterprise,', 'enterprise,', 'enterprise,', 'enterprise,', 'enterprise,', 'enterprise,', 'enterprise,', 'enterprise,', 'enterprise,', 'enterprise,', 'enterprise,', 'enterprise,', 'enterprise,', 'enterprise,', 'enterprise,', 'enterprise,', 'enterprise,', 'enterprise,', 'enterprise,', 'enterprise,', 'enterprise,', 'enterprise,', 'enterprise,', 'enterprise,', 'enterprise,', 'enterprise,', 'enterprise,', 'enterprise,', 'enterprise,', 'enterprise,', 'enterprise,', 'enterprise,', 'enterprise,', 'enterprise,', 'enterprise,', 'enterprise,', 'enterprise,', 'enterprise,', 'enterprise,', 'enterprise,', 'enterprise,', 'enterprise,', 'enterprise,', 'enterprise,', 'enterprise,', 'enterprise,', 'enterprise,', 'enterprise,', 'enterprise,', 'enterprise,', 'enterprise,', 'enterprise,', 'enterprise,', 'enterprise,', 'enterprise,', 'enterprise,', 'enterprise,', 'enterprise,', 'enterprise,', 'enterprise,', 'enterprise,', 'enterprise,', 'enterprise,', 'enterprise,', 'enterprise,', 'enterprise,', 'enterprise,', 'enterprise,', 'enterprise,', 'enterprise,', 'enterprise,', 'enterprise,', 'enterprise,', 'enterprise,', 'enterprise,', 'enterprise,', 'enterprise,', 'enterprise,', 'enterprise,', 'enterprise,', 'enterprise,', 'enterprise,', 'enterprise,', 'enterprise,', 'enterprise,']\n",
      "Required : ['data', 'science', 'enterprise,', 'enterprise,', 'enterprise,', 'enterprise,', 'enterprise,', 'enterprise,', 'enterprise,', 'enterprise,', 'enterprise,', 'enterprise,', 'enterprise,', 'enterprise,', 'enterprise,', 'enterprise,', 'enterprise,', 'enterprise,', 'enterprise,', 'enterprise,', 'enterprise,', 'enterprise,', 'enterprise,', 'enterprise,', 'enterprise,', 'enterprise,', 'enterprise,', 'enterprise,', 'enterprise,', 'enterprise,', 'enterprise,', 'enterprise,', 'enterprise,', 'enterprise,', 'enterprise,', 'enterprise,', 'enterprise,', 'enterprise,', 'enterprise,', 'enterprise,', 'enterprise,', 'enterprise,', 'enterprise,', 'enterprise,', 'enterprise,', 'enterprise,', 'enterprise,', 'enterprise,', 'enterprise,', 'enterprise,', 'enterprise,', 'enterprise,', 'enterprise,', 'enterprise,', 'enterprise,', 'enterprise,', 'enterprise,', 'enterprise,', 'enterprise,', 'enterprise,', 'enterprise,', 'enterprise,', 'enterprise,', 'enterprise,', 'enterprise,', 'enterprise,', 'enterprise,', 'enterprise,', 'enterprise,', 'enterprise,', 'enterprise,', 'enterprise,', 'enterprise,', 'enterprise,', 'enterprise,', 'enterprise,', 'enterprise,', 'enterprise,', 'enterprise,', 'enterprise,', 'enterprise,', 'enterprise,', 'enterprise,', 'enterprise,', 'enterprise,', 'enterprise,', 'enterprise,', 'enterprise,', 'enterprise,', 'enterprise,', 'enterprise,', 'enterprise,', 'enterprise,']\n",
      "Required : ['data', 'science', 'enterprise,', 'enterprise,', 'enterprise,', 'enterprise,', 'enterprise,', 'enterprise,', 'enterprise,', 'enterprise,', 'enterprise,', 'enterprise,', 'enterprise,', 'enterprise,', 'enterprise,', 'enterprise,', 'enterprise,', 'enterprise,', 'enterprise,', 'enterprise,', 'enterprise,', 'enterprise,', 'enterprise,', 'enterprise,', 'enterprise,', 'enterprise,', 'enterprise,', 'enterprise,', 'enterprise,', 'enterprise,', 'enterprise,', 'enterprise,', 'enterprise,', 'enterprise,', 'enterprise,', 'enterprise,', 'enterprise,', 'enterprise,', 'enterprise,', 'enterprise,', 'enterprise,', 'enterprise,', 'enterprise,', 'enterprise,', 'enterprise,', 'enterprise,', 'enterprise,', 'enterprise,', 'enterprise,', 'enterprise,', 'enterprise,', 'enterprise,', 'enterprise,', 'enterprise,', 'enterprise,', 'enterprise,', 'enterprise,', 'enterprise,', 'enterprise,', 'enterprise,', 'enterprise,', 'enterprise,', 'enterprise,', 'enterprise,', 'enterprise,', 'enterprise,', 'enterprise,', 'enterprise,', 'enterprise,', 'enterprise,', 'enterprise,', 'enterprise,', 'enterprise,', 'enterprise,', 'enterprise,', 'enterprise,', 'enterprise,', 'enterprise,', 'enterprise,', 'enterprise,', 'enterprise,', 'enterprise,', 'enterprise,', 'enterprise,', 'enterprise,', 'enterprise,', 'enterprise,', 'enterprise,', 'enterprise,', 'enterprise,', 'enterprise,', 'enterprise,', 'enterprise,', 'enterprise,']\n",
      "Required : ['data', 'science', 'enterprise,', 'enterprise,', 'enterprise,', 'enterprise,', 'enterprise,', 'enterprise,', 'enterprise,', 'enterprise,', 'enterprise,', 'enterprise,', 'enterprise,', 'enterprise,', 'enterprise,', 'enterprise,', 'enterprise,', 'enterprise,', 'enterprise,', 'enterprise,', 'enterprise,', 'enterprise,', 'enterprise,', 'enterprise,', 'enterprise,', 'enterprise,', 'enterprise,', 'enterprise,', 'enterprise,', 'enterprise,', 'enterprise,', 'enterprise,', 'enterprise,', 'enterprise,', 'enterprise,', 'enterprise,', 'enterprise,', 'enterprise,', 'enterprise,', 'enterprise,', 'enterprise,', 'enterprise,', 'enterprise,', 'enterprise,', 'enterprise,', 'enterprise,', 'enterprise,', 'enterprise,', 'enterprise,', 'enterprise,', 'enterprise,', 'enterprise,', 'enterprise,', 'enterprise,', 'enterprise,', 'enterprise,', 'enterprise,', 'enterprise,', 'enterprise,', 'enterprise,', 'enterprise,', 'enterprise,', 'enterprise,', 'enterprise,', 'enterprise,', 'enterprise,', 'enterprise,', 'enterprise,', 'enterprise,', 'enterprise,', 'enterprise,', 'enterprise,', 'enterprise,', 'enterprise,', 'enterprise,', 'enterprise,', 'enterprise,', 'enterprise,', 'enterprise,', 'enterprise,', 'enterprise,', 'enterprise,', 'enterprise,', 'enterprise,', 'enterprise,', 'enterprise,', 'enterprise,', 'enterprise,', 'enterprise,', 'enterprise,', 'enterprise,', 'enterprise,', 'enterprise,', 'enterprise,', 'enterprise,']\n",
      "Required : ['data', 'science', 'enterprise,', 'enterprise,', 'enterprise,', 'enterprise,', 'enterprise,', 'enterprise,', 'enterprise,', 'enterprise,', 'enterprise,', 'enterprise,', 'enterprise,', 'enterprise,', 'enterprise,', 'enterprise,', 'enterprise,', 'enterprise,', 'enterprise,', 'enterprise,', 'enterprise,', 'enterprise,', 'enterprise,', 'enterprise,', 'enterprise,', 'enterprise,', 'enterprise,', 'enterprise,', 'enterprise,', 'enterprise,', 'enterprise,', 'enterprise,', 'enterprise,', 'enterprise,', 'enterprise,', 'enterprise,', 'enterprise,', 'enterprise,', 'enterprise,', 'enterprise,', 'enterprise,', 'enterprise,', 'enterprise,', 'enterprise,', 'enterprise,', 'enterprise,', 'enterprise,', 'enterprise,', 'enterprise,', 'enterprise,', 'enterprise,', 'enterprise,', 'enterprise,', 'enterprise,', 'enterprise,', 'enterprise,', 'enterprise,', 'enterprise,', 'enterprise,', 'enterprise,', 'enterprise,', 'enterprise,', 'enterprise,', 'enterprise,', 'enterprise,', 'enterprise,', 'enterprise,', 'enterprise,', 'enterprise,', 'enterprise,', 'enterprise,', 'enterprise,', 'enterprise,', 'enterprise,', 'enterprise,', 'enterprise,', 'enterprise,', 'enterprise,', 'enterprise,', 'enterprise,', 'enterprise,', 'enterprise,', 'enterprise,', 'enterprise,', 'enterprise,', 'enterprise,', 'enterprise,', 'enterprise,', 'enterprise,', 'enterprise,', 'enterprise,', 'enterprise,', 'enterprise,', 'enterprise,', 'enterprise,', 'enterprise,']\n",
      "Required : ['data', 'science', 'enterprise,', 'enterprise,', 'enterprise,', 'enterprise,', 'enterprise,', 'enterprise,', 'enterprise,', 'enterprise,', 'enterprise,', 'enterprise,', 'enterprise,', 'enterprise,', 'enterprise,', 'enterprise,', 'enterprise,', 'enterprise,', 'enterprise,', 'enterprise,', 'enterprise,', 'enterprise,', 'enterprise,', 'enterprise,', 'enterprise,', 'enterprise,', 'enterprise,', 'enterprise,', 'enterprise,', 'enterprise,', 'enterprise,', 'enterprise,', 'enterprise,', 'enterprise,', 'enterprise,', 'enterprise,', 'enterprise,', 'enterprise,', 'enterprise,', 'enterprise,', 'enterprise,', 'enterprise,', 'enterprise,', 'enterprise,', 'enterprise,', 'enterprise,', 'enterprise,', 'enterprise,', 'enterprise,', 'enterprise,', 'enterprise,', 'enterprise,', 'enterprise,', 'enterprise,', 'enterprise,', 'enterprise,', 'enterprise,', 'enterprise,', 'enterprise,', 'enterprise,', 'enterprise,', 'enterprise,', 'enterprise,', 'enterprise,', 'enterprise,', 'enterprise,', 'enterprise,', 'enterprise,', 'enterprise,', 'enterprise,', 'enterprise,', 'enterprise,', 'enterprise,', 'enterprise,', 'enterprise,', 'enterprise,', 'enterprise,', 'enterprise,', 'enterprise,', 'enterprise,', 'enterprise,', 'enterprise,', 'enterprise,', 'enterprise,', 'enterprise,', 'enterprise,', 'enterprise,', 'enterprise,', 'enterprise,', 'enterprise,', 'enterprise,', 'enterprise,', 'enterprise,', 'enterprise,', 'enterprise,', 'enterprise,', 'enterprise,']\n",
      "Required : ['data', 'science', 'enterprise,', 'enterprise,', 'enterprise,', 'enterprise,', 'enterprise,', 'enterprise,', 'enterprise,', 'enterprise,', 'enterprise,', 'enterprise,', 'enterprise,', 'enterprise,', 'enterprise,', 'enterprise,', 'enterprise,', 'enterprise,', 'enterprise,', 'enterprise,', 'enterprise,', 'enterprise,', 'enterprise,', 'enterprise,', 'enterprise,', 'enterprise,', 'enterprise,', 'enterprise,', 'enterprise,', 'enterprise,', 'enterprise,', 'enterprise,', 'enterprise,', 'enterprise,', 'enterprise,', 'enterprise,', 'enterprise,', 'enterprise,', 'enterprise,', 'enterprise,', 'enterprise,', 'enterprise,', 'enterprise,', 'enterprise,', 'enterprise,', 'enterprise,', 'enterprise,', 'enterprise,', 'enterprise,', 'enterprise,', 'enterprise,', 'enterprise,', 'enterprise,', 'enterprise,', 'enterprise,', 'enterprise,', 'enterprise,', 'enterprise,', 'enterprise,', 'enterprise,', 'enterprise,', 'enterprise,', 'enterprise,', 'enterprise,', 'enterprise,', 'enterprise,', 'enterprise,', 'enterprise,', 'enterprise,', 'enterprise,', 'enterprise,', 'enterprise,', 'enterprise,', 'enterprise,', 'enterprise,', 'enterprise,', 'enterprise,', 'enterprise,', 'enterprise,', 'enterprise,', 'enterprise,', 'enterprise,', 'enterprise,', 'enterprise,', 'enterprise,', 'enterprise,', 'enterprise,', 'enterprise,', 'enterprise,', 'enterprise,', 'enterprise,', 'enterprise,', 'enterprise,', 'enterprise,', 'enterprise,', 'enterprise,', 'enterprise,', 'enterprise,']\n",
      "Required : ['data', 'science', 'enterprise,', 'enterprise,', 'enterprise,', 'enterprise,', 'enterprise,', 'enterprise,', 'enterprise,', 'enterprise,', 'enterprise,', 'enterprise,', 'enterprise,', 'enterprise,', 'enterprise,', 'enterprise,', 'enterprise,', 'enterprise,', 'enterprise,', 'enterprise,', 'enterprise,', 'enterprise,', 'enterprise,', 'enterprise,', 'enterprise,', 'enterprise,', 'enterprise,', 'enterprise,', 'enterprise,', 'enterprise,', 'enterprise,', 'enterprise,', 'enterprise,', 'enterprise,', 'enterprise,', 'enterprise,', 'enterprise,', 'enterprise,', 'enterprise,', 'enterprise,', 'enterprise,', 'enterprise,', 'enterprise,', 'enterprise,', 'enterprise,', 'enterprise,', 'enterprise,', 'enterprise,', 'enterprise,', 'enterprise,', 'enterprise,', 'enterprise,', 'enterprise,', 'enterprise,', 'enterprise,', 'enterprise,', 'enterprise,', 'enterprise,', 'enterprise,', 'enterprise,', 'enterprise,', 'enterprise,', 'enterprise,', 'enterprise,', 'enterprise,', 'enterprise,', 'enterprise,', 'enterprise,', 'enterprise,', 'enterprise,', 'enterprise,', 'enterprise,', 'enterprise,', 'enterprise,', 'enterprise,', 'enterprise,', 'enterprise,', 'enterprise,', 'enterprise,', 'enterprise,', 'enterprise,', 'enterprise,', 'enterprise,', 'enterprise,', 'enterprise,', 'enterprise,', 'enterprise,', 'enterprise,', 'enterprise,', 'enterprise,', 'enterprise,', 'enterprise,', 'enterprise,', 'enterprise,', 'enterprise,', 'enterprise,', 'enterprise,', 'enterprise,', 'enterprise,']\n",
      "Required : ['data', 'science', 'enterprise,', 'enterprise,', 'enterprise,', 'enterprise,', 'enterprise,', 'enterprise,', 'enterprise,', 'enterprise,', 'enterprise,', 'enterprise,', 'enterprise,', 'enterprise,', 'enterprise,', 'enterprise,', 'enterprise,', 'enterprise,', 'enterprise,', 'enterprise,', 'enterprise,', 'enterprise,', 'enterprise,', 'enterprise,', 'enterprise,', 'enterprise,', 'enterprise,', 'enterprise,', 'enterprise,', 'enterprise,', 'enterprise,', 'enterprise,', 'enterprise,', 'enterprise,', 'enterprise,', 'enterprise,', 'enterprise,', 'enterprise,', 'enterprise,', 'enterprise,', 'enterprise,', 'enterprise,', 'enterprise,', 'enterprise,', 'enterprise,', 'enterprise,', 'enterprise,', 'enterprise,', 'enterprise,', 'enterprise,', 'enterprise,', 'enterprise,', 'enterprise,', 'enterprise,', 'enterprise,', 'enterprise,', 'enterprise,', 'enterprise,', 'enterprise,', 'enterprise,', 'enterprise,', 'enterprise,', 'enterprise,', 'enterprise,', 'enterprise,', 'enterprise,', 'enterprise,', 'enterprise,', 'enterprise,', 'enterprise,', 'enterprise,', 'enterprise,', 'enterprise,', 'enterprise,', 'enterprise,', 'enterprise,', 'enterprise,', 'enterprise,', 'enterprise,', 'enterprise,', 'enterprise,', 'enterprise,', 'enterprise,', 'enterprise,', 'enterprise,', 'enterprise,', 'enterprise,', 'enterprise,', 'enterprise,', 'enterprise,', 'enterprise,', 'enterprise,', 'enterprise,', 'enterprise,', 'enterprise,', 'enterprise,', 'enterprise,', 'enterprise,', 'enterprise,', 'enterprise,']\n",
      "data science enterprise, enterprise, enterprise, enterprise, enterprise, enterprise, enterprise, enterprise, enterprise, enterprise, enterprise, enterprise, enterprise, enterprise, enterprise, enterprise, enterprise, enterprise, enterprise, enterprise, enterprise, enterprise, enterprise, enterprise, enterprise, enterprise, enterprise, enterprise, enterprise, enterprise, enterprise, enterprise, enterprise, enterprise, enterprise, enterprise, enterprise, enterprise, enterprise, enterprise, enterprise, enterprise, enterprise, enterprise, enterprise, enterprise, enterprise, enterprise, enterprise, enterprise, enterprise, enterprise, enterprise, enterprise, enterprise, enterprise, enterprise, enterprise, enterprise, enterprise, enterprise, enterprise, enterprise, enterprise, enterprise, enterprise, enterprise, enterprise, enterprise, enterprise, enterprise, enterprise, enterprise, enterprise, enterprise, enterprise, enterprise, enterprise, enterprise, enterprise, enterprise, enterprise, enterprise, enterprise, enterprise, enterprise, enterprise, enterprise, enterprise, enterprise, enterprise, enterprise, enterprise, enterprise, enterprise, enterprise, enterprise, enterprise, enterprise, enterprise,\n"
     ]
    }
   ],
   "source": [
    "for count in listing:\n",
    "    actual_sentence=\" \".join(count)\n",
    "    try:\n",
    "        #model.eval()\n",
    "        print(actual_sentence)\n",
    "        classical(actual_sentence)\n",
    "    except:   \n",
    "        pass\n",
    "        \n",
    "    \n",
    "    \n"
   ]
  },
  {
   "cell_type": "code",
   "execution_count": 1348,
   "metadata": {},
   "outputs": [],
   "source": [
    "def classical(Sentence):\n",
    "    Sentence=Sentence\n",
    "    print(f\"The sentence is {Sentence}\")\n",
    "    lister=[]\n",
    "    for r in range(100):\n",
    "        a1=convert_to_ids(Sentence)\n",
    "        a1=torch.tensor(a1)\n",
    "        a2=predictions_away(a1)\n",
    "        a2\n",
    "        a3,regard=confuse(Sentence)\n",
    "        lister.append(regard)\n",
    "        #print(a3)\n",
    "        Sentence=a3\n",
    "        #print(f\"Required : {lister}\")\n",
    "    outputme=\" \".join(lister) + \" \" + Sentence\n",
    "    print(outputme)"
   ]
  },
  {
   "cell_type": "code",
   "execution_count": 1349,
   "metadata": {},
   "outputs": [
    {
     "name": "stdout",
     "output_type": "stream",
     "text": [
      "The sentence is what is data science\n",
      "what is data science someone someone someone someone someone someone someone someone someone someone someone someone someone someone someone someone someone someone someone someone someone someone someone someone someone someone someone someone someone someone someone someone someone someone someone someone someone someone someone someone someone someone someone someone someone someone someone someone someone someone someone someone someone someone someone someone someone someone someone someone someone someone someone someone someone someone someone someone someone someone someone someone someone someone someone someone someone someone someone someone someone someone someone someone someone someone someone someone someone someone someone someone someone someone someone someone someone someone someone someone\n"
     ]
    }
   ],
   "source": [
    "\n",
    "classical(\"what is data science\")"
   ]
  },
  {
   "cell_type": "code",
   "execution_count": 1474,
   "metadata": {},
   "outputs": [
    {
     "name": "stdout",
     "output_type": "stream",
     "text": [
      "tensor([46, 37,  8,  9])\n",
      "a\n"
     ]
    }
   ],
   "source": [
    "# HERE IS WHERE THE MAGIC HAPPENS\n",
    "\n",
    "# What is Data Science?\n",
    "\n",
    "Sentence=\"what is data architect\"\n",
    "checker(Sentence)"
   ]
  },
  {
   "cell_type": "code",
   "execution_count": 1475,
   "metadata": {},
   "outputs": [
    {
     "data": {
      "text/plain": [
       "'what is data architect'"
      ]
     },
     "execution_count": 1475,
     "metadata": {},
     "output_type": "execute_result"
    }
   ],
   "source": [
    "Sentence"
   ]
  },
  {
   "cell_type": "code",
   "execution_count": 1476,
   "metadata": {},
   "outputs": [
    {
     "name": "stdout",
     "output_type": "stream",
     "text": [
      "what is data architect a data architect is a data and a data scientist is a person who is capable of data# architect a\n"
     ]
    }
   ],
   "source": [
    "#Sentence=\"Scientist Data\"\n",
    "lister=[]\n",
    "for r in range(20):\n",
    "    a1=convert_to_ids(Sentence)\n",
    "    a1=torch.tensor(a1)\n",
    "    a2=predictions_away(a1)\n",
    "    #print(a2)\n",
    "    a3,regard=confuse(Sentence)\n",
    "    lister.append(regard)\n",
    "    #print(a3)\n",
    "    Sentence=a3\n",
    "outputme=\" \".join(lister) + \" \" + Sentence\n",
    "print(outputme)"
   ]
  },
  {
   "cell_type": "markdown",
   "metadata": {},
   "source": [
    "What is the intolerance and cruelty? >> intolerance, [context]"
   ]
  },
  {
   "cell_type": "code",
   "execution_count": 1363,
   "metadata": {},
   "outputs": [
    {
     "data": {
      "text/plain": [
       "'what is data science the data science platform is a dynamically stable environment, given we have a set of methodologies in place to make sure that the maintenance is key #\\nwhat is data scientist a data scientist is a person who is capable of interfacing between some business data and a pattern, he works by identifying the pattern and coming up with methods to hone insights out of data#\\narchitect a data architect is someone who architects the data in an enterprise, implementing data warehouse solutions for streamlined transfer of data#\\n'"
      ]
     },
     "execution_count": 1363,
     "metadata": {},
     "output_type": "execute_result"
    }
   ],
   "source": [
    "Vocab_master"
   ]
  },
  {
   "cell_type": "code",
   "execution_count": 979,
   "metadata": {},
   "outputs": [],
   "source": [
    "def confuse(sent):\n",
    "    new= sent.split()\n",
    "    blah=new[0]\n",
    "    new=\" \".join(new[1:]) + \" \" +a2\n",
    "    #print(new[0:1])\n",
    "    return (new,blah)"
   ]
  },
  {
   "cell_type": "code",
   "execution_count": 294,
   "metadata": {},
   "outputs": [],
   "source": [
    "m = nn.LogSoftmax(dim=1)\n",
    "loss = nn.NLLLoss()\n",
    "# input is of size N x C = 3 x 5\n",
    "input = torch.randn(3, 5, requires_grad=True)\n",
    "# each element in target has to have 0 <= value < C\n",
    "target = torch.tensor([1, 0, 4])\n",
    "output = loss(m(input), target)\n",
    "output.backward()"
   ]
  },
  {
   "cell_type": "code",
   "execution_count": 302,
   "metadata": {},
   "outputs": [
    {
     "data": {
      "text/plain": [
       "(torch.Size([3, 5]), torch.Size([3]))"
      ]
     },
     "execution_count": 302,
     "metadata": {},
     "output_type": "execute_result"
    }
   ],
   "source": [
    "input.shape, target.shape"
   ]
  },
  {
   "cell_type": "code",
   "execution_count": 300,
   "metadata": {},
   "outputs": [
    {
     "name": "stderr",
     "output_type": "stream",
     "text": [
      "C:\\Users\\akaniyamparambil\\AppData\\Local\\Continuum\\anaconda3\\lib\\site-packages\\ipykernel_launcher.py:1: UserWarning: Implicit dimension choice for log_softmax has been deprecated. Change the call to include dim=X as an argument.\n",
      "  \"\"\"Entry point for launching an IPython kernel.\n"
     ]
    },
    {
     "data": {
      "text/plain": [
       "tensor([[-2.8463, -3.3021, -1.0577, -2.4230, -0.7567],\n",
       "        [-1.2796, -1.2537, -3.0649, -2.1514, -1.2967],\n",
       "        [-1.4198, -1.9520, -2.9156, -1.8000, -0.9244]],\n",
       "       grad_fn=<LogSoftmaxBackward>)"
      ]
     },
     "execution_count": 300,
     "metadata": {},
     "output_type": "execute_result"
    }
   ],
   "source": []
  },
  {
   "cell_type": "code",
   "execution_count": 864,
   "metadata": {},
   "outputs": [
    {
     "name": "stdout",
     "output_type": "stream",
     "text": [
      "tensor([[2]])\n",
      "torch.Size([1, 1]) torch.Size([1])\n"
     ]
    }
   ],
   "source": [
    "#out=torch.randn(1,4)\n",
    "#out=out.view(1,-1)\n",
    "out=torch.tensor([2]).view(1,-1)\n",
    "print(out)\n",
    "print(out.shape,target.shape)\n",
    "target=torch.tensor([3])"
   ]
  },
  {
   "cell_type": "code",
   "execution_count": 865,
   "metadata": {},
   "outputs": [
    {
     "ename": "RuntimeError",
     "evalue": "\"log_softmax_lastdim_kernel_impl\" not implemented for 'Long'",
     "output_type": "error",
     "traceback": [
      "\u001b[1;31m---------------------------------------------------------------------------\u001b[0m",
      "\u001b[1;31mRuntimeError\u001b[0m                              Traceback (most recent call last)",
      "\u001b[1;32m<ipython-input-865-d60fdbe5f21d>\u001b[0m in \u001b[0;36m<module>\u001b[1;34m\u001b[0m\n\u001b[1;32m----> 1\u001b[1;33m \u001b[0mF\u001b[0m\u001b[1;33m.\u001b[0m\u001b[0mcross_entropy\u001b[0m\u001b[1;33m(\u001b[0m\u001b[0mout\u001b[0m\u001b[1;33m,\u001b[0m \u001b[0mtarget\u001b[0m\u001b[1;33m)\u001b[0m\u001b[1;33m\u001b[0m\u001b[1;33m\u001b[0m\u001b[0m\n\u001b[0m",
      "\u001b[1;32m~\\AppData\\Local\\Continuum\\anaconda3\\lib\\site-packages\\torch\\nn\\functional.py\u001b[0m in \u001b[0;36mcross_entropy\u001b[1;34m(input, target, weight, size_average, ignore_index, reduce, reduction)\u001b[0m\n\u001b[0;32m   1993\u001b[0m     \u001b[1;32mif\u001b[0m \u001b[0msize_average\u001b[0m \u001b[1;32mis\u001b[0m \u001b[1;32mnot\u001b[0m \u001b[1;32mNone\u001b[0m \u001b[1;32mor\u001b[0m \u001b[0mreduce\u001b[0m \u001b[1;32mis\u001b[0m \u001b[1;32mnot\u001b[0m \u001b[1;32mNone\u001b[0m\u001b[1;33m:\u001b[0m\u001b[1;33m\u001b[0m\u001b[1;33m\u001b[0m\u001b[0m\n\u001b[0;32m   1994\u001b[0m         \u001b[0mreduction\u001b[0m \u001b[1;33m=\u001b[0m \u001b[0m_Reduction\u001b[0m\u001b[1;33m.\u001b[0m\u001b[0mlegacy_get_string\u001b[0m\u001b[1;33m(\u001b[0m\u001b[0msize_average\u001b[0m\u001b[1;33m,\u001b[0m \u001b[0mreduce\u001b[0m\u001b[1;33m)\u001b[0m\u001b[1;33m\u001b[0m\u001b[1;33m\u001b[0m\u001b[0m\n\u001b[1;32m-> 1995\u001b[1;33m     \u001b[1;32mreturn\u001b[0m \u001b[0mnll_loss\u001b[0m\u001b[1;33m(\u001b[0m\u001b[0mlog_softmax\u001b[0m\u001b[1;33m(\u001b[0m\u001b[0minput\u001b[0m\u001b[1;33m,\u001b[0m \u001b[1;36m1\u001b[0m\u001b[1;33m)\u001b[0m\u001b[1;33m,\u001b[0m \u001b[0mtarget\u001b[0m\u001b[1;33m,\u001b[0m \u001b[0mweight\u001b[0m\u001b[1;33m,\u001b[0m \u001b[1;32mNone\u001b[0m\u001b[1;33m,\u001b[0m \u001b[0mignore_index\u001b[0m\u001b[1;33m,\u001b[0m \u001b[1;32mNone\u001b[0m\u001b[1;33m,\u001b[0m \u001b[0mreduction\u001b[0m\u001b[1;33m)\u001b[0m\u001b[1;33m\u001b[0m\u001b[1;33m\u001b[0m\u001b[0m\n\u001b[0m\u001b[0;32m   1996\u001b[0m \u001b[1;33m\u001b[0m\u001b[0m\n\u001b[0;32m   1997\u001b[0m \u001b[1;33m\u001b[0m\u001b[0m\n",
      "\u001b[1;32m~\\AppData\\Local\\Continuum\\anaconda3\\lib\\site-packages\\torch\\nn\\functional.py\u001b[0m in \u001b[0;36mlog_softmax\u001b[1;34m(input, dim, _stacklevel, dtype)\u001b[0m\n\u001b[0;32m   1314\u001b[0m         \u001b[0mdim\u001b[0m \u001b[1;33m=\u001b[0m \u001b[0m_get_softmax_dim\u001b[0m\u001b[1;33m(\u001b[0m\u001b[1;34m'log_softmax'\u001b[0m\u001b[1;33m,\u001b[0m \u001b[0minput\u001b[0m\u001b[1;33m.\u001b[0m\u001b[0mdim\u001b[0m\u001b[1;33m(\u001b[0m\u001b[1;33m)\u001b[0m\u001b[1;33m,\u001b[0m \u001b[0m_stacklevel\u001b[0m\u001b[1;33m)\u001b[0m\u001b[1;33m\u001b[0m\u001b[1;33m\u001b[0m\u001b[0m\n\u001b[0;32m   1315\u001b[0m     \u001b[1;32mif\u001b[0m \u001b[0mdtype\u001b[0m \u001b[1;32mis\u001b[0m \u001b[1;32mNone\u001b[0m\u001b[1;33m:\u001b[0m\u001b[1;33m\u001b[0m\u001b[1;33m\u001b[0m\u001b[0m\n\u001b[1;32m-> 1316\u001b[1;33m         \u001b[0mret\u001b[0m \u001b[1;33m=\u001b[0m \u001b[0minput\u001b[0m\u001b[1;33m.\u001b[0m\u001b[0mlog_softmax\u001b[0m\u001b[1;33m(\u001b[0m\u001b[0mdim\u001b[0m\u001b[1;33m)\u001b[0m\u001b[1;33m\u001b[0m\u001b[1;33m\u001b[0m\u001b[0m\n\u001b[0m\u001b[0;32m   1317\u001b[0m     \u001b[1;32melse\u001b[0m\u001b[1;33m:\u001b[0m\u001b[1;33m\u001b[0m\u001b[1;33m\u001b[0m\u001b[0m\n\u001b[0;32m   1318\u001b[0m         \u001b[0mret\u001b[0m \u001b[1;33m=\u001b[0m \u001b[0minput\u001b[0m\u001b[1;33m.\u001b[0m\u001b[0mlog_softmax\u001b[0m\u001b[1;33m(\u001b[0m\u001b[0mdim\u001b[0m\u001b[1;33m,\u001b[0m \u001b[0mdtype\u001b[0m\u001b[1;33m=\u001b[0m\u001b[0mdtype\u001b[0m\u001b[1;33m)\u001b[0m\u001b[1;33m\u001b[0m\u001b[1;33m\u001b[0m\u001b[0m\n",
      "\u001b[1;31mRuntimeError\u001b[0m: \"log_softmax_lastdim_kernel_impl\" not implemented for 'Long'"
     ]
    }
   ],
   "source": [
    "F.cross_entropy(out, target)"
   ]
  },
  {
   "cell_type": "code",
   "execution_count": 728,
   "metadata": {},
   "outputs": [
    {
     "data": {
      "text/plain": [
       "tensor([260])"
      ]
     },
     "execution_count": 728,
     "metadata": {},
     "output_type": "execute_result"
    }
   ],
   "source": [
    "target"
   ]
  },
  {
   "cell_type": "code",
   "execution_count": 329,
   "metadata": {},
   "outputs": [
    {
     "name": "stdout",
     "output_type": "stream",
     "text": [
      "[(['When', 'forty'], 'winters'), (['forty', 'winters'], 'shall'), (['winters', 'shall'], 'besiege')]\n"
     ]
    }
   ],
   "source": [
    "CONTEXT_SIZE = 2\n",
    "EMBEDDING_DIM = 10\n",
    "# We will use Shakespeare Sonnet 2\n",
    "test_sentence = \"\"\"When forty winters shall besiege thy brow,\n",
    "And dig deep trenches in thy beauty's field,\n",
    "Thy youth's proud livery so gazed on now,\n",
    "Will be a totter'd weed of small worth held:\n",
    "Then being asked, where all thy beauty lies,\n",
    "Where all the treasure of thy lusty days;\n",
    "To say, within thine own deep sunken eyes,\n",
    "Were an all-eating shame, and thriftless praise.\n",
    "How much more praise deserv'd thy beauty's use,\n",
    "If thou couldst answer 'This fair child of mine\n",
    "Shall sum my count, and make my old excuse,'\n",
    "Proving his beauty by succession thine!\n",
    "This were to be new made when thou art old,\n",
    "And see thy blood warm when thou feel'st it cold.\"\"\".split()\n",
    "# we should tokenize the input, but we will ignore that for now\n",
    "# build a list of tuples.  Each tuple is ([ word_i-2, word_i-1 ], target word)\n",
    "trigrams = [([test_sentence[i], test_sentence[i + 1]], test_sentence[i + 2])\n",
    "            for i in range(len(test_sentence) - 2)]\n",
    "# print the first 3, just so you can see what they look like\n",
    "print(trigrams[:3])\n",
    "\n",
    "vocab = set(test_sentence)\n",
    "word_to_ix = {word: i for i, word in enumerate(vocab)}"
   ]
  },
  {
   "cell_type": "code",
   "execution_count": 330,
   "metadata": {},
   "outputs": [
    {
     "name": "stdout",
     "output_type": "stream",
     "text": [
      "tensor([77, 70])\n",
      "tensor([70, 84])\n",
      "tensor([84, 33])\n",
      "tensor([33,  2])\n",
      "tensor([ 2, 41])\n",
      "tensor([41, 55])\n",
      "tensor([55, 10])\n",
      "tensor([10,  1])\n",
      "tensor([ 1, 14])\n",
      "tensor([14, 71])\n",
      "tensor([71, 21])\n",
      "tensor([21, 41])\n",
      "tensor([41, 54])\n",
      "tensor([54, 35])\n",
      "tensor([35, 96])\n",
      "tensor([96, 29])\n",
      "tensor([29, 95])\n",
      "tensor([95, 72])\n",
      "tensor([72, 48])\n",
      "tensor([48, 16])\n",
      "tensor([16, 85])\n",
      "tensor([85, 69])\n",
      "tensor([69, 45])\n",
      "tensor([45,  5])\n",
      "tensor([ 5, 46])\n",
      "tensor([46,  8])\n",
      "tensor([ 8, 92])\n",
      "tensor([92, 67])\n",
      "tensor([67, 68])\n",
      "tensor([68, 62])\n",
      "tensor([62, 15])\n",
      "tensor([15, 31])\n",
      "tensor([31, 36])\n",
      "tensor([36, 59])\n",
      "tensor([59, 23])\n",
      "tensor([23, 88])\n",
      "tensor([88, 41])\n",
      "tensor([41, 43])\n",
      "tensor([43, 25])\n",
      "tensor([25, 18])\n",
      "tensor([18, 88])\n",
      "tensor([88, 13])\n",
      "tensor([13, 27])\n",
      "tensor([27, 67])\n",
      "tensor([67, 41])\n",
      "tensor([41, 89])\n",
      "tensor([89, 60])\n",
      "tensor([60, 38])\n",
      "tensor([38, 30])\n",
      "tensor([30, 50])\n",
      "tensor([50, 90])\n",
      "tensor([90, 63])\n",
      "tensor([63, 14])\n",
      "tensor([14, 53])\n",
      "tensor([53, 93])\n",
      "tensor([93, 11])\n",
      "tensor([11, 61])\n",
      "tensor([61, 80])\n",
      "tensor([80, 17])\n",
      "tensor([17, 42])\n",
      "tensor([42, 83])\n",
      "tensor([83, 22])\n",
      "tensor([22, 64])\n",
      "tensor([64, 28])\n",
      "tensor([28, 47])\n",
      "tensor([47, 94])\n",
      "tensor([94,  7])\n",
      "tensor([ 7, 41])\n",
      "tensor([41, 54])\n",
      "tensor([54, 76])\n",
      "tensor([76, 74])\n",
      "tensor([74, 73])\n",
      "tensor([73, 91])\n",
      "tensor([91,  3])\n",
      "tensor([ 3, 24])\n",
      "tensor([24, 39])\n",
      "tensor([39, 34])\n",
      "tensor([34, 67])\n",
      "tensor([67, 79])\n",
      "tensor([79, 40])\n",
      "tensor([40, 66])\n",
      "tensor([66, 37])\n",
      "tensor([37, 58])\n",
      "tensor([58, 42])\n",
      "tensor([42, 87])\n",
      "tensor([87, 37])\n",
      "tensor([37, 20])\n",
      "tensor([20, 65])\n",
      "tensor([65,  0])\n",
      "tensor([0, 4])\n",
      "tensor([ 4, 43])\n",
      "tensor([43, 51])\n",
      "tensor([51, 57])\n",
      "tensor([57, 81])\n",
      "tensor([81, 19])\n",
      "tensor([19, 49])\n",
      "tensor([49,  9])\n",
      "tensor([9, 5])\n",
      "tensor([ 5, 44])\n",
      "tensor([44, 32])\n",
      "tensor([32, 52])\n",
      "tensor([52, 73])\n",
      "tensor([73, 26])\n",
      "tensor([26, 56])\n",
      "tensor([56, 10])\n",
      "tensor([10,  6])\n",
      "tensor([ 6, 41])\n",
      "tensor([41, 12])\n",
      "tensor([12, 82])\n",
      "tensor([82, 52])\n",
      "tensor([52, 73])\n",
      "tensor([73, 75])\n",
      "tensor([75, 86])\n"
     ]
    }
   ],
   "source": [
    "for context, target in trigrams:\n",
    "\n",
    "        # Step 1. Prepare the inputs to be passed to the model (i.e, turn the words\n",
    "        # into integer indices and wrap them in tensors)\n",
    "        context_idxs = torch.tensor([word_to_ix[w] for w in context], dtype=torch.long)\n",
    "        print(context_idxs)"
   ]
  },
  {
   "cell_type": "code",
   "execution_count": 332,
   "metadata": {},
   "outputs": [],
   "source": [
    "vocab_size, embedding_dim = len(vocab),10\n",
    "embeds = nn.Embedding(vocab_size, embedding_dim)"
   ]
  },
  {
   "cell_type": "code",
   "execution_count": 335,
   "metadata": {},
   "outputs": [
    {
     "data": {
      "text/plain": [
       "torch.Size([10])"
      ]
     },
     "execution_count": 335,
     "metadata": {},
     "output_type": "execute_result"
    }
   ],
   "source": [
    "embeds(context_idxs[0]).shape"
   ]
  },
  {
   "cell_type": "code",
   "execution_count": 514,
   "metadata": {},
   "outputs": [
    {
     "name": "stdout",
     "output_type": "stream",
     "text": [
      "{'The': 0, 'dog': 1, 'ate': 2, 'the': 3, 'apple': 4, 'Everybody': 5, 'read': 6, 'that': 7, 'book': 8}\n"
     ]
    }
   ],
   "source": [
    "def prepare_sequence(seq, to_ix):\n",
    "    idxs = [to_ix[w] for w in seq]\n",
    "    return torch.tensor(idxs, dtype=torch.long)\n",
    "\n",
    "\n",
    "training_data = [\n",
    "    (\"The dog ate the apple\".split(), [\"DET\", \"NN\", \"V\", \"DET\", \"NN\"]),\n",
    "    (\"Everybody read that book\".split(), [\"NN\", \"V\", \"DET\", \"NN\"])\n",
    "]\n",
    "word_to_ix = {}\n",
    "for sent, tags in training_data:\n",
    "    for word in sent:\n",
    "        if word not in word_to_ix:\n",
    "            word_to_ix[word] = len(word_to_ix)\n",
    "print(word_to_ix)\n",
    "tag_to_ix = {\"DET\": 0, \"NN\": 1, \"V\": 2}\n",
    "\n",
    "# These will usually be more like 32 or 64 dimensional.\n",
    "# We will keep them small, so we can see how the weights change as we train.\n",
    "EMBEDDING_DIM = 6\n",
    "HIDDEN_DIM = 6"
   ]
  },
  {
   "cell_type": "code",
   "execution_count": 515,
   "metadata": {},
   "outputs": [],
   "source": [
    "class LSTMTagger(nn.Module):\n",
    "\n",
    "    def __init__(self, embedding_dim, hidden_dim, vocab_size, tagset_size):\n",
    "        super(LSTMTagger, self).__init__()\n",
    "        self.hidden_dim = hidden_dim\n",
    "\n",
    "        self.word_embeddings = nn.Embedding(vocab_size, embedding_dim)\n",
    "\n",
    "        # The LSTM takes word embeddings as inputs, and outputs hidden states\n",
    "        # with dimensionality hidden_dim.\n",
    "        self.lstm = nn.LSTM(embedding_dim, hidden_dim)\n",
    "\n",
    "        # The linear layer that maps from hidden state space to tag space\n",
    "        self.hidden2tag = nn.Linear(hidden_dim, tagset_size)\n",
    "\n",
    "    def forward(self, sentence):\n",
    "        embeds = self.word_embeddings(sentence)\n",
    "        print(embeds.shape)\n",
    "        print(embeds.view(len(sentence), 1, -1).shape)\n",
    "        lstm_out, _ = self.lstm(embeds.view(len(sentence), 1, -1))\n",
    "        tag_space = self.hidden2tag(lstm_out.view(len(sentence), -1))\n",
    "        tag_scores = F.log_softmax(tag_space, dim=1)\n",
    "        return tag_scores"
   ]
  },
  {
   "cell_type": "code",
   "execution_count": 516,
   "metadata": {},
   "outputs": [],
   "source": [
    "model = LSTMTagger(EMBEDDING_DIM, HIDDEN_DIM, len(word_to_ix), len(tag_to_ix))\n",
    "loss_function = nn.NLLLoss()\n",
    "optimizer = optim.SGD(model.parameters(), lr=0.1)"
   ]
  },
  {
   "cell_type": "code",
   "execution_count": 519,
   "metadata": {},
   "outputs": [
    {
     "name": "stdout",
     "output_type": "stream",
     "text": [
      "Input sentence tensor([0, 1, 2, 3, 4])\n",
      "torch.Size([5, 6])\n",
      "torch.Size([5, 1, 6])\n",
      "Targets are tensor([1])\n"
     ]
    },
    {
     "ename": "ValueError",
     "evalue": "Expected input batch_size (5) to match target batch_size (1).",
     "output_type": "error",
     "traceback": [
      "\u001b[1;31m---------------------------------------------------------------------------\u001b[0m",
      "\u001b[1;31mValueError\u001b[0m                                Traceback (most recent call last)",
      "\u001b[1;32m<ipython-input-519-0685a8a4aadc>\u001b[0m in \u001b[0;36m<module>\u001b[1;34m\u001b[0m\n\u001b[0;32m     14\u001b[0m         \u001b[1;31m#print(tag_scores)\u001b[0m\u001b[1;33m\u001b[0m\u001b[1;33m\u001b[0m\u001b[1;33m\u001b[0m\u001b[0m\n\u001b[0;32m     15\u001b[0m         \u001b[0mprint\u001b[0m\u001b[1;33m(\u001b[0m\u001b[1;34mf\"Targets are {targets}\"\u001b[0m\u001b[1;33m)\u001b[0m\u001b[1;33m\u001b[0m\u001b[1;33m\u001b[0m\u001b[0m\n\u001b[1;32m---> 16\u001b[1;33m         \u001b[0mloss\u001b[0m \u001b[1;33m=\u001b[0m \u001b[0mloss_function\u001b[0m\u001b[1;33m(\u001b[0m\u001b[0mtag_scores\u001b[0m\u001b[1;33m,\u001b[0m \u001b[0mtargets\u001b[0m\u001b[1;33m)\u001b[0m\u001b[1;33m\u001b[0m\u001b[1;33m\u001b[0m\u001b[0m\n\u001b[0m\u001b[0;32m     17\u001b[0m         \u001b[0mloss\u001b[0m\u001b[1;33m.\u001b[0m\u001b[0mbackward\u001b[0m\u001b[1;33m(\u001b[0m\u001b[1;33m)\u001b[0m\u001b[1;33m\u001b[0m\u001b[1;33m\u001b[0m\u001b[0m\n\u001b[0;32m     18\u001b[0m         \u001b[0moptimizer\u001b[0m\u001b[1;33m.\u001b[0m\u001b[0mstep\u001b[0m\u001b[1;33m(\u001b[0m\u001b[1;33m)\u001b[0m\u001b[1;33m\u001b[0m\u001b[1;33m\u001b[0m\u001b[0m\n",
      "\u001b[1;32m~\\AppData\\Local\\Continuum\\anaconda3\\lib\\site-packages\\torch\\nn\\modules\\module.py\u001b[0m in \u001b[0;36m__call__\u001b[1;34m(self, *input, **kwargs)\u001b[0m\n\u001b[0;32m    545\u001b[0m             \u001b[0mresult\u001b[0m \u001b[1;33m=\u001b[0m \u001b[0mself\u001b[0m\u001b[1;33m.\u001b[0m\u001b[0m_slow_forward\u001b[0m\u001b[1;33m(\u001b[0m\u001b[1;33m*\u001b[0m\u001b[0minput\u001b[0m\u001b[1;33m,\u001b[0m \u001b[1;33m**\u001b[0m\u001b[0mkwargs\u001b[0m\u001b[1;33m)\u001b[0m\u001b[1;33m\u001b[0m\u001b[1;33m\u001b[0m\u001b[0m\n\u001b[0;32m    546\u001b[0m         \u001b[1;32melse\u001b[0m\u001b[1;33m:\u001b[0m\u001b[1;33m\u001b[0m\u001b[1;33m\u001b[0m\u001b[0m\n\u001b[1;32m--> 547\u001b[1;33m             \u001b[0mresult\u001b[0m \u001b[1;33m=\u001b[0m \u001b[0mself\u001b[0m\u001b[1;33m.\u001b[0m\u001b[0mforward\u001b[0m\u001b[1;33m(\u001b[0m\u001b[1;33m*\u001b[0m\u001b[0minput\u001b[0m\u001b[1;33m,\u001b[0m \u001b[1;33m**\u001b[0m\u001b[0mkwargs\u001b[0m\u001b[1;33m)\u001b[0m\u001b[1;33m\u001b[0m\u001b[1;33m\u001b[0m\u001b[0m\n\u001b[0m\u001b[0;32m    548\u001b[0m         \u001b[1;32mfor\u001b[0m \u001b[0mhook\u001b[0m \u001b[1;32min\u001b[0m \u001b[0mself\u001b[0m\u001b[1;33m.\u001b[0m\u001b[0m_forward_hooks\u001b[0m\u001b[1;33m.\u001b[0m\u001b[0mvalues\u001b[0m\u001b[1;33m(\u001b[0m\u001b[1;33m)\u001b[0m\u001b[1;33m:\u001b[0m\u001b[1;33m\u001b[0m\u001b[1;33m\u001b[0m\u001b[0m\n\u001b[0;32m    549\u001b[0m             \u001b[0mhook_result\u001b[0m \u001b[1;33m=\u001b[0m \u001b[0mhook\u001b[0m\u001b[1;33m(\u001b[0m\u001b[0mself\u001b[0m\u001b[1;33m,\u001b[0m \u001b[0minput\u001b[0m\u001b[1;33m,\u001b[0m \u001b[0mresult\u001b[0m\u001b[1;33m)\u001b[0m\u001b[1;33m\u001b[0m\u001b[1;33m\u001b[0m\u001b[0m\n",
      "\u001b[1;32m~\\AppData\\Local\\Continuum\\anaconda3\\lib\\site-packages\\torch\\nn\\modules\\loss.py\u001b[0m in \u001b[0;36mforward\u001b[1;34m(self, input, target)\u001b[0m\n\u001b[0;32m    202\u001b[0m \u001b[1;33m\u001b[0m\u001b[0m\n\u001b[0;32m    203\u001b[0m     \u001b[1;32mdef\u001b[0m \u001b[0mforward\u001b[0m\u001b[1;33m(\u001b[0m\u001b[0mself\u001b[0m\u001b[1;33m,\u001b[0m \u001b[0minput\u001b[0m\u001b[1;33m,\u001b[0m \u001b[0mtarget\u001b[0m\u001b[1;33m)\u001b[0m\u001b[1;33m:\u001b[0m\u001b[1;33m\u001b[0m\u001b[1;33m\u001b[0m\u001b[0m\n\u001b[1;32m--> 204\u001b[1;33m         \u001b[1;32mreturn\u001b[0m \u001b[0mF\u001b[0m\u001b[1;33m.\u001b[0m\u001b[0mnll_loss\u001b[0m\u001b[1;33m(\u001b[0m\u001b[0minput\u001b[0m\u001b[1;33m,\u001b[0m \u001b[0mtarget\u001b[0m\u001b[1;33m,\u001b[0m \u001b[0mweight\u001b[0m\u001b[1;33m=\u001b[0m\u001b[0mself\u001b[0m\u001b[1;33m.\u001b[0m\u001b[0mweight\u001b[0m\u001b[1;33m,\u001b[0m \u001b[0mignore_index\u001b[0m\u001b[1;33m=\u001b[0m\u001b[0mself\u001b[0m\u001b[1;33m.\u001b[0m\u001b[0mignore_index\u001b[0m\u001b[1;33m,\u001b[0m \u001b[0mreduction\u001b[0m\u001b[1;33m=\u001b[0m\u001b[0mself\u001b[0m\u001b[1;33m.\u001b[0m\u001b[0mreduction\u001b[0m\u001b[1;33m)\u001b[0m\u001b[1;33m\u001b[0m\u001b[1;33m\u001b[0m\u001b[0m\n\u001b[0m\u001b[0;32m    205\u001b[0m \u001b[1;33m\u001b[0m\u001b[0m\n\u001b[0;32m    206\u001b[0m \u001b[1;33m\u001b[0m\u001b[0m\n",
      "\u001b[1;32m~\\AppData\\Local\\Continuum\\anaconda3\\lib\\site-packages\\torch\\nn\\functional.py\u001b[0m in \u001b[0;36mnll_loss\u001b[1;34m(input, target, weight, size_average, ignore_index, reduce, reduction)\u001b[0m\n\u001b[0;32m   1820\u001b[0m     \u001b[1;32mif\u001b[0m \u001b[0minput\u001b[0m\u001b[1;33m.\u001b[0m\u001b[0msize\u001b[0m\u001b[1;33m(\u001b[0m\u001b[1;36m0\u001b[0m\u001b[1;33m)\u001b[0m \u001b[1;33m!=\u001b[0m \u001b[0mtarget\u001b[0m\u001b[1;33m.\u001b[0m\u001b[0msize\u001b[0m\u001b[1;33m(\u001b[0m\u001b[1;36m0\u001b[0m\u001b[1;33m)\u001b[0m\u001b[1;33m:\u001b[0m\u001b[1;33m\u001b[0m\u001b[1;33m\u001b[0m\u001b[0m\n\u001b[0;32m   1821\u001b[0m         raise ValueError('Expected input batch_size ({}) to match target batch_size ({}).'\n\u001b[1;32m-> 1822\u001b[1;33m                          .format(input.size(0), target.size(0)))\n\u001b[0m\u001b[0;32m   1823\u001b[0m     \u001b[1;32mif\u001b[0m \u001b[0mdim\u001b[0m \u001b[1;33m==\u001b[0m \u001b[1;36m2\u001b[0m\u001b[1;33m:\u001b[0m\u001b[1;33m\u001b[0m\u001b[1;33m\u001b[0m\u001b[0m\n\u001b[0;32m   1824\u001b[0m         \u001b[0mret\u001b[0m \u001b[1;33m=\u001b[0m \u001b[0mtorch\u001b[0m\u001b[1;33m.\u001b[0m\u001b[0m_C\u001b[0m\u001b[1;33m.\u001b[0m\u001b[0m_nn\u001b[0m\u001b[1;33m.\u001b[0m\u001b[0mnll_loss\u001b[0m\u001b[1;33m(\u001b[0m\u001b[0minput\u001b[0m\u001b[1;33m,\u001b[0m \u001b[0mtarget\u001b[0m\u001b[1;33m,\u001b[0m \u001b[0mweight\u001b[0m\u001b[1;33m,\u001b[0m \u001b[0m_Reduction\u001b[0m\u001b[1;33m.\u001b[0m\u001b[0mget_enum\u001b[0m\u001b[1;33m(\u001b[0m\u001b[0mreduction\u001b[0m\u001b[1;33m)\u001b[0m\u001b[1;33m,\u001b[0m \u001b[0mignore_index\u001b[0m\u001b[1;33m)\u001b[0m\u001b[1;33m\u001b[0m\u001b[1;33m\u001b[0m\u001b[0m\n",
      "\u001b[1;31mValueError\u001b[0m: Expected input batch_size (5) to match target batch_size (1)."
     ]
    }
   ],
   "source": [
    "for sentence, tags in training_data:\n",
    "        # Step 1. Remember that Pytorch accumulates gradients.\n",
    "        # We need to clear them out before each instance\n",
    "        model.zero_grad()\n",
    "\n",
    "        # Step 2. Get our inputs ready for the network, that is, turn them into\n",
    "        # Tensors of word indices.\n",
    "        sentence_in = prepare_sequence(sentence, word_to_ix)\n",
    "        targets =torch.tensor([1])\n",
    "        print(f\"Input sentence {sentence_in}\")\n",
    "\n",
    "        # Step 3. Run our forward pass.\n",
    "        tag_scores = model(sentence_in)\n",
    "        #print(tag_scores)\n",
    "        print(f\"Targets are {targets}\")\n",
    "        loss = loss_function(tag_scores, targets)\n",
    "        loss.backward()\n",
    "        optimizer.step()"
   ]
  },
  {
   "cell_type": "markdown",
   "metadata": {},
   "source": []
  },
  {
   "cell_type": "code",
   "execution_count": 245,
   "metadata": {},
   "outputs": [],
   "source": [
    "a=[[1,2,3],[1,1,3],[1,4,3]]"
   ]
  },
  {
   "cell_type": "code",
   "execution_count": 246,
   "metadata": {},
   "outputs": [],
   "source": [
    "a=np.array(a)"
   ]
  },
  {
   "cell_type": "code",
   "execution_count": 251,
   "metadata": {},
   "outputs": [
    {
     "data": {
      "text/plain": [
       "array([[1, 2, 3],\n",
       "       [1, 1, 3],\n",
       "       [1, 4, 3]])"
      ]
     },
     "execution_count": 251,
     "metadata": {},
     "output_type": "execute_result"
    }
   ],
   "source": [
    "a"
   ]
  },
  {
   "cell_type": "code",
   "execution_count": 252,
   "metadata": {},
   "outputs": [
    {
     "data": {
      "text/plain": [
       "array([[1, 1, 1],\n",
       "       [2, 1, 4],\n",
       "       [3, 3, 3]])"
      ]
     },
     "execution_count": 252,
     "metadata": {},
     "output_type": "execute_result"
    }
   ],
   "source": [
    "a.T"
   ]
  },
  {
   "cell_type": "code",
   "execution_count": 247,
   "metadata": {},
   "outputs": [
    {
     "data": {
      "text/plain": [
       "(3, 3)"
      ]
     },
     "execution_count": 247,
     "metadata": {},
     "output_type": "execute_result"
    }
   ],
   "source": [
    "a.shape"
   ]
  },
  {
   "cell_type": "code",
   "execution_count": 248,
   "metadata": {},
   "outputs": [
    {
     "data": {
      "text/plain": [
       "array([[ 3,  7,  9],\n",
       "       [ 7, 21, 21],\n",
       "       [ 9, 21, 27]])"
      ]
     },
     "execution_count": 248,
     "metadata": {},
     "output_type": "execute_result"
    }
   ],
   "source": [
    "np.dot(a.T,a)"
   ]
  },
  {
   "cell_type": "code",
   "execution_count": 249,
   "metadata": {},
   "outputs": [
    {
     "data": {
      "text/plain": [
       "array([[14, 12, 18],\n",
       "       [12, 11, 14],\n",
       "       [18, 14, 26]])"
      ]
     },
     "execution_count": 249,
     "metadata": {},
     "output_type": "execute_result"
    }
   ],
   "source": [
    "np.dot(a,a.T)"
   ]
  },
  {
   "cell_type": "code",
   "execution_count": 256,
   "metadata": {},
   "outputs": [
    {
     "data": {
      "text/plain": [
       "array([[1, 2, 3],\n",
       "       [1, 1, 3],\n",
       "       [1, 4, 3]])"
      ]
     },
     "execution_count": 256,
     "metadata": {},
     "output_type": "execute_result"
    }
   ],
   "source": [
    "a"
   ]
  },
  {
   "cell_type": "code",
   "execution_count": 260,
   "metadata": {},
   "outputs": [
    {
     "data": {
      "text/plain": [
       "array([[2, 4, 6],\n",
       "       [2, 2, 6],\n",
       "       [2, 8, 6]])"
      ]
     },
     "execution_count": 260,
     "metadata": {},
     "output_type": "execute_result"
    }
   ],
   "source": [
    "a*[2,2,2]"
   ]
  },
  {
   "cell_type": "code",
   "execution_count": null,
   "metadata": {},
   "outputs": [],
   "source": []
  }
 ],
 "metadata": {
  "kernelspec": {
   "display_name": "Python 3",
   "language": "python",
   "name": "python3"
  },
  "language_info": {
   "codemirror_mode": {
    "name": "ipython",
    "version": 3
   },
   "file_extension": ".py",
   "mimetype": "text/x-python",
   "name": "python",
   "nbconvert_exporter": "python",
   "pygments_lexer": "ipython3",
   "version": "3.7.4"
  }
 },
 "nbformat": 4,
 "nbformat_minor": 2
}
